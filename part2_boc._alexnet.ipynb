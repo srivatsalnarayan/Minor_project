{
 "cells": [
  {
   "cell_type": "code",
   "execution_count": 1,
   "metadata": {},
   "outputs": [
    {
     "name": "stdout",
     "output_type": "stream",
     "text": [
      "File: fold_1_train.csv\n",
      "                                          image_path  class_label\n",
      "0  D:\\archive (1)\\PlantVillage\\Pepper__bell___Bac...            0\n",
      "1  D:\\archive (1)\\PlantVillage\\Pepper__bell___Bac...            0\n",
      "2  D:\\archive (1)\\PlantVillage\\Pepper__bell___Bac...            0\n",
      "3  D:\\archive (1)\\PlantVillage\\Pepper__bell___Bac...            0\n",
      "4  D:\\archive (1)\\PlantVillage\\Pepper__bell___Bac...            0\n",
      "\n",
      "\n",
      "File: fold_2_train.csv\n",
      "                                          image_path  class_label\n",
      "0  D:\\archive (1)\\PlantVillage\\Pepper__bell___Bac...            0\n",
      "1  D:\\archive (1)\\PlantVillage\\Pepper__bell___Bac...            0\n",
      "2  D:\\archive (1)\\PlantVillage\\Pepper__bell___Bac...            0\n",
      "3  D:\\archive (1)\\PlantVillage\\Pepper__bell___Bac...            0\n",
      "4  D:\\archive (1)\\PlantVillage\\Pepper__bell___Bac...            0\n",
      "\n",
      "\n",
      "File: fold_3_train.csv\n",
      "                                          image_path  class_label\n",
      "0  D:\\archive (1)\\PlantVillage\\Pepper__bell___Bac...            0\n",
      "1  D:\\archive (1)\\PlantVillage\\Pepper__bell___Bac...            0\n",
      "2  D:\\archive (1)\\PlantVillage\\Pepper__bell___Bac...            0\n",
      "3  D:\\archive (1)\\PlantVillage\\Pepper__bell___Bac...            0\n",
      "4  D:\\archive (1)\\PlantVillage\\Pepper__bell___Bac...            0\n",
      "\n",
      "\n",
      "File: fold_4_train.csv\n",
      "                                          image_path  class_label\n",
      "0  D:\\archive (1)\\PlantVillage\\Pepper__bell___Bac...            0\n",
      "1  D:\\archive (1)\\PlantVillage\\Pepper__bell___Bac...            0\n",
      "2  D:\\archive (1)\\PlantVillage\\Pepper__bell___Bac...            0\n",
      "3  D:\\archive (1)\\PlantVillage\\Pepper__bell___Bac...            0\n",
      "4  D:\\archive (1)\\PlantVillage\\Pepper__bell___Bac...            0\n",
      "\n",
      "\n",
      "File: fold_5_train.csv\n",
      "                                          image_path  class_label\n",
      "0  D:\\archive (1)\\PlantVillage\\Pepper__bell___Bac...            0\n",
      "1  D:\\archive (1)\\PlantVillage\\Pepper__bell___Bac...            0\n",
      "2  D:\\archive (1)\\PlantVillage\\Pepper__bell___Bac...            0\n",
      "3  D:\\archive (1)\\PlantVillage\\Pepper__bell___Bac...            0\n",
      "4  D:\\archive (1)\\PlantVillage\\Pepper__bell___Bac...            0\n",
      "\n",
      "\n"
     ]
    }
   ],
   "source": [
    "import pandas as pd\n",
    "import os\n",
    "\n",
    "# List all files in the current directory\n",
    "files = [file for file in os.listdir() if file.startswith('fold_') and file.endswith('_train.csv')]\n",
    "\n",
    "# Load and print each CSV file separately\n",
    "for file in files:\n",
    "    df = pd.read_csv(file)\n",
    "    print(f\"File: {file}\")\n",
    "    print(df.head())  # Print first few rows of each DataFrame\n",
    "    print(\"\\n\")  # Print an empty line for separation\n"
   ]
  },
  {
   "cell_type": "code",
   "execution_count": 1,
   "metadata": {},
   "outputs": [
    {
     "name": "stdout",
     "output_type": "stream",
     "text": [
      "['Pepper__bell___Bacterial_spot', 'Pepper__bell___healthy', 'Potato___Early_blight', 'Potato___Late_blight', 'Potato___healthy', 'Tomato_Bacterial_spot', 'Tomato_Early_blight', 'Tomato_Late_blight', 'Tomato_Leaf_Mold', 'Tomato_Septoria_leaf_spot', 'Tomato_Spider_mites_Two_spotted_spider_mite', 'Tomato__Target_Spot', 'Tomato__Tomato_YellowLeaf__Curl_Virus', 'Tomato__Tomato_mosaic_virus', 'Tomato_healthy']\n",
      "AlexNet(\n",
      "  (features): Sequential(\n",
      "    (0): Conv2d(3, 64, kernel_size=(3, 3), stride=(1, 1), padding=(1, 1))\n",
      "    (1): ReLU(inplace=True)\n",
      "    (2): MaxPool2d(kernel_size=2, stride=2, padding=0, dilation=1, ceil_mode=False)\n",
      "    (3): Conv2d(64, 192, kernel_size=(3, 3), stride=(1, 1), padding=(1, 1))\n",
      "    (4): ReLU(inplace=True)\n",
      "    (5): MaxPool2d(kernel_size=2, stride=2, padding=0, dilation=1, ceil_mode=False)\n",
      "    (6): Conv2d(192, 384, kernel_size=(3, 3), stride=(1, 1), padding=(1, 1))\n",
      "    (7): ReLU(inplace=True)\n",
      "    (8): Conv2d(384, 256, kernel_size=(3, 3), stride=(1, 1), padding=(1, 1))\n",
      "    (9): ReLU(inplace=True)\n",
      "    (10): Conv2d(256, 256, kernel_size=(3, 3), stride=(1, 1), padding=(1, 1))\n",
      "    (11): ReLU(inplace=True)\n",
      "    (12): MaxPool2d(kernel_size=2, stride=2, padding=0, dilation=1, ceil_mode=False)\n",
      "  )\n",
      "  (avgpool): AdaptiveAvgPool2d(output_size=(6, 6))\n",
      "  (classifier): Sequential(\n",
      "    (0): Dropout(p=0.5, inplace=False)\n",
      "    (1): Linear(in_features=9216, out_features=4096, bias=True)\n",
      "    (2): ReLU(inplace=True)\n",
      "    (3): Dropout(p=0.5, inplace=False)\n",
      "    (4): Linear(in_features=4096, out_features=4096, bias=True)\n",
      "    (5): ReLU(inplace=True)\n",
      "    (6): Linear(in_features=4096, out_features=15, bias=True)\n",
      "  )\n",
      ")\n"
     ]
    }
   ],
   "source": [
    "##import torch\n",
    "##import torch.nn as nn\n",
    "##import torch.optim as optim\n",
    "##import torchvision\n",
    "##from torchvision import transforms\n",
    "##from torch.utils.data import DataLoader\n",
    "##from tqdm import tqdm\n",
    "##import matplotlib.pyplot as plt\n",
    "##\n",
    "### Check if GPU is available\n",
    "##device = torch.device(\"cuda\" if torch.cuda.is_available() else \"cpu\")\n",
    "##\n",
    "### Define data transforms\n",
    "##transform = transforms.Compose([\n",
    "##    transforms.Resize((64, 64)),  # Resize to 64x64\n",
    "##    transforms.ToTensor(),\n",
    "##    transforms.Normalize(mean=[0.485, 0.456, 0.406], std=[0.229, 0.224, 0.225])\n",
    "##])\n",
    "##\n",
    "### Define the directory path\n",
    "##data_dir = r\"D:\\archive (1)\\PlantVillage\"\n",
    "##\n",
    "### Load the entire dataset\n",
    "##full_dataset = torchvision.datasets.ImageFolder(root=data_dir, transform=transform)\n",
    "##\n",
    "### Define the sizes of each split\n",
    "##train_size = int(0.8 * len(full_dataset))\n",
    "##val_size = int(0.1 * len(full_dataset))\n",
    "##test_size = len(full_dataset) - train_size - val_size\n",
    "##\n",
    "### Split the dataset into training, validation, and testing sets\n",
    "##train_dataset, val_dataset, test_dataset = torch.utils.data.random_split(full_dataset, [train_size, val_size, test_size])\n",
    "##\n",
    "### Create data loaders for each set\n",
    "##batch_size = 128\n",
    "##train_loader = DataLoader(train_dataset, batch_size=batch_size, shuffle=True, num_workers=4, pin_memory=True)\n",
    "##val_loader = DataLoader(val_dataset, batch_size=batch_size, shuffle=False, num_workers=4, pin_memory=True)\n",
    "##test_loader = DataLoader(test_dataset, batch_size=batch_size, shuffle=False, num_workers=4, pin_memory=True)\n",
    "##\n",
    "### Print class names\n",
    "##print(full_dataset.classes)\n",
    "##\n",
    "### AlexNet model definition for 64x64 images\n",
    "##class AlexNet(nn.Module):\n",
    "##    def __init__(self, num_classes=15):\n",
    "##        super(AlexNet, self).__init__()\n",
    "##        self.features = nn.Sequential(\n",
    "##            nn.Conv2d(3, 64, kernel_size=3, stride=1, padding=1),\n",
    "##            nn.ReLU(inplace=True),\n",
    "##            nn.MaxPool2d(kernel_size=2, stride=2),\n",
    "##            nn.Conv2d(64, 192, kernel_size=3, padding=1),\n",
    "##            nn.ReLU(inplace=True),\n",
    "##            nn.MaxPool2d(kernel_size=2, stride=2),\n",
    "##            nn.Conv2d(192, 384, kernel_size=3, padding=1),\n",
    "##            nn.ReLU(inplace=True),\n",
    "##            nn.Conv2d(384, 256, kernel_size=3, padding=1),\n",
    "##            nn.ReLU(inplace=True),\n",
    "##            nn.Conv2d(256, 256, kernel_size=3, padding=1),\n",
    "##            nn.ReLU(inplace=True),\n",
    "##            nn.MaxPool2d(kernel_size=2, stride=2),\n",
    "##        )\n",
    "##        self.avgpool = nn.AdaptiveAvgPool2d((6, 6))\n",
    "##        self.classifier = nn.Sequential(\n",
    "##            nn.Dropout(),\n",
    "##            nn.Linear(256 * 6 * 6, 4096),\n",
    "##            nn.ReLU(inplace=True),\n",
    "##            nn.Dropout(),\n",
    "##            nn.Linear(4096, 4096),\n",
    "##            nn.ReLU(inplace=True),\n",
    "##            nn.Linear(4096, num_classes),\n",
    "##        )\n",
    "##\n",
    "##    def forward(self, x):\n",
    "##        x = self.features(x)\n",
    "##        x = self.avgpool(x)\n",
    "##        x = torch.flatten(x, 1)\n",
    "##        x = self.classifier(x)\n",
    "##        return x\n",
    "##\n",
    "##\n",
    "##model = AlexNet(num_classes=15).to(device)\n",
    "##print(model)\n",
    "##"
   ]
  },
  {
   "cell_type": "code",
   "execution_count": null,
   "metadata": {},
   "outputs": [],
   "source": [
    "##\n",
    "##\n",
    "### Function to evaluate the model\n",
    "##def evaluate_model(model, data_loader, criterion, device):\n",
    "##    model.eval()\n",
    "##    loss = 0.0\n",
    "##    correct = 0\n",
    "##    total = 0\n",
    "##    with torch.no_grad():\n",
    "##        for images, labels in data_loader:\n",
    "##            images, labels = images.to(device), labels.to(device)\n",
    "##            outputs = model(images)\n",
    "##            loss += criterion(outputs, labels).item()\n",
    "##            _, predicted = torch.max(outputs.data, 1)\n",
    "##            total += labels.size(0)\n",
    "##            correct += (predicted == labels).sum().item()\n",
    "##    \n",
    "##    avg_loss = loss / len(data_loader)\n",
    "##    accuracy = correct / total\n",
    "##    return avg_loss, accuracy\n",
    "##\n",
    "### Function to train the model\n",
    "##def train_model(model, train_loader, val_loader, criterion, optimizer, num_epochs, device):\n",
    "##    train_losses = []\n",
    "##    val_losses = []\n",
    "##    train_accuracies = []\n",
    "##    val_accuracies = []\n",
    "##    \n",
    "##    for epoch in range(num_epochs):\n",
    "##        model.train()\n",
    "##        running_loss = 0.0\n",
    "##        correct_train = 0\n",
    "##        total_train = 0\n",
    "##        \n",
    "##        for images, labels in tqdm(train_loader, desc=f'Epoch {epoch+1}/{num_epochs}', leave=False):\n",
    "##            images, labels = images.to(device), labels.to(device)\n",
    "##            \n",
    "##            optimizer.zero_grad()\n",
    "##            outputs = model(images)\n",
    "##            loss = criterion(outputs, labels)\n",
    "##            loss.backward()\n",
    "##            optimizer.step()\n",
    "##            \n",
    "##            running_loss += loss.item()\n",
    "##            _, predicted = torch.max(outputs.data, 1)\n",
    "##            total_train += labels.size(0)\n",
    "##            correct_train += (predicted == labels).sum().item()\n",
    "##        \n",
    "##        avg_train_loss = running_loss / len(train_loader)\n",
    "##        train_accuracy = correct_train / total_train\n",
    "##        \n",
    "##        val_loss, val_accuracy = evaluate_model(model, val_loader, criterion, device)\n",
    "##        \n",
    "##        train_losses.append(avg_train_loss)\n",
    "##        val_losses.append(val_loss)\n",
    "##        train_accuracies.append(train_accuracy)\n",
    "##        val_accuracies.append(val_accuracy)\n",
    "##        \n",
    "##        print(f'Epoch [{epoch+1}/{num_epochs}], Train Loss: {avg_train_loss:.4f}, Train Accuracy: {train_accuracy:.4f}, Val Loss: {val_loss:.4f}, Val Accuracy: {val_accuracy:.4f}')\n",
    "##    \n",
    "##    return train_losses, val_losses, train_accuracies, val_accuracies\n",
    "##\n",
    "### Set hyperparameters\n",
    "##num_epochs = 50\n",
    "##learning_rates = [1e-3, 1e-4, 1e-5]\n",
    "##\n",
    "### Initialize results dictionary\n",
    "##results = {}\n",
    "##\n",
    "### Loop through each learning rate\n",
    "##for lr in learning_rates:\n",
    "##    print(f'\\nTraining with learning rate: {lr}')\n",
    "##    \n",
    "##    # Initialize model, criterion, and optimizer\n",
    "##    model = AlexNet(num_classes=15).to(device)\n",
    "##    criterion = nn.CrossEntropyLoss()\n",
    "##    optimizer = optim.Adam(model.parameters(), lr=lr)\n",
    "##    \n",
    "##    # Train the model\n",
    "##    train_losses, val_losses, train_accuracies, val_accuracies = train_model(model, train_loader, val_loader, criterion, optimizer, num_epochs, device)\n",
    "##    \n",
    "##    # Evaluate on test set\n",
    "##    test_loss, test_accuracy = evaluate_model(model, test_loader, criterion, device)\n",
    "##    print(f'Test Loss: {test_loss:.4f}, Test Accuracy: {test_accuracy:.4f}')\n",
    "##    \n",
    "##    # Store results\n",
    "##    results[lr] = {\n",
    "##        'train_losses': train_losses,\n",
    "##        'val_losses': val_losses,\n",
    "##        'train_accuracies': train_accuracies,\n",
    "##        'val_accuracies': val_accuracies,\n",
    "##        'test_loss': test_loss,\n",
    "##        'test_accuracy': test_accuracy\n",
    "##    }\n",
    "##\n",
    "### Plot the results\n",
    "##plt.figure(figsize=(12, 5))\n",
    "##\n",
    "##for lr, result in results.items():\n",
    "##    plt.subplot(1, 2, 1)\n",
    "##    plt.plot(result['train_losses'], label=f'Train Loss LR={lr}')\n",
    "##    plt.plot(result['val_losses'], label=f'Val Loss LR={lr}')\n",
    "##    plt.xlabel('Epoch')\n",
    "##    plt.ylabel('Loss')\n",
    "##    plt.legend()\n",
    "##    \n",
    "##    plt.subplot(1, 2, 2)\n",
    "##    plt.plot(result['train_accuracies'], label=f'Train Acc LR={lr}')\n",
    "##    plt.plot(result['val_accuracies'], label=f'Val Acc LR={lr}')\n",
    "##    plt.xlabel('Epoch')\n",
    "##    plt.ylabel('Accuracy')\n",
    "##    plt.legend()\n",
    "##\n",
    "##plt.tight_layout()\n",
    "##plt.show()\n",
    "##\n",
    "##\n",
    "##"
   ]
  },
  {
   "cell_type": "code",
   "execution_count": null,
   "metadata": {},
   "outputs": [
    {
     "name": "stdout",
     "output_type": "stream",
     "text": [
      "['Pepper__bell___Bacterial_spot', 'Pepper__bell___healthy', 'Potato___Early_blight', 'Potato___Late_blight', 'Potato___healthy', 'Tomato_Bacterial_spot', 'Tomato_Early_blight', 'Tomato_Late_blight', 'Tomato_Leaf_Mold', 'Tomato_Septoria_leaf_spot', 'Tomato_Spider_mites_Two_spotted_spider_mite', 'Tomato__Target_Spot', 'Tomato__Tomato_YellowLeaf__Curl_Virus', 'Tomato__Tomato_mosaic_virus', 'Tomato_healthy']\n",
      "AlexNet(\n",
      "  (features): Sequential(\n",
      "    (0): Conv2d(3, 64, kernel_size=(3, 3), stride=(1, 1), padding=(1, 1))\n",
      "    (1): ReLU(inplace=True)\n",
      "    (2): MaxPool2d(kernel_size=2, stride=2, padding=0, dilation=1, ceil_mode=False)\n",
      "    (3): Conv2d(64, 192, kernel_size=(3, 3), stride=(1, 1), padding=(1, 1))\n",
      "    (4): ReLU(inplace=True)\n",
      "    (5): MaxPool2d(kernel_size=2, stride=2, padding=0, dilation=1, ceil_mode=False)\n",
      "    (6): Conv2d(192, 384, kernel_size=(3, 3), stride=(1, 1), padding=(1, 1))\n",
      "    (7): ReLU(inplace=True)\n",
      "    (8): Conv2d(384, 256, kernel_size=(3, 3), stride=(1, 1), padding=(1, 1))\n",
      "    (9): ReLU(inplace=True)\n",
      "    (10): Conv2d(256, 256, kernel_size=(3, 3), stride=(1, 1), padding=(1, 1))\n",
      "    (11): ReLU(inplace=True)\n",
      "    (12): MaxPool2d(kernel_size=2, stride=2, padding=0, dilation=1, ceil_mode=False)\n",
      "  )\n",
      "  (avgpool): AdaptiveAvgPool2d(output_size=(6, 6))\n",
      "  (classifier): Sequential(\n",
      "    (0): Dropout(p=0.5, inplace=False)\n",
      "    (1): Linear(in_features=9216, out_features=4096, bias=True)\n",
      "    (2): ReLU(inplace=True)\n",
      "    (3): Dropout(p=0.5, inplace=False)\n",
      "    (4): Linear(in_features=4096, out_features=4096, bias=True)\n",
      "    (5): ReLU(inplace=True)\n",
      "    (6): Linear(in_features=4096, out_features=15, bias=True)\n",
      "  )\n",
      ")\n"
     ]
    }
   ],
   "source": [
    "##import torch\n",
    "##import torch.nn as nn\n",
    "##import torch.optim as optim\n",
    "##import torchvision\n",
    "##from torchvision import transforms\n",
    "##from torch.utils.data import DataLoader\n",
    "##from tqdm import tqdm\n",
    "##import matplotlib.pyplot as plt\n",
    "##\n",
    "### Check if GPU is available\n",
    "##device = torch.device(\"cuda\" if torch.cuda.is_available() else \"cpu\")\n",
    "##\n",
    "### Define data transforms\n",
    "##transform = transforms.Compose([\n",
    "##    transforms.Resize((64, 64)),  # Resize to 64x64\n",
    "##    transforms.ToTensor(),\n",
    "##    transforms.Normalize(mean=[0.485, 0.456, 0.406], std=[0.229, 0.224, 0.225])\n",
    "##])\n",
    "##\n",
    "### Define the directory path\n",
    "##data_dir = r\"D:\\archive (1)\\PlantVillage\"\n",
    "##\n",
    "### Load the entire dataset\n",
    "##full_dataset = torchvision.datasets.ImageFolder(root=data_dir, transform=transform)\n",
    "##\n",
    "### Define the sizes of each split\n",
    "##train_size = int(0.8 * len(full_dataset))\n",
    "##val_size = int(0.1 * len(full_dataset))\n",
    "##test_size = len(full_dataset) - train_size - val_size\n",
    "##\n",
    "### Split the dataset into training, validation, and testing sets\n",
    "##train_dataset, val_dataset, test_dataset = torch.utils.data.random_split(full_dataset, [train_size, val_size, test_size])\n",
    "##\n",
    "### Create data loaders for each set\n",
    "##batch_size = 128\n",
    "##train_loader = DataLoader(train_dataset, batch_size=batch_size, shuffle=True, num_workers=4, pin_memory=True)\n",
    "##val_loader = DataLoader(val_dataset, batch_size=batch_size, shuffle=False, num_workers=4, pin_memory=True)\n",
    "##test_loader = DataLoader(test_dataset, batch_size=batch_size, shuffle=False, num_workers=4, pin_memory=True)\n",
    "##\n",
    "### Print class names\n",
    "##print(full_dataset.classes)\n",
    "##\n",
    "### AlexNet model definition for 64x64 images\n",
    "##class AlexNet(nn.Module):\n",
    "##    def __init__(self, num_classes=15):\n",
    "##        super(AlexNet, self).__init__()\n",
    "##        self.features = nn.Sequential(\n",
    "##            nn.Conv2d(3, 64, kernel_size=3, stride=1, padding=1),\n",
    "##            nn.ReLU(inplace=True),\n",
    "##            nn.MaxPool2d(kernel_size=2, stride=2),\n",
    "##            nn.Conv2d(64, 192, kernel_size=3, padding=1),\n",
    "##            nn.ReLU(inplace=True),\n",
    "##            nn.MaxPool2d(kernel_size=2, stride=2),\n",
    "##            nn.Conv2d(192, 384, kernel_size=3, padding=1),\n",
    "##            nn.ReLU(inplace=True),\n",
    "##            nn.Conv2d(384, 256, kernel_size=3, padding=1),\n",
    "##            nn.ReLU(inplace=True),\n",
    "##            nn.Conv2d(256, 256, kernel_size=3, padding=1),\n",
    "##            nn.ReLU(inplace=True),\n",
    "##            nn.MaxPool2d(kernel_size=2, stride=2),\n",
    "##        )\n",
    "##        self.avgpool = nn.AdaptiveAvgPool2d((6, 6))\n",
    "##        self.classifier = nn.Sequential(\n",
    "##            nn.Dropout(),\n",
    "##            nn.Linear(256 * 6 * 6, 4096),\n",
    "##            nn.ReLU(inplace=True),\n",
    "##            nn.Dropout(),\n",
    "##            nn.Linear(4096, 4096),\n",
    "##            nn.ReLU(inplace=True),\n",
    "##            nn.Linear(4096, num_classes),\n",
    "##        )\n",
    "##\n",
    "##    def forward(self, x):\n",
    "##        x = self.features(x)\n",
    "##        x = self.avgpool(x)\n",
    "##        x = torch.flatten(x, 1)\n",
    "##        x = self.classifier(x)\n",
    "##        return x\n",
    "##\n",
    "##\n",
    "##model = AlexNet(num_classes=15).to(device)\n",
    "##print(model)\n",
    "##"
   ]
  },
  {
   "cell_type": "code",
   "execution_count": null,
   "metadata": {},
   "outputs": [],
   "source": [
    "##\n",
    "##\n",
    "### Function to evaluate the model\n",
    "##def evaluate_model(model, data_loader, criterion, device):\n",
    "##    model.eval()\n",
    "##    loss = 0.0\n",
    "##    correct = 0\n",
    "##    total = 0\n",
    "##    with torch.no_grad():\n",
    "##        for images, labels in data_loader:\n",
    "##            images, labels = images.to(device), labels.to(device)\n",
    "##            outputs = model(images)\n",
    "##            loss += criterion(outputs, labels).item()\n",
    "##            _, predicted = torch.max(outputs.data, 1)\n",
    "##            total += labels.size(0)\n",
    "##            correct += (predicted == labels).sum().item()\n",
    "##    \n",
    "##    avg_loss = loss / len(data_loader)\n",
    "##    accuracy = correct / total\n",
    "##    return avg_loss, accuracy\n",
    "##\n",
    "### Function to train the model\n",
    "##def train_model(model, train_loader, val_loader, criterion, optimizer, num_epochs, device):\n",
    "##    train_losses = []\n",
    "##    val_losses = []\n",
    "##    train_accuracies = []\n",
    "##    val_accuracies = []\n",
    "##    \n",
    "##    for epoch in range(num_epochs):\n",
    "##        model.train()\n",
    "##        running_loss = 0.0\n",
    "##        correct_train = 0\n",
    "##        total_train = 0\n",
    "##        \n",
    "##        for images, labels in tqdm(train_loader, desc=f'Epoch {epoch+1}/{num_epochs}', leave=False):\n",
    "##            images, labels = images.to(device), labels.to(device)\n",
    "##            \n",
    "##            optimizer.zero_grad()\n",
    "##            outputs = model(images)\n",
    "##            loss = criterion(outputs, labels)\n",
    "##            loss.backward()\n",
    "##            optimizer.step()\n",
    "##            \n",
    "##            running_loss += loss.item()\n",
    "##            _, predicted = torch.max(outputs.data, 1)\n",
    "##            total_train += labels.size(0)\n",
    "##            correct_train += (predicted == labels).sum().item()\n",
    "##        \n",
    "##        avg_train_loss = running_loss / len(train_loader)\n",
    "##        train_accuracy = correct_train / total_train\n",
    "##        \n",
    "##        val_loss, val_accuracy = evaluate_model(model, val_loader, criterion, device)\n",
    "##        \n",
    "##        train_losses.append(avg_train_loss)\n",
    "##        val_losses.append(val_loss)\n",
    "##        train_accuracies.append(train_accuracy)\n",
    "##        val_accuracies.append(val_accuracy)\n",
    "##        \n",
    "##        print(f'Epoch [{epoch+1}/{num_epochs}], Train Loss: {avg_train_loss:.4f}, Train Accuracy: {train_accuracy:.4f}, Val Loss: {val_loss:.4f}, Val Accuracy: {val_accuracy:.4f}')\n",
    "##    \n",
    "##    return train_losses, val_losses, train_accuracies, val_accuracies\n",
    "##\n",
    "### Set hyperparameters\n",
    "##num_epochs = 50\n",
    "##learning_rates = [1e-3, 1e-4, 1e-5]\n",
    "##\n",
    "### Initialize results dictionary\n",
    "##results = {}\n",
    "##\n",
    "### Loop through each learning rate\n",
    "##for lr in learning_rates:\n",
    "##    print(f'\\nTraining with learning rate: {lr}')\n",
    "##    \n",
    "##    # Initialize model, criterion, and optimizer\n",
    "##    model = AlexNet(num_classes=15).to(device)\n",
    "##    criterion = nn.CrossEntropyLoss()\n",
    "##    optimizer = optim.Adam(model.parameters(), lr=lr)\n",
    "##    \n",
    "##    # Train the model\n",
    "##    train_losses, val_losses, train_accuracies, val_accuracies = train_model(model, train_loader, val_loader, criterion, optimizer, num_epochs, device)\n",
    "##    \n",
    "##    # Evaluate on test set\n",
    "##    test_loss, test_accuracy = evaluate_model(model, test_loader, criterion, device)\n",
    "##    print(f'Test Loss: {test_loss:.4f}, Test Accuracy: {test_accuracy:.4f}')\n",
    "##    \n",
    "##    # Store results\n",
    "##    results[lr] = {\n",
    "##        'train_losses': train_losses,\n",
    "##        'val_losses': val_losses,\n",
    "##        'train_accuracies': train_accuracies,\n",
    "##        'val_accuracies': val_accuracies,\n",
    "##        'test_loss': test_loss,\n",
    "##        'test_accuracy': test_accuracy\n",
    "##    }\n",
    "##\n",
    "### Plot the results\n",
    "##plt.figure(figsize=(12, 5))\n",
    "##\n",
    "##for lr, result in results.items():\n",
    "##    plt.subplot(1, 2, 1)\n",
    "##    plt.plot(result['train_losses'], label=f'Train Loss LR={lr}')\n",
    "##    plt.plot(result['val_losses'], label=f'Val Loss LR={lr}')\n",
    "##    plt.xlabel('Epoch')\n",
    "##    plt.ylabel('Loss')\n",
    "##    plt.legend()\n",
    "##    \n",
    "##    plt.subplot(1, 2, 2)\n",
    "##    plt.plot(result['train_accuracies'], label=f'Train Acc LR={lr}')\n",
    "##    plt.plot(result['val_accuracies'], label=f'Val Acc LR={lr}')\n",
    "##    plt.xlabel('Epoch')\n",
    "##    plt.ylabel('Accuracy')\n",
    "##    plt.legend()\n",
    "##\n",
    "##plt.tight_layout()\n",
    "##plt.show()\n",
    "##\n",
    "##\n",
    "##"
   ]
  },
  {
   "cell_type": "code",
   "execution_count": 4,
   "metadata": {},
   "outputs": [
    {
     "name": "stdout",
     "output_type": "stream",
     "text": [
      "Class Names: [12  6 11  5 10  0 14  7  2  9  8 13  1  3  4]\n"
     ]
    },
    {
     "name": "stderr",
     "output_type": "stream",
     "text": [
      "Epoch 1/50: 100%|██████████| 52/52 [00:01<00:00, 32.37it/s, Loss=2.65, Accuracy=0.133]\n"
     ]
    },
    {
     "name": "stdout",
     "output_type": "stream",
     "text": [
      "Epoch [1/50], Train Loss: 2.6338, Train Accuracy: 0.1329, Val Loss: 2.2943, Val Accuracy: 0.2217\n"
     ]
    },
    {
     "name": "stderr",
     "output_type": "stream",
     "text": [
      "Epoch 2/50: 100%|██████████| 52/52 [00:01<00:00, 34.88it/s, Loss=2.04, Accuracy=0.291]\n"
     ]
    },
    {
     "name": "stdout",
     "output_type": "stream",
     "text": [
      "Epoch [2/50], Train Loss: 2.0255, Train Accuracy: 0.2907, Val Loss: 1.8402, Val Accuracy: 0.3895\n"
     ]
    },
    {
     "name": "stderr",
     "output_type": "stream",
     "text": [
      "Epoch 3/50: 100%|██████████| 52/52 [00:01<00:00, 35.54it/s, Loss=1.64, Accuracy=0.429]\n"
     ]
    },
    {
     "name": "stdout",
     "output_type": "stream",
     "text": [
      "Epoch [3/50], Train Loss: 1.6299, Train Accuracy: 0.4285, Val Loss: 1.4065, Val Accuracy: 0.5015\n"
     ]
    },
    {
     "name": "stderr",
     "output_type": "stream",
     "text": [
      "Epoch 4/50: 100%|██████████| 52/52 [00:01<00:00, 35.29it/s, Loss=1.28, Accuracy=0.562]\n"
     ]
    },
    {
     "name": "stdout",
     "output_type": "stream",
     "text": [
      "Epoch [4/50], Train Loss: 1.2681, Train Accuracy: 0.5616, Val Loss: 1.1424, Val Accuracy: 0.6111\n"
     ]
    },
    {
     "name": "stderr",
     "output_type": "stream",
     "text": [
      "Epoch 5/50: 100%|██████████| 52/52 [00:01<00:00, 34.61it/s, Loss=0.974, Accuracy=0.678]\n"
     ]
    },
    {
     "name": "stdout",
     "output_type": "stream",
     "text": [
      "Epoch [5/50], Train Loss: 0.9659, Train Accuracy: 0.6777, Val Loss: 0.9390, Val Accuracy: 0.6832\n"
     ]
    },
    {
     "name": "stderr",
     "output_type": "stream",
     "text": [
      "Epoch 6/50: 100%|██████████| 52/52 [00:01<00:00, 34.70it/s, Loss=0.797, Accuracy=0.739]\n"
     ]
    },
    {
     "name": "stdout",
     "output_type": "stream",
     "text": [
      "Epoch [6/50], Train Loss: 0.7911, Train Accuracy: 0.7390, Val Loss: 0.8497, Val Accuracy: 0.7093\n"
     ]
    },
    {
     "name": "stderr",
     "output_type": "stream",
     "text": [
      "Epoch 7/50: 100%|██████████| 52/52 [00:01<00:00, 34.18it/s, Loss=0.688, Accuracy=0.775]\n"
     ]
    },
    {
     "name": "stdout",
     "output_type": "stream",
     "text": [
      "Epoch [7/50], Train Loss: 0.6823, Train Accuracy: 0.7753, Val Loss: 0.7790, Val Accuracy: 0.7589\n"
     ]
    },
    {
     "name": "stderr",
     "output_type": "stream",
     "text": [
      "Epoch 8/50: 100%|██████████| 52/52 [00:01<00:00, 35.32it/s, Loss=0.587, Accuracy=0.808]\n"
     ]
    },
    {
     "name": "stdout",
     "output_type": "stream",
     "text": [
      "Epoch [8/50], Train Loss: 0.5824, Train Accuracy: 0.8078, Val Loss: 0.5714, Val Accuracy: 0.8098\n"
     ]
    },
    {
     "name": "stderr",
     "output_type": "stream",
     "text": [
      "Epoch 9/50: 100%|██████████| 52/52 [00:01<00:00, 34.99it/s, Loss=0.491, Accuracy=0.843]\n"
     ]
    },
    {
     "name": "stdout",
     "output_type": "stream",
     "text": [
      "Epoch [9/50], Train Loss: 0.4872, Train Accuracy: 0.8427, Val Loss: 0.5343, Val Accuracy: 0.8292\n"
     ]
    },
    {
     "name": "stderr",
     "output_type": "stream",
     "text": [
      "Epoch 10/50: 100%|██████████| 52/52 [00:01<00:00, 33.92it/s, Loss=0.464, Accuracy=0.852]\n"
     ]
    },
    {
     "name": "stdout",
     "output_type": "stream",
     "text": [
      "Epoch [10/50], Train Loss: 0.4608, Train Accuracy: 0.8516, Val Loss: 0.5292, Val Accuracy: 0.8286\n"
     ]
    },
    {
     "name": "stderr",
     "output_type": "stream",
     "text": [
      "Epoch 11/50: 100%|██████████| 52/52 [00:01<00:00, 33.81it/s, Loss=0.399, Accuracy=0.869]\n"
     ]
    },
    {
     "name": "stdout",
     "output_type": "stream",
     "text": [
      "Epoch [11/50], Train Loss: 0.3962, Train Accuracy: 0.8689, Val Loss: 0.4602, Val Accuracy: 0.8516\n"
     ]
    },
    {
     "name": "stderr",
     "output_type": "stream",
     "text": [
      "Epoch 12/50: 100%|██████████| 52/52 [00:01<00:00, 36.14it/s, Loss=0.33, Accuracy=0.892] \n"
     ]
    },
    {
     "name": "stdout",
     "output_type": "stream",
     "text": [
      "Epoch [12/50], Train Loss: 0.3271, Train Accuracy: 0.8925, Val Loss: 0.4833, Val Accuracy: 0.8540\n"
     ]
    },
    {
     "name": "stderr",
     "output_type": "stream",
     "text": [
      "Epoch 13/50: 100%|██████████| 52/52 [00:01<00:00, 36.39it/s, Loss=0.312, Accuracy=0.901]\n"
     ]
    },
    {
     "name": "stdout",
     "output_type": "stream",
     "text": [
      "Epoch [13/50], Train Loss: 0.3096, Train Accuracy: 0.9009, Val Loss: 0.4655, Val Accuracy: 0.8504\n"
     ]
    },
    {
     "name": "stderr",
     "output_type": "stream",
     "text": [
      "Epoch 14/50: 100%|██████████| 52/52 [00:01<00:00, 34.15it/s, Loss=0.323, Accuracy=0.897]\n"
     ]
    },
    {
     "name": "stdout",
     "output_type": "stream",
     "text": [
      "Epoch [14/50], Train Loss: 0.3203, Train Accuracy: 0.8969, Val Loss: 0.3886, Val Accuracy: 0.8789\n"
     ]
    },
    {
     "name": "stderr",
     "output_type": "stream",
     "text": [
      "Epoch 15/50: 100%|██████████| 52/52 [00:01<00:00, 34.69it/s, Loss=0.233, Accuracy=0.925]\n"
     ]
    },
    {
     "name": "stdout",
     "output_type": "stream",
     "text": [
      "Epoch [15/50], Train Loss: 0.2314, Train Accuracy: 0.9248, Val Loss: 0.3938, Val Accuracy: 0.8752\n"
     ]
    },
    {
     "name": "stderr",
     "output_type": "stream",
     "text": [
      "Epoch 16/50: 100%|██████████| 52/52 [00:01<00:00, 33.86it/s, Loss=0.231, Accuracy=0.925]\n"
     ]
    },
    {
     "name": "stdout",
     "output_type": "stream",
     "text": [
      "Epoch [16/50], Train Loss: 0.2295, Train Accuracy: 0.9246, Val Loss: 0.4368, Val Accuracy: 0.8746\n"
     ]
    },
    {
     "name": "stderr",
     "output_type": "stream",
     "text": [
      "Epoch 17/50: 100%|██████████| 52/52 [00:01<00:00, 35.64it/s, Loss=0.229, Accuracy=0.925]\n"
     ]
    },
    {
     "name": "stdout",
     "output_type": "stream",
     "text": [
      "Epoch [17/50], Train Loss: 0.2272, Train Accuracy: 0.9253, Val Loss: 0.4948, Val Accuracy: 0.8698\n"
     ]
    },
    {
     "name": "stderr",
     "output_type": "stream",
     "text": [
      "Epoch 18/50: 100%|██████████| 52/52 [00:01<00:00, 34.87it/s, Loss=0.255, Accuracy=0.92] \n"
     ]
    },
    {
     "name": "stdout",
     "output_type": "stream",
     "text": [
      "Epoch [18/50], Train Loss: 0.2531, Train Accuracy: 0.9197, Val Loss: 0.4372, Val Accuracy: 0.8637\n"
     ]
    },
    {
     "name": "stderr",
     "output_type": "stream",
     "text": [
      "Epoch 19/50: 100%|██████████| 52/52 [00:01<00:00, 34.57it/s, Loss=0.206, Accuracy=0.936]\n"
     ]
    },
    {
     "name": "stdout",
     "output_type": "stream",
     "text": [
      "Epoch [19/50], Train Loss: 0.2042, Train Accuracy: 0.9356, Val Loss: 0.4713, Val Accuracy: 0.8716\n"
     ]
    },
    {
     "name": "stderr",
     "output_type": "stream",
     "text": [
      "Epoch 20/50: 100%|██████████| 52/52 [00:01<00:00, 35.77it/s, Loss=0.16, Accuracy=0.949] \n"
     ]
    },
    {
     "name": "stdout",
     "output_type": "stream",
     "text": [
      "Epoch [20/50], Train Loss: 0.1589, Train Accuracy: 0.9494, Val Loss: 0.3881, Val Accuracy: 0.8898\n"
     ]
    },
    {
     "name": "stderr",
     "output_type": "stream",
     "text": [
      "Epoch 21/50: 100%|██████████| 52/52 [00:01<00:00, 34.89it/s, Loss=0.144, Accuracy=0.954]\n"
     ]
    },
    {
     "name": "stdout",
     "output_type": "stream",
     "text": [
      "Epoch [21/50], Train Loss: 0.1431, Train Accuracy: 0.9541, Val Loss: 0.4279, Val Accuracy: 0.8795\n"
     ]
    },
    {
     "name": "stderr",
     "output_type": "stream",
     "text": [
      "Epoch 22/50: 100%|██████████| 52/52 [00:01<00:00, 34.96it/s, Loss=0.172, Accuracy=0.945]\n"
     ]
    },
    {
     "name": "stdout",
     "output_type": "stream",
     "text": [
      "Epoch [22/50], Train Loss: 0.1708, Train Accuracy: 0.9452, Val Loss: 0.5125, Val Accuracy: 0.8625\n"
     ]
    },
    {
     "name": "stderr",
     "output_type": "stream",
     "text": [
      "Epoch 23/50: 100%|██████████| 52/52 [00:01<00:00, 35.93it/s, Loss=0.136, Accuracy=0.957]\n"
     ]
    },
    {
     "name": "stdout",
     "output_type": "stream",
     "text": [
      "Epoch [23/50], Train Loss: 0.1349, Train Accuracy: 0.9571, Val Loss: 0.3763, Val Accuracy: 0.8916\n"
     ]
    },
    {
     "name": "stderr",
     "output_type": "stream",
     "text": [
      "Epoch 24/50: 100%|██████████| 52/52 [00:01<00:00, 33.77it/s, Loss=0.121, Accuracy=0.96]  \n"
     ]
    },
    {
     "name": "stdout",
     "output_type": "stream",
     "text": [
      "Epoch [24/50], Train Loss: 0.1198, Train Accuracy: 0.9596, Val Loss: 0.4566, Val Accuracy: 0.8752\n"
     ]
    },
    {
     "name": "stderr",
     "output_type": "stream",
     "text": [
      "Epoch 25/50: 100%|██████████| 52/52 [00:01<00:00, 35.16it/s, Loss=0.119, Accuracy=0.961]\n"
     ]
    },
    {
     "name": "stdout",
     "output_type": "stream",
     "text": [
      "Epoch [25/50], Train Loss: 0.1180, Train Accuracy: 0.9607, Val Loss: 0.4355, Val Accuracy: 0.8898\n"
     ]
    },
    {
     "name": "stderr",
     "output_type": "stream",
     "text": [
      "Epoch 26/50: 100%|██████████| 52/52 [00:01<00:00, 34.42it/s, Loss=0.118, Accuracy=0.964]\n"
     ]
    },
    {
     "name": "stdout",
     "output_type": "stream",
     "text": [
      "Epoch [26/50], Train Loss: 0.1172, Train Accuracy: 0.9645, Val Loss: 0.5433, Val Accuracy: 0.8770\n"
     ]
    },
    {
     "name": "stderr",
     "output_type": "stream",
     "text": [
      "Epoch 27/50: 100%|██████████| 52/52 [00:01<00:00, 34.76it/s, Loss=0.152, Accuracy=0.954]\n"
     ]
    },
    {
     "name": "stdout",
     "output_type": "stream",
     "text": [
      "Epoch [27/50], Train Loss: 0.1506, Train Accuracy: 0.9538, Val Loss: 0.4874, Val Accuracy: 0.8758\n"
     ]
    },
    {
     "name": "stderr",
     "output_type": "stream",
     "text": [
      "Epoch 28/50: 100%|██████████| 52/52 [00:01<00:00, 34.99it/s, Loss=0.134, Accuracy=0.957]\n"
     ]
    },
    {
     "name": "stdout",
     "output_type": "stream",
     "text": [
      "Epoch [28/50], Train Loss: 0.1325, Train Accuracy: 0.9574, Val Loss: 0.5528, Val Accuracy: 0.8686\n"
     ]
    },
    {
     "name": "stderr",
     "output_type": "stream",
     "text": [
      "Epoch 29/50: 100%|██████████| 52/52 [00:01<00:00, 34.29it/s, Loss=0.108, Accuracy=0.966] \n"
     ]
    },
    {
     "name": "stdout",
     "output_type": "stream",
     "text": [
      "Epoch [29/50], Train Loss: 0.1071, Train Accuracy: 0.9662, Val Loss: 0.4694, Val Accuracy: 0.8783\n"
     ]
    },
    {
     "name": "stderr",
     "output_type": "stream",
     "text": [
      "Epoch 30/50: 100%|██████████| 52/52 [00:01<00:00, 34.76it/s, Loss=0.0746, Accuracy=0.977]\n"
     ]
    },
    {
     "name": "stdout",
     "output_type": "stream",
     "text": [
      "Epoch [30/50], Train Loss: 0.0740, Train Accuracy: 0.9770, Val Loss: 0.5208, Val Accuracy: 0.8837\n"
     ]
    },
    {
     "name": "stderr",
     "output_type": "stream",
     "text": [
      "Epoch 31/50: 100%|██████████| 52/52 [00:01<00:00, 37.11it/s, Loss=0.115, Accuracy=0.965]\n"
     ]
    },
    {
     "name": "stdout",
     "output_type": "stream",
     "text": [
      "Epoch [31/50], Train Loss: 0.1146, Train Accuracy: 0.9651, Val Loss: 0.4717, Val Accuracy: 0.8910\n"
     ]
    },
    {
     "name": "stderr",
     "output_type": "stream",
     "text": [
      "Epoch 32/50: 100%|██████████| 52/52 [00:01<00:00, 36.27it/s, Loss=0.117, Accuracy=0.964]\n"
     ]
    },
    {
     "name": "stdout",
     "output_type": "stream",
     "text": [
      "Epoch [32/50], Train Loss: 0.1157, Train Accuracy: 0.9637, Val Loss: 0.5651, Val Accuracy: 0.8637\n"
     ]
    },
    {
     "name": "stderr",
     "output_type": "stream",
     "text": [
      "Epoch 33/50: 100%|██████████| 52/52 [00:01<00:00, 36.43it/s, Loss=0.101, Accuracy=0.969] \n"
     ]
    },
    {
     "name": "stdout",
     "output_type": "stream",
     "text": [
      "Epoch [33/50], Train Loss: 0.1000, Train Accuracy: 0.9686, Val Loss: 0.4531, Val Accuracy: 0.8819\n"
     ]
    },
    {
     "name": "stderr",
     "output_type": "stream",
     "text": [
      "Epoch 34/50: 100%|██████████| 52/52 [00:01<00:00, 35.03it/s, Loss=0.0947, Accuracy=0.971]\n"
     ]
    },
    {
     "name": "stdout",
     "output_type": "stream",
     "text": [
      "Epoch [34/50], Train Loss: 0.0940, Train Accuracy: 0.9707, Val Loss: 0.3930, Val Accuracy: 0.9019\n"
     ]
    },
    {
     "name": "stderr",
     "output_type": "stream",
     "text": [
      "Epoch 35/50: 100%|██████████| 52/52 [00:01<00:00, 35.68it/s, Loss=0.0898, Accuracy=0.973]\n"
     ]
    },
    {
     "name": "stdout",
     "output_type": "stream",
     "text": [
      "Epoch [35/50], Train Loss: 0.0891, Train Accuracy: 0.9725, Val Loss: 0.5615, Val Accuracy: 0.8783\n"
     ]
    },
    {
     "name": "stderr",
     "output_type": "stream",
     "text": [
      "Epoch 36/50: 100%|██████████| 52/52 [00:01<00:00, 36.96it/s, Loss=0.0849, Accuracy=0.974]\n"
     ]
    },
    {
     "name": "stdout",
     "output_type": "stream",
     "text": [
      "Epoch [36/50], Train Loss: 0.0842, Train Accuracy: 0.9743, Val Loss: 0.5682, Val Accuracy: 0.8807\n"
     ]
    },
    {
     "name": "stderr",
     "output_type": "stream",
     "text": [
      "Epoch 37/50: 100%|██████████| 52/52 [00:01<00:00, 36.26it/s, Loss=0.0844, Accuracy=0.975]\n"
     ]
    },
    {
     "name": "stdout",
     "output_type": "stream",
     "text": [
      "Epoch [37/50], Train Loss: 0.0838, Train Accuracy: 0.9752, Val Loss: 0.5992, Val Accuracy: 0.8789\n"
     ]
    },
    {
     "name": "stderr",
     "output_type": "stream",
     "text": [
      "Epoch 38/50: 100%|██████████| 52/52 [00:01<00:00, 37.48it/s, Loss=0.087, Accuracy=0.975] \n"
     ]
    },
    {
     "name": "stdout",
     "output_type": "stream",
     "text": [
      "Epoch [38/50], Train Loss: 0.0863, Train Accuracy: 0.9749, Val Loss: 0.4697, Val Accuracy: 0.9019\n"
     ]
    },
    {
     "name": "stderr",
     "output_type": "stream",
     "text": [
      "Epoch 39/50: 100%|██████████| 52/52 [00:01<00:00, 35.74it/s, Loss=0.0596, Accuracy=0.982]\n"
     ]
    },
    {
     "name": "stdout",
     "output_type": "stream",
     "text": [
      "Epoch [39/50], Train Loss: 0.0592, Train Accuracy: 0.9821, Val Loss: 0.5346, Val Accuracy: 0.8892\n"
     ]
    },
    {
     "name": "stderr",
     "output_type": "stream",
     "text": [
      "Epoch 40/50: 100%|██████████| 52/52 [00:01<00:00, 36.00it/s, Loss=0.079, Accuracy=0.976] \n"
     ]
    },
    {
     "name": "stdout",
     "output_type": "stream",
     "text": [
      "Epoch [40/50], Train Loss: 0.0783, Train Accuracy: 0.9765, Val Loss: 0.4831, Val Accuracy: 0.8952\n"
     ]
    },
    {
     "name": "stderr",
     "output_type": "stream",
     "text": [
      "Epoch 41/50: 100%|██████████| 52/52 [00:01<00:00, 36.27it/s, Loss=0.0729, Accuracy=0.978]\n"
     ]
    },
    {
     "name": "stdout",
     "output_type": "stream",
     "text": [
      "Epoch [41/50], Train Loss: 0.0724, Train Accuracy: 0.9780, Val Loss: 0.4278, Val Accuracy: 0.8982\n"
     ]
    },
    {
     "name": "stderr",
     "output_type": "stream",
     "text": [
      "Epoch 42/50: 100%|██████████| 52/52 [00:01<00:00, 35.52it/s, Loss=0.0764, Accuracy=0.975]\n"
     ]
    },
    {
     "name": "stdout",
     "output_type": "stream",
     "text": [
      "Epoch [42/50], Train Loss: 0.0758, Train Accuracy: 0.9750, Val Loss: 0.5402, Val Accuracy: 0.8770\n"
     ]
    },
    {
     "name": "stderr",
     "output_type": "stream",
     "text": [
      "Epoch 43/50: 100%|██████████| 52/52 [00:01<00:00, 34.96it/s, Loss=0.123, Accuracy=0.964] \n"
     ]
    },
    {
     "name": "stdout",
     "output_type": "stream",
     "text": [
      "Epoch [43/50], Train Loss: 0.1220, Train Accuracy: 0.9639, Val Loss: 0.4392, Val Accuracy: 0.8789\n"
     ]
    },
    {
     "name": "stderr",
     "output_type": "stream",
     "text": [
      "Epoch 44/50: 100%|██████████| 52/52 [00:01<00:00, 34.33it/s, Loss=0.108, Accuracy=0.968] \n"
     ]
    },
    {
     "name": "stdout",
     "output_type": "stream",
     "text": [
      "Epoch [44/50], Train Loss: 0.1073, Train Accuracy: 0.9675, Val Loss: 0.5662, Val Accuracy: 0.8789\n"
     ]
    },
    {
     "name": "stderr",
     "output_type": "stream",
     "text": [
      "Epoch 45/50: 100%|██████████| 52/52 [00:01<00:00, 35.44it/s, Loss=0.085, Accuracy=0.974] \n"
     ]
    },
    {
     "name": "stdout",
     "output_type": "stream",
     "text": [
      "Epoch [45/50], Train Loss: 0.0843, Train Accuracy: 0.9741, Val Loss: 0.5325, Val Accuracy: 0.8904\n"
     ]
    },
    {
     "name": "stderr",
     "output_type": "stream",
     "text": [
      "Epoch 46/50: 100%|██████████| 52/52 [00:01<00:00, 33.28it/s, Loss=0.0759, Accuracy=0.977]\n"
     ]
    },
    {
     "name": "stdout",
     "output_type": "stream",
     "text": [
      "Epoch [46/50], Train Loss: 0.0753, Train Accuracy: 0.9771, Val Loss: 0.5166, Val Accuracy: 0.8928\n"
     ]
    },
    {
     "name": "stderr",
     "output_type": "stream",
     "text": [
      "Epoch 47/50: 100%|██████████| 52/52 [00:01<00:00, 32.42it/s, Loss=0.067, Accuracy=0.98]  \n"
     ]
    },
    {
     "name": "stdout",
     "output_type": "stream",
     "text": [
      "Epoch [47/50], Train Loss: 0.0665, Train Accuracy: 0.9803, Val Loss: 0.4736, Val Accuracy: 0.8940\n"
     ]
    },
    {
     "name": "stderr",
     "output_type": "stream",
     "text": [
      "Epoch 48/50: 100%|██████████| 52/52 [00:01<00:00, 33.43it/s, Loss=0.0601, Accuracy=0.983]\n"
     ]
    },
    {
     "name": "stdout",
     "output_type": "stream",
     "text": [
      "Epoch [48/50], Train Loss: 0.0596, Train Accuracy: 0.9827, Val Loss: 0.4795, Val Accuracy: 0.8789\n"
     ]
    },
    {
     "name": "stderr",
     "output_type": "stream",
     "text": [
      "Epoch 49/50: 100%|██████████| 52/52 [00:01<00:00, 36.72it/s, Loss=0.0399, Accuracy=0.988]\n"
     ]
    },
    {
     "name": "stdout",
     "output_type": "stream",
     "text": [
      "Epoch [49/50], Train Loss: 0.0396, Train Accuracy: 0.9877, Val Loss: 0.5254, Val Accuracy: 0.8988\n"
     ]
    },
    {
     "name": "stderr",
     "output_type": "stream",
     "text": [
      "Epoch 50/50: 100%|██████████| 52/52 [00:01<00:00, 36.98it/s, Loss=0.0727, Accuracy=0.979]\n"
     ]
    },
    {
     "name": "stdout",
     "output_type": "stream",
     "text": [
      "Epoch [50/50], Train Loss: 0.0721, Train Accuracy: 0.9790, Val Loss: 0.4849, Val Accuracy: 0.8849\n",
      "Test Loss: 0.4707, Test Accuracy: 0.8843\n"
     ]
    },
    {
     "data": {
      "image/png": "[encoded data removed]",
      "text/plain": [
       "<Figure size 1200x400 with 2 Axes>"
      ]
     },
     "metadata": {},
     "output_type": "display_data"
    }
   ],
   "source": [
    "import torch\n",
    "import torch.nn as nn\n",
    "import torch.optim as optim\n",
    "from torch.utils.data import DataLoader, Dataset\n",
    "from torchvision import transforms\n",
    "from tqdm import tqdm\n",
    "import pandas as pd\n",
    "from PIL import Image\n",
    "import os\n",
    "from sklearn.model_selection import train_test_split\n",
    "import matplotlib.pyplot as plt\n",
    "\n",
    "# Check if GPU is available and set device\n",
    "device = torch.device(\"cuda\" if torch.cuda.is_available() else \"cpu\")\n",
    "\n",
    "# Define data transforms with 64x64 image size\n",
    "transform = transforms.Compose([\n",
    "    transforms.Resize((64, 64)),  # Resize to 64x64\n",
    "    transforms.ToTensor(),\n",
    "    transforms.Normalize(mean=[0.485, 0.456, 0.406], std=[0.229, 0.224, 0.225])\n",
    "])\n",
    "\n",
    "# Define the directory path\n",
    "data_dir = r\"C:\\Users\\user\\Desktop\\plant\\boc\"\n",
    "\n",
    "# Load one CSV file\n",
    "csv_file = 'fold_1_train.csv'\n",
    "\n",
    "# Define a custom dataset class for CSV loading\n",
    "class CustomDataset(Dataset):\n",
    "    def __init__(self, csv_file, root_dir, transform=None):\n",
    "        self.data = pd.read_csv(csv_file)\n",
    "        self.root_dir = root_dir\n",
    "        self.transform = transform\n",
    "\n",
    "    def __len__(self):\n",
    "        return len(self.data)\n",
    "\n",
    "    def __getitem__(self, idx):\n",
    "        try:\n",
    "            img_name = os.path.join(self.root_dir, str(self.data.iloc[idx, 0]))  # Access image_path using index 0\n",
    "            image = Image.open(img_name).convert('RGB')  # Ensure images are in RGB mode\n",
    "            label = self.data.iloc[idx, 1]  # Access class_label using index 1\n",
    "        except Exception as e:\n",
    "            print(f\"Error accessing image at index {idx}: {e}\")\n",
    "            return None\n",
    "\n",
    "        if self.transform:\n",
    "            image = self.transform(image)\n",
    "\n",
    "        return image, label\n",
    "\n",
    "# Load the dataset using CustomDataset\n",
    "dataset = CustomDataset(csv_file=os.path.join(data_dir, csv_file), root_dir=data_dir, transform=transform)\n",
    "\n",
    "# Split dataset into train, validation, and test sets\n",
    "train_size = 0.8\n",
    "val_size = 0.1\n",
    "test_size = 1 - train_size - val_size\n",
    "\n",
    "train_dataset, temp_dataset = train_test_split(dataset, test_size=1 - train_size, random_state=42)\n",
    "val_dataset, test_dataset = train_test_split(temp_dataset, test_size=test_size / (val_size + test_size), random_state=42)\n",
    "\n",
    "# Create data loaders for each set\n",
    "batch_size = 256\n",
    "##train_loader = DataLoader(train_dataset, batch_size=batch_size, shuffle=True, num_workers=4, pin_memory=True)\n",
    "##val_loader = DataLoader(val_dataset, batch_size=batch_size, shuffle=False, num_workers=4, pin_memory=True)\n",
    "##test_loader = DataLoader(test_dataset, batch_size=batch_size, shuffle=False, num_workers=4, pin_memory=True)\n",
    "train_loader = DataLoader(train_dataset, batch_size=batch_size, shuffle=True)\n",
    "val_loader = DataLoader(val_dataset, batch_size=batch_size, shuffle=False)\n",
    "test_loader = DataLoader(test_dataset, batch_size=batch_size, shuffle=False)\n",
    "\n",
    "\n",
    "\n",
    "# Print class names (assuming it's available in the dataset)\n",
    "print(\"Class Names:\", pd.Series([data[1] for data in train_dataset]).unique())\n",
    "\n",
    "# Define the model architecture\n",
    "class AlexNet(nn.Module):\n",
    "    def __init__(self, num_classes=15):\n",
    "        super(AlexNet, self).__init__()\n",
    "        self.features = nn.Sequential(\n",
    "            nn.Conv2d(3, 64, kernel_size=11, stride=4, padding=2),\n",
    "            nn.ReLU(inplace=True),\n",
    "            nn.MaxPool2d(kernel_size=3, stride=2),\n",
    "            nn.Conv2d(64, 192, kernel_size=5, padding=2),\n",
    "            nn.ReLU(inplace=True),\n",
    "            nn.MaxPool2d(kernel_size=3, stride=2),\n",
    "            nn.Conv2d(192, 384, kernel_size=3, padding=1),\n",
    "            nn.ReLU(inplace=True),\n",
    "            nn.Conv2d(384, 256, kernel_size=3, padding=1),\n",
    "            nn.ReLU(inplace=True),\n",
    "            nn.Conv2d(256, 256, kernel_size=3, padding=1),\n",
    "            nn.ReLU(inplace=True),\n",
    "            nn.MaxPool2d(kernel_size=3, stride=2),\n",
    "        )\n",
    "        self.avgpool = nn.AdaptiveAvgPool2d((6, 6))\n",
    "        self.classifier = nn.Sequential(\n",
    "            nn.Dropout(),\n",
    "            nn.Linear(256 * 6 * 6, 4096),\n",
    "            nn.ReLU(inplace=True),\n",
    "            nn.Dropout(),\n",
    "            nn.Linear(4096, 4096),\n",
    "            nn.ReLU(inplace=True),\n",
    "            nn.Linear(4096, num_classes),\n",
    "        )\n",
    "\n",
    "    def forward(self, x):\n",
    "        x = self.features(x)\n",
    "        x = self.avgpool(x)\n",
    "        x = torch.flatten(x, 1)\n",
    "        x = self.classifier(x)\n",
    "        return x\n",
    "\n",
    "# Instantiate the model\n",
    "model = AlexNet(num_classes=15).to(device)\n",
    "\n",
    "# Function to evaluate the model\n",
    "def evaluate_model(model, data_loader, criterion, device):\n",
    "    model.eval()\n",
    "    loss = 0.0\n",
    "    correct = 0\n",
    "    total = 0\n",
    "    with torch.no_grad():\n",
    "        for images, labels in data_loader:\n",
    "            images, labels = images.to(device), labels.to(device)\n",
    "            outputs = model(images)\n",
    "            loss += criterion(outputs, labels).item()\n",
    "            _, predicted = torch.max(outputs.data, 1)\n",
    "            total += labels.size(0)\n",
    "            correct += (predicted == labels).sum().item()\n",
    "    \n",
    "    avg_loss = loss / len(data_loader)\n",
    "    accuracy = correct / total\n",
    "    return avg_loss, accuracy\n",
    "\n",
    "# Function to train the model\n",
    "def train_model(model, train_loader, val_loader, criterion, optimizer, num_epochs, device):\n",
    "    train_losses = []\n",
    "    val_losses = []\n",
    "    train_accuracies = []\n",
    "    val_accuracies = []\n",
    "    \n",
    "    for epoch in range(num_epochs):\n",
    "        model.train()\n",
    "        running_loss = 0.0\n",
    "        correct_train = 0\n",
    "        total_train = 0\n",
    "        \n",
    "        # Use tqdm for progress display\n",
    "        progress_bar = tqdm(train_loader, desc=f'Epoch {epoch+1}/{num_epochs}')\n",
    "        \n",
    "        for images, labels in progress_bar:\n",
    "            images, labels = images.to(device), labels.to(device)\n",
    "            \n",
    "            optimizer.zero_grad()\n",
    "            outputs = model(images)\n",
    "            loss = criterion(outputs, labels)\n",
    "            loss.backward()\n",
    "            optimizer.step()\n",
    "            \n",
    "            running_loss += loss.item()\n",
    "            _, predicted = torch.max(outputs.data, 1)\n",
    "            total_train += labels.size(0)\n",
    "            correct_train += (predicted == labels).sum().item()\n",
    "            \n",
    "            progress_bar.set_postfix({'Loss': running_loss / (total_train / batch_size), 'Accuracy': correct_train / total_train})\n",
    "        \n",
    "        avg_train_loss = running_loss / len(train_loader)\n",
    "        train_accuracy = correct_train / total_train\n",
    "        \n",
    "        val_loss, val_accuracy = evaluate_model(model, val_loader, criterion, device)\n",
    "        \n",
    "        train_losses.append(avg_train_loss)\n",
    "        val_losses.append(val_loss)\n",
    "        train_accuracies.append(train_accuracy)\n",
    "        val_accuracies.append(val_accuracy)\n",
    "        \n",
    "        print(f'Epoch [{epoch+1}/{num_epochs}], Train Loss: {avg_train_loss:.4f}, Train Accuracy: {train_accuracy:.4f}, Val Loss: {val_loss:.4f}, Val Accuracy: {val_accuracy:.4f}')\n",
    "    \n",
    "    return train_losses, val_losses, train_accuracies, val_accuracies\n",
    "\n",
    "# Set hyperparameters\n",
    "num_epochs = 50\n",
    "learning_rate = 1e-3\n",
    "\n",
    "# Define criterion and optimizer\n",
    "criterion = nn.CrossEntropyLoss()\n",
    "optimizer = optim.Adam(model.parameters(), lr=learning_rate)\n",
    "\n",
    "# Train the model\n",
    "train_losses, val_losses, train_accuracies, val_accuracies = train_model(model, train_loader, val_loader, criterion, optimizer, num_epochs, device)\n",
    "\n",
    "# Evaluate on test set\n",
    "test_loss, test_accuracy = evaluate_model(model, test_loader, criterion, device)\n",
    "print(f'Test Loss: {test_loss:.4f}, Test Accuracy: {test_accuracy:.4f}')\n",
    "\n",
    "# Plotting training and validation curves\n",
    "plt.figure(figsize=(12, 4))\n",
    "plt.subplot(1, 2, 1)\n",
    "plt.plot(train_losses, label='Train Loss')\n",
    "plt.plot(val_losses, label='Val Loss')\n",
    "plt.xlabel('Epoch')\n",
    "plt.ylabel('Loss')\n",
    "plt.title('Training and Validation Losses')\n",
    "plt.legend()\n",
    "\n",
    "plt.subplot(1, 2, 2)\n",
    "plt.plot(train_accuracies, label='Train Accuracy')\n",
    "plt.plot(val_accuracies, label='Val Accuracy')\n",
    "plt.xlabel('Epoch')\n",
    "plt.ylabel('Accuracy')\n",
    "plt.title('Training and Validation Accuracies')\n",
    "plt.legend()\n",
    "\n",
    "plt.tight_layout()\n",
    "plt.show()\n"
   ]
  },
  {
   "cell_type": "code",
   "execution_count": 5,
   "metadata": {},
   "outputs": [
    {
     "name": "stdout",
     "output_type": "stream",
     "text": [
      "Class Names: [12  6 11  5 10  0 14  7  2  9  8 13  1  3  4]\n"
     ]
    },
    {
     "name": "stderr",
     "output_type": "stream",
     "text": [
      "Epoch 1/50: 100%|██████████| 104/104 [00:17<00:00,  5.81it/s, Loss=2.38, Accuracy=0.206]\n"
     ]
    },
    {
     "name": "stdout",
     "output_type": "stream",
     "text": [
      "Epoch [1/50], Train Loss: 2.3661, Train Accuracy: 0.2061, Val Loss: 2.0777, Val Accuracy: 0.2810\n"
     ]
    },
    {
     "name": "stderr",
     "output_type": "stream",
     "text": [
      "Epoch 2/50: 100%|██████████| 104/104 [00:17<00:00,  5.92it/s, Loss=1.76, Accuracy=0.397]\n"
     ]
    },
    {
     "name": "stdout",
     "output_type": "stream",
     "text": [
      "Epoch [2/50], Train Loss: 1.7443, Train Accuracy: 0.3970, Val Loss: 1.4990, Val Accuracy: 0.4882\n"
     ]
    },
    {
     "name": "stderr",
     "output_type": "stream",
     "text": [
      "Epoch 3/50: 100%|██████████| 104/104 [00:17<00:00,  6.09it/s, Loss=1.34, Accuracy=0.543]\n"
     ]
    },
    {
     "name": "stdout",
     "output_type": "stream",
     "text": [
      "Epoch [3/50], Train Loss: 1.3308, Train Accuracy: 0.5429, Val Loss: 1.1437, Val Accuracy: 0.6063\n"
     ]
    },
    {
     "name": "stderr",
     "output_type": "stream",
     "text": [
      "Epoch 4/50: 100%|██████████| 104/104 [00:15<00:00,  6.74it/s, Loss=1.02, Accuracy=0.661]\n"
     ]
    },
    {
     "name": "stdout",
     "output_type": "stream",
     "text": [
      "Epoch [4/50], Train Loss: 1.0105, Train Accuracy: 0.6608, Val Loss: 0.8670, Val Accuracy: 0.7159\n"
     ]
    },
    {
     "name": "stderr",
     "output_type": "stream",
     "text": [
      "Epoch 5/50: 100%|██████████| 104/104 [00:18<00:00,  5.69it/s, Loss=0.829, Accuracy=0.734]\n"
     ]
    },
    {
     "name": "stdout",
     "output_type": "stream",
     "text": [
      "Epoch [5/50], Train Loss: 0.8228, Train Accuracy: 0.7344, Val Loss: 0.8464, Val Accuracy: 0.7329\n"
     ]
    },
    {
     "name": "stderr",
     "output_type": "stream",
     "text": [
      "Epoch 6/50: 100%|██████████| 104/104 [00:19<00:00,  5.42it/s, Loss=0.699, Accuracy=0.777]\n"
     ]
    },
    {
     "name": "stdout",
     "output_type": "stream",
     "text": [
      "Epoch [6/50], Train Loss: 0.6938, Train Accuracy: 0.7774, Val Loss: 0.9417, Val Accuracy: 0.7087\n"
     ]
    },
    {
     "name": "stderr",
     "output_type": "stream",
     "text": [
      "Epoch 7/50: 100%|██████████| 104/104 [00:18<00:00,  5.60it/s, Loss=0.678, Accuracy=0.786]\n"
     ]
    },
    {
     "name": "stdout",
     "output_type": "stream",
     "text": [
      "Epoch [7/50], Train Loss: 0.6722, Train Accuracy: 0.7865, Val Loss: 0.5688, Val Accuracy: 0.8110\n"
     ]
    },
    {
     "name": "stderr",
     "output_type": "stream",
     "text": [
      "Epoch 8/50: 100%|██████████| 104/104 [00:18<00:00,  5.56it/s, Loss=0.525, Accuracy=0.833]\n"
     ]
    },
    {
     "name": "stdout",
     "output_type": "stream",
     "text": [
      "Epoch [8/50], Train Loss: 0.5211, Train Accuracy: 0.8330, Val Loss: 0.5630, Val Accuracy: 0.8256\n"
     ]
    },
    {
     "name": "stderr",
     "output_type": "stream",
     "text": [
      "Epoch 9/50: 100%|██████████| 104/104 [00:18<00:00,  5.52it/s, Loss=0.492, Accuracy=0.844]\n"
     ]
    },
    {
     "name": "stdout",
     "output_type": "stream",
     "text": [
      "Epoch [9/50], Train Loss: 0.4882, Train Accuracy: 0.8436, Val Loss: 0.4987, Val Accuracy: 0.8474\n"
     ]
    },
    {
     "name": "stderr",
     "output_type": "stream",
     "text": [
      "Epoch 10/50: 100%|██████████| 104/104 [00:18<00:00,  5.63it/s, Loss=0.435, Accuracy=0.863]\n"
     ]
    },
    {
     "name": "stdout",
     "output_type": "stream",
     "text": [
      "Epoch [10/50], Train Loss: 0.4313, Train Accuracy: 0.8633, Val Loss: 0.5771, Val Accuracy: 0.8371\n"
     ]
    },
    {
     "name": "stderr",
     "output_type": "stream",
     "text": [
      "Epoch 11/50: 100%|██████████| 104/104 [00:18<00:00,  5.73it/s, Loss=0.355, Accuracy=0.887]\n"
     ]
    },
    {
     "name": "stdout",
     "output_type": "stream",
     "text": [
      "Epoch [11/50], Train Loss: 0.3525, Train Accuracy: 0.8870, Val Loss: 0.5731, Val Accuracy: 0.8359\n"
     ]
    },
    {
     "name": "stderr",
     "output_type": "stream",
     "text": [
      "Epoch 12/50: 100%|██████████| 104/104 [00:18<00:00,  5.58it/s, Loss=0.336, Accuracy=0.894]\n"
     ]
    },
    {
     "name": "stdout",
     "output_type": "stream",
     "text": [
      "Epoch [12/50], Train Loss: 0.3339, Train Accuracy: 0.8938, Val Loss: 0.5991, Val Accuracy: 0.8316\n"
     ]
    },
    {
     "name": "stderr",
     "output_type": "stream",
     "text": [
      "Epoch 13/50: 100%|██████████| 104/104 [00:18<00:00,  5.52it/s, Loss=0.34, Accuracy=0.891] \n"
     ]
    },
    {
     "name": "stdout",
     "output_type": "stream",
     "text": [
      "Epoch [13/50], Train Loss: 0.3372, Train Accuracy: 0.8908, Val Loss: 0.4760, Val Accuracy: 0.8686\n"
     ]
    },
    {
     "name": "stderr",
     "output_type": "stream",
     "text": [
      "Epoch 14/50: 100%|██████████| 104/104 [00:21<00:00,  4.94it/s, Loss=0.279, Accuracy=0.913]\n"
     ]
    },
    {
     "name": "stdout",
     "output_type": "stream",
     "text": [
      "Epoch [14/50], Train Loss: 0.2771, Train Accuracy: 0.9129, Val Loss: 0.4035, Val Accuracy: 0.8686\n"
     ]
    },
    {
     "name": "stderr",
     "output_type": "stream",
     "text": [
      "Epoch 15/50: 100%|██████████| 104/104 [00:21<00:00,  4.73it/s, Loss=0.263, Accuracy=0.917]\n"
     ]
    },
    {
     "name": "stdout",
     "output_type": "stream",
     "text": [
      "Epoch [15/50], Train Loss: 0.2610, Train Accuracy: 0.9167, Val Loss: 0.4042, Val Accuracy: 0.8776\n"
     ]
    },
    {
     "name": "stderr",
     "output_type": "stream",
     "text": [
      "Epoch 16/50: 100%|██████████| 104/104 [00:20<00:00,  5.02it/s, Loss=0.248, Accuracy=0.922]\n"
     ]
    },
    {
     "name": "stdout",
     "output_type": "stream",
     "text": [
      "Epoch [16/50], Train Loss: 0.2457, Train Accuracy: 0.9219, Val Loss: 0.4538, Val Accuracy: 0.8649\n"
     ]
    },
    {
     "name": "stderr",
     "output_type": "stream",
     "text": [
      "Epoch 17/50: 100%|██████████| 104/104 [00:21<00:00,  4.80it/s, Loss=0.247, Accuracy=0.925]\n"
     ]
    },
    {
     "name": "stdout",
     "output_type": "stream",
     "text": [
      "Epoch [17/50], Train Loss: 0.2450, Train Accuracy: 0.9246, Val Loss: 0.4890, Val Accuracy: 0.8589\n"
     ]
    },
    {
     "name": "stderr",
     "output_type": "stream",
     "text": [
      "Epoch 18/50: 100%|██████████| 104/104 [00:21<00:00,  4.85it/s, Loss=0.212, Accuracy=0.933]\n"
     ]
    },
    {
     "name": "stdout",
     "output_type": "stream",
     "text": [
      "Epoch [18/50], Train Loss: 0.2103, Train Accuracy: 0.9332, Val Loss: 0.9113, Val Accuracy: 0.7886\n"
     ]
    },
    {
     "name": "stderr",
     "output_type": "stream",
     "text": [
      "Epoch 19/50: 100%|██████████| 104/104 [00:33<00:00,  3.10it/s, Loss=0.284, Accuracy=0.914]\n"
     ]
    },
    {
     "name": "stdout",
     "output_type": "stream",
     "text": [
      "Epoch [19/50], Train Loss: 0.2819, Train Accuracy: 0.9144, Val Loss: 0.5006, Val Accuracy: 0.8783\n"
     ]
    },
    {
     "name": "stderr",
     "output_type": "stream",
     "text": [
      "Epoch 20/50: 100%|██████████| 104/104 [00:23<00:00,  4.40it/s, Loss=0.166, Accuracy=0.949]\n"
     ]
    },
    {
     "name": "stdout",
     "output_type": "stream",
     "text": [
      "Epoch [20/50], Train Loss: 0.1650, Train Accuracy: 0.9490, Val Loss: 0.5083, Val Accuracy: 0.8631\n"
     ]
    },
    {
     "name": "stderr",
     "output_type": "stream",
     "text": [
      "Epoch 21/50: 100%|██████████| 104/104 [00:20<00:00,  5.02it/s, Loss=0.173, Accuracy=0.949]\n"
     ]
    },
    {
     "name": "stdout",
     "output_type": "stream",
     "text": [
      "Epoch [21/50], Train Loss: 0.1714, Train Accuracy: 0.9490, Val Loss: 0.5500, Val Accuracy: 0.8601\n"
     ]
    },
    {
     "name": "stderr",
     "output_type": "stream",
     "text": [
      "Epoch 22/50: 100%|██████████| 104/104 [00:21<00:00,  4.91it/s, Loss=0.189, Accuracy=0.945]\n"
     ]
    },
    {
     "name": "stdout",
     "output_type": "stream",
     "text": [
      "Epoch [22/50], Train Loss: 0.1874, Train Accuracy: 0.9453, Val Loss: 0.5510, Val Accuracy: 0.8631\n"
     ]
    },
    {
     "name": "stderr",
     "output_type": "stream",
     "text": [
      "Epoch 23/50: 100%|██████████| 104/104 [00:21<00:00,  4.89it/s, Loss=0.183, Accuracy=0.948]\n"
     ]
    },
    {
     "name": "stdout",
     "output_type": "stream",
     "text": [
      "Epoch [23/50], Train Loss: 0.1814, Train Accuracy: 0.9479, Val Loss: 0.4917, Val Accuracy: 0.8667\n"
     ]
    },
    {
     "name": "stderr",
     "output_type": "stream",
     "text": [
      "Epoch 24/50: 100%|██████████| 104/104 [00:21<00:00,  4.80it/s, Loss=0.146, Accuracy=0.956]\n"
     ]
    },
    {
     "name": "stdout",
     "output_type": "stream",
     "text": [
      "Epoch [24/50], Train Loss: 0.1449, Train Accuracy: 0.9559, Val Loss: 0.5703, Val Accuracy: 0.8637\n"
     ]
    },
    {
     "name": "stderr",
     "output_type": "stream",
     "text": [
      "Epoch 25/50: 100%|██████████| 104/104 [00:20<00:00,  5.05it/s, Loss=0.163, Accuracy=0.952]\n"
     ]
    },
    {
     "name": "stdout",
     "output_type": "stream",
     "text": [
      "Epoch [25/50], Train Loss: 0.1621, Train Accuracy: 0.9518, Val Loss: 0.4342, Val Accuracy: 0.8855\n"
     ]
    },
    {
     "name": "stderr",
     "output_type": "stream",
     "text": [
      "Epoch 26/50: 100%|██████████| 104/104 [00:20<00:00,  4.96it/s, Loss=0.139, Accuracy=0.959]\n"
     ]
    },
    {
     "name": "stdout",
     "output_type": "stream",
     "text": [
      "Epoch [26/50], Train Loss: 0.1379, Train Accuracy: 0.9586, Val Loss: 0.6351, Val Accuracy: 0.8643\n"
     ]
    },
    {
     "name": "stderr",
     "output_type": "stream",
     "text": [
      "Epoch 27/50: 100%|██████████| 104/104 [00:21<00:00,  4.92it/s, Loss=0.139, Accuracy=0.957]\n"
     ]
    },
    {
     "name": "stdout",
     "output_type": "stream",
     "text": [
      "Epoch [27/50], Train Loss: 0.1384, Train Accuracy: 0.9572, Val Loss: 0.5604, Val Accuracy: 0.8643\n"
     ]
    },
    {
     "name": "stderr",
     "output_type": "stream",
     "text": [
      "Epoch 28/50: 100%|██████████| 104/104 [00:20<00:00,  5.02it/s, Loss=0.173, Accuracy=0.948]\n"
     ]
    },
    {
     "name": "stdout",
     "output_type": "stream",
     "text": [
      "Epoch [28/50], Train Loss: 0.1716, Train Accuracy: 0.9477, Val Loss: 0.5029, Val Accuracy: 0.8849\n"
     ]
    },
    {
     "name": "stderr",
     "output_type": "stream",
     "text": [
      "Epoch 29/50: 100%|██████████| 104/104 [00:20<00:00,  5.12it/s, Loss=0.123, Accuracy=0.963]\n"
     ]
    },
    {
     "name": "stdout",
     "output_type": "stream",
     "text": [
      "Epoch [29/50], Train Loss: 0.1223, Train Accuracy: 0.9630, Val Loss: 0.5530, Val Accuracy: 0.8813\n"
     ]
    },
    {
     "name": "stderr",
     "output_type": "stream",
     "text": [
      "Epoch 30/50: 100%|██████████| 104/104 [00:23<00:00,  4.39it/s, Loss=0.151, Accuracy=0.957]\n"
     ]
    },
    {
     "name": "stdout",
     "output_type": "stream",
     "text": [
      "Epoch [30/50], Train Loss: 0.1502, Train Accuracy: 0.9572, Val Loss: 0.4842, Val Accuracy: 0.8740\n"
     ]
    },
    {
     "name": "stderr",
     "output_type": "stream",
     "text": [
      "Epoch 31/50: 100%|██████████| 104/104 [00:24<00:00,  4.31it/s, Loss=0.105, Accuracy=0.969]\n"
     ]
    },
    {
     "name": "stdout",
     "output_type": "stream",
     "text": [
      "Epoch [31/50], Train Loss: 0.1044, Train Accuracy: 0.9687, Val Loss: 0.5783, Val Accuracy: 0.8680\n"
     ]
    },
    {
     "name": "stderr",
     "output_type": "stream",
     "text": [
      "Epoch 32/50: 100%|██████████| 104/104 [00:24<00:00,  4.25it/s, Loss=0.141, Accuracy=0.96]\n"
     ]
    },
    {
     "name": "stdout",
     "output_type": "stream",
     "text": [
      "Epoch [32/50], Train Loss: 0.1399, Train Accuracy: 0.9601, Val Loss: 0.5195, Val Accuracy: 0.8855\n"
     ]
    },
    {
     "name": "stderr",
     "output_type": "stream",
     "text": [
      "Epoch 33/50: 100%|██████████| 104/104 [00:25<00:00,  4.13it/s, Loss=0.135, Accuracy=0.962]\n"
     ]
    },
    {
     "name": "stdout",
     "output_type": "stream",
     "text": [
      "Epoch [33/50], Train Loss: 0.1343, Train Accuracy: 0.9621, Val Loss: 0.6375, Val Accuracy: 0.8661\n"
     ]
    },
    {
     "name": "stderr",
     "output_type": "stream",
     "text": [
      "Epoch 34/50: 100%|██████████| 104/104 [00:25<00:00,  4.13it/s, Loss=0.119, Accuracy=0.964]\n"
     ]
    },
    {
     "name": "stdout",
     "output_type": "stream",
     "text": [
      "Epoch [34/50], Train Loss: 0.1184, Train Accuracy: 0.9641, Val Loss: 0.6240, Val Accuracy: 0.8686\n"
     ]
    },
    {
     "name": "stderr",
     "output_type": "stream",
     "text": [
      "Epoch 35/50: 100%|██████████| 104/104 [00:24<00:00,  4.19it/s, Loss=0.149, Accuracy=0.957]\n"
     ]
    },
    {
     "name": "stdout",
     "output_type": "stream",
     "text": [
      "Epoch [35/50], Train Loss: 0.1479, Train Accuracy: 0.9568, Val Loss: 0.6271, Val Accuracy: 0.8328\n"
     ]
    },
    {
     "name": "stderr",
     "output_type": "stream",
     "text": [
      "Epoch 36/50: 100%|██████████| 104/104 [00:24<00:00,  4.25it/s, Loss=0.153, Accuracy=0.959]\n"
     ]
    },
    {
     "name": "stdout",
     "output_type": "stream",
     "text": [
      "Epoch [36/50], Train Loss: 0.1521, Train Accuracy: 0.9585, Val Loss: 0.4831, Val Accuracy: 0.8740\n"
     ]
    },
    {
     "name": "stderr",
     "output_type": "stream",
     "text": [
      "Epoch 37/50: 100%|██████████| 104/104 [00:24<00:00,  4.31it/s, Loss=0.13, Accuracy=0.962]\n"
     ]
    },
    {
     "name": "stdout",
     "output_type": "stream",
     "text": [
      "Epoch [37/50], Train Loss: 0.1286, Train Accuracy: 0.9619, Val Loss: 0.5946, Val Accuracy: 0.8558\n"
     ]
    },
    {
     "name": "stderr",
     "output_type": "stream",
     "text": [
      "Epoch 38/50: 100%|██████████| 104/104 [00:24<00:00,  4.22it/s, Loss=0.115, Accuracy=0.969]\n"
     ]
    },
    {
     "name": "stdout",
     "output_type": "stream",
     "text": [
      "Epoch [38/50], Train Loss: 0.1141, Train Accuracy: 0.9687, Val Loss: 0.7225, Val Accuracy: 0.8546\n"
     ]
    },
    {
     "name": "stderr",
     "output_type": "stream",
     "text": [
      "Epoch 39/50: 100%|██████████| 104/104 [00:26<00:00,  3.90it/s, Loss=0.122, Accuracy=0.969]\n"
     ]
    },
    {
     "name": "stdout",
     "output_type": "stream",
     "text": [
      "Epoch [39/50], Train Loss: 0.1213, Train Accuracy: 0.9690, Val Loss: 0.6196, Val Accuracy: 0.8492\n"
     ]
    },
    {
     "name": "stderr",
     "output_type": "stream",
     "text": [
      "Epoch 40/50: 100%|██████████| 104/104 [00:25<00:00,  4.01it/s, Loss=0.142, Accuracy=0.96]\n"
     ]
    },
    {
     "name": "stdout",
     "output_type": "stream",
     "text": [
      "Epoch [40/50], Train Loss: 0.1407, Train Accuracy: 0.9601, Val Loss: 0.5811, Val Accuracy: 0.8746\n"
     ]
    },
    {
     "name": "stderr",
     "output_type": "stream",
     "text": [
      "Epoch 41/50: 100%|██████████| 104/104 [00:24<00:00,  4.20it/s, Loss=0.119, Accuracy=0.965]\n"
     ]
    },
    {
     "name": "stdout",
     "output_type": "stream",
     "text": [
      "Epoch [41/50], Train Loss: 0.1177, Train Accuracy: 0.9650, Val Loss: 0.5876, Val Accuracy: 0.8910\n"
     ]
    },
    {
     "name": "stderr",
     "output_type": "stream",
     "text": [
      "Epoch 42/50: 100%|██████████| 104/104 [00:24<00:00,  4.17it/s, Loss=0.11, Accuracy=0.967] \n"
     ]
    },
    {
     "name": "stdout",
     "output_type": "stream",
     "text": [
      "Epoch [42/50], Train Loss: 0.1087, Train Accuracy: 0.9674, Val Loss: 0.5676, Val Accuracy: 0.8825\n"
     ]
    },
    {
     "name": "stderr",
     "output_type": "stream",
     "text": [
      "Epoch 43/50: 100%|██████████| 104/104 [00:24<00:00,  4.19it/s, Loss=0.116, Accuracy=0.97] \n"
     ]
    },
    {
     "name": "stdout",
     "output_type": "stream",
     "text": [
      "Epoch [43/50], Train Loss: 0.1151, Train Accuracy: 0.9698, Val Loss: 0.7996, Val Accuracy: 0.8353\n"
     ]
    },
    {
     "name": "stderr",
     "output_type": "stream",
     "text": [
      "Epoch 44/50: 100%|██████████| 104/104 [00:24<00:00,  4.24it/s, Loss=0.139, Accuracy=0.961]\n"
     ]
    },
    {
     "name": "stdout",
     "output_type": "stream",
     "text": [
      "Epoch [44/50], Train Loss: 0.1377, Train Accuracy: 0.9611, Val Loss: 0.6096, Val Accuracy: 0.8734\n"
     ]
    },
    {
     "name": "stderr",
     "output_type": "stream",
     "text": [
      "Epoch 45/50: 100%|██████████| 104/104 [00:26<00:00,  3.87it/s, Loss=0.105, Accuracy=0.972]\n"
     ]
    },
    {
     "name": "stdout",
     "output_type": "stream",
     "text": [
      "Epoch [45/50], Train Loss: 0.1044, Train Accuracy: 0.9717, Val Loss: 0.5592, Val Accuracy: 0.8849\n"
     ]
    },
    {
     "name": "stderr",
     "output_type": "stream",
     "text": [
      "Epoch 46/50: 100%|██████████| 104/104 [00:24<00:00,  4.17it/s, Loss=0.152, Accuracy=0.963]\n"
     ]
    },
    {
     "name": "stdout",
     "output_type": "stream",
     "text": [
      "Epoch [46/50], Train Loss: 0.1504, Train Accuracy: 0.9627, Val Loss: 0.6567, Val Accuracy: 0.8528\n"
     ]
    },
    {
     "name": "stderr",
     "output_type": "stream",
     "text": [
      "Epoch 47/50: 100%|██████████| 104/104 [00:26<00:00,  3.89it/s, Loss=0.153, Accuracy=0.96] \n"
     ]
    },
    {
     "name": "stdout",
     "output_type": "stream",
     "text": [
      "Epoch [47/50], Train Loss: 0.1518, Train Accuracy: 0.9603, Val Loss: 0.5466, Val Accuracy: 0.8801\n"
     ]
    },
    {
     "name": "stderr",
     "output_type": "stream",
     "text": [
      "Epoch 48/50: 100%|██████████| 104/104 [00:25<00:00,  4.15it/s, Loss=0.0947, Accuracy=0.973]\n"
     ]
    },
    {
     "name": "stdout",
     "output_type": "stream",
     "text": [
      "Epoch [48/50], Train Loss: 0.0939, Train Accuracy: 0.9727, Val Loss: 0.6267, Val Accuracy: 0.8910\n"
     ]
    },
    {
     "name": "stderr",
     "output_type": "stream",
     "text": [
      "Epoch 49/50: 100%|██████████| 104/104 [00:25<00:00,  4.15it/s, Loss=0.0631, Accuracy=0.982]\n"
     ]
    },
    {
     "name": "stdout",
     "output_type": "stream",
     "text": [
      "Epoch [49/50], Train Loss: 0.0626, Train Accuracy: 0.9822, Val Loss: 0.6949, Val Accuracy: 0.8789\n"
     ]
    },
    {
     "name": "stderr",
     "output_type": "stream",
     "text": [
      "Epoch 50/50: 100%|██████████| 104/104 [00:25<00:00,  4.13it/s, Loss=0.0745, Accuracy=0.982]\n"
     ]
    },
    {
     "name": "stdout",
     "output_type": "stream",
     "text": [
      "Epoch [50/50], Train Loss: 0.0740, Train Accuracy: 0.9821, Val Loss: 0.6579, Val Accuracy: 0.8783\n",
      "Test Loss: 0.8256, Test Accuracy: 0.8607\n"
     ]
    },
    {
     "data": {
      "image/png": "[encoded data removed]",
      "text/plain": [
       "<Figure size 1200x400 with 2 Axes>"
      ]
     },
     "metadata": {},
     "output_type": "display_data"
    }
   ],
   "source": [
    "import torch\n",
    "import torch.nn as nn\n",
    "import torch.optim as optim\n",
    "from torch.utils.data import DataLoader, Dataset\n",
    "from torchvision import transforms\n",
    "from tqdm import tqdm\n",
    "import pandas as pd\n",
    "from PIL import Image\n",
    "import os\n",
    "from sklearn.model_selection import train_test_split\n",
    "import matplotlib.pyplot as plt\n",
    "\n",
    "# Check if GPU is available and set device\n",
    "device = torch.device(\"cuda\" if torch.cuda.is_available() else \"cpu\")\n",
    "\n",
    "# Define data transforms with 64x64 image size\n",
    "transform = transforms.Compose([\n",
    "    transforms.Resize((64, 64)),  # Resize to 64x64\n",
    "    transforms.ToTensor(),\n",
    "    transforms.Normalize(mean=[0.485, 0.456, 0.406], std=[0.229, 0.224, 0.225])\n",
    "])\n",
    "\n",
    "# Define the directory path\n",
    "data_dir = r\"C:\\Users\\user\\Desktop\\plant\\boc\"\n",
    "\n",
    "# Load one CSV file\n",
    "csv_file = 'fold_2_train.csv'\n",
    "\n",
    "# Define a custom dataset class for CSV loading\n",
    "class CustomDataset(Dataset):\n",
    "    def __init__(self, csv_file, root_dir, transform=None):\n",
    "        self.data = pd.read_csv(csv_file)\n",
    "        self.root_dir = root_dir\n",
    "        self.transform = transform\n",
    "\n",
    "    def __len__(self):\n",
    "        return len(self.data)\n",
    "\n",
    "    def __getitem__(self, idx):\n",
    "        try:\n",
    "            img_name = os.path.join(self.root_dir, str(self.data.iloc[idx, 0]))  # Access image_path using index 0\n",
    "            image = Image.open(img_name).convert('RGB')  # Ensure images are in RGB mode\n",
    "            label = self.data.iloc[idx, 1]  # Access class_label using index 1\n",
    "        except Exception as e:\n",
    "            print(f\"Error accessing image at index {idx}: {e}\")\n",
    "            return None\n",
    "\n",
    "        if self.transform:\n",
    "            image = self.transform(image)\n",
    "\n",
    "        return image, label\n",
    "\n",
    "# Load the dataset using CustomDataset\n",
    "dataset = CustomDataset(csv_file=os.path.join(data_dir, csv_file), root_dir=data_dir, transform=transform)\n",
    "\n",
    "# Split dataset into train, validation, and test sets\n",
    "train_size = 0.8\n",
    "val_size = 0.1\n",
    "test_size = 1 - train_size - val_size\n",
    "\n",
    "train_dataset, temp_dataset = train_test_split(dataset, test_size=1 - train_size, random_state=42)\n",
    "val_dataset, test_dataset = train_test_split(temp_dataset, test_size=test_size / (val_size + test_size), random_state=42)\n",
    "\n",
    "# Create data loaders for each set\n",
    "batch_size = 128\n",
    "train_loader = DataLoader(train_dataset, batch_size=batch_size, shuffle=True, num_workers=4, pin_memory=True)\n",
    "val_loader = DataLoader(val_dataset, batch_size=batch_size, shuffle=False, num_workers=4, pin_memory=True)\n",
    "test_loader = DataLoader(test_dataset, batch_size=batch_size, shuffle=False, num_workers=4, pin_memory=True)\n",
    "\n",
    "\n",
    "\n",
    "# Print class names (assuming it's available in the dataset)\n",
    "print(\"Class Names:\", pd.Series([data[1] for data in train_dataset]).unique())\n",
    "\n",
    "# Define the model architecture\n",
    "class AlexNet(nn.Module):\n",
    "    def __init__(self, num_classes=15):\n",
    "        super(AlexNet, self).__init__()\n",
    "        self.features = nn.Sequential(\n",
    "            nn.Conv2d(3, 64, kernel_size=11, stride=4, padding=2),\n",
    "            nn.ReLU(inplace=True),\n",
    "            nn.MaxPool2d(kernel_size=3, stride=2),\n",
    "            nn.Conv2d(64, 192, kernel_size=5, padding=2),\n",
    "            nn.ReLU(inplace=True),\n",
    "            nn.MaxPool2d(kernel_size=3, stride=2),\n",
    "            nn.Conv2d(192, 384, kernel_size=3, padding=1),\n",
    "            nn.ReLU(inplace=True),\n",
    "            nn.Conv2d(384, 256, kernel_size=3, padding=1),\n",
    "            nn.ReLU(inplace=True),\n",
    "            nn.Conv2d(256, 256, kernel_size=3, padding=1),\n",
    "            nn.ReLU(inplace=True),\n",
    "            nn.MaxPool2d(kernel_size=3, stride=2),\n",
    "        )\n",
    "        self.avgpool = nn.AdaptiveAvgPool2d((6, 6))\n",
    "        self.classifier = nn.Sequential(\n",
    "            nn.Dropout(),\n",
    "            nn.Linear(256 * 6 * 6, 4096),\n",
    "            nn.ReLU(inplace=True),\n",
    "            nn.Dropout(),\n",
    "            nn.Linear(4096, 4096),\n",
    "            nn.ReLU(inplace=True),\n",
    "            nn.Linear(4096, num_classes),\n",
    "        )\n",
    "\n",
    "    def forward(self, x):\n",
    "        x = self.features(x)\n",
    "        x = self.avgpool(x)\n",
    "        x = torch.flatten(x, 1)\n",
    "        x = self.classifier(x)\n",
    "        return x\n",
    "\n",
    "# Instantiate the model\n",
    "model = AlexNet(num_classes=15).to(device)\n",
    "\n",
    "# Function to evaluate the model\n",
    "def evaluate_model(model, data_loader, criterion, device):\n",
    "    model.eval()\n",
    "    loss = 0.0\n",
    "    correct = 0\n",
    "    total = 0\n",
    "    with torch.no_grad():\n",
    "        for images, labels in data_loader:\n",
    "            images, labels = images.to(device), labels.to(device)\n",
    "            outputs = model(images)\n",
    "            loss += criterion(outputs, labels).item()\n",
    "            _, predicted = torch.max(outputs.data, 1)\n",
    "            total += labels.size(0)\n",
    "            correct += (predicted == labels).sum().item()\n",
    "    \n",
    "    avg_loss = loss / len(data_loader)\n",
    "    accuracy = correct / total\n",
    "    return avg_loss, accuracy\n",
    "\n",
    "# Function to train the model\n",
    "def train_model(model, train_loader, val_loader, criterion, optimizer, num_epochs, device):\n",
    "    train_losses = []\n",
    "    val_losses = []\n",
    "    train_accuracies = []\n",
    "    val_accuracies = []\n",
    "    \n",
    "    for epoch in range(num_epochs):\n",
    "        model.train()\n",
    "        running_loss = 0.0\n",
    "        correct_train = 0\n",
    "        total_train = 0\n",
    "        \n",
    "        # Use tqdm for progress display\n",
    "        progress_bar = tqdm(train_loader, desc=f'Epoch {epoch+1}/{num_epochs}')\n",
    "        \n",
    "        for images, labels in progress_bar:\n",
    "            images, labels = images.to(device), labels.to(device)\n",
    "            \n",
    "            optimizer.zero_grad()\n",
    "            outputs = model(images)\n",
    "            loss = criterion(outputs, labels)\n",
    "            loss.backward()\n",
    "            optimizer.step()\n",
    "            \n",
    "            running_loss += loss.item()\n",
    "            _, predicted = torch.max(outputs.data, 1)\n",
    "            total_train += labels.size(0)\n",
    "            correct_train += (predicted == labels).sum().item()\n",
    "            \n",
    "            progress_bar.set_postfix({'Loss': running_loss / (total_train / batch_size), 'Accuracy': correct_train / total_train})\n",
    "        \n",
    "        avg_train_loss = running_loss / len(train_loader)\n",
    "        train_accuracy = correct_train / total_train\n",
    "        \n",
    "        val_loss, val_accuracy = evaluate_model(model, val_loader, criterion, device)\n",
    "        \n",
    "        train_losses.append(avg_train_loss)\n",
    "        val_losses.append(val_loss)\n",
    "        train_accuracies.append(train_accuracy)\n",
    "        val_accuracies.append(val_accuracy)\n",
    "        \n",
    "        print(f'Epoch [{epoch+1}/{num_epochs}], Train Loss: {avg_train_loss:.4f}, Train Accuracy: {train_accuracy:.4f}, Val Loss: {val_loss:.4f}, Val Accuracy: {val_accuracy:.4f}')\n",
    "    \n",
    "    return train_losses, val_losses, train_accuracies, val_accuracies\n",
    "\n",
    "# Set hyperparameters\n",
    "num_epochs = 50\n",
    "learning_rate = 1e-3\n",
    "\n",
    "# Define criterion and optimizer\n",
    "criterion = nn.CrossEntropyLoss()\n",
    "optimizer = optim.Adam(model.parameters(), lr=learning_rate)\n",
    "\n",
    "# Train the model\n",
    "train_losses, val_losses, train_accuracies, val_accuracies = train_model(model, train_loader, val_loader, criterion, optimizer, num_epochs, device)\n",
    "\n",
    "# Evaluate on test set\n",
    "test_loss, test_accuracy = evaluate_model(model, test_loader, criterion, device)\n",
    "print(f'Test Loss: {test_loss:.4f}, Test Accuracy: {test_accuracy:.4f}')\n",
    "\n",
    "# Plotting training and validation curves\n",
    "plt.figure(figsize=(12, 4))\n",
    "plt.subplot(1, 2, 1)\n",
    "plt.plot(train_losses, label='Train Loss')\n",
    "plt.plot(val_losses, label='Val Loss')\n",
    "plt.xlabel('Epoch')\n",
    "plt.ylabel('Loss')\n",
    "plt.title('Training and Validation Losses')\n",
    "plt.legend()\n",
    "\n",
    "plt.subplot(1, 2, 2)\n",
    "plt.plot(train_accuracies, label='Train Accuracy')\n",
    "plt.plot(val_accuracies, label='Val Accuracy')\n",
    "plt.xlabel('Epoch')\n",
    "plt.ylabel('Accuracy')\n",
    "plt.title('Training and Validation Accuracies')\n",
    "plt.legend()\n",
    "\n",
    "plt.tight_layout()\n",
    "plt.show()\n"
   ]
  },
  {
   "cell_type": "code",
   "execution_count": 6,
   "metadata": {},
   "outputs": [
    {
     "name": "stdout",
     "output_type": "stream",
     "text": [
      "Class Names: [12  6 11  5 10  0 14  7  2  9  8 13  1  3  4]\n"
     ]
    },
    {
     "name": "stderr",
     "output_type": "stream",
     "text": [
      "Epoch 1/50: 100%|██████████| 104/104 [00:28<00:00,  3.60it/s, Loss=2.36, Accuracy=0.202]\n"
     ]
    },
    {
     "name": "stdout",
     "output_type": "stream",
     "text": [
      "Epoch [1/50], Train Loss: 2.3373, Train Accuracy: 0.2019, Val Loss: 1.9536, Val Accuracy: 0.3574\n"
     ]
    },
    {
     "name": "stderr",
     "output_type": "stream",
     "text": [
      "Epoch 2/50: 100%|██████████| 104/104 [00:16<00:00,  6.18it/s, Loss=1.75, Accuracy=0.412]\n"
     ]
    },
    {
     "name": "stdout",
     "output_type": "stream",
     "text": [
      "Epoch [2/50], Train Loss: 1.7326, Train Accuracy: 0.4123, Val Loss: 1.8331, Val Accuracy: 0.4276\n"
     ]
    },
    {
     "name": "stderr",
     "output_type": "stream",
     "text": [
      "Epoch 3/50: 100%|██████████| 104/104 [00:16<00:00,  6.20it/s, Loss=1.34, Accuracy=0.542]\n"
     ]
    },
    {
     "name": "stdout",
     "output_type": "stream",
     "text": [
      "Epoch [3/50], Train Loss: 1.3291, Train Accuracy: 0.5421, Val Loss: 1.1087, Val Accuracy: 0.6311\n"
     ]
    },
    {
     "name": "stderr",
     "output_type": "stream",
     "text": [
      "Epoch 4/50: 100%|██████████| 104/104 [00:16<00:00,  6.30it/s, Loss=1.08, Accuracy=0.638]\n"
     ]
    },
    {
     "name": "stdout",
     "output_type": "stream",
     "text": [
      "Epoch [4/50], Train Loss: 1.0687, Train Accuracy: 0.6385, Val Loss: 1.0114, Val Accuracy: 0.6796\n"
     ]
    },
    {
     "name": "stderr",
     "output_type": "stream",
     "text": [
      "Epoch 5/50: 100%|██████████| 104/104 [00:16<00:00,  6.26it/s, Loss=0.894, Accuracy=0.705]\n"
     ]
    },
    {
     "name": "stdout",
     "output_type": "stream",
     "text": [
      "Epoch [5/50], Train Loss: 0.8874, Train Accuracy: 0.7048, Val Loss: 1.0358, Val Accuracy: 0.6638\n"
     ]
    },
    {
     "name": "stderr",
     "output_type": "stream",
     "text": [
      "Epoch 6/50: 100%|██████████| 104/104 [00:18<00:00,  5.61it/s, Loss=0.783, Accuracy=0.746]\n"
     ]
    },
    {
     "name": "stdout",
     "output_type": "stream",
     "text": [
      "Epoch [6/50], Train Loss: 0.7768, Train Accuracy: 0.7464, Val Loss: 0.6508, Val Accuracy: 0.7844\n"
     ]
    },
    {
     "name": "stderr",
     "output_type": "stream",
     "text": [
      "Epoch 7/50: 100%|██████████| 104/104 [00:16<00:00,  6.23it/s, Loss=0.659, Accuracy=0.787]\n"
     ]
    },
    {
     "name": "stdout",
     "output_type": "stream",
     "text": [
      "Epoch [7/50], Train Loss: 0.6537, Train Accuracy: 0.7870, Val Loss: 0.7450, Val Accuracy: 0.7571\n"
     ]
    },
    {
     "name": "stderr",
     "output_type": "stream",
     "text": [
      "Epoch 8/50: 100%|██████████| 104/104 [00:14<00:00,  7.17it/s, Loss=0.596, Accuracy=0.805]\n"
     ]
    },
    {
     "name": "stdout",
     "output_type": "stream",
     "text": [
      "Epoch [8/50], Train Loss: 0.5911, Train Accuracy: 0.8055, Val Loss: 0.8101, Val Accuracy: 0.7462\n"
     ]
    },
    {
     "name": "stderr",
     "output_type": "stream",
     "text": [
      "Epoch 9/50: 100%|██████████| 104/104 [00:16<00:00,  6.42it/s, Loss=0.542, Accuracy=0.826]\n"
     ]
    },
    {
     "name": "stdout",
     "output_type": "stream",
     "text": [
      "Epoch [9/50], Train Loss: 0.5381, Train Accuracy: 0.8262, Val Loss: 0.6655, Val Accuracy: 0.7947\n"
     ]
    },
    {
     "name": "stderr",
     "output_type": "stream",
     "text": [
      "Epoch 10/50: 100%|██████████| 104/104 [00:15<00:00,  6.71it/s, Loss=0.493, Accuracy=0.842]\n"
     ]
    },
    {
     "name": "stdout",
     "output_type": "stream",
     "text": [
      "Epoch [10/50], Train Loss: 0.4894, Train Accuracy: 0.8420, Val Loss: 0.5999, Val Accuracy: 0.8159\n"
     ]
    },
    {
     "name": "stderr",
     "output_type": "stream",
     "text": [
      "Epoch 11/50: 100%|██████████| 104/104 [00:14<00:00,  7.15it/s, Loss=0.429, Accuracy=0.862]\n"
     ]
    },
    {
     "name": "stdout",
     "output_type": "stream",
     "text": [
      "Epoch [11/50], Train Loss: 0.4261, Train Accuracy: 0.8615, Val Loss: 0.5966, Val Accuracy: 0.8128\n"
     ]
    },
    {
     "name": "stderr",
     "output_type": "stream",
     "text": [
      "Epoch 12/50: 100%|██████████| 104/104 [00:15<00:00,  6.68it/s, Loss=0.416, Accuracy=0.867]\n"
     ]
    },
    {
     "name": "stdout",
     "output_type": "stream",
     "text": [
      "Epoch [12/50], Train Loss: 0.4131, Train Accuracy: 0.8674, Val Loss: 0.6337, Val Accuracy: 0.8207\n"
     ]
    },
    {
     "name": "stderr",
     "output_type": "stream",
     "text": [
      "Epoch 13/50: 100%|██████████| 104/104 [00:16<00:00,  6.33it/s, Loss=0.373, Accuracy=0.878]\n"
     ]
    },
    {
     "name": "stdout",
     "output_type": "stream",
     "text": [
      "Epoch [13/50], Train Loss: 0.3700, Train Accuracy: 0.8785, Val Loss: 0.6350, Val Accuracy: 0.8153\n"
     ]
    },
    {
     "name": "stderr",
     "output_type": "stream",
     "text": [
      "Epoch 14/50: 100%|██████████| 104/104 [00:18<00:00,  5.50it/s, Loss=0.382, Accuracy=0.878]\n"
     ]
    },
    {
     "name": "stdout",
     "output_type": "stream",
     "text": [
      "Epoch [14/50], Train Loss: 0.3793, Train Accuracy: 0.8778, Val Loss: 0.6071, Val Accuracy: 0.8534\n"
     ]
    },
    {
     "name": "stderr",
     "output_type": "stream",
     "text": [
      "Epoch 15/50: 100%|██████████| 104/104 [00:16<00:00,  6.45it/s, Loss=0.327, Accuracy=0.897]\n"
     ]
    },
    {
     "name": "stdout",
     "output_type": "stream",
     "text": [
      "Epoch [15/50], Train Loss: 0.3246, Train Accuracy: 0.8967, Val Loss: 0.4960, Val Accuracy: 0.8637\n"
     ]
    },
    {
     "name": "stderr",
     "output_type": "stream",
     "text": [
      "Epoch 16/50: 100%|██████████| 104/104 [00:15<00:00,  6.60it/s, Loss=0.259, Accuracy=0.914]\n"
     ]
    },
    {
     "name": "stdout",
     "output_type": "stream",
     "text": [
      "Epoch [16/50], Train Loss: 0.2572, Train Accuracy: 0.9136, Val Loss: 0.6652, Val Accuracy: 0.8395\n"
     ]
    },
    {
     "name": "stderr",
     "output_type": "stream",
     "text": [
      "Epoch 17/50: 100%|██████████| 104/104 [00:15<00:00,  6.70it/s, Loss=0.287, Accuracy=0.912]\n"
     ]
    },
    {
     "name": "stdout",
     "output_type": "stream",
     "text": [
      "Epoch [17/50], Train Loss: 0.2848, Train Accuracy: 0.9116, Val Loss: 0.4877, Val Accuracy: 0.8583\n"
     ]
    },
    {
     "name": "stderr",
     "output_type": "stream",
     "text": [
      "Epoch 18/50: 100%|██████████| 104/104 [00:15<00:00,  6.78it/s, Loss=0.29, Accuracy=0.906] \n"
     ]
    },
    {
     "name": "stdout",
     "output_type": "stream",
     "text": [
      "Epoch [18/50], Train Loss: 0.2881, Train Accuracy: 0.9060, Val Loss: 0.4474, Val Accuracy: 0.8770\n"
     ]
    },
    {
     "name": "stderr",
     "output_type": "stream",
     "text": [
      "Epoch 19/50: 100%|██████████| 104/104 [00:16<00:00,  6.33it/s, Loss=0.246, Accuracy=0.922]\n"
     ]
    },
    {
     "name": "stdout",
     "output_type": "stream",
     "text": [
      "Epoch [19/50], Train Loss: 0.2445, Train Accuracy: 0.9225, Val Loss: 0.5088, Val Accuracy: 0.8528\n"
     ]
    },
    {
     "name": "stderr",
     "output_type": "stream",
     "text": [
      "Epoch 20/50: 100%|██████████| 104/104 [00:15<00:00,  6.78it/s, Loss=0.251, Accuracy=0.919]\n"
     ]
    },
    {
     "name": "stdout",
     "output_type": "stream",
     "text": [
      "Epoch [20/50], Train Loss: 0.2486, Train Accuracy: 0.9193, Val Loss: 0.5551, Val Accuracy: 0.8577\n"
     ]
    },
    {
     "name": "stderr",
     "output_type": "stream",
     "text": [
      "Epoch 21/50: 100%|██████████| 104/104 [00:15<00:00,  6.58it/s, Loss=0.215, Accuracy=0.931]\n"
     ]
    },
    {
     "name": "stdout",
     "output_type": "stream",
     "text": [
      "Epoch [21/50], Train Loss: 0.2138, Train Accuracy: 0.9311, Val Loss: 0.5285, Val Accuracy: 0.8601\n"
     ]
    },
    {
     "name": "stderr",
     "output_type": "stream",
     "text": [
      "Epoch 22/50: 100%|██████████| 104/104 [00:15<00:00,  6.63it/s, Loss=0.224, Accuracy=0.927]\n"
     ]
    },
    {
     "name": "stdout",
     "output_type": "stream",
     "text": [
      "Epoch [22/50], Train Loss: 0.2223, Train Accuracy: 0.9272, Val Loss: 0.5991, Val Accuracy: 0.8698\n"
     ]
    },
    {
     "name": "stderr",
     "output_type": "stream",
     "text": [
      "Epoch 23/50: 100%|██████████| 104/104 [00:17<00:00,  5.97it/s, Loss=0.208, Accuracy=0.935]\n"
     ]
    },
    {
     "name": "stdout",
     "output_type": "stream",
     "text": [
      "Epoch [23/50], Train Loss: 0.2061, Train Accuracy: 0.9353, Val Loss: 0.5569, Val Accuracy: 0.8631\n"
     ]
    },
    {
     "name": "stderr",
     "output_type": "stream",
     "text": [
      "Epoch 24/50: 100%|██████████| 104/104 [00:15<00:00,  6.58it/s, Loss=0.16, Accuracy=0.951]\n"
     ]
    },
    {
     "name": "stdout",
     "output_type": "stream",
     "text": [
      "Epoch [24/50], Train Loss: 0.1583, Train Accuracy: 0.9506, Val Loss: 0.5667, Val Accuracy: 0.8583\n"
     ]
    },
    {
     "name": "stderr",
     "output_type": "stream",
     "text": [
      "Epoch 25/50: 100%|██████████| 104/104 [00:15<00:00,  6.60it/s, Loss=0.193, Accuracy=0.943]\n"
     ]
    },
    {
     "name": "stdout",
     "output_type": "stream",
     "text": [
      "Epoch [25/50], Train Loss: 0.1915, Train Accuracy: 0.9425, Val Loss: 0.5505, Val Accuracy: 0.8498\n"
     ]
    },
    {
     "name": "stderr",
     "output_type": "stream",
     "text": [
      "Epoch 26/50: 100%|██████████| 104/104 [00:16<00:00,  6.33it/s, Loss=0.217, Accuracy=0.936]\n"
     ]
    },
    {
     "name": "stdout",
     "output_type": "stream",
     "text": [
      "Epoch [26/50], Train Loss: 0.2151, Train Accuracy: 0.9356, Val Loss: 0.5773, Val Accuracy: 0.8649\n"
     ]
    },
    {
     "name": "stderr",
     "output_type": "stream",
     "text": [
      "Epoch 27/50: 100%|██████████| 104/104 [00:18<00:00,  5.71it/s, Loss=0.161, Accuracy=0.951]\n"
     ]
    },
    {
     "name": "stdout",
     "output_type": "stream",
     "text": [
      "Epoch [27/50], Train Loss: 0.1599, Train Accuracy: 0.9509, Val Loss: 0.5815, Val Accuracy: 0.8667\n"
     ]
    },
    {
     "name": "stderr",
     "output_type": "stream",
     "text": [
      "Epoch 28/50: 100%|██████████| 104/104 [00:18<00:00,  5.51it/s, Loss=0.183, Accuracy=0.943]\n"
     ]
    },
    {
     "name": "stdout",
     "output_type": "stream",
     "text": [
      "Epoch [28/50], Train Loss: 0.1812, Train Accuracy: 0.9429, Val Loss: 0.5109, Val Accuracy: 0.8740\n"
     ]
    },
    {
     "name": "stderr",
     "output_type": "stream",
     "text": [
      "Epoch 29/50: 100%|██████████| 104/104 [00:17<00:00,  5.88it/s, Loss=0.208, Accuracy=0.936]\n"
     ]
    },
    {
     "name": "stdout",
     "output_type": "stream",
     "text": [
      "Epoch [29/50], Train Loss: 0.2062, Train Accuracy: 0.9357, Val Loss: 0.4888, Val Accuracy: 0.8655\n"
     ]
    },
    {
     "name": "stderr",
     "output_type": "stream",
     "text": [
      "Epoch 30/50: 100%|██████████| 104/104 [00:16<00:00,  6.19it/s, Loss=0.176, Accuracy=0.947]\n"
     ]
    },
    {
     "name": "stdout",
     "output_type": "stream",
     "text": [
      "Epoch [30/50], Train Loss: 0.1744, Train Accuracy: 0.9467, Val Loss: 0.5443, Val Accuracy: 0.8643\n"
     ]
    },
    {
     "name": "stderr",
     "output_type": "stream",
     "text": [
      "Epoch 31/50: 100%|██████████| 104/104 [00:16<00:00,  6.26it/s, Loss=0.183, Accuracy=0.946]\n"
     ]
    },
    {
     "name": "stdout",
     "output_type": "stream",
     "text": [
      "Epoch [31/50], Train Loss: 0.1817, Train Accuracy: 0.9462, Val Loss: 0.6850, Val Accuracy: 0.8443\n"
     ]
    },
    {
     "name": "stderr",
     "output_type": "stream",
     "text": [
      "Epoch 32/50: 100%|██████████| 104/104 [00:17<00:00,  6.07it/s, Loss=0.155, Accuracy=0.953]\n"
     ]
    },
    {
     "name": "stdout",
     "output_type": "stream",
     "text": [
      "Epoch [32/50], Train Loss: 0.1541, Train Accuracy: 0.9528, Val Loss: 0.6175, Val Accuracy: 0.8583\n"
     ]
    },
    {
     "name": "stderr",
     "output_type": "stream",
     "text": [
      "Epoch 33/50: 100%|██████████| 104/104 [00:18<00:00,  5.60it/s, Loss=0.22, Accuracy=0.94] \n"
     ]
    },
    {
     "name": "stdout",
     "output_type": "stream",
     "text": [
      "Epoch [33/50], Train Loss: 0.2185, Train Accuracy: 0.9403, Val Loss: 0.5629, Val Accuracy: 0.8625\n"
     ]
    },
    {
     "name": "stderr",
     "output_type": "stream",
     "text": [
      "Epoch 34/50: 100%|██████████| 104/104 [00:17<00:00,  5.93it/s, Loss=0.119, Accuracy=0.964]\n"
     ]
    },
    {
     "name": "stdout",
     "output_type": "stream",
     "text": [
      "Epoch [34/50], Train Loss: 0.1185, Train Accuracy: 0.9636, Val Loss: 0.6046, Val Accuracy: 0.8813\n"
     ]
    },
    {
     "name": "stderr",
     "output_type": "stream",
     "text": [
      "Epoch 35/50: 100%|██████████| 104/104 [00:18<00:00,  5.56it/s, Loss=0.121, Accuracy=0.963]\n"
     ]
    },
    {
     "name": "stdout",
     "output_type": "stream",
     "text": [
      "Epoch [35/50], Train Loss: 0.1198, Train Accuracy: 0.9632, Val Loss: 0.5602, Val Accuracy: 0.8776\n"
     ]
    },
    {
     "name": "stderr",
     "output_type": "stream",
     "text": [
      "Epoch 36/50: 100%|██████████| 104/104 [00:24<00:00,  4.31it/s, Loss=0.112, Accuracy=0.968]\n"
     ]
    },
    {
     "name": "stdout",
     "output_type": "stream",
     "text": [
      "Epoch [36/50], Train Loss: 0.1108, Train Accuracy: 0.9676, Val Loss: 0.8026, Val Accuracy: 0.8510\n"
     ]
    },
    {
     "name": "stderr",
     "output_type": "stream",
     "text": [
      "Epoch 37/50: 100%|██████████| 104/104 [00:23<00:00,  4.36it/s, Loss=0.167, Accuracy=0.951]\n"
     ]
    },
    {
     "name": "stdout",
     "output_type": "stream",
     "text": [
      "Epoch [37/50], Train Loss: 0.1661, Train Accuracy: 0.9507, Val Loss: 0.5678, Val Accuracy: 0.8752\n"
     ]
    },
    {
     "name": "stderr",
     "output_type": "stream",
     "text": [
      "Epoch 38/50: 100%|██████████| 104/104 [00:22<00:00,  4.57it/s, Loss=0.126, Accuracy=0.962]\n"
     ]
    },
    {
     "name": "stdout",
     "output_type": "stream",
     "text": [
      "Epoch [38/50], Train Loss: 0.1254, Train Accuracy: 0.9618, Val Loss: 0.6044, Val Accuracy: 0.8722\n"
     ]
    },
    {
     "name": "stderr",
     "output_type": "stream",
     "text": [
      "Epoch 39/50: 100%|██████████| 104/104 [00:24<00:00,  4.30it/s, Loss=0.139, Accuracy=0.959]\n"
     ]
    },
    {
     "name": "stdout",
     "output_type": "stream",
     "text": [
      "Epoch [39/50], Train Loss: 0.1378, Train Accuracy: 0.9593, Val Loss: 0.5371, Val Accuracy: 0.8758\n"
     ]
    },
    {
     "name": "stderr",
     "output_type": "stream",
     "text": [
      "Epoch 40/50: 100%|██████████| 104/104 [00:23<00:00,  4.44it/s, Loss=0.132, Accuracy=0.96]\n"
     ]
    },
    {
     "name": "stdout",
     "output_type": "stream",
     "text": [
      "Epoch [40/50], Train Loss: 0.1309, Train Accuracy: 0.9604, Val Loss: 0.5290, Val Accuracy: 0.8867\n"
     ]
    },
    {
     "name": "stderr",
     "output_type": "stream",
     "text": [
      "Epoch 41/50: 100%|██████████| 104/104 [00:22<00:00,  4.56it/s, Loss=0.13, Accuracy=0.964] \n"
     ]
    },
    {
     "name": "stdout",
     "output_type": "stream",
     "text": [
      "Epoch [41/50], Train Loss: 0.1293, Train Accuracy: 0.9640, Val Loss: 0.8437, Val Accuracy: 0.8340\n"
     ]
    },
    {
     "name": "stderr",
     "output_type": "stream",
     "text": [
      "Epoch 42/50: 100%|██████████| 104/104 [00:22<00:00,  4.63it/s, Loss=0.198, Accuracy=0.947]\n"
     ]
    },
    {
     "name": "stdout",
     "output_type": "stream",
     "text": [
      "Epoch [42/50], Train Loss: 0.1968, Train Accuracy: 0.9471, Val Loss: 0.6141, Val Accuracy: 0.8643\n"
     ]
    },
    {
     "name": "stderr",
     "output_type": "stream",
     "text": [
      "Epoch 43/50: 100%|██████████| 104/104 [00:22<00:00,  4.54it/s, Loss=0.103, Accuracy=0.971]\n"
     ]
    },
    {
     "name": "stdout",
     "output_type": "stream",
     "text": [
      "Epoch [43/50], Train Loss: 0.1020, Train Accuracy: 0.9711, Val Loss: 0.5622, Val Accuracy: 0.8934\n"
     ]
    },
    {
     "name": "stderr",
     "output_type": "stream",
     "text": [
      "Epoch 44/50: 100%|██████████| 104/104 [00:20<00:00,  4.99it/s, Loss=0.117, Accuracy=0.965]\n"
     ]
    },
    {
     "name": "stdout",
     "output_type": "stream",
     "text": [
      "Epoch [44/50], Train Loss: 0.1164, Train Accuracy: 0.9654, Val Loss: 0.5418, Val Accuracy: 0.8886\n"
     ]
    },
    {
     "name": "stderr",
     "output_type": "stream",
     "text": [
      "Epoch 45/50: 100%|██████████| 104/104 [00:21<00:00,  4.92it/s, Loss=0.131, Accuracy=0.964]\n"
     ]
    },
    {
     "name": "stdout",
     "output_type": "stream",
     "text": [
      "Epoch [45/50], Train Loss: 0.1298, Train Accuracy: 0.9639, Val Loss: 0.5862, Val Accuracy: 0.8807\n"
     ]
    },
    {
     "name": "stderr",
     "output_type": "stream",
     "text": [
      "Epoch 46/50: 100%|██████████| 104/104 [00:22<00:00,  4.69it/s, Loss=0.127, Accuracy=0.962]\n"
     ]
    },
    {
     "name": "stdout",
     "output_type": "stream",
     "text": [
      "Epoch [46/50], Train Loss: 0.1256, Train Accuracy: 0.9619, Val Loss: 0.5850, Val Accuracy: 0.8764\n"
     ]
    },
    {
     "name": "stderr",
     "output_type": "stream",
     "text": [
      "Epoch 47/50: 100%|██████████| 104/104 [00:21<00:00,  4.89it/s, Loss=0.159, Accuracy=0.956]\n"
     ]
    },
    {
     "name": "stdout",
     "output_type": "stream",
     "text": [
      "Epoch [47/50], Train Loss: 0.1579, Train Accuracy: 0.9562, Val Loss: 0.5647, Val Accuracy: 0.8546\n"
     ]
    },
    {
     "name": "stderr",
     "output_type": "stream",
     "text": [
      "Epoch 48/50: 100%|██████████| 104/104 [00:20<00:00,  4.99it/s, Loss=0.131, Accuracy=0.962]\n"
     ]
    },
    {
     "name": "stdout",
     "output_type": "stream",
     "text": [
      "Epoch [48/50], Train Loss: 0.1300, Train Accuracy: 0.9620, Val Loss: 0.7447, Val Accuracy: 0.8680\n"
     ]
    },
    {
     "name": "stderr",
     "output_type": "stream",
     "text": [
      "Epoch 49/50: 100%|██████████| 104/104 [00:21<00:00,  4.89it/s, Loss=0.136, Accuracy=0.964]\n"
     ]
    },
    {
     "name": "stdout",
     "output_type": "stream",
     "text": [
      "Epoch [49/50], Train Loss: 0.1348, Train Accuracy: 0.9643, Val Loss: 0.6905, Val Accuracy: 0.8504\n"
     ]
    },
    {
     "name": "stderr",
     "output_type": "stream",
     "text": [
      "Epoch 50/50: 100%|██████████| 104/104 [00:20<00:00,  5.07it/s, Loss=0.112, Accuracy=0.969]\n"
     ]
    },
    {
     "name": "stdout",
     "output_type": "stream",
     "text": [
      "Epoch [50/50], Train Loss: 0.1112, Train Accuracy: 0.9690, Val Loss: 0.5588, Val Accuracy: 0.8752\n",
      "Test Loss: 0.5195, Test Accuracy: 0.8867\n"
     ]
    },
    {
     "data": {
      "image/png": "[encoded data removed]",
      "text/plain": [
       "<Figure size 1200x400 with 2 Axes>"
      ]
     },
     "metadata": {},
     "output_type": "display_data"
    }
   ],
   "source": [
    "import torch\n",
    "import torch.nn as nn\n",
    "import torch.optim as optim\n",
    "from torch.utils.data import DataLoader, Dataset\n",
    "from torchvision import transforms\n",
    "from tqdm import tqdm\n",
    "import pandas as pd\n",
    "from PIL import Image\n",
    "import os\n",
    "from sklearn.model_selection import train_test_split\n",
    "import matplotlib.pyplot as plt\n",
    "\n",
    "# Check if GPU is available and set device\n",
    "device = torch.device(\"cuda\" if torch.cuda.is_available() else \"cpu\")\n",
    "\n",
    "# Define data transforms with 64x64 image size\n",
    "transform = transforms.Compose([\n",
    "    transforms.Resize((64, 64)),  # Resize to 64x64\n",
    "    transforms.ToTensor(),\n",
    "    transforms.Normalize(mean=[0.485, 0.456, 0.406], std=[0.229, 0.224, 0.225])\n",
    "])\n",
    "\n",
    "# Define the directory path\n",
    "data_dir = r\"C:\\Users\\user\\Desktop\\plant\\boc\"\n",
    "\n",
    "# Load one CSV file\n",
    "csv_file = 'fold_3_train.csv'\n",
    "\n",
    "# Define a custom dataset class for CSV loading\n",
    "class CustomDataset(Dataset):\n",
    "    def __init__(self, csv_file, root_dir, transform=None):\n",
    "        self.data = pd.read_csv(csv_file)\n",
    "        self.root_dir = root_dir\n",
    "        self.transform = transform\n",
    "\n",
    "    def __len__(self):\n",
    "        return len(self.data)\n",
    "\n",
    "    def __getitem__(self, idx):\n",
    "        try:\n",
    "            img_name = os.path.join(self.root_dir, str(self.data.iloc[idx, 0]))  # Access image_path using index 0\n",
    "            image = Image.open(img_name).convert('RGB')  # Ensure images are in RGB mode\n",
    "            label = self.data.iloc[idx, 1]  # Access class_label using index 1\n",
    "        except Exception as e:\n",
    "            print(f\"Error accessing image at index {idx}: {e}\")\n",
    "            return None\n",
    "\n",
    "        if self.transform:\n",
    "            image = self.transform(image)\n",
    "\n",
    "        return image, label\n",
    "\n",
    "# Load the dataset using CustomDataset\n",
    "dataset = CustomDataset(csv_file=os.path.join(data_dir, csv_file), root_dir=data_dir, transform=transform)\n",
    "\n",
    "# Split dataset into train, validation, and test sets\n",
    "train_size = 0.8\n",
    "val_size = 0.1\n",
    "test_size = 1 - train_size - val_size\n",
    "\n",
    "train_dataset, temp_dataset = train_test_split(dataset, test_size=1 - train_size, random_state=42)\n",
    "val_dataset, test_dataset = train_test_split(temp_dataset, test_size=test_size / (val_size + test_size), random_state=42)\n",
    "\n",
    "# Create data loaders for each set\n",
    "batch_size = 128\n",
    "train_loader = DataLoader(train_dataset, batch_size=batch_size, shuffle=True, num_workers=4, pin_memory=True)\n",
    "val_loader = DataLoader(val_dataset, batch_size=batch_size, shuffle=False, num_workers=4, pin_memory=True)\n",
    "test_loader = DataLoader(test_dataset, batch_size=batch_size, shuffle=False, num_workers=4, pin_memory=True)\n",
    "\n",
    "\n",
    "\n",
    "# Print class names (assuming it's available in the dataset)\n",
    "print(\"Class Names:\", pd.Series([data[1] for data in train_dataset]).unique())\n",
    "\n",
    "# Define the model architecture\n",
    "class AlexNet(nn.Module):\n",
    "    def __init__(self, num_classes=15):\n",
    "        super(AlexNet, self).__init__()\n",
    "        self.features = nn.Sequential(\n",
    "            nn.Conv2d(3, 64, kernel_size=11, stride=4, padding=2),\n",
    "            nn.ReLU(inplace=True),\n",
    "            nn.MaxPool2d(kernel_size=3, stride=2),\n",
    "            nn.Conv2d(64, 192, kernel_size=5, padding=2),\n",
    "            nn.ReLU(inplace=True),\n",
    "            nn.MaxPool2d(kernel_size=3, stride=2),\n",
    "            nn.Conv2d(192, 384, kernel_size=3, padding=1),\n",
    "            nn.ReLU(inplace=True),\n",
    "            nn.Conv2d(384, 256, kernel_size=3, padding=1),\n",
    "            nn.ReLU(inplace=True),\n",
    "            nn.Conv2d(256, 256, kernel_size=3, padding=1),\n",
    "            nn.ReLU(inplace=True),\n",
    "            nn.MaxPool2d(kernel_size=3, stride=2),\n",
    "        )\n",
    "        self.avgpool = nn.AdaptiveAvgPool2d((6, 6))\n",
    "        self.classifier = nn.Sequential(\n",
    "            nn.Dropout(),\n",
    "            nn.Linear(256 * 6 * 6, 4096),\n",
    "            nn.ReLU(inplace=True),\n",
    "            nn.Dropout(),\n",
    "            nn.Linear(4096, 4096),\n",
    "            nn.ReLU(inplace=True),\n",
    "            nn.Linear(4096, num_classes),\n",
    "        )\n",
    "\n",
    "    def forward(self, x):\n",
    "        x = self.features(x)\n",
    "        x = self.avgpool(x)\n",
    "        x = torch.flatten(x, 1)\n",
    "        x = self.classifier(x)\n",
    "        return x\n",
    "\n",
    "# Instantiate the model\n",
    "model = AlexNet(num_classes=15).to(device)\n",
    "\n",
    "# Function to evaluate the model\n",
    "def evaluate_model(model, data_loader, criterion, device):\n",
    "    model.eval()\n",
    "    loss = 0.0\n",
    "    correct = 0\n",
    "    total = 0\n",
    "    with torch.no_grad():\n",
    "        for images, labels in data_loader:\n",
    "            images, labels = images.to(device), labels.to(device)\n",
    "            outputs = model(images)\n",
    "            loss += criterion(outputs, labels).item()\n",
    "            _, predicted = torch.max(outputs.data, 1)\n",
    "            total += labels.size(0)\n",
    "            correct += (predicted == labels).sum().item()\n",
    "    \n",
    "    avg_loss = loss / len(data_loader)\n",
    "    accuracy = correct / total\n",
    "    return avg_loss, accuracy\n",
    "\n",
    "# Function to train the model\n",
    "def train_model(model, train_loader, val_loader, criterion, optimizer, num_epochs, device):\n",
    "    train_losses = []\n",
    "    val_losses = []\n",
    "    train_accuracies = []\n",
    "    val_accuracies = []\n",
    "    \n",
    "    for epoch in range(num_epochs):\n",
    "        model.train()\n",
    "        running_loss = 0.0\n",
    "        correct_train = 0\n",
    "        total_train = 0\n",
    "        \n",
    "        # Use tqdm for progress display\n",
    "        progress_bar = tqdm(train_loader, desc=f'Epoch {epoch+1}/{num_epochs}')\n",
    "        \n",
    "        for images, labels in progress_bar:\n",
    "            images, labels = images.to(device), labels.to(device)\n",
    "            \n",
    "            optimizer.zero_grad()\n",
    "            outputs = model(images)\n",
    "            loss = criterion(outputs, labels)\n",
    "            loss.backward()\n",
    "            optimizer.step()\n",
    "            \n",
    "            running_loss += loss.item()\n",
    "            _, predicted = torch.max(outputs.data, 1)\n",
    "            total_train += labels.size(0)\n",
    "            correct_train += (predicted == labels).sum().item()\n",
    "            \n",
    "            progress_bar.set_postfix({'Loss': running_loss / (total_train / batch_size), 'Accuracy': correct_train / total_train})\n",
    "        \n",
    "        avg_train_loss = running_loss / len(train_loader)\n",
    "        train_accuracy = correct_train / total_train\n",
    "        \n",
    "        val_loss, val_accuracy = evaluate_model(model, val_loader, criterion, device)\n",
    "        \n",
    "        train_losses.append(avg_train_loss)\n",
    "        val_losses.append(val_loss)\n",
    "        train_accuracies.append(train_accuracy)\n",
    "        val_accuracies.append(val_accuracy)\n",
    "        \n",
    "        print(f'Epoch [{epoch+1}/{num_epochs}], Train Loss: {avg_train_loss:.4f}, Train Accuracy: {train_accuracy:.4f}, Val Loss: {val_loss:.4f}, Val Accuracy: {val_accuracy:.4f}')\n",
    "    \n",
    "    return train_losses, val_losses, train_accuracies, val_accuracies\n",
    "\n",
    "# Set hyperparameters\n",
    "num_epochs = 50\n",
    "learning_rate = 1e-3\n",
    "\n",
    "# Define criterion and optimizer\n",
    "criterion = nn.CrossEntropyLoss()\n",
    "optimizer = optim.Adam(model.parameters(), lr=learning_rate)\n",
    "\n",
    "# Train the model\n",
    "train_losses, val_losses, train_accuracies, val_accuracies = train_model(model, train_loader, val_loader, criterion, optimizer, num_epochs, device)\n",
    "\n",
    "# Evaluate on test set\n",
    "test_loss, test_accuracy = evaluate_model(model, test_loader, criterion, device)\n",
    "print(f'Test Loss: {test_loss:.4f}, Test Accuracy: {test_accuracy:.4f}')\n",
    "\n",
    "# Plotting training and validation curves\n",
    "plt.figure(figsize=(12, 4))\n",
    "plt.subplot(1, 2, 1)\n",
    "plt.plot(train_losses, label='Train Loss')\n",
    "plt.plot(val_losses, label='Val Loss')\n",
    "plt.xlabel('Epoch')\n",
    "plt.ylabel('Loss')\n",
    "plt.title('Training and Validation Losses')\n",
    "plt.legend()\n",
    "\n",
    "plt.subplot(1, 2, 2)\n",
    "plt.plot(train_accuracies, label='Train Accuracy')\n",
    "plt.plot(val_accuracies, label='Val Accuracy')\n",
    "plt.xlabel('Epoch')\n",
    "plt.ylabel('Accuracy')\n",
    "plt.title('Training and Validation Accuracies')\n",
    "plt.legend()\n",
    "\n",
    "plt.tight_layout()\n",
    "plt.show()\n"
   ]
  },
  {
   "cell_type": "code",
   "execution_count": 7,
   "metadata": {},
   "outputs": [
    {
     "name": "stdout",
     "output_type": "stream",
     "text": [
      "Class Names: [12  6 14  5  7  0 13  2 11  9  8  1 10  4  3]\n"
     ]
    },
    {
     "name": "stderr",
     "output_type": "stream",
     "text": [
      "Epoch 1/50: 100%|██████████| 104/104 [00:22<00:00,  4.60it/s, Loss=2.27, Accuracy=0.227]\n"
     ]
    },
    {
     "name": "stdout",
     "output_type": "stream",
     "text": [
      "Epoch [1/50], Train Loss: 2.2520, Train Accuracy: 0.2265, Val Loss: 1.7472, Val Accuracy: 0.3610\n"
     ]
    },
    {
     "name": "stderr",
     "output_type": "stream",
     "text": [
      "Epoch 2/50: 100%|██████████| 104/104 [00:17<00:00,  5.99it/s, Loss=1.54, Accuracy=0.459]\n"
     ]
    },
    {
     "name": "stdout",
     "output_type": "stream",
     "text": [
      "Epoch [2/50], Train Loss: 1.5294, Train Accuracy: 0.4592, Val Loss: 1.4545, Val Accuracy: 0.5239\n"
     ]
    },
    {
     "name": "stderr",
     "output_type": "stream",
     "text": [
      "Epoch 3/50: 100%|██████████| 104/104 [00:16<00:00,  6.17it/s, Loss=1.2, Accuracy=0.593]\n"
     ]
    },
    {
     "name": "stdout",
     "output_type": "stream",
     "text": [
      "Epoch [3/50], Train Loss: 1.1935, Train Accuracy: 0.5934, Val Loss: 1.0798, Val Accuracy: 0.6414\n"
     ]
    },
    {
     "name": "stderr",
     "output_type": "stream",
     "text": [
      "Epoch 4/50: 100%|██████████| 104/104 [00:19<00:00,  5.31it/s, Loss=0.942, Accuracy=0.694]\n"
     ]
    },
    {
     "name": "stdout",
     "output_type": "stream",
     "text": [
      "Epoch [4/50], Train Loss: 0.9349, Train Accuracy: 0.6938, Val Loss: 1.0181, Val Accuracy: 0.6590\n"
     ]
    },
    {
     "name": "stderr",
     "output_type": "stream",
     "text": [
      "Epoch 5/50: 100%|██████████| 104/104 [00:17<00:00,  6.01it/s, Loss=0.758, Accuracy=0.756]\n"
     ]
    },
    {
     "name": "stdout",
     "output_type": "stream",
     "text": [
      "Epoch [5/50], Train Loss: 0.7518, Train Accuracy: 0.7555, Val Loss: 0.8901, Val Accuracy: 0.7177\n"
     ]
    },
    {
     "name": "stderr",
     "output_type": "stream",
     "text": [
      "Epoch 6/50: 100%|██████████| 104/104 [00:17<00:00,  5.94it/s, Loss=0.655, Accuracy=0.79] \n"
     ]
    },
    {
     "name": "stdout",
     "output_type": "stream",
     "text": [
      "Epoch [6/50], Train Loss: 0.6501, Train Accuracy: 0.7900, Val Loss: 0.7161, Val Accuracy: 0.7668\n"
     ]
    },
    {
     "name": "stderr",
     "output_type": "stream",
     "text": [
      "Epoch 7/50: 100%|██████████| 104/104 [00:15<00:00,  6.55it/s, Loss=0.535, Accuracy=0.82] \n"
     ]
    },
    {
     "name": "stdout",
     "output_type": "stream",
     "text": [
      "Epoch [7/50], Train Loss: 0.5309, Train Accuracy: 0.8205, Val Loss: 0.6582, Val Accuracy: 0.7983\n"
     ]
    },
    {
     "name": "stderr",
     "output_type": "stream",
     "text": [
      "Epoch 8/50: 100%|██████████| 104/104 [00:17<00:00,  5.92it/s, Loss=0.491, Accuracy=0.839]\n"
     ]
    },
    {
     "name": "stdout",
     "output_type": "stream",
     "text": [
      "Epoch [8/50], Train Loss: 0.4870, Train Accuracy: 0.8387, Val Loss: 0.7109, Val Accuracy: 0.7820\n"
     ]
    },
    {
     "name": "stderr",
     "output_type": "stream",
     "text": [
      "Epoch 9/50: 100%|██████████| 104/104 [00:17<00:00,  5.89it/s, Loss=0.458, Accuracy=0.854]\n"
     ]
    },
    {
     "name": "stdout",
     "output_type": "stream",
     "text": [
      "Epoch [9/50], Train Loss: 0.4549, Train Accuracy: 0.8542, Val Loss: 0.6423, Val Accuracy: 0.8122\n"
     ]
    },
    {
     "name": "stderr",
     "output_type": "stream",
     "text": [
      "Epoch 10/50: 100%|██████████| 104/104 [00:17<00:00,  6.05it/s, Loss=0.418, Accuracy=0.864]\n"
     ]
    },
    {
     "name": "stdout",
     "output_type": "stream",
     "text": [
      "Epoch [10/50], Train Loss: 0.4144, Train Accuracy: 0.8639, Val Loss: 0.6184, Val Accuracy: 0.8177\n"
     ]
    },
    {
     "name": "stderr",
     "output_type": "stream",
     "text": [
      "Epoch 11/50: 100%|██████████| 104/104 [00:18<00:00,  5.77it/s, Loss=0.369, Accuracy=0.883]\n"
     ]
    },
    {
     "name": "stdout",
     "output_type": "stream",
     "text": [
      "Epoch [11/50], Train Loss: 0.3656, Train Accuracy: 0.8830, Val Loss: 0.5161, Val Accuracy: 0.8419\n"
     ]
    },
    {
     "name": "stderr",
     "output_type": "stream",
     "text": [
      "Epoch 12/50: 100%|██████████| 104/104 [00:20<00:00,  4.97it/s, Loss=0.352, Accuracy=0.889]\n"
     ]
    },
    {
     "name": "stdout",
     "output_type": "stream",
     "text": [
      "Epoch [12/50], Train Loss: 0.3496, Train Accuracy: 0.8889, Val Loss: 0.5962, Val Accuracy: 0.8128\n"
     ]
    },
    {
     "name": "stderr",
     "output_type": "stream",
     "text": [
      "Epoch 13/50: 100%|██████████| 104/104 [00:17<00:00,  5.98it/s, Loss=0.306, Accuracy=0.903]\n"
     ]
    },
    {
     "name": "stdout",
     "output_type": "stream",
     "text": [
      "Epoch [13/50], Train Loss: 0.3033, Train Accuracy: 0.9028, Val Loss: 0.4994, Val Accuracy: 0.8462\n"
     ]
    },
    {
     "name": "stderr",
     "output_type": "stream",
     "text": [
      "Epoch 14/50: 100%|██████████| 104/104 [00:19<00:00,  5.25it/s, Loss=0.294, Accuracy=0.905]\n"
     ]
    },
    {
     "name": "stdout",
     "output_type": "stream",
     "text": [
      "Epoch [14/50], Train Loss: 0.2915, Train Accuracy: 0.9052, Val Loss: 0.5314, Val Accuracy: 0.8443\n"
     ]
    },
    {
     "name": "stderr",
     "output_type": "stream",
     "text": [
      "Epoch 15/50: 100%|██████████| 104/104 [00:18<00:00,  5.71it/s, Loss=0.275, Accuracy=0.91]\n"
     ]
    },
    {
     "name": "stdout",
     "output_type": "stream",
     "text": [
      "Epoch [15/50], Train Loss: 0.2733, Train Accuracy: 0.9096, Val Loss: 0.5811, Val Accuracy: 0.8334\n"
     ]
    },
    {
     "name": "stderr",
     "output_type": "stream",
     "text": [
      "Epoch 16/50: 100%|██████████| 104/104 [00:17<00:00,  5.87it/s, Loss=0.242, Accuracy=0.921]\n"
     ]
    },
    {
     "name": "stdout",
     "output_type": "stream",
     "text": [
      "Epoch [16/50], Train Loss: 0.2397, Train Accuracy: 0.9209, Val Loss: 0.7130, Val Accuracy: 0.8383\n"
     ]
    },
    {
     "name": "stderr",
     "output_type": "stream",
     "text": [
      "Epoch 17/50: 100%|██████████| 104/104 [00:18<00:00,  5.61it/s, Loss=0.263, Accuracy=0.918]\n"
     ]
    },
    {
     "name": "stdout",
     "output_type": "stream",
     "text": [
      "Epoch [17/50], Train Loss: 0.2605, Train Accuracy: 0.9178, Val Loss: 0.5853, Val Accuracy: 0.8437\n"
     ]
    },
    {
     "name": "stderr",
     "output_type": "stream",
     "text": [
      "Epoch 18/50: 100%|██████████| 104/104 [00:17<00:00,  5.87it/s, Loss=0.226, Accuracy=0.929]\n"
     ]
    },
    {
     "name": "stdout",
     "output_type": "stream",
     "text": [
      "Epoch [18/50], Train Loss: 0.2239, Train Accuracy: 0.9293, Val Loss: 0.5066, Val Accuracy: 0.8674\n"
     ]
    },
    {
     "name": "stderr",
     "output_type": "stream",
     "text": [
      "Epoch 19/50: 100%|██████████| 104/104 [00:17<00:00,  5.86it/s, Loss=0.222, Accuracy=0.931]\n"
     ]
    },
    {
     "name": "stdout",
     "output_type": "stream",
     "text": [
      "Epoch [19/50], Train Loss: 0.2207, Train Accuracy: 0.9310, Val Loss: 0.5189, Val Accuracy: 0.8558\n"
     ]
    },
    {
     "name": "stderr",
     "output_type": "stream",
     "text": [
      "Epoch 20/50: 100%|██████████| 104/104 [00:19<00:00,  5.24it/s, Loss=0.2, Accuracy=0.936] \n"
     ]
    },
    {
     "name": "stdout",
     "output_type": "stream",
     "text": [
      "Epoch [20/50], Train Loss: 0.1983, Train Accuracy: 0.9359, Val Loss: 0.5012, Val Accuracy: 0.8625\n"
     ]
    },
    {
     "name": "stderr",
     "output_type": "stream",
     "text": [
      "Epoch 21/50: 100%|██████████| 104/104 [00:18<00:00,  5.76it/s, Loss=0.222, Accuracy=0.932]\n"
     ]
    },
    {
     "name": "stdout",
     "output_type": "stream",
     "text": [
      "Epoch [21/50], Train Loss: 0.2206, Train Accuracy: 0.9320, Val Loss: 0.5875, Val Accuracy: 0.8455\n"
     ]
    },
    {
     "name": "stderr",
     "output_type": "stream",
     "text": [
      "Epoch 22/50: 100%|██████████| 104/104 [00:18<00:00,  5.73it/s, Loss=0.194, Accuracy=0.94]\n"
     ]
    },
    {
     "name": "stdout",
     "output_type": "stream",
     "text": [
      "Epoch [22/50], Train Loss: 0.1929, Train Accuracy: 0.9395, Val Loss: 0.5213, Val Accuracy: 0.8686\n"
     ]
    },
    {
     "name": "stderr",
     "output_type": "stream",
     "text": [
      "Epoch 23/50: 100%|██████████| 104/104 [00:17<00:00,  5.86it/s, Loss=0.195, Accuracy=0.937]\n"
     ]
    },
    {
     "name": "stdout",
     "output_type": "stream",
     "text": [
      "Epoch [23/50], Train Loss: 0.1931, Train Accuracy: 0.9372, Val Loss: 0.5521, Val Accuracy: 0.8522\n"
     ]
    },
    {
     "name": "stderr",
     "output_type": "stream",
     "text": [
      "Epoch 24/50: 100%|██████████| 104/104 [00:17<00:00,  5.87it/s, Loss=0.184, Accuracy=0.946]\n"
     ]
    },
    {
     "name": "stdout",
     "output_type": "stream",
     "text": [
      "Epoch [24/50], Train Loss: 0.1822, Train Accuracy: 0.9459, Val Loss: 0.5157, Val Accuracy: 0.8752\n"
     ]
    },
    {
     "name": "stderr",
     "output_type": "stream",
     "text": [
      "Epoch 25/50: 100%|██████████| 104/104 [00:21<00:00,  4.94it/s, Loss=0.152, Accuracy=0.953]\n"
     ]
    },
    {
     "name": "stdout",
     "output_type": "stream",
     "text": [
      "Epoch [25/50], Train Loss: 0.1508, Train Accuracy: 0.9529, Val Loss: 0.4620, Val Accuracy: 0.8831\n"
     ]
    },
    {
     "name": "stderr",
     "output_type": "stream",
     "text": [
      "Epoch 26/50: 100%|██████████| 104/104 [00:19<00:00,  5.44it/s, Loss=0.114, Accuracy=0.965]\n"
     ]
    },
    {
     "name": "stdout",
     "output_type": "stream",
     "text": [
      "Epoch [26/50], Train Loss: 0.1135, Train Accuracy: 0.9654, Val Loss: 0.5067, Val Accuracy: 0.8861\n"
     ]
    },
    {
     "name": "stderr",
     "output_type": "stream",
     "text": [
      "Epoch 27/50: 100%|██████████| 104/104 [00:18<00:00,  5.57it/s, Loss=0.154, Accuracy=0.954]\n"
     ]
    },
    {
     "name": "stdout",
     "output_type": "stream",
     "text": [
      "Epoch [27/50], Train Loss: 0.1526, Train Accuracy: 0.9542, Val Loss: 0.5406, Val Accuracy: 0.8680\n"
     ]
    },
    {
     "name": "stderr",
     "output_type": "stream",
     "text": [
      "Epoch 28/50: 100%|██████████| 104/104 [00:17<00:00,  6.02it/s, Loss=0.149, Accuracy=0.953]\n"
     ]
    },
    {
     "name": "stdout",
     "output_type": "stream",
     "text": [
      "Epoch [28/50], Train Loss: 0.1483, Train Accuracy: 0.9532, Val Loss: 0.6281, Val Accuracy: 0.8667\n"
     ]
    },
    {
     "name": "stderr",
     "output_type": "stream",
     "text": [
      "Epoch 29/50: 100%|██████████| 104/104 [00:18<00:00,  5.74it/s, Loss=0.152, Accuracy=0.954]\n"
     ]
    },
    {
     "name": "stdout",
     "output_type": "stream",
     "text": [
      "Epoch [29/50], Train Loss: 0.1508, Train Accuracy: 0.9537, Val Loss: 0.5536, Val Accuracy: 0.8698\n"
     ]
    },
    {
     "name": "stderr",
     "output_type": "stream",
     "text": [
      "Epoch 30/50: 100%|██████████| 104/104 [00:18<00:00,  5.59it/s, Loss=0.13, Accuracy=0.961] \n"
     ]
    },
    {
     "name": "stdout",
     "output_type": "stream",
     "text": [
      "Epoch [30/50], Train Loss: 0.1286, Train Accuracy: 0.9606, Val Loss: 0.8088, Val Accuracy: 0.8413\n"
     ]
    },
    {
     "name": "stderr",
     "output_type": "stream",
     "text": [
      "Epoch 31/50: 100%|██████████| 104/104 [00:18<00:00,  5.50it/s, Loss=0.149, Accuracy=0.956]\n"
     ]
    },
    {
     "name": "stdout",
     "output_type": "stream",
     "text": [
      "Epoch [31/50], Train Loss: 0.1482, Train Accuracy: 0.9561, Val Loss: 0.6279, Val Accuracy: 0.8692\n"
     ]
    },
    {
     "name": "stderr",
     "output_type": "stream",
     "text": [
      "Epoch 32/50: 100%|██████████| 104/104 [00:17<00:00,  5.79it/s, Loss=0.158, Accuracy=0.955]\n"
     ]
    },
    {
     "name": "stdout",
     "output_type": "stream",
     "text": [
      "Epoch [32/50], Train Loss: 0.1571, Train Accuracy: 0.9553, Val Loss: 0.6132, Val Accuracy: 0.8558\n"
     ]
    },
    {
     "name": "stderr",
     "output_type": "stream",
     "text": [
      "Epoch 33/50: 100%|██████████| 104/104 [00:23<00:00,  4.37it/s, Loss=0.159, Accuracy=0.954]\n"
     ]
    },
    {
     "name": "stdout",
     "output_type": "stream",
     "text": [
      "Epoch [33/50], Train Loss: 0.1580, Train Accuracy: 0.9544, Val Loss: 0.5580, Val Accuracy: 0.8861\n"
     ]
    },
    {
     "name": "stderr",
     "output_type": "stream",
     "text": [
      "Epoch 34/50: 100%|██████████| 104/104 [00:20<00:00,  5.10it/s, Loss=0.123, Accuracy=0.966]\n"
     ]
    },
    {
     "name": "stdout",
     "output_type": "stream",
     "text": [
      "Epoch [34/50], Train Loss: 0.1220, Train Accuracy: 0.9657, Val Loss: 0.4956, Val Accuracy: 0.8789\n"
     ]
    },
    {
     "name": "stderr",
     "output_type": "stream",
     "text": [
      "Epoch 35/50: 100%|██████████| 104/104 [00:20<00:00,  4.98it/s, Loss=0.105, Accuracy=0.971]\n"
     ]
    },
    {
     "name": "stdout",
     "output_type": "stream",
     "text": [
      "Epoch [35/50], Train Loss: 0.1041, Train Accuracy: 0.9708, Val Loss: 0.6222, Val Accuracy: 0.8692\n"
     ]
    },
    {
     "name": "stderr",
     "output_type": "stream",
     "text": [
      "Epoch 36/50: 100%|██████████| 104/104 [00:23<00:00,  4.42it/s, Loss=0.15, Accuracy=0.958] \n"
     ]
    },
    {
     "name": "stdout",
     "output_type": "stream",
     "text": [
      "Epoch [36/50], Train Loss: 0.1492, Train Accuracy: 0.9575, Val Loss: 0.6858, Val Accuracy: 0.8492\n"
     ]
    },
    {
     "name": "stderr",
     "output_type": "stream",
     "text": [
      "Epoch 37/50: 100%|██████████| 104/104 [00:21<00:00,  4.95it/s, Loss=0.164, Accuracy=0.953]\n"
     ]
    },
    {
     "name": "stdout",
     "output_type": "stream",
     "text": [
      "Epoch [37/50], Train Loss: 0.1629, Train Accuracy: 0.9531, Val Loss: 0.7833, Val Accuracy: 0.8571\n"
     ]
    },
    {
     "name": "stderr",
     "output_type": "stream",
     "text": [
      "Epoch 38/50: 100%|██████████| 104/104 [00:20<00:00,  4.98it/s, Loss=0.107, Accuracy=0.97] \n"
     ]
    },
    {
     "name": "stdout",
     "output_type": "stream",
     "text": [
      "Epoch [38/50], Train Loss: 0.1067, Train Accuracy: 0.9697, Val Loss: 0.5964, Val Accuracy: 0.8813\n"
     ]
    },
    {
     "name": "stderr",
     "output_type": "stream",
     "text": [
      "Epoch 39/50: 100%|██████████| 104/104 [00:21<00:00,  4.86it/s, Loss=0.119, Accuracy=0.967]\n"
     ]
    },
    {
     "name": "stdout",
     "output_type": "stream",
     "text": [
      "Epoch [39/50], Train Loss: 0.1182, Train Accuracy: 0.9674, Val Loss: 0.6059, Val Accuracy: 0.8389\n"
     ]
    },
    {
     "name": "stderr",
     "output_type": "stream",
     "text": [
      "Epoch 40/50: 100%|██████████| 104/104 [00:21<00:00,  4.73it/s, Loss=0.121, Accuracy=0.965]\n"
     ]
    },
    {
     "name": "stdout",
     "output_type": "stream",
     "text": [
      "Epoch [40/50], Train Loss: 0.1202, Train Accuracy: 0.9655, Val Loss: 0.5888, Val Accuracy: 0.8849\n"
     ]
    },
    {
     "name": "stderr",
     "output_type": "stream",
     "text": [
      "Epoch 41/50: 100%|██████████| 104/104 [00:23<00:00,  4.43it/s, Loss=0.0925, Accuracy=0.972]\n"
     ]
    },
    {
     "name": "stdout",
     "output_type": "stream",
     "text": [
      "Epoch [41/50], Train Loss: 0.0918, Train Accuracy: 0.9724, Val Loss: 0.5856, Val Accuracy: 0.8776\n"
     ]
    },
    {
     "name": "stderr",
     "output_type": "stream",
     "text": [
      "Epoch 42/50: 100%|██████████| 104/104 [00:27<00:00,  3.82it/s, Loss=0.0948, Accuracy=0.972]\n"
     ]
    },
    {
     "name": "stdout",
     "output_type": "stream",
     "text": [
      "Epoch [42/50], Train Loss: 0.0941, Train Accuracy: 0.9718, Val Loss: 0.6085, Val Accuracy: 0.8849\n"
     ]
    },
    {
     "name": "stderr",
     "output_type": "stream",
     "text": [
      "Epoch 43/50: 100%|██████████| 104/104 [00:24<00:00,  4.31it/s, Loss=0.108, Accuracy=0.971]\n"
     ]
    },
    {
     "name": "stdout",
     "output_type": "stream",
     "text": [
      "Epoch [43/50], Train Loss: 0.1075, Train Accuracy: 0.9708, Val Loss: 0.6233, Val Accuracy: 0.8886\n"
     ]
    },
    {
     "name": "stderr",
     "output_type": "stream",
     "text": [
      "Epoch 44/50: 100%|██████████| 104/104 [00:24<00:00,  4.23it/s, Loss=0.0873, Accuracy=0.977]\n"
     ]
    },
    {
     "name": "stdout",
     "output_type": "stream",
     "text": [
      "Epoch [44/50], Train Loss: 0.0866, Train Accuracy: 0.9768, Val Loss: 0.7135, Val Accuracy: 0.8613\n"
     ]
    },
    {
     "name": "stderr",
     "output_type": "stream",
     "text": [
      "Epoch 45/50: 100%|██████████| 104/104 [00:23<00:00,  4.35it/s, Loss=0.115, Accuracy=0.97]\n"
     ]
    },
    {
     "name": "stdout",
     "output_type": "stream",
     "text": [
      "Epoch [45/50], Train Loss: 0.1139, Train Accuracy: 0.9696, Val Loss: 0.7136, Val Accuracy: 0.8486\n"
     ]
    },
    {
     "name": "stderr",
     "output_type": "stream",
     "text": [
      "Epoch 46/50: 100%|██████████| 104/104 [00:24<00:00,  4.30it/s, Loss=0.154, Accuracy=0.958]\n"
     ]
    },
    {
     "name": "stdout",
     "output_type": "stream",
     "text": [
      "Epoch [46/50], Train Loss: 0.1530, Train Accuracy: 0.9582, Val Loss: 0.6964, Val Accuracy: 0.8389\n"
     ]
    },
    {
     "name": "stderr",
     "output_type": "stream",
     "text": [
      "Epoch 47/50: 100%|██████████| 104/104 [00:23<00:00,  4.36it/s, Loss=0.127, Accuracy=0.966]\n"
     ]
    },
    {
     "name": "stdout",
     "output_type": "stream",
     "text": [
      "Epoch [47/50], Train Loss: 0.1264, Train Accuracy: 0.9656, Val Loss: 0.7165, Val Accuracy: 0.8631\n"
     ]
    },
    {
     "name": "stderr",
     "output_type": "stream",
     "text": [
      "Epoch 48/50: 100%|██████████| 104/104 [00:23<00:00,  4.36it/s, Loss=0.0704, Accuracy=0.98]\n"
     ]
    },
    {
     "name": "stdout",
     "output_type": "stream",
     "text": [
      "Epoch [48/50], Train Loss: 0.0698, Train Accuracy: 0.9802, Val Loss: 1.4324, Val Accuracy: 0.7965\n"
     ]
    },
    {
     "name": "stderr",
     "output_type": "stream",
     "text": [
      "Epoch 49/50: 100%|██████████| 104/104 [00:28<00:00,  3.71it/s, Loss=0.231, Accuracy=0.94] \n"
     ]
    },
    {
     "name": "stdout",
     "output_type": "stream",
     "text": [
      "Epoch [49/50], Train Loss: 0.2293, Train Accuracy: 0.9398, Val Loss: 0.6339, Val Accuracy: 0.8764\n"
     ]
    },
    {
     "name": "stderr",
     "output_type": "stream",
     "text": [
      "Epoch 50/50: 100%|██████████| 104/104 [00:23<00:00,  4.46it/s, Loss=0.0982, Accuracy=0.972]\n"
     ]
    },
    {
     "name": "stdout",
     "output_type": "stream",
     "text": [
      "Epoch [50/50], Train Loss: 0.0974, Train Accuracy: 0.9724, Val Loss: 0.9008, Val Accuracy: 0.8601\n",
      "Test Loss: 0.6473, Test Accuracy: 0.8692\n"
     ]
    },
    {
     "data": {
      "image/png": "[encoded data removed]",
      "text/plain": [
       "<Figure size 1200x400 with 2 Axes>"
      ]
     },
     "metadata": {},
     "output_type": "display_data"
    }
   ],
   "source": [
    "import torch\n",
    "import torch.nn as nn\n",
    "import torch.optim as optim\n",
    "from torch.utils.data import DataLoader, Dataset\n",
    "from torchvision import transforms\n",
    "from tqdm import tqdm\n",
    "import pandas as pd\n",
    "from PIL import Image\n",
    "import os\n",
    "from sklearn.model_selection import train_test_split\n",
    "import matplotlib.pyplot as plt\n",
    "\n",
    "# Check if GPU is available and set device\n",
    "device = torch.device(\"cuda\" if torch.cuda.is_available() else \"cpu\")\n",
    "\n",
    "# Define data transforms with 64x64 image size\n",
    "transform = transforms.Compose([\n",
    "    transforms.Resize((64, 64)),  # Resize to 64x64\n",
    "    transforms.ToTensor(),\n",
    "    transforms.Normalize(mean=[0.485, 0.456, 0.406], std=[0.229, 0.224, 0.225])\n",
    "])\n",
    "\n",
    "# Define the directory path\n",
    "data_dir = r\"C:\\Users\\user\\Desktop\\plant\\boc\"\n",
    "\n",
    "# Load one CSV file\n",
    "csv_file = 'fold_5_train.csv'\n",
    "\n",
    "# Define a custom dataset class for CSV loading\n",
    "class CustomDataset(Dataset):\n",
    "    def __init__(self, csv_file, root_dir, transform=None):\n",
    "        self.data = pd.read_csv(csv_file)\n",
    "        self.root_dir = root_dir\n",
    "        self.transform = transform\n",
    "\n",
    "    def __len__(self):\n",
    "        return len(self.data)\n",
    "\n",
    "    def __getitem__(self, idx):\n",
    "        try:\n",
    "            img_name = os.path.join(self.root_dir, str(self.data.iloc[idx, 0]))  # Access image_path using index 0\n",
    "            image = Image.open(img_name).convert('RGB')  # Ensure images are in RGB mode\n",
    "            label = self.data.iloc[idx, 1]  # Access class_label using index 1\n",
    "        except Exception as e:\n",
    "            print(f\"Error accessing image at index {idx}: {e}\")\n",
    "            return None\n",
    "\n",
    "        if self.transform:\n",
    "            image = self.transform(image)\n",
    "\n",
    "        return image, label\n",
    "\n",
    "# Load the dataset using CustomDataset\n",
    "dataset = CustomDataset(csv_file=os.path.join(data_dir, csv_file), root_dir=data_dir, transform=transform)\n",
    "\n",
    "# Split dataset into train, validation, and test sets\n",
    "train_size = 0.8\n",
    "val_size = 0.1\n",
    "test_size = 1 - train_size - val_size\n",
    "\n",
    "train_dataset, temp_dataset = train_test_split(dataset, test_size=1 - train_size, random_state=42)\n",
    "val_dataset, test_dataset = train_test_split(temp_dataset, test_size=test_size / (val_size + test_size), random_state=42)\n",
    "\n",
    "# Create data loaders for each set\n",
    "batch_size = 128\n",
    "train_loader = DataLoader(train_dataset, batch_size=batch_size, shuffle=True, num_workers=4, pin_memory=True)\n",
    "val_loader = DataLoader(val_dataset, batch_size=batch_size, shuffle=False, num_workers=4, pin_memory=True)\n",
    "test_loader = DataLoader(test_dataset, batch_size=batch_size, shuffle=False, num_workers=4, pin_memory=True)\n",
    "\n",
    "\n",
    "\n",
    "# Print class names (assuming it's available in the dataset)\n",
    "print(\"Class Names:\", pd.Series([data[1] for data in train_dataset]).unique())\n",
    "\n",
    "# Define the model architecture\n",
    "class AlexNet(nn.Module):\n",
    "    def __init__(self, num_classes=15):\n",
    "        super(AlexNet, self).__init__()\n",
    "        self.features = nn.Sequential(\n",
    "            nn.Conv2d(3, 64, kernel_size=11, stride=4, padding=2),\n",
    "            nn.ReLU(inplace=True),\n",
    "            nn.MaxPool2d(kernel_size=3, stride=2),\n",
    "            nn.Conv2d(64, 192, kernel_size=5, padding=2),\n",
    "            nn.ReLU(inplace=True),\n",
    "            nn.MaxPool2d(kernel_size=3, stride=2),\n",
    "            nn.Conv2d(192, 384, kernel_size=3, padding=1),\n",
    "            nn.ReLU(inplace=True),\n",
    "            nn.Conv2d(384, 256, kernel_size=3, padding=1),\n",
    "            nn.ReLU(inplace=True),\n",
    "            nn.Conv2d(256, 256, kernel_size=3, padding=1),\n",
    "            nn.ReLU(inplace=True),\n",
    "            nn.MaxPool2d(kernel_size=3, stride=2),\n",
    "        )\n",
    "        self.avgpool = nn.AdaptiveAvgPool2d((6, 6))\n",
    "        self.classifier = nn.Sequential(\n",
    "            nn.Dropout(),\n",
    "            nn.Linear(256 * 6 * 6, 4096),\n",
    "            nn.ReLU(inplace=True),\n",
    "            nn.Dropout(),\n",
    "            nn.Linear(4096, 4096),\n",
    "            nn.ReLU(inplace=True),\n",
    "            nn.Linear(4096, num_classes),\n",
    "        )\n",
    "\n",
    "    def forward(self, x):\n",
    "        x = self.features(x)\n",
    "        x = self.avgpool(x)\n",
    "        x = torch.flatten(x, 1)\n",
    "        x = self.classifier(x)\n",
    "        return x\n",
    "\n",
    "# Instantiate the model\n",
    "model = AlexNet(num_classes=15).to(device)\n",
    "\n",
    "# Function to evaluate the model\n",
    "def evaluate_model(model, data_loader, criterion, device):\n",
    "    model.eval()\n",
    "    loss = 0.0\n",
    "    correct = 0\n",
    "    total = 0\n",
    "    with torch.no_grad():\n",
    "        for images, labels in data_loader:\n",
    "            images, labels = images.to(device), labels.to(device)\n",
    "            outputs = model(images)\n",
    "            loss += criterion(outputs, labels).item()\n",
    "            _, predicted = torch.max(outputs.data, 1)\n",
    "            total += labels.size(0)\n",
    "            correct += (predicted == labels).sum().item()\n",
    "    \n",
    "    avg_loss = loss / len(data_loader)\n",
    "    accuracy = correct / total\n",
    "    return avg_loss, accuracy\n",
    "\n",
    "# Function to train the model\n",
    "def train_model(model, train_loader, val_loader, criterion, optimizer, num_epochs, device):\n",
    "    train_losses = []\n",
    "    val_losses = []\n",
    "    train_accuracies = []\n",
    "    val_accuracies = []\n",
    "    \n",
    "    for epoch in range(num_epochs):\n",
    "        model.train()\n",
    "        running_loss = 0.0\n",
    "        correct_train = 0\n",
    "        total_train = 0\n",
    "        \n",
    "        # Use tqdm for progress display\n",
    "        progress_bar = tqdm(train_loader, desc=f'Epoch {epoch+1}/{num_epochs}')\n",
    "        \n",
    "        for images, labels in progress_bar:\n",
    "            images, labels = images.to(device), labels.to(device)\n",
    "            \n",
    "            optimizer.zero_grad()\n",
    "            outputs = model(images)\n",
    "            loss = criterion(outputs, labels)\n",
    "            loss.backward()\n",
    "            optimizer.step()\n",
    "            \n",
    "            running_loss += loss.item()\n",
    "            _, predicted = torch.max(outputs.data, 1)\n",
    "            total_train += labels.size(0)\n",
    "            correct_train += (predicted == labels).sum().item()\n",
    "            \n",
    "            progress_bar.set_postfix({'Loss': running_loss / (total_train / batch_size), 'Accuracy': correct_train / total_train})\n",
    "        \n",
    "        avg_train_loss = running_loss / len(train_loader)\n",
    "        train_accuracy = correct_train / total_train\n",
    "        \n",
    "        val_loss, val_accuracy = evaluate_model(model, val_loader, criterion, device)\n",
    "        \n",
    "        train_losses.append(avg_train_loss)\n",
    "        val_losses.append(val_loss)\n",
    "        train_accuracies.append(train_accuracy)\n",
    "        val_accuracies.append(val_accuracy)\n",
    "        \n",
    "        print(f'Epoch [{epoch+1}/{num_epochs}], Train Loss: {avg_train_loss:.4f}, Train Accuracy: {train_accuracy:.4f}, Val Loss: {val_loss:.4f}, Val Accuracy: {val_accuracy:.4f}')\n",
    "    \n",
    "    return train_losses, val_losses, train_accuracies, val_accuracies\n",
    "\n",
    "# Set hyperparameters\n",
    "num_epochs = 50\n",
    "learning_rate = 1e-3\n",
    "\n",
    "# Define criterion and optimizer\n",
    "criterion = nn.CrossEntropyLoss()\n",
    "optimizer = optim.Adam(model.parameters(), lr=learning_rate)\n",
    "\n",
    "# Train the model\n",
    "train_losses, val_losses, train_accuracies, val_accuracies = train_model(model, train_loader, val_loader, criterion, optimizer, num_epochs, device)\n",
    "\n",
    "# Evaluate on test set\n",
    "test_loss, test_accuracy = evaluate_model(model, test_loader, criterion, device)\n",
    "print(f'Test Loss: {test_loss:.4f}, Test Accuracy: {test_accuracy:.4f}')\n",
    "\n",
    "# Plotting training and validation curves\n",
    "plt.figure(figsize=(12, 4))\n",
    "plt.subplot(1, 2, 1)\n",
    "plt.plot(train_losses, label='Train Loss')\n",
    "plt.plot(val_losses, label='Val Loss')\n",
    "plt.xlabel('Epoch')\n",
    "plt.ylabel('Loss')\n",
    "plt.title('Training and Validation Losses')\n",
    "plt.legend()\n",
    "\n",
    "plt.subplot(1, 2, 2)\n",
    "plt.plot(train_accuracies, label='Train Accuracy')\n",
    "plt.plot(val_accuracies, label='Val Accuracy')\n",
    "plt.xlabel('Epoch')\n",
    "plt.ylabel('Accuracy')\n",
    "plt.title('Training and Validation Accuracies')\n",
    "plt.legend()\n",
    "\n",
    "plt.tight_layout()\n",
    "plt.show()\n"
   ]
  },
  {
   "cell_type": "code",
   "execution_count": null,
   "metadata": {},
   "outputs": [],
   "source": []
  }
 ],
 "metadata": {
  "kernelspec": {
   "display_name": "Python 3",
   "language": "python",
   "name": "python3"
  },
  "language_info": {
   "codemirror_mode": {
    "name": "ipython",
    "version": 3
   },
   "file_extension": ".py",
   "mimetype": "text/x-python",
   "name": "python",
   "nbconvert_exporter": "python",
   "pygments_lexer": "ipython3",
   "version": "3.11.8"
  }
 },
 "nbformat": 4,
 "nbformat_minor": 2
}
