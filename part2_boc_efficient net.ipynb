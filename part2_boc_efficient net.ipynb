{
 "cells": [
  {
   "cell_type": "code",
   "execution_count": 1,
   "metadata": {},
   "outputs": [],
   "source": [
    "import torch\n",
    "import torch.nn as nn\n",
    "import torch.optim as optim\n",
    "import torchvision\n",
    "from torchvision import transforms\n",
    "from torch.utils.data import DataLoader\n",
    "from tqdm import tqdm\n",
    "import matplotlib.pyplot as plt\n",
    "\n"
   ]
  },
  {
   "cell_type": "code",
   "execution_count": 3,
   "metadata": {},
   "outputs": [
    {
     "name": "stdout",
     "output_type": "stream",
     "text": [
      "Class Names: [12  6 11  5 10  0 14  7  2  9  8 13  1  3  4]\n"
     ]
    },
    {
     "name": "stderr",
     "output_type": "stream",
     "text": [
      "Epoch 1/50: 100%|██████████| 104/104 [00:17<00:00,  5.81it/s, Loss=2.26, Accuracy=0.263]\n"
     ]
    },
    {
     "name": "stdout",
     "output_type": "stream",
     "text": [
      "Epoch [1/50], Train Loss: 2.2406, Train Accuracy: 0.2635, Val Loss: 2.0220, Val Accuracy: 0.3495\n"
     ]
    },
    {
     "name": "stderr",
     "output_type": "stream",
     "text": [
      "Epoch 2/50: 100%|██████████| 104/104 [00:17<00:00,  5.96it/s, Loss=1.82, Accuracy=0.398]\n"
     ]
    },
    {
     "name": "stdout",
     "output_type": "stream",
     "text": [
      "Epoch [2/50], Train Loss: 1.8018, Train Accuracy: 0.3978, Val Loss: 1.6632, Val Accuracy: 0.4621\n"
     ]
    },
    {
     "name": "stderr",
     "output_type": "stream",
     "text": [
      "Epoch 3/50: 100%|██████████| 104/104 [00:16<00:00,  6.17it/s, Loss=1.53, Accuracy=0.503]\n"
     ]
    },
    {
     "name": "stdout",
     "output_type": "stream",
     "text": [
      "Epoch [3/50], Train Loss: 1.5154, Train Accuracy: 0.5034, Val Loss: 1.3474, Val Accuracy: 0.5572\n"
     ]
    },
    {
     "name": "stderr",
     "output_type": "stream",
     "text": [
      "Epoch 4/50: 100%|██████████| 104/104 [00:17<00:00,  6.06it/s, Loss=1.26, Accuracy=0.593]\n"
     ]
    },
    {
     "name": "stdout",
     "output_type": "stream",
     "text": [
      "Epoch [4/50], Train Loss: 1.2469, Train Accuracy: 0.5934, Val Loss: 0.9595, Val Accuracy: 0.6741\n"
     ]
    },
    {
     "name": "stderr",
     "output_type": "stream",
     "text": [
      "Epoch 5/50: 100%|██████████| 104/104 [00:17<00:00,  6.09it/s, Loss=1.08, Accuracy=0.651]\n"
     ]
    },
    {
     "name": "stdout",
     "output_type": "stream",
     "text": [
      "Epoch [5/50], Train Loss: 1.0714, Train Accuracy: 0.6512, Val Loss: 0.9862, Val Accuracy: 0.6917\n"
     ]
    },
    {
     "name": "stderr",
     "output_type": "stream",
     "text": [
      "Epoch 6/50: 100%|██████████| 104/104 [00:17<00:00,  6.10it/s, Loss=1, Accuracy=0.684]   \n"
     ]
    },
    {
     "name": "stdout",
     "output_type": "stream",
     "text": [
      "Epoch [6/50], Train Loss: 0.9959, Train Accuracy: 0.6835, Val Loss: 0.8370, Val Accuracy: 0.7208\n"
     ]
    },
    {
     "name": "stderr",
     "output_type": "stream",
     "text": [
      "Epoch 7/50: 100%|██████████| 104/104 [00:16<00:00,  6.21it/s, Loss=0.869, Accuracy=0.727]\n"
     ]
    },
    {
     "name": "stdout",
     "output_type": "stream",
     "text": [
      "Epoch [7/50], Train Loss: 0.8627, Train Accuracy: 0.7268, Val Loss: 0.7815, Val Accuracy: 0.7383\n"
     ]
    },
    {
     "name": "stderr",
     "output_type": "stream",
     "text": [
      "Epoch 8/50: 100%|██████████| 104/104 [00:16<00:00,  6.36it/s, Loss=0.824, Accuracy=0.746]\n"
     ]
    },
    {
     "name": "stdout",
     "output_type": "stream",
     "text": [
      "Epoch [8/50], Train Loss: 0.8174, Train Accuracy: 0.7458, Val Loss: 0.5797, Val Accuracy: 0.8171\n"
     ]
    },
    {
     "name": "stderr",
     "output_type": "stream",
     "text": [
      "Epoch 9/50: 100%|██████████| 104/104 [00:16<00:00,  6.14it/s, Loss=0.756, Accuracy=0.766]\n"
     ]
    },
    {
     "name": "stdout",
     "output_type": "stream",
     "text": [
      "Epoch [9/50], Train Loss: 0.7503, Train Accuracy: 0.7655, Val Loss: 0.5460, Val Accuracy: 0.8268\n"
     ]
    },
    {
     "name": "stderr",
     "output_type": "stream",
     "text": [
      "Epoch 10/50: 100%|██████████| 104/104 [00:16<00:00,  6.20it/s, Loss=0.695, Accuracy=0.789]\n"
     ]
    },
    {
     "name": "stdout",
     "output_type": "stream",
     "text": [
      "Epoch [10/50], Train Loss: 0.6900, Train Accuracy: 0.7889, Val Loss: 0.7487, Val Accuracy: 0.7559\n"
     ]
    },
    {
     "name": "stderr",
     "output_type": "stream",
     "text": [
      "Epoch 11/50: 100%|██████████| 104/104 [00:19<00:00,  5.45it/s, Loss=0.675, Accuracy=0.795]\n"
     ]
    },
    {
     "name": "stdout",
     "output_type": "stream",
     "text": [
      "Epoch [11/50], Train Loss: 0.6695, Train Accuracy: 0.7946, Val Loss: 0.5132, Val Accuracy: 0.8377\n"
     ]
    },
    {
     "name": "stderr",
     "output_type": "stream",
     "text": [
      "Epoch 12/50: 100%|██████████| 104/104 [00:19<00:00,  5.26it/s, Loss=0.627, Accuracy=0.815]\n"
     ]
    },
    {
     "name": "stdout",
     "output_type": "stream",
     "text": [
      "Epoch [12/50], Train Loss: 0.6225, Train Accuracy: 0.8146, Val Loss: 0.5381, Val Accuracy: 0.8237\n"
     ]
    },
    {
     "name": "stderr",
     "output_type": "stream",
     "text": [
      "Epoch 13/50: 100%|██████████| 104/104 [00:18<00:00,  5.68it/s, Loss=0.589, Accuracy=0.818]\n"
     ]
    },
    {
     "name": "stdout",
     "output_type": "stream",
     "text": [
      "Epoch [13/50], Train Loss: 0.5847, Train Accuracy: 0.8184, Val Loss: 0.4429, Val Accuracy: 0.8643\n"
     ]
    },
    {
     "name": "stderr",
     "output_type": "stream",
     "text": [
      "Epoch 14/50: 100%|██████████| 104/104 [00:18<00:00,  5.63it/s, Loss=0.569, Accuracy=0.831]\n"
     ]
    },
    {
     "name": "stdout",
     "output_type": "stream",
     "text": [
      "Epoch [14/50], Train Loss: 0.5649, Train Accuracy: 0.8315, Val Loss: 0.4770, Val Accuracy: 0.8468\n"
     ]
    },
    {
     "name": "stderr",
     "output_type": "stream",
     "text": [
      "Epoch 15/50: 100%|██████████| 104/104 [00:18<00:00,  5.58it/s, Loss=0.541, Accuracy=0.843]\n"
     ]
    },
    {
     "name": "stdout",
     "output_type": "stream",
     "text": [
      "Epoch [15/50], Train Loss: 0.5367, Train Accuracy: 0.8425, Val Loss: 0.3614, Val Accuracy: 0.8879\n"
     ]
    },
    {
     "name": "stderr",
     "output_type": "stream",
     "text": [
      "Epoch 16/50: 100%|██████████| 104/104 [00:21<00:00,  4.89it/s, Loss=0.51, Accuracy=0.85]  \n"
     ]
    },
    {
     "name": "stdout",
     "output_type": "stream",
     "text": [
      "Epoch [16/50], Train Loss: 0.5056, Train Accuracy: 0.8496, Val Loss: 0.3369, Val Accuracy: 0.8964\n"
     ]
    },
    {
     "name": "stderr",
     "output_type": "stream",
     "text": [
      "Epoch 17/50: 100%|██████████| 104/104 [00:25<00:00,  4.14it/s, Loss=0.484, Accuracy=0.857]\n"
     ]
    },
    {
     "name": "stdout",
     "output_type": "stream",
     "text": [
      "Epoch [17/50], Train Loss: 0.4806, Train Accuracy: 0.8569, Val Loss: 0.3720, Val Accuracy: 0.8813\n"
     ]
    },
    {
     "name": "stderr",
     "output_type": "stream",
     "text": [
      "Epoch 18/50: 100%|██████████| 104/104 [00:18<00:00,  5.62it/s, Loss=0.465, Accuracy=0.865]\n"
     ]
    },
    {
     "name": "stdout",
     "output_type": "stream",
     "text": [
      "Epoch [18/50], Train Loss: 0.4614, Train Accuracy: 0.8646, Val Loss: 0.3534, Val Accuracy: 0.8898\n"
     ]
    },
    {
     "name": "stderr",
     "output_type": "stream",
     "text": [
      "Epoch 19/50: 100%|██████████| 104/104 [00:18<00:00,  5.66it/s, Loss=0.467, Accuracy=0.864]\n"
     ]
    },
    {
     "name": "stdout",
     "output_type": "stream",
     "text": [
      "Epoch [19/50], Train Loss: 0.4635, Train Accuracy: 0.8643, Val Loss: 0.3288, Val Accuracy: 0.9019\n"
     ]
    },
    {
     "name": "stderr",
     "output_type": "stream",
     "text": [
      "Epoch 20/50: 100%|██████████| 104/104 [00:18<00:00,  5.60it/s, Loss=0.457, Accuracy=0.866]\n"
     ]
    },
    {
     "name": "stdout",
     "output_type": "stream",
     "text": [
      "Epoch [20/50], Train Loss: 0.4532, Train Accuracy: 0.8663, Val Loss: 0.3580, Val Accuracy: 0.8886\n"
     ]
    },
    {
     "name": "stderr",
     "output_type": "stream",
     "text": [
      "Epoch 21/50: 100%|██████████| 104/104 [00:17<00:00,  5.90it/s, Loss=0.411, Accuracy=0.879]\n"
     ]
    },
    {
     "name": "stdout",
     "output_type": "stream",
     "text": [
      "Epoch [21/50], Train Loss: 0.4073, Train Accuracy: 0.8794, Val Loss: 0.4170, Val Accuracy: 0.8631\n"
     ]
    },
    {
     "name": "stderr",
     "output_type": "stream",
     "text": [
      "Epoch 22/50: 100%|██████████| 104/104 [00:19<00:00,  5.36it/s, Loss=0.4, Accuracy=0.884]  \n"
     ]
    },
    {
     "name": "stdout",
     "output_type": "stream",
     "text": [
      "Epoch [22/50], Train Loss: 0.3968, Train Accuracy: 0.8839, Val Loss: 0.3325, Val Accuracy: 0.8958\n"
     ]
    },
    {
     "name": "stderr",
     "output_type": "stream",
     "text": [
      "Epoch 23/50: 100%|██████████| 104/104 [00:17<00:00,  5.84it/s, Loss=0.401, Accuracy=0.882]\n"
     ]
    },
    {
     "name": "stdout",
     "output_type": "stream",
     "text": [
      "Epoch [23/50], Train Loss: 0.3982, Train Accuracy: 0.8825, Val Loss: 0.5277, Val Accuracy: 0.8486\n"
     ]
    },
    {
     "name": "stderr",
     "output_type": "stream",
     "text": [
      "Epoch 24/50: 100%|██████████| 104/104 [00:17<00:00,  5.89it/s, Loss=0.427, Accuracy=0.876]\n"
     ]
    },
    {
     "name": "stdout",
     "output_type": "stream",
     "text": [
      "Epoch [24/50], Train Loss: 0.4241, Train Accuracy: 0.8759, Val Loss: 0.2491, Val Accuracy: 0.9176\n"
     ]
    },
    {
     "name": "stderr",
     "output_type": "stream",
     "text": [
      "Epoch 25/50: 100%|██████████| 104/104 [00:18<00:00,  5.72it/s, Loss=0.373, Accuracy=0.896]\n"
     ]
    },
    {
     "name": "stdout",
     "output_type": "stream",
     "text": [
      "Epoch [25/50], Train Loss: 0.3697, Train Accuracy: 0.8960, Val Loss: 0.4414, Val Accuracy: 0.8740\n"
     ]
    },
    {
     "name": "stderr",
     "output_type": "stream",
     "text": [
      "Epoch 26/50: 100%|██████████| 104/104 [00:18<00:00,  5.57it/s, Loss=0.351, Accuracy=0.895]\n"
     ]
    },
    {
     "name": "stdout",
     "output_type": "stream",
     "text": [
      "Epoch [26/50], Train Loss: 0.3485, Train Accuracy: 0.8954, Val Loss: 0.3296, Val Accuracy: 0.8952\n"
     ]
    },
    {
     "name": "stderr",
     "output_type": "stream",
     "text": [
      "Epoch 27/50: 100%|██████████| 104/104 [00:17<00:00,  5.91it/s, Loss=0.327, Accuracy=0.903]\n"
     ]
    },
    {
     "name": "stdout",
     "output_type": "stream",
     "text": [
      "Epoch [27/50], Train Loss: 0.3246, Train Accuracy: 0.9032, Val Loss: 0.2396, Val Accuracy: 0.9243\n"
     ]
    },
    {
     "name": "stderr",
     "output_type": "stream",
     "text": [
      "Epoch 28/50: 100%|██████████| 104/104 [00:18<00:00,  5.54it/s, Loss=0.338, Accuracy=0.899]\n"
     ]
    },
    {
     "name": "stdout",
     "output_type": "stream",
     "text": [
      "Epoch [28/50], Train Loss: 0.3353, Train Accuracy: 0.8992, Val Loss: 0.3264, Val Accuracy: 0.8982\n"
     ]
    },
    {
     "name": "stderr",
     "output_type": "stream",
     "text": [
      "Epoch 29/50: 100%|██████████| 104/104 [00:21<00:00,  4.80it/s, Loss=0.332, Accuracy=0.903]\n"
     ]
    },
    {
     "name": "stdout",
     "output_type": "stream",
     "text": [
      "Epoch [29/50], Train Loss: 0.3290, Train Accuracy: 0.9032, Val Loss: 0.2365, Val Accuracy: 0.9255\n"
     ]
    },
    {
     "name": "stderr",
     "output_type": "stream",
     "text": [
      "Epoch 30/50: 100%|██████████| 104/104 [00:21<00:00,  4.88it/s, Loss=0.322, Accuracy=0.91] \n"
     ]
    },
    {
     "name": "stdout",
     "output_type": "stream",
     "text": [
      "Epoch [30/50], Train Loss: 0.3191, Train Accuracy: 0.9099, Val Loss: 0.3362, Val Accuracy: 0.8988\n"
     ]
    },
    {
     "name": "stderr",
     "output_type": "stream",
     "text": [
      "Epoch 31/50: 100%|██████████| 104/104 [00:20<00:00,  5.03it/s, Loss=0.301, Accuracy=0.914]\n"
     ]
    },
    {
     "name": "stdout",
     "output_type": "stream",
     "text": [
      "Epoch [31/50], Train Loss: 0.2985, Train Accuracy: 0.9142, Val Loss: 0.2619, Val Accuracy: 0.9213\n"
     ]
    },
    {
     "name": "stderr",
     "output_type": "stream",
     "text": [
      "Epoch 32/50: 100%|██████████| 104/104 [00:20<00:00,  4.96it/s, Loss=0.29, Accuracy=0.918]\n"
     ]
    },
    {
     "name": "stdout",
     "output_type": "stream",
     "text": [
      "Epoch [32/50], Train Loss: 0.2876, Train Accuracy: 0.9182, Val Loss: 0.2268, Val Accuracy: 0.9376\n"
     ]
    },
    {
     "name": "stderr",
     "output_type": "stream",
     "text": [
      "Epoch 33/50: 100%|██████████| 104/104 [00:21<00:00,  4.91it/s, Loss=0.331, Accuracy=0.905]\n"
     ]
    },
    {
     "name": "stdout",
     "output_type": "stream",
     "text": [
      "Epoch [33/50], Train Loss: 0.3283, Train Accuracy: 0.9054, Val Loss: 0.3321, Val Accuracy: 0.9001\n"
     ]
    },
    {
     "name": "stderr",
     "output_type": "stream",
     "text": [
      "Epoch 34/50: 100%|██████████| 104/104 [00:21<00:00,  4.88it/s, Loss=0.304, Accuracy=0.915]\n"
     ]
    },
    {
     "name": "stdout",
     "output_type": "stream",
     "text": [
      "Epoch [34/50], Train Loss: 0.3011, Train Accuracy: 0.9146, Val Loss: 0.2219, Val Accuracy: 0.9322\n"
     ]
    },
    {
     "name": "stderr",
     "output_type": "stream",
     "text": [
      "Epoch 35/50: 100%|██████████| 104/104 [00:21<00:00,  4.83it/s, Loss=0.269, Accuracy=0.924]\n"
     ]
    },
    {
     "name": "stdout",
     "output_type": "stream",
     "text": [
      "Epoch [35/50], Train Loss: 0.2667, Train Accuracy: 0.9240, Val Loss: 0.2263, Val Accuracy: 0.9267\n"
     ]
    },
    {
     "name": "stderr",
     "output_type": "stream",
     "text": [
      "Epoch 36/50: 100%|██████████| 104/104 [00:21<00:00,  4.93it/s, Loss=0.257, Accuracy=0.925]\n"
     ]
    },
    {
     "name": "stdout",
     "output_type": "stream",
     "text": [
      "Epoch [36/50], Train Loss: 0.2550, Train Accuracy: 0.9248, Val Loss: 0.2459, Val Accuracy: 0.9170\n"
     ]
    },
    {
     "name": "stderr",
     "output_type": "stream",
     "text": [
      "Epoch 37/50: 100%|██████████| 104/104 [00:21<00:00,  4.82it/s, Loss=0.27, Accuracy=0.921]\n"
     ]
    },
    {
     "name": "stdout",
     "output_type": "stream",
     "text": [
      "Epoch [37/50], Train Loss: 0.2682, Train Accuracy: 0.9212, Val Loss: 0.2316, Val Accuracy: 0.9291\n"
     ]
    },
    {
     "name": "stderr",
     "output_type": "stream",
     "text": [
      "Epoch 38/50: 100%|██████████| 104/104 [00:20<00:00,  4.97it/s, Loss=0.27, Accuracy=0.923]\n"
     ]
    },
    {
     "name": "stdout",
     "output_type": "stream",
     "text": [
      "Epoch [38/50], Train Loss: 0.2680, Train Accuracy: 0.9235, Val Loss: 0.2273, Val Accuracy: 0.9310\n"
     ]
    },
    {
     "name": "stderr",
     "output_type": "stream",
     "text": [
      "Epoch 39/50: 100%|██████████| 104/104 [00:21<00:00,  4.82it/s, Loss=0.24, Accuracy=0.93] \n"
     ]
    },
    {
     "name": "stdout",
     "output_type": "stream",
     "text": [
      "Epoch [39/50], Train Loss: 0.2381, Train Accuracy: 0.9303, Val Loss: 0.2714, Val Accuracy: 0.9182\n"
     ]
    },
    {
     "name": "stderr",
     "output_type": "stream",
     "text": [
      "Epoch 40/50: 100%|██████████| 104/104 [00:21<00:00,  4.83it/s, Loss=0.278, Accuracy=0.928]\n"
     ]
    },
    {
     "name": "stdout",
     "output_type": "stream",
     "text": [
      "Epoch [40/50], Train Loss: 0.2754, Train Accuracy: 0.9281, Val Loss: 0.2504, Val Accuracy: 0.9225\n"
     ]
    },
    {
     "name": "stderr",
     "output_type": "stream",
     "text": [
      "Epoch 41/50: 100%|██████████| 104/104 [00:21<00:00,  4.86it/s, Loss=0.251, Accuracy=0.93]\n"
     ]
    },
    {
     "name": "stdout",
     "output_type": "stream",
     "text": [
      "Epoch [41/50], Train Loss: 0.2493, Train Accuracy: 0.9296, Val Loss: 0.2809, Val Accuracy: 0.9128\n"
     ]
    },
    {
     "name": "stderr",
     "output_type": "stream",
     "text": [
      "Epoch 42/50: 100%|██████████| 104/104 [00:21<00:00,  4.79it/s, Loss=0.256, Accuracy=0.927]\n"
     ]
    },
    {
     "name": "stdout",
     "output_type": "stream",
     "text": [
      "Epoch [42/50], Train Loss: 0.2536, Train Accuracy: 0.9268, Val Loss: 0.1952, Val Accuracy: 0.9419\n"
     ]
    },
    {
     "name": "stderr",
     "output_type": "stream",
     "text": [
      "Epoch 43/50: 100%|██████████| 104/104 [00:21<00:00,  4.86it/s, Loss=0.236, Accuracy=0.933]\n"
     ]
    },
    {
     "name": "stdout",
     "output_type": "stream",
     "text": [
      "Epoch [43/50], Train Loss: 0.2340, Train Accuracy: 0.9331, Val Loss: 0.2129, Val Accuracy: 0.9291\n"
     ]
    },
    {
     "name": "stderr",
     "output_type": "stream",
     "text": [
      "Epoch 44/50: 100%|██████████| 104/104 [00:21<00:00,  4.86it/s, Loss=0.219, Accuracy=0.939]\n"
     ]
    },
    {
     "name": "stdout",
     "output_type": "stream",
     "text": [
      "Epoch [44/50], Train Loss: 0.2173, Train Accuracy: 0.9394, Val Loss: 0.2245, Val Accuracy: 0.9334\n"
     ]
    },
    {
     "name": "stderr",
     "output_type": "stream",
     "text": [
      "Epoch 45/50: 100%|██████████| 104/104 [00:21<00:00,  4.90it/s, Loss=0.238, Accuracy=0.932]\n"
     ]
    },
    {
     "name": "stdout",
     "output_type": "stream",
     "text": [
      "Epoch [45/50], Train Loss: 0.2361, Train Accuracy: 0.9325, Val Loss: 0.2266, Val Accuracy: 0.9352\n"
     ]
    },
    {
     "name": "stderr",
     "output_type": "stream",
     "text": [
      "Epoch 46/50: 100%|██████████| 104/104 [00:21<00:00,  4.91it/s, Loss=0.226, Accuracy=0.938]\n"
     ]
    },
    {
     "name": "stdout",
     "output_type": "stream",
     "text": [
      "Epoch [46/50], Train Loss: 0.2239, Train Accuracy: 0.9382, Val Loss: 0.1742, Val Accuracy: 0.9534\n"
     ]
    },
    {
     "name": "stderr",
     "output_type": "stream",
     "text": [
      "Epoch 47/50: 100%|██████████| 104/104 [00:20<00:00,  5.01it/s, Loss=0.22, Accuracy=0.936] \n"
     ]
    },
    {
     "name": "stdout",
     "output_type": "stream",
     "text": [
      "Epoch [47/50], Train Loss: 0.2186, Train Accuracy: 0.9358, Val Loss: 0.1885, Val Accuracy: 0.9412\n"
     ]
    },
    {
     "name": "stderr",
     "output_type": "stream",
     "text": [
      "Epoch 48/50: 100%|██████████| 104/104 [00:21<00:00,  4.92it/s, Loss=0.2, Accuracy=0.944]  \n"
     ]
    },
    {
     "name": "stdout",
     "output_type": "stream",
     "text": [
      "Epoch [48/50], Train Loss: 0.1989, Train Accuracy: 0.9435, Val Loss: 0.1803, Val Accuracy: 0.9479\n"
     ]
    },
    {
     "name": "stderr",
     "output_type": "stream",
     "text": [
      "Epoch 49/50: 100%|██████████| 104/104 [00:21<00:00,  4.80it/s, Loss=0.222, Accuracy=0.938]\n"
     ]
    },
    {
     "name": "stdout",
     "output_type": "stream",
     "text": [
      "Epoch [49/50], Train Loss: 0.2207, Train Accuracy: 0.9378, Val Loss: 0.1459, Val Accuracy: 0.9564\n"
     ]
    },
    {
     "name": "stderr",
     "output_type": "stream",
     "text": [
      "Epoch 50/50: 100%|██████████| 104/104 [00:22<00:00,  4.58it/s, Loss=0.2, Accuracy=0.942]  \n"
     ]
    },
    {
     "name": "stdout",
     "output_type": "stream",
     "text": [
      "Epoch [50/50], Train Loss: 0.1985, Train Accuracy: 0.9420, Val Loss: 0.1885, Val Accuracy: 0.9497\n",
      "Test Loss: 0.2182, Test Accuracy: 0.9358\n"
     ]
    },
    {
     "data": {
      "image/png": "[encoded data removed]",
      "text/plain": [
       "<Figure size 1200x400 with 2 Axes>"
      ]
     },
     "metadata": {},
     "output_type": "display_data"
    }
   ],
   "source": [
    "import torch\n",
    "import torch.nn as nn\n",
    "import torch.optim as optim\n",
    "from torch.utils.data import DataLoader, Dataset\n",
    "from torchvision import transforms\n",
    "from tqdm import tqdm\n",
    "import pandas as pd\n",
    "from PIL import Image\n",
    "import os\n",
    "from sklearn.model_selection import train_test_split\n",
    "import matplotlib.pyplot as plt\n",
    "\n",
    "# Check if GPU is available and set device\n",
    "device = torch.device(\"cuda\" if torch.cuda.is_available() else \"cpu\")\n",
    "\n",
    "# Define data transforms with 64x64 image size\n",
    "transform = transforms.Compose([\n",
    "    transforms.Resize((64, 64)),  # Resize to 64x64\n",
    "    transforms.ToTensor(),\n",
    "    transforms.Normalize(mean=[0.485, 0.456, 0.406], std=[0.229, 0.224, 0.225])\n",
    "])\n",
    "\n",
    "# Define the directory path\n",
    "data_dir = r\"C:\\Users\\user\\Desktop\\plant\\boc\"\n",
    "\n",
    "# Load one CSV file\n",
    "csv_file = 'fold_1_train.csv'\n",
    "\n",
    "# Define a custom dataset class for CSV loading\n",
    "class CustomDataset(Dataset):\n",
    "    def __init__(self, csv_file, root_dir, transform=None):\n",
    "        self.data = pd.read_csv(csv_file)\n",
    "        self.root_dir = root_dir\n",
    "        self.transform = transform\n",
    "\n",
    "    def __len__(self):\n",
    "        return len(self.data)\n",
    "\n",
    "    def __getitem__(self, idx):\n",
    "        try:\n",
    "            img_name = os.path.join(self.root_dir, str(self.data.iloc[idx, 0]))  # Access image_path using index 0\n",
    "            image = Image.open(img_name).convert('RGB')  # Ensure images are in RGB mode\n",
    "            label = self.data.iloc[idx, 1]  # Access class_label using index 1\n",
    "        except Exception as e:\n",
    "            print(f\"Error accessing image at index {idx}: {e}\")\n",
    "            return None\n",
    "\n",
    "        if self.transform:\n",
    "            image = self.transform(image)\n",
    "\n",
    "        return image, label\n",
    "\n",
    "# Load the dataset using CustomDataset\n",
    "dataset = CustomDataset(csv_file=os.path.join(data_dir, csv_file), root_dir=data_dir, transform=transform)\n",
    "\n",
    "# Split dataset into train, validation, and test sets\n",
    "train_size = 0.8\n",
    "val_size = 0.1\n",
    "test_size = 1 - train_size - val_size\n",
    "\n",
    "train_dataset, temp_dataset = train_test_split(dataset, test_size=1 - train_size, random_state=42)\n",
    "val_dataset, test_dataset = train_test_split(temp_dataset, test_size=test_size / (val_size + test_size), random_state=42)\n",
    "\n",
    "# Create data loaders for each set\n",
    "batch_size = 128\n",
    "train_loader = DataLoader(train_dataset, batch_size=batch_size, shuffle=True, num_workers=4, pin_memory=True)\n",
    "val_loader = DataLoader(val_dataset, batch_size=batch_size, shuffle=False, num_workers=4, pin_memory=True)\n",
    "test_loader = DataLoader(test_dataset, batch_size=batch_size, shuffle=False, num_workers=4, pin_memory=True)\n",
    "\n",
    "\n",
    "\n",
    "# Print class names (assuming it's available in the dataset)\n",
    "print(\"Class Names:\", pd.Series([data[1] for data in train_dataset]).unique())\n",
    "##\n",
    "### Define the model architecture\n",
    "##class AlexNet(nn.Module):\n",
    "##    def __init__(self, num_classes=15):\n",
    "##        super(AlexNet, self).__init__()\n",
    "##        self.features = nn.Sequential(\n",
    "##            nn.Conv2d(3, 64, kernel_size=11, stride=4, padding=2),\n",
    "##            nn.ReLU(inplace=True),\n",
    "##            nn.MaxPool2d(kernel_size=3, stride=2),\n",
    "##            nn.Conv2d(64, 192, kernel_size=5, padding=2),\n",
    "##            nn.ReLU(inplace=True),\n",
    "##            nn.MaxPool2d(kernel_size=3, stride=2),\n",
    "##            nn.Conv2d(192, 384, kernel_size=3, padding=1),\n",
    "##            nn.ReLU(inplace=True),\n",
    "##            nn.Conv2d(384, 256, kernel_size=3, padding=1),\n",
    "##            nn.ReLU(inplace=True),\n",
    "##            nn.Conv2d(256, 256, kernel_size=3, padding=1),\n",
    "##            nn.ReLU(inplace=True),\n",
    "##            nn.MaxPool2d(kernel_size=3, stride=2),\n",
    "##        )\n",
    "##        self.avgpool = nn.AdaptiveAvgPool2d((6, 6))\n",
    "##        self.classifier = nn.Sequential(\n",
    "##            nn.Dropout(),\n",
    "##            nn.Linear(256 * 6 * 6, 4096),\n",
    "##            nn.ReLU(inplace=True),\n",
    "##            nn.Dropout(),\n",
    "##            nn.Linear(4096, 4096),\n",
    "##            nn.ReLU(inplace=True),\n",
    "##            nn.Linear(4096, num_classes),\n",
    "##        )\n",
    "##\n",
    "##    def forward(self, x):\n",
    "##        x = self.features(x)\n",
    "##        x = self.avgpool(x)\n",
    "##        x = torch.flatten(x, 1)\n",
    "##        x = self.classifier(x)\n",
    "##        return x\n",
    "##\n",
    "# Instantiate the model\n",
    "##model = AlexNet(num_classes=15).to(device)\n",
    "\n",
    "class CustomEfficientNet(nn.Module):\n",
    "    def __init__(self, num_classes=15, in_channels=3, dropout_rate=0.2):\n",
    "        super(CustomEfficientNet, self).__init__()\n",
    "\n",
    "        # Stem convolutional layer\n",
    "        self.stem = nn.Sequential(\n",
    "            nn.Conv2d(in_channels, 32, kernel_size=3, stride=2, padding=1),\n",
    "            nn.BatchNorm2d(32),\n",
    "            nn.ReLU(inplace=True)\n",
    "        )\n",
    "\n",
    "        # Blocks (similar to EfficientNet's design)\n",
    "        self.blocks = nn.Sequential(\n",
    "            EfficientBlock(32, 16, 1, 1, dropout_rate),\n",
    "            EfficientBlock(16, 24, 2, 2, dropout_rate),\n",
    "            EfficientBlock(24, 40, 2, 2, dropout_rate),\n",
    "            EfficientBlock(40, 80, 3, 2, dropout_rate),\n",
    "            EfficientBlock(80, 112, 3, 1, dropout_rate),\n",
    "            EfficientBlock(112, 192, 4, 2, dropout_rate),\n",
    "            EfficientBlock(192, 320, 1, 1, dropout_rate)\n",
    "        )\n",
    "\n",
    "        # Classifier head\n",
    "        self.classifier = nn.Sequential(\n",
    "            nn.AdaptiveAvgPool2d(1),\n",
    "            nn.Flatten(),\n",
    "            nn.Dropout(dropout_rate),\n",
    "            nn.Linear(320, num_classes)\n",
    "        )\n",
    "\n",
    "    def forward(self, x):\n",
    "        x = self.stem(x)\n",
    "        x = self.blocks(x)\n",
    "        x = self.classifier(x)\n",
    "        return x\n",
    "\n",
    "\n",
    "class EfficientBlock(nn.Module):\n",
    "    def __init__(self, in_channels, out_channels, num_layers, stride, dropout_rate):\n",
    "        super(EfficientBlock, self).__init__()\n",
    "\n",
    "        layers = []\n",
    "        for _ in range(num_layers):\n",
    "            layers.append(nn.Conv2d(in_channels, out_channels, kernel_size=3, stride=stride, padding=1))\n",
    "            layers.append(nn.BatchNorm2d(out_channels))\n",
    "            layers.append(nn.ReLU(inplace=True))\n",
    "            in_channels = out_channels\n",
    "        \n",
    "        layers.append(nn.Dropout(dropout_rate))\n",
    "        self.block = nn.Sequential(*layers)\n",
    "\n",
    "    def forward(self, x):\n",
    "        return self.block(x)\n",
    "\n",
    "\n",
    "# Print the model architecture\n",
    "model = CustomEfficientNet(num_classes=15).to(device)\n",
    "\n",
    "# Function to evaluate the model\n",
    "def evaluate_model(model, data_loader, criterion, device):\n",
    "    model.eval()\n",
    "    loss = 0.0\n",
    "    correct = 0\n",
    "    total = 0\n",
    "    with torch.no_grad():\n",
    "        for images, labels in data_loader:\n",
    "            images, labels = images.to(device), labels.to(device)\n",
    "            outputs = model(images)\n",
    "            loss += criterion(outputs, labels).item()\n",
    "            _, predicted = torch.max(outputs.data, 1)\n",
    "            total += labels.size(0)\n",
    "            correct += (predicted == labels).sum().item()\n",
    "    \n",
    "    avg_loss = loss / len(data_loader)\n",
    "    accuracy = correct / total\n",
    "    return avg_loss, accuracy\n",
    "\n",
    "# Function to train the model\n",
    "def train_model(model, train_loader, val_loader, criterion, optimizer, num_epochs, device):\n",
    "    train_losses = []\n",
    "    val_losses = []\n",
    "    train_accuracies = []\n",
    "    val_accuracies = []\n",
    "    \n",
    "    for epoch in range(num_epochs):\n",
    "        model.train()\n",
    "        running_loss = 0.0\n",
    "        correct_train = 0\n",
    "        total_train = 0\n",
    "        \n",
    "        # Use tqdm for progress display\n",
    "        progress_bar = tqdm(train_loader, desc=f'Epoch {epoch+1}/{num_epochs}')\n",
    "        \n",
    "        for images, labels in progress_bar:\n",
    "            images, labels = images.to(device), labels.to(device)\n",
    "            \n",
    "            optimizer.zero_grad()\n",
    "            outputs = model(images)\n",
    "            loss = criterion(outputs, labels)\n",
    "            loss.backward()\n",
    "            optimizer.step()\n",
    "            \n",
    "            running_loss += loss.item()\n",
    "            _, predicted = torch.max(outputs.data, 1)\n",
    "            total_train += labels.size(0)\n",
    "            correct_train += (predicted == labels).sum().item()\n",
    "            \n",
    "            progress_bar.set_postfix({'Loss': running_loss / (total_train / batch_size), 'Accuracy': correct_train / total_train})\n",
    "        \n",
    "        avg_train_loss = running_loss / len(train_loader)\n",
    "        train_accuracy = correct_train / total_train\n",
    "        \n",
    "        val_loss, val_accuracy = evaluate_model(model, val_loader, criterion, device)\n",
    "        \n",
    "        train_losses.append(avg_train_loss)\n",
    "        val_losses.append(val_loss)\n",
    "        train_accuracies.append(train_accuracy)\n",
    "        val_accuracies.append(val_accuracy)\n",
    "        \n",
    "        print(f'Epoch [{epoch+1}/{num_epochs}], Train Loss: {avg_train_loss:.4f}, Train Accuracy: {train_accuracy:.4f}, Val Loss: {val_loss:.4f}, Val Accuracy: {val_accuracy:.4f}')\n",
    "    \n",
    "    return train_losses, val_losses, train_accuracies, val_accuracies\n",
    "\n",
    "# Set hyperparameters\n",
    "num_epochs = 50\n",
    "learning_rate = 1e-3\n",
    "\n",
    "# Define criterion and optimizer\n",
    "criterion = nn.CrossEntropyLoss()\n",
    "optimizer = optim.Adam(model.parameters(), lr=learning_rate)\n",
    "\n",
    "# Train the model\n",
    "train_losses, val_losses, train_accuracies, val_accuracies = train_model(model, train_loader, val_loader, criterion, optimizer, num_epochs, device)\n",
    "\n",
    "# Evaluate on test set\n",
    "test_loss, test_accuracy = evaluate_model(model, test_loader, criterion, device)\n",
    "print(f'Test Loss: {test_loss:.4f}, Test Accuracy: {test_accuracy:.4f}')\n",
    "\n",
    "# Plotting training and validation curves\n",
    "plt.figure(figsize=(12, 4))\n",
    "plt.subplot(1, 2, 1)\n",
    "plt.plot(train_losses, label='Train Loss')\n",
    "plt.plot(val_losses, label='Val Loss')\n",
    "plt.xlabel('Epoch')\n",
    "plt.ylabel('Loss')\n",
    "plt.title('Training and Validation Losses')\n",
    "plt.legend()\n",
    "\n",
    "plt.subplot(1, 2, 2)\n",
    "plt.plot(train_accuracies, label='Train Accuracy')\n",
    "plt.plot(val_accuracies, label='Val Accuracy')\n",
    "plt.xlabel('Epoch')\n",
    "plt.ylabel('Accuracy')\n",
    "plt.title('Training and Validation Accuracies')\n",
    "plt.legend()\n",
    "\n",
    "plt.tight_layout()\n",
    "plt.show()\n"
   ]
  },
  {
   "cell_type": "code",
   "execution_count": 4,
   "metadata": {},
   "outputs": [
    {
     "name": "stdout",
     "output_type": "stream",
     "text": [
      "Class Names: [12  6 11  5 10  0 14  7  2  9  8 13  1  3  4]\n"
     ]
    },
    {
     "name": "stderr",
     "output_type": "stream",
     "text": [
      "Epoch 1/50: 100%|██████████| 104/104 [00:22<00:00,  4.53it/s, Loss=2.26, Accuracy=0.271]\n"
     ]
    },
    {
     "name": "stdout",
     "output_type": "stream",
     "text": [
      "Epoch [1/50], Train Loss: 2.2377, Train Accuracy: 0.2706, Val Loss: 1.8131, Val Accuracy: 0.4064\n"
     ]
    },
    {
     "name": "stderr",
     "output_type": "stream",
     "text": [
      "Epoch 2/50: 100%|██████████| 104/104 [00:20<00:00,  4.97it/s, Loss=1.71, Accuracy=0.448]\n"
     ]
    },
    {
     "name": "stdout",
     "output_type": "stream",
     "text": [
      "Epoch [2/50], Train Loss: 1.6935, Train Accuracy: 0.4482, Val Loss: 1.2442, Val Accuracy: 0.5796\n"
     ]
    },
    {
     "name": "stderr",
     "output_type": "stream",
     "text": [
      "Epoch 3/50: 100%|██████████| 104/104 [00:17<00:00,  5.78it/s, Loss=1.34, Accuracy=0.563]\n"
     ]
    },
    {
     "name": "stdout",
     "output_type": "stream",
     "text": [
      "Epoch [3/50], Train Loss: 1.3274, Train Accuracy: 0.5631, Val Loss: 1.2773, Val Accuracy: 0.6015\n"
     ]
    },
    {
     "name": "stderr",
     "output_type": "stream",
     "text": [
      "Epoch 4/50: 100%|██████████| 104/104 [00:18<00:00,  5.64it/s, Loss=1.17, Accuracy=0.626]\n"
     ]
    },
    {
     "name": "stdout",
     "output_type": "stream",
     "text": [
      "Epoch [4/50], Train Loss: 1.1569, Train Accuracy: 0.6256, Val Loss: 0.9863, Val Accuracy: 0.6893\n"
     ]
    },
    {
     "name": "stderr",
     "output_type": "stream",
     "text": [
      "Epoch 5/50: 100%|██████████| 104/104 [00:16<00:00,  6.14it/s, Loss=1.01, Accuracy=0.681]\n"
     ]
    },
    {
     "name": "stdout",
     "output_type": "stream",
     "text": [
      "Epoch [5/50], Train Loss: 1.0021, Train Accuracy: 0.6808, Val Loss: 0.8929, Val Accuracy: 0.7081\n"
     ]
    },
    {
     "name": "stderr",
     "output_type": "stream",
     "text": [
      "Epoch 6/50: 100%|██████████| 104/104 [00:17<00:00,  5.85it/s, Loss=0.932, Accuracy=0.706]\n"
     ]
    },
    {
     "name": "stdout",
     "output_type": "stream",
     "text": [
      "Epoch [6/50], Train Loss: 0.9244, Train Accuracy: 0.7057, Val Loss: 0.8968, Val Accuracy: 0.7244\n"
     ]
    },
    {
     "name": "stderr",
     "output_type": "stream",
     "text": [
      "Epoch 7/50: 100%|██████████| 104/104 [00:19<00:00,  5.47it/s, Loss=0.849, Accuracy=0.735]\n"
     ]
    },
    {
     "name": "stdout",
     "output_type": "stream",
     "text": [
      "Epoch [7/50], Train Loss: 0.8421, Train Accuracy: 0.7349, Val Loss: 0.6147, Val Accuracy: 0.8056\n"
     ]
    },
    {
     "name": "stderr",
     "output_type": "stream",
     "text": [
      "Epoch 8/50: 100%|██████████| 104/104 [00:18<00:00,  5.72it/s, Loss=0.797, Accuracy=0.756]\n"
     ]
    },
    {
     "name": "stdout",
     "output_type": "stream",
     "text": [
      "Epoch [8/50], Train Loss: 0.7908, Train Accuracy: 0.7563, Val Loss: 0.5581, Val Accuracy: 0.8207\n"
     ]
    },
    {
     "name": "stderr",
     "output_type": "stream",
     "text": [
      "Epoch 9/50: 100%|██████████| 104/104 [00:15<00:00,  6.73it/s, Loss=0.748, Accuracy=0.77]\n"
     ]
    },
    {
     "name": "stdout",
     "output_type": "stream",
     "text": [
      "Epoch [9/50], Train Loss: 0.7425, Train Accuracy: 0.7699, Val Loss: 0.5623, Val Accuracy: 0.8171\n"
     ]
    },
    {
     "name": "stderr",
     "output_type": "stream",
     "text": [
      "Epoch 10/50: 100%|██████████| 104/104 [00:17<00:00,  5.97it/s, Loss=0.686, Accuracy=0.789]\n"
     ]
    },
    {
     "name": "stdout",
     "output_type": "stream",
     "text": [
      "Epoch [10/50], Train Loss: 0.6802, Train Accuracy: 0.7891, Val Loss: 0.5249, Val Accuracy: 0.8207\n"
     ]
    },
    {
     "name": "stderr",
     "output_type": "stream",
     "text": [
      "Epoch 11/50: 100%|██████████| 104/104 [00:17<00:00,  6.10it/s, Loss=0.671, Accuracy=0.795]\n"
     ]
    },
    {
     "name": "stdout",
     "output_type": "stream",
     "text": [
      "Epoch [11/50], Train Loss: 0.6658, Train Accuracy: 0.7952, Val Loss: 0.4617, Val Accuracy: 0.8589\n"
     ]
    },
    {
     "name": "stderr",
     "output_type": "stream",
     "text": [
      "Epoch 12/50: 100%|██████████| 104/104 [00:18<00:00,  5.72it/s, Loss=0.63, Accuracy=0.805] \n"
     ]
    },
    {
     "name": "stdout",
     "output_type": "stream",
     "text": [
      "Epoch [12/50], Train Loss: 0.6255, Train Accuracy: 0.8045, Val Loss: 0.4914, Val Accuracy: 0.8480\n"
     ]
    },
    {
     "name": "stderr",
     "output_type": "stream",
     "text": [
      "Epoch 13/50: 100%|██████████| 104/104 [00:16<00:00,  6.29it/s, Loss=0.602, Accuracy=0.819]\n"
     ]
    },
    {
     "name": "stdout",
     "output_type": "stream",
     "text": [
      "Epoch [13/50], Train Loss: 0.5970, Train Accuracy: 0.8189, Val Loss: 0.5435, Val Accuracy: 0.8310\n"
     ]
    },
    {
     "name": "stderr",
     "output_type": "stream",
     "text": [
      "Epoch 14/50: 100%|██████████| 104/104 [00:17<00:00,  5.89it/s, Loss=0.569, Accuracy=0.83]\n"
     ]
    },
    {
     "name": "stdout",
     "output_type": "stream",
     "text": [
      "Epoch [14/50], Train Loss: 0.5643, Train Accuracy: 0.8297, Val Loss: 0.3890, Val Accuracy: 0.8855\n"
     ]
    },
    {
     "name": "stderr",
     "output_type": "stream",
     "text": [
      "Epoch 15/50: 100%|██████████| 104/104 [00:18<00:00,  5.57it/s, Loss=0.541, Accuracy=0.835]\n"
     ]
    },
    {
     "name": "stdout",
     "output_type": "stream",
     "text": [
      "Epoch [15/50], Train Loss: 0.5370, Train Accuracy: 0.8350, Val Loss: 0.4283, Val Accuracy: 0.8698\n"
     ]
    },
    {
     "name": "stderr",
     "output_type": "stream",
     "text": [
      "Epoch 16/50: 100%|██████████| 104/104 [00:17<00:00,  6.02it/s, Loss=0.544, Accuracy=0.843]\n"
     ]
    },
    {
     "name": "stdout",
     "output_type": "stream",
     "text": [
      "Epoch [16/50], Train Loss: 0.5394, Train Accuracy: 0.8427, Val Loss: 0.3435, Val Accuracy: 0.8952\n"
     ]
    },
    {
     "name": "stderr",
     "output_type": "stream",
     "text": [
      "Epoch 17/50: 100%|██████████| 104/104 [00:17<00:00,  5.79it/s, Loss=0.503, Accuracy=0.852]\n"
     ]
    },
    {
     "name": "stdout",
     "output_type": "stream",
     "text": [
      "Epoch [17/50], Train Loss: 0.4993, Train Accuracy: 0.8515, Val Loss: 0.3718, Val Accuracy: 0.8898\n"
     ]
    },
    {
     "name": "stderr",
     "output_type": "stream",
     "text": [
      "Epoch 18/50: 100%|██████████| 104/104 [00:16<00:00,  6.15it/s, Loss=0.477, Accuracy=0.86]\n"
     ]
    },
    {
     "name": "stdout",
     "output_type": "stream",
     "text": [
      "Epoch [18/50], Train Loss: 0.4736, Train Accuracy: 0.8597, Val Loss: 0.4142, Val Accuracy: 0.8843\n"
     ]
    },
    {
     "name": "stderr",
     "output_type": "stream",
     "text": [
      "Epoch 19/50: 100%|██████████| 104/104 [00:17<00:00,  5.79it/s, Loss=0.496, Accuracy=0.851]\n"
     ]
    },
    {
     "name": "stdout",
     "output_type": "stream",
     "text": [
      "Epoch [19/50], Train Loss: 0.4918, Train Accuracy: 0.8513, Val Loss: 0.3574, Val Accuracy: 0.8970\n"
     ]
    },
    {
     "name": "stderr",
     "output_type": "stream",
     "text": [
      "Epoch 20/50: 100%|██████████| 104/104 [00:17<00:00,  6.10it/s, Loss=0.47, Accuracy=0.864] \n"
     ]
    },
    {
     "name": "stdout",
     "output_type": "stream",
     "text": [
      "Epoch [20/50], Train Loss: 0.4664, Train Accuracy: 0.8636, Val Loss: 0.5162, Val Accuracy: 0.8516\n"
     ]
    },
    {
     "name": "stderr",
     "output_type": "stream",
     "text": [
      "Epoch 21/50: 100%|██████████| 104/104 [00:16<00:00,  6.26it/s, Loss=0.454, Accuracy=0.867]\n"
     ]
    },
    {
     "name": "stdout",
     "output_type": "stream",
     "text": [
      "Epoch [21/50], Train Loss: 0.4504, Train Accuracy: 0.8665, Val Loss: 0.5181, Val Accuracy: 0.8480\n"
     ]
    },
    {
     "name": "stderr",
     "output_type": "stream",
     "text": [
      "Epoch 22/50: 100%|██████████| 104/104 [00:17<00:00,  6.01it/s, Loss=0.43, Accuracy=0.878]\n"
     ]
    },
    {
     "name": "stdout",
     "output_type": "stream",
     "text": [
      "Epoch [22/50], Train Loss: 0.4264, Train Accuracy: 0.8776, Val Loss: 0.2858, Val Accuracy: 0.9140\n"
     ]
    },
    {
     "name": "stderr",
     "output_type": "stream",
     "text": [
      "Epoch 23/50: 100%|██████████| 104/104 [00:16<00:00,  6.17it/s, Loss=0.421, Accuracy=0.877]\n"
     ]
    },
    {
     "name": "stdout",
     "output_type": "stream",
     "text": [
      "Epoch [23/50], Train Loss: 0.4182, Train Accuracy: 0.8767, Val Loss: 0.3971, Val Accuracy: 0.8910\n"
     ]
    },
    {
     "name": "stderr",
     "output_type": "stream",
     "text": [
      "Epoch 24/50: 100%|██████████| 104/104 [00:16<00:00,  6.30it/s, Loss=0.411, Accuracy=0.879]\n"
     ]
    },
    {
     "name": "stdout",
     "output_type": "stream",
     "text": [
      "Epoch [24/50], Train Loss: 0.4075, Train Accuracy: 0.8786, Val Loss: 0.2636, Val Accuracy: 0.9297\n"
     ]
    },
    {
     "name": "stderr",
     "output_type": "stream",
     "text": [
      "Epoch 25/50: 100%|██████████| 104/104 [00:17<00:00,  5.80it/s, Loss=0.407, Accuracy=0.883]\n"
     ]
    },
    {
     "name": "stdout",
     "output_type": "stream",
     "text": [
      "Epoch [25/50], Train Loss: 0.4038, Train Accuracy: 0.8828, Val Loss: 0.2826, Val Accuracy: 0.9104\n"
     ]
    },
    {
     "name": "stderr",
     "output_type": "stream",
     "text": [
      "Epoch 26/50: 100%|██████████| 104/104 [00:18<00:00,  5.68it/s, Loss=0.389, Accuracy=0.884]\n"
     ]
    },
    {
     "name": "stdout",
     "output_type": "stream",
     "text": [
      "Epoch [26/50], Train Loss: 0.3861, Train Accuracy: 0.8841, Val Loss: 0.2616, Val Accuracy: 0.9194\n"
     ]
    },
    {
     "name": "stderr",
     "output_type": "stream",
     "text": [
      "Epoch 27/50: 100%|██████████| 104/104 [00:18<00:00,  5.62it/s, Loss=0.366, Accuracy=0.892]\n"
     ]
    },
    {
     "name": "stdout",
     "output_type": "stream",
     "text": [
      "Epoch [27/50], Train Loss: 0.3633, Train Accuracy: 0.8924, Val Loss: 0.2866, Val Accuracy: 0.9176\n"
     ]
    },
    {
     "name": "stderr",
     "output_type": "stream",
     "text": [
      "Epoch 28/50: 100%|██████████| 104/104 [00:21<00:00,  4.84it/s, Loss=0.375, Accuracy=0.891]\n"
     ]
    },
    {
     "name": "stdout",
     "output_type": "stream",
     "text": [
      "Epoch [28/50], Train Loss: 0.3717, Train Accuracy: 0.8906, Val Loss: 0.3464, Val Accuracy: 0.9013\n"
     ]
    },
    {
     "name": "stderr",
     "output_type": "stream",
     "text": [
      "Epoch 29/50: 100%|██████████| 104/104 [00:20<00:00,  5.10it/s, Loss=0.346, Accuracy=0.9] \n"
     ]
    },
    {
     "name": "stdout",
     "output_type": "stream",
     "text": [
      "Epoch [29/50], Train Loss: 0.3436, Train Accuracy: 0.9002, Val Loss: 0.3480, Val Accuracy: 0.9013\n"
     ]
    },
    {
     "name": "stderr",
     "output_type": "stream",
     "text": [
      "Epoch 30/50: 100%|██████████| 104/104 [00:19<00:00,  5.45it/s, Loss=0.352, Accuracy=0.899]\n"
     ]
    },
    {
     "name": "stdout",
     "output_type": "stream",
     "text": [
      "Epoch [30/50], Train Loss: 0.3496, Train Accuracy: 0.8988, Val Loss: 0.2460, Val Accuracy: 0.9322\n"
     ]
    },
    {
     "name": "stderr",
     "output_type": "stream",
     "text": [
      "Epoch 31/50: 100%|██████████| 104/104 [00:19<00:00,  5.21it/s, Loss=0.323, Accuracy=0.904]\n"
     ]
    },
    {
     "name": "stdout",
     "output_type": "stream",
     "text": [
      "Epoch [31/50], Train Loss: 0.3204, Train Accuracy: 0.9038, Val Loss: 0.2853, Val Accuracy: 0.9279\n"
     ]
    },
    {
     "name": "stderr",
     "output_type": "stream",
     "text": [
      "Epoch 32/50: 100%|██████████| 104/104 [00:20<00:00,  5.17it/s, Loss=0.331, Accuracy=0.905]\n"
     ]
    },
    {
     "name": "stdout",
     "output_type": "stream",
     "text": [
      "Epoch [32/50], Train Loss: 0.3281, Train Accuracy: 0.9052, Val Loss: 0.3722, Val Accuracy: 0.8976\n"
     ]
    },
    {
     "name": "stderr",
     "output_type": "stream",
     "text": [
      "Epoch 33/50: 100%|██████████| 104/104 [00:21<00:00,  4.95it/s, Loss=0.34, Accuracy=0.906] \n"
     ]
    },
    {
     "name": "stdout",
     "output_type": "stream",
     "text": [
      "Epoch [33/50], Train Loss: 0.3373, Train Accuracy: 0.9058, Val Loss: 0.2811, Val Accuracy: 0.9249\n"
     ]
    },
    {
     "name": "stderr",
     "output_type": "stream",
     "text": [
      "Epoch 34/50: 100%|██████████| 104/104 [00:20<00:00,  5.15it/s, Loss=0.296, Accuracy=0.919]\n"
     ]
    },
    {
     "name": "stdout",
     "output_type": "stream",
     "text": [
      "Epoch [34/50], Train Loss: 0.2936, Train Accuracy: 0.9186, Val Loss: 0.2699, Val Accuracy: 0.9249\n"
     ]
    },
    {
     "name": "stderr",
     "output_type": "stream",
     "text": [
      "Epoch 35/50: 100%|██████████| 104/104 [00:25<00:00,  4.02it/s, Loss=0.315, Accuracy=0.913]\n"
     ]
    },
    {
     "name": "stdout",
     "output_type": "stream",
     "text": [
      "Epoch [35/50], Train Loss: 0.3125, Train Accuracy: 0.9130, Val Loss: 0.2700, Val Accuracy: 0.9237\n"
     ]
    },
    {
     "name": "stderr",
     "output_type": "stream",
     "text": [
      "Epoch 36/50: 100%|██████████| 104/104 [00:23<00:00,  4.47it/s, Loss=0.315, Accuracy=0.909]\n"
     ]
    },
    {
     "name": "stdout",
     "output_type": "stream",
     "text": [
      "Epoch [36/50], Train Loss: 0.3127, Train Accuracy: 0.9089, Val Loss: 0.2226, Val Accuracy: 0.9431\n"
     ]
    },
    {
     "name": "stderr",
     "output_type": "stream",
     "text": [
      "Epoch 37/50: 100%|██████████| 104/104 [00:23<00:00,  4.44it/s, Loss=0.291, Accuracy=0.917]\n"
     ]
    },
    {
     "name": "stdout",
     "output_type": "stream",
     "text": [
      "Epoch [37/50], Train Loss: 0.2888, Train Accuracy: 0.9170, Val Loss: 0.2196, Val Accuracy: 0.9412\n"
     ]
    },
    {
     "name": "stderr",
     "output_type": "stream",
     "text": [
      "Epoch 38/50: 100%|██████████| 104/104 [00:22<00:00,  4.55it/s, Loss=0.273, Accuracy=0.921]\n"
     ]
    },
    {
     "name": "stdout",
     "output_type": "stream",
     "text": [
      "Epoch [38/50], Train Loss: 0.2706, Train Accuracy: 0.9214, Val Loss: 0.3132, Val Accuracy: 0.9061\n"
     ]
    },
    {
     "name": "stderr",
     "output_type": "stream",
     "text": [
      "Epoch 39/50: 100%|██████████| 104/104 [00:22<00:00,  4.66it/s, Loss=0.286, Accuracy=0.917]\n"
     ]
    },
    {
     "name": "stdout",
     "output_type": "stream",
     "text": [
      "Epoch [39/50], Train Loss: 0.2842, Train Accuracy: 0.9175, Val Loss: 0.4056, Val Accuracy: 0.8886\n"
     ]
    },
    {
     "name": "stderr",
     "output_type": "stream",
     "text": [
      "Epoch 40/50: 100%|██████████| 104/104 [00:22<00:00,  4.57it/s, Loss=0.292, Accuracy=0.919]\n"
     ]
    },
    {
     "name": "stdout",
     "output_type": "stream",
     "text": [
      "Epoch [40/50], Train Loss: 0.2896, Train Accuracy: 0.9194, Val Loss: 0.2221, Val Accuracy: 0.9394\n"
     ]
    },
    {
     "name": "stderr",
     "output_type": "stream",
     "text": [
      "Epoch 41/50: 100%|██████████| 104/104 [00:22<00:00,  4.57it/s, Loss=0.275, Accuracy=0.921]\n"
     ]
    },
    {
     "name": "stdout",
     "output_type": "stream",
     "text": [
      "Epoch [41/50], Train Loss: 0.2730, Train Accuracy: 0.9210, Val Loss: 0.2136, Val Accuracy: 0.9473\n"
     ]
    },
    {
     "name": "stderr",
     "output_type": "stream",
     "text": [
      "Epoch 42/50: 100%|██████████| 104/104 [00:23<00:00,  4.35it/s, Loss=0.275, Accuracy=0.92]\n"
     ]
    },
    {
     "name": "stdout",
     "output_type": "stream",
     "text": [
      "Epoch [42/50], Train Loss: 0.2733, Train Accuracy: 0.9195, Val Loss: 0.2155, Val Accuracy: 0.9425\n"
     ]
    },
    {
     "name": "stderr",
     "output_type": "stream",
     "text": [
      "Epoch 43/50: 100%|██████████| 104/104 [00:23<00:00,  4.42it/s, Loss=0.269, Accuracy=0.924]\n"
     ]
    },
    {
     "name": "stdout",
     "output_type": "stream",
     "text": [
      "Epoch [43/50], Train Loss: 0.2670, Train Accuracy: 0.9239, Val Loss: 0.2392, Val Accuracy: 0.9310\n"
     ]
    },
    {
     "name": "stderr",
     "output_type": "stream",
     "text": [
      "Epoch 44/50: 100%|██████████| 104/104 [00:25<00:00,  4.14it/s, Loss=0.257, Accuracy=0.929]\n"
     ]
    },
    {
     "name": "stdout",
     "output_type": "stream",
     "text": [
      "Epoch [44/50], Train Loss: 0.2547, Train Accuracy: 0.9288, Val Loss: 0.2810, Val Accuracy: 0.9273\n"
     ]
    },
    {
     "name": "stderr",
     "output_type": "stream",
     "text": [
      "Epoch 45/50: 100%|██████████| 104/104 [00:24<00:00,  4.29it/s, Loss=0.251, Accuracy=0.933]\n"
     ]
    },
    {
     "name": "stdout",
     "output_type": "stream",
     "text": [
      "Epoch [45/50], Train Loss: 0.2492, Train Accuracy: 0.9331, Val Loss: 0.2125, Val Accuracy: 0.9431\n"
     ]
    },
    {
     "name": "stderr",
     "output_type": "stream",
     "text": [
      "Epoch 46/50: 100%|██████████| 104/104 [00:24<00:00,  4.28it/s, Loss=0.224, Accuracy=0.936]\n"
     ]
    },
    {
     "name": "stdout",
     "output_type": "stream",
     "text": [
      "Epoch [46/50], Train Loss: 0.2218, Train Accuracy: 0.9364, Val Loss: 0.2366, Val Accuracy: 0.9346\n"
     ]
    },
    {
     "name": "stderr",
     "output_type": "stream",
     "text": [
      "Epoch 47/50: 100%|██████████| 104/104 [00:23<00:00,  4.45it/s, Loss=0.248, Accuracy=0.931]\n"
     ]
    },
    {
     "name": "stdout",
     "output_type": "stream",
     "text": [
      "Epoch [47/50], Train Loss: 0.2461, Train Accuracy: 0.9314, Val Loss: 0.2538, Val Accuracy: 0.9297\n"
     ]
    },
    {
     "name": "stderr",
     "output_type": "stream",
     "text": [
      "Epoch 48/50: 100%|██████████| 104/104 [00:23<00:00,  4.46it/s, Loss=0.246, Accuracy=0.93]\n"
     ]
    },
    {
     "name": "stdout",
     "output_type": "stream",
     "text": [
      "Epoch [48/50], Train Loss: 0.2437, Train Accuracy: 0.9297, Val Loss: 0.1908, Val Accuracy: 0.9540\n"
     ]
    },
    {
     "name": "stderr",
     "output_type": "stream",
     "text": [
      "Epoch 49/50: 100%|██████████| 104/104 [00:22<00:00,  4.59it/s, Loss=0.239, Accuracy=0.935]\n"
     ]
    },
    {
     "name": "stdout",
     "output_type": "stream",
     "text": [
      "Epoch [49/50], Train Loss: 0.2372, Train Accuracy: 0.9349, Val Loss: 0.1940, Val Accuracy: 0.9406\n"
     ]
    },
    {
     "name": "stderr",
     "output_type": "stream",
     "text": [
      "Epoch 50/50: 100%|██████████| 104/104 [00:25<00:00,  4.11it/s, Loss=0.244, Accuracy=0.933]\n"
     ]
    },
    {
     "name": "stdout",
     "output_type": "stream",
     "text": [
      "Epoch [50/50], Train Loss: 0.2420, Train Accuracy: 0.9328, Val Loss: 0.4290, Val Accuracy: 0.8879\n",
      "Test Loss: 0.3987, Test Accuracy: 0.8837\n"
     ]
    },
    {
     "data": {
      "image/png": "[encoded data removed]",
      "text/plain": [
       "<Figure size 1200x400 with 2 Axes>"
      ]
     },
     "metadata": {},
     "output_type": "display_data"
    }
   ],
   "source": [
    "import torch\n",
    "import torch.nn as nn\n",
    "import torch.optim as optim\n",
    "from torch.utils.data import DataLoader, Dataset\n",
    "from torchvision import transforms\n",
    "from tqdm import tqdm\n",
    "import pandas as pd\n",
    "from PIL import Image\n",
    "import os\n",
    "from sklearn.model_selection import train_test_split\n",
    "import matplotlib.pyplot as plt\n",
    "\n",
    "# Check if GPU is available and set device\n",
    "device = torch.device(\"cuda\" if torch.cuda.is_available() else \"cpu\")\n",
    "\n",
    "# Define data transforms with 64x64 image size\n",
    "transform = transforms.Compose([\n",
    "    transforms.Resize((64, 64)),  # Resize to 64x64\n",
    "    transforms.ToTensor(),\n",
    "    transforms.Normalize(mean=[0.485, 0.456, 0.406], std=[0.229, 0.224, 0.225])\n",
    "])\n",
    "\n",
    "# Define the directory path\n",
    "data_dir = r\"C:\\Users\\user\\Desktop\\plant\\boc\"\n",
    "\n",
    "# Load one CSV file\n",
    "csv_file = 'fold_2_train.csv'\n",
    "\n",
    "# Define a custom dataset class for CSV loading\n",
    "class CustomDataset(Dataset):\n",
    "    def __init__(self, csv_file, root_dir, transform=None):\n",
    "        self.data = pd.read_csv(csv_file)\n",
    "        self.root_dir = root_dir\n",
    "        self.transform = transform\n",
    "\n",
    "    def __len__(self):\n",
    "        return len(self.data)\n",
    "\n",
    "    def __getitem__(self, idx):\n",
    "        try:\n",
    "            img_name = os.path.join(self.root_dir, str(self.data.iloc[idx, 0]))  # Access image_path using index 0\n",
    "            image = Image.open(img_name).convert('RGB')  # Ensure images are in RGB mode\n",
    "            label = self.data.iloc[idx, 1]  # Access class_label using index 1\n",
    "        except Exception as e:\n",
    "            print(f\"Error accessing image at index {idx}: {e}\")\n",
    "            return None\n",
    "\n",
    "        if self.transform:\n",
    "            image = self.transform(image)\n",
    "\n",
    "        return image, label\n",
    "\n",
    "# Load the dataset using CustomDataset\n",
    "dataset = CustomDataset(csv_file=os.path.join(data_dir, csv_file), root_dir=data_dir, transform=transform)\n",
    "\n",
    "# Split dataset into train, validation, and test sets\n",
    "train_size = 0.8\n",
    "val_size = 0.1\n",
    "test_size = 1 - train_size - val_size\n",
    "\n",
    "train_dataset, temp_dataset = train_test_split(dataset, test_size=1 - train_size, random_state=42)\n",
    "val_dataset, test_dataset = train_test_split(temp_dataset, test_size=test_size / (val_size + test_size), random_state=42)\n",
    "\n",
    "# Create data loaders for each set\n",
    "batch_size = 128\n",
    "train_loader = DataLoader(train_dataset, batch_size=batch_size, shuffle=True, num_workers=4, pin_memory=True)\n",
    "val_loader = DataLoader(val_dataset, batch_size=batch_size, shuffle=False, num_workers=4, pin_memory=True)\n",
    "test_loader = DataLoader(test_dataset, batch_size=batch_size, shuffle=False, num_workers=4, pin_memory=True)\n",
    "\n",
    "\n",
    "\n",
    "# Print class names (assuming it's available in the dataset)\n",
    "print(\"Class Names:\", pd.Series([data[1] for data in train_dataset]).unique())\n",
    "##\n",
    "### Define the model architecture\n",
    "##class AlexNet(nn.Module):\n",
    "##    def __init__(self, num_classes=15):\n",
    "##        super(AlexNet, self).__init__()\n",
    "##        self.features = nn.Sequential(\n",
    "##            nn.Conv2d(3, 64, kernel_size=11, stride=4, padding=2),\n",
    "##            nn.ReLU(inplace=True),\n",
    "##            nn.MaxPool2d(kernel_size=3, stride=2),\n",
    "##            nn.Conv2d(64, 192, kernel_size=5, padding=2),\n",
    "##            nn.ReLU(inplace=True),\n",
    "##            nn.MaxPool2d(kernel_size=3, stride=2),\n",
    "##            nn.Conv2d(192, 384, kernel_size=3, padding=1),\n",
    "##            nn.ReLU(inplace=True),\n",
    "##            nn.Conv2d(384, 256, kernel_size=3, padding=1),\n",
    "##            nn.ReLU(inplace=True),\n",
    "##            nn.Conv2d(256, 256, kernel_size=3, padding=1),\n",
    "##            nn.ReLU(inplace=True),\n",
    "##            nn.MaxPool2d(kernel_size=3, stride=2),\n",
    "##        )\n",
    "##        self.avgpool = nn.AdaptiveAvgPool2d((6, 6))\n",
    "##        self.classifier = nn.Sequential(\n",
    "##            nn.Dropout(),\n",
    "##            nn.Linear(256 * 6 * 6, 4096),\n",
    "##            nn.ReLU(inplace=True),\n",
    "##            nn.Dropout(),\n",
    "##            nn.Linear(4096, 4096),\n",
    "##            nn.ReLU(inplace=True),\n",
    "##            nn.Linear(4096, num_classes),\n",
    "##        )\n",
    "##\n",
    "##    def forward(self, x):\n",
    "##        x = self.features(x)\n",
    "##        x = self.avgpool(x)\n",
    "##        x = torch.flatten(x, 1)\n",
    "##        x = self.classifier(x)\n",
    "##        return x\n",
    "##\n",
    "# Instantiate the model\n",
    "##model = AlexNet(num_classes=15).to(device)\n",
    "\n",
    "class CustomEfficientNet(nn.Module):\n",
    "    def __init__(self, num_classes=15, in_channels=3, dropout_rate=0.2):\n",
    "        super(CustomEfficientNet, self).__init__()\n",
    "\n",
    "        # Stem convolutional layer\n",
    "        self.stem = nn.Sequential(\n",
    "            nn.Conv2d(in_channels, 32, kernel_size=3, stride=2, padding=1),\n",
    "            nn.BatchNorm2d(32),\n",
    "            nn.ReLU(inplace=True)\n",
    "        )\n",
    "\n",
    "        # Blocks (similar to EfficientNet's design)\n",
    "        self.blocks = nn.Sequential(\n",
    "            EfficientBlock(32, 16, 1, 1, dropout_rate),\n",
    "            EfficientBlock(16, 24, 2, 2, dropout_rate),\n",
    "            EfficientBlock(24, 40, 2, 2, dropout_rate),\n",
    "            EfficientBlock(40, 80, 3, 2, dropout_rate),\n",
    "            EfficientBlock(80, 112, 3, 1, dropout_rate),\n",
    "            EfficientBlock(112, 192, 4, 2, dropout_rate),\n",
    "            EfficientBlock(192, 320, 1, 1, dropout_rate)\n",
    "        )\n",
    "\n",
    "        # Classifier head\n",
    "        self.classifier = nn.Sequential(\n",
    "            nn.AdaptiveAvgPool2d(1),\n",
    "            nn.Flatten(),\n",
    "            nn.Dropout(dropout_rate),\n",
    "            nn.Linear(320, num_classes)\n",
    "        )\n",
    "\n",
    "    def forward(self, x):\n",
    "        x = self.stem(x)\n",
    "        x = self.blocks(x)\n",
    "        x = self.classifier(x)\n",
    "        return x\n",
    "\n",
    "\n",
    "class EfficientBlock(nn.Module):\n",
    "    def __init__(self, in_channels, out_channels, num_layers, stride, dropout_rate):\n",
    "        super(EfficientBlock, self).__init__()\n",
    "\n",
    "        layers = []\n",
    "        for _ in range(num_layers):\n",
    "            layers.append(nn.Conv2d(in_channels, out_channels, kernel_size=3, stride=stride, padding=1))\n",
    "            layers.append(nn.BatchNorm2d(out_channels))\n",
    "            layers.append(nn.ReLU(inplace=True))\n",
    "            in_channels = out_channels\n",
    "        \n",
    "        layers.append(nn.Dropout(dropout_rate))\n",
    "        self.block = nn.Sequential(*layers)\n",
    "\n",
    "    def forward(self, x):\n",
    "        return self.block(x)\n",
    "\n",
    "\n",
    "# Print the model architecture\n",
    "model = CustomEfficientNet(num_classes=15).to(device)\n",
    "\n",
    "# Function to evaluate the model\n",
    "def evaluate_model(model, data_loader, criterion, device):\n",
    "    model.eval()\n",
    "    loss = 0.0\n",
    "    correct = 0\n",
    "    total = 0\n",
    "    with torch.no_grad():\n",
    "        for images, labels in data_loader:\n",
    "            images, labels = images.to(device), labels.to(device)\n",
    "            outputs = model(images)\n",
    "            loss += criterion(outputs, labels).item()\n",
    "            _, predicted = torch.max(outputs.data, 1)\n",
    "            total += labels.size(0)\n",
    "            correct += (predicted == labels).sum().item()\n",
    "    \n",
    "    avg_loss = loss / len(data_loader)\n",
    "    accuracy = correct / total\n",
    "    return avg_loss, accuracy\n",
    "\n",
    "# Function to train the model\n",
    "def train_model(model, train_loader, val_loader, criterion, optimizer, num_epochs, device):\n",
    "    train_losses = []\n",
    "    val_losses = []\n",
    "    train_accuracies = []\n",
    "    val_accuracies = []\n",
    "    \n",
    "    for epoch in range(num_epochs):\n",
    "        model.train()\n",
    "        running_loss = 0.0\n",
    "        correct_train = 0\n",
    "        total_train = 0\n",
    "        \n",
    "        # Use tqdm for progress display\n",
    "        progress_bar = tqdm(train_loader, desc=f'Epoch {epoch+1}/{num_epochs}')\n",
    "        \n",
    "        for images, labels in progress_bar:\n",
    "            images, labels = images.to(device), labels.to(device)\n",
    "            \n",
    "            optimizer.zero_grad()\n",
    "            outputs = model(images)\n",
    "            loss = criterion(outputs, labels)\n",
    "            loss.backward()\n",
    "            optimizer.step()\n",
    "            \n",
    "            running_loss += loss.item()\n",
    "            _, predicted = torch.max(outputs.data, 1)\n",
    "            total_train += labels.size(0)\n",
    "            correct_train += (predicted == labels).sum().item()\n",
    "            \n",
    "            progress_bar.set_postfix({'Loss': running_loss / (total_train / batch_size), 'Accuracy': correct_train / total_train})\n",
    "        \n",
    "        avg_train_loss = running_loss / len(train_loader)\n",
    "        train_accuracy = correct_train / total_train\n",
    "        \n",
    "        val_loss, val_accuracy = evaluate_model(model, val_loader, criterion, device)\n",
    "        \n",
    "        train_losses.append(avg_train_loss)\n",
    "        val_losses.append(val_loss)\n",
    "        train_accuracies.append(train_accuracy)\n",
    "        val_accuracies.append(val_accuracy)\n",
    "        \n",
    "        print(f'Epoch [{epoch+1}/{num_epochs}], Train Loss: {avg_train_loss:.4f}, Train Accuracy: {train_accuracy:.4f}, Val Loss: {val_loss:.4f}, Val Accuracy: {val_accuracy:.4f}')\n",
    "    \n",
    "    return train_losses, val_losses, train_accuracies, val_accuracies\n",
    "\n",
    "# Set hyperparameters\n",
    "num_epochs = 50\n",
    "learning_rate = 1e-3\n",
    "\n",
    "# Define criterion and optimizer\n",
    "criterion = nn.CrossEntropyLoss()\n",
    "optimizer = optim.Adam(model.parameters(), lr=learning_rate)\n",
    "\n",
    "# Train the model\n",
    "train_losses, val_losses, train_accuracies, val_accuracies = train_model(model, train_loader, val_loader, criterion, optimizer, num_epochs, device)\n",
    "\n",
    "# Evaluate on test set\n",
    "test_loss, test_accuracy = evaluate_model(model, test_loader, criterion, device)\n",
    "print(f'Test Loss: {test_loss:.4f}, Test Accuracy: {test_accuracy:.4f}')\n",
    "\n",
    "# Plotting training and validation curves\n",
    "plt.figure(figsize=(12, 4))\n",
    "plt.subplot(1, 2, 1)\n",
    "plt.plot(train_losses, label='Train Loss')\n",
    "plt.plot(val_losses, label='Val Loss')\n",
    "plt.xlabel('Epoch')\n",
    "plt.ylabel('Loss')\n",
    "plt.title('Training and Validation Losses')\n",
    "plt.legend()\n",
    "\n",
    "plt.subplot(1, 2, 2)\n",
    "plt.plot(train_accuracies, label='Train Accuracy')\n",
    "plt.plot(val_accuracies, label='Val Accuracy')\n",
    "plt.xlabel('Epoch')\n",
    "plt.ylabel('Accuracy')\n",
    "plt.title('Training and Validation Accuracies')\n",
    "plt.legend()\n",
    "\n",
    "plt.tight_layout()\n",
    "plt.show()\n"
   ]
  },
  {
   "cell_type": "code",
   "execution_count": 5,
   "metadata": {},
   "outputs": [
    {
     "name": "stdout",
     "output_type": "stream",
     "text": [
      "Class Names: [12  6 11  5 10  0 14  7  2  9  8 13  1  3  4]\n"
     ]
    },
    {
     "name": "stderr",
     "output_type": "stream",
     "text": [
      "Epoch 1/50: 100%|██████████| 104/104 [00:24<00:00,  4.20it/s, Loss=2.3, Accuracy=0.241]\n"
     ]
    },
    {
     "name": "stdout",
     "output_type": "stream",
     "text": [
      "Epoch [1/50], Train Loss: 2.2833, Train Accuracy: 0.2408, Val Loss: 1.9495, Val Accuracy: 0.3507\n"
     ]
    },
    {
     "name": "stderr",
     "output_type": "stream",
     "text": [
      "Epoch 2/50: 100%|██████████| 104/104 [00:13<00:00,  7.54it/s, Loss=1.8, Accuracy=0.409] \n"
     ]
    },
    {
     "name": "stdout",
     "output_type": "stream",
     "text": [
      "Epoch [2/50], Train Loss: 1.7869, Train Accuracy: 0.4092, Val Loss: 1.4535, Val Accuracy: 0.5209\n"
     ]
    },
    {
     "name": "stderr",
     "output_type": "stream",
     "text": [
      "Epoch 3/50: 100%|██████████| 104/104 [00:13<00:00,  7.46it/s, Loss=1.43, Accuracy=0.529]\n"
     ]
    },
    {
     "name": "stdout",
     "output_type": "stream",
     "text": [
      "Epoch [3/50], Train Loss: 1.4197, Train Accuracy: 0.5295, Val Loss: 1.1958, Val Accuracy: 0.6093\n"
     ]
    },
    {
     "name": "stderr",
     "output_type": "stream",
     "text": [
      "Epoch 4/50: 100%|██████████| 104/104 [00:15<00:00,  6.57it/s, Loss=1.23, Accuracy=0.602]\n"
     ]
    },
    {
     "name": "stdout",
     "output_type": "stream",
     "text": [
      "Epoch [4/50], Train Loss: 1.2176, Train Accuracy: 0.6018, Val Loss: 0.9481, Val Accuracy: 0.6887\n"
     ]
    },
    {
     "name": "stderr",
     "output_type": "stream",
     "text": [
      "Epoch 5/50: 100%|██████████| 104/104 [00:17<00:00,  5.92it/s, Loss=1.1, Accuracy=0.654]\n"
     ]
    },
    {
     "name": "stdout",
     "output_type": "stream",
     "text": [
      "Epoch [5/50], Train Loss: 1.0954, Train Accuracy: 0.6535, Val Loss: 0.7962, Val Accuracy: 0.7474\n"
     ]
    },
    {
     "name": "stderr",
     "output_type": "stream",
     "text": [
      "Epoch 6/50: 100%|██████████| 104/104 [00:14<00:00,  7.17it/s, Loss=0.993, Accuracy=0.691]\n"
     ]
    },
    {
     "name": "stdout",
     "output_type": "stream",
     "text": [
      "Epoch [6/50], Train Loss: 0.9856, Train Accuracy: 0.6914, Val Loss: 0.7635, Val Accuracy: 0.7438\n"
     ]
    },
    {
     "name": "stderr",
     "output_type": "stream",
     "text": [
      "Epoch 7/50: 100%|██████████| 104/104 [00:13<00:00,  7.48it/s, Loss=0.906, Accuracy=0.719]\n"
     ]
    },
    {
     "name": "stdout",
     "output_type": "stream",
     "text": [
      "Epoch [7/50], Train Loss: 0.8991, Train Accuracy: 0.7194, Val Loss: 0.7505, Val Accuracy: 0.7486\n"
     ]
    },
    {
     "name": "stderr",
     "output_type": "stream",
     "text": [
      "Epoch 8/50: 100%|██████████| 104/104 [00:15<00:00,  6.78it/s, Loss=0.854, Accuracy=0.737]\n"
     ]
    },
    {
     "name": "stdout",
     "output_type": "stream",
     "text": [
      "Epoch [8/50], Train Loss: 0.8474, Train Accuracy: 0.7372, Val Loss: 0.6877, Val Accuracy: 0.7765\n"
     ]
    },
    {
     "name": "stderr",
     "output_type": "stream",
     "text": [
      "Epoch 9/50: 100%|██████████| 104/104 [00:16<00:00,  6.36it/s, Loss=0.799, Accuracy=0.748]\n"
     ]
    },
    {
     "name": "stdout",
     "output_type": "stream",
     "text": [
      "Epoch [9/50], Train Loss: 0.7932, Train Accuracy: 0.7484, Val Loss: 0.6688, Val Accuracy: 0.7989\n"
     ]
    },
    {
     "name": "stderr",
     "output_type": "stream",
     "text": [
      "Epoch 10/50: 100%|██████████| 104/104 [00:15<00:00,  6.83it/s, Loss=0.746, Accuracy=0.769]\n"
     ]
    },
    {
     "name": "stdout",
     "output_type": "stream",
     "text": [
      "Epoch [10/50], Train Loss: 0.7397, Train Accuracy: 0.7693, Val Loss: 0.7024, Val Accuracy: 0.7759\n"
     ]
    },
    {
     "name": "stderr",
     "output_type": "stream",
     "text": [
      "Epoch 11/50: 100%|██████████| 104/104 [00:16<00:00,  6.28it/s, Loss=0.706, Accuracy=0.787]\n"
     ]
    },
    {
     "name": "stdout",
     "output_type": "stream",
     "text": [
      "Epoch [11/50], Train Loss: 0.7003, Train Accuracy: 0.7867, Val Loss: 0.6243, Val Accuracy: 0.8080\n"
     ]
    },
    {
     "name": "stderr",
     "output_type": "stream",
     "text": [
      "Epoch 12/50: 100%|██████████| 104/104 [00:17<00:00,  5.88it/s, Loss=0.699, Accuracy=0.786]\n"
     ]
    },
    {
     "name": "stdout",
     "output_type": "stream",
     "text": [
      "Epoch [12/50], Train Loss: 0.6940, Train Accuracy: 0.7856, Val Loss: 0.5121, Val Accuracy: 0.8407\n"
     ]
    },
    {
     "name": "stderr",
     "output_type": "stream",
     "text": [
      "Epoch 13/50: 100%|██████████| 104/104 [00:16<00:00,  6.15it/s, Loss=0.653, Accuracy=0.799]\n"
     ]
    },
    {
     "name": "stdout",
     "output_type": "stream",
     "text": [
      "Epoch [13/50], Train Loss: 0.6482, Train Accuracy: 0.7989, Val Loss: 0.4969, Val Accuracy: 0.8377\n"
     ]
    },
    {
     "name": "stderr",
     "output_type": "stream",
     "text": [
      "Epoch 14/50: 100%|██████████| 104/104 [00:16<00:00,  6.15it/s, Loss=0.608, Accuracy=0.814]\n"
     ]
    },
    {
     "name": "stdout",
     "output_type": "stream",
     "text": [
      "Epoch [14/50], Train Loss: 0.6034, Train Accuracy: 0.8143, Val Loss: 0.6139, Val Accuracy: 0.8098\n"
     ]
    },
    {
     "name": "stderr",
     "output_type": "stream",
     "text": [
      "Epoch 15/50: 100%|██████████| 104/104 [00:14<00:00,  6.99it/s, Loss=0.596, Accuracy=0.819]\n"
     ]
    },
    {
     "name": "stdout",
     "output_type": "stream",
     "text": [
      "Epoch [15/50], Train Loss: 0.5918, Train Accuracy: 0.8188, Val Loss: 0.5012, Val Accuracy: 0.8552\n"
     ]
    },
    {
     "name": "stderr",
     "output_type": "stream",
     "text": [
      "Epoch 16/50: 100%|██████████| 104/104 [00:16<00:00,  6.34it/s, Loss=0.556, Accuracy=0.833]\n"
     ]
    },
    {
     "name": "stdout",
     "output_type": "stream",
     "text": [
      "Epoch [16/50], Train Loss: 0.5514, Train Accuracy: 0.8329, Val Loss: 0.4006, Val Accuracy: 0.8789\n"
     ]
    },
    {
     "name": "stderr",
     "output_type": "stream",
     "text": [
      "Epoch 17/50: 100%|██████████| 104/104 [00:16<00:00,  6.23it/s, Loss=0.539, Accuracy=0.842]\n"
     ]
    },
    {
     "name": "stdout",
     "output_type": "stream",
     "text": [
      "Epoch [17/50], Train Loss: 0.5352, Train Accuracy: 0.8418, Val Loss: 0.4204, Val Accuracy: 0.8680\n"
     ]
    },
    {
     "name": "stderr",
     "output_type": "stream",
     "text": [
      "Epoch 18/50: 100%|██████████| 104/104 [00:16<00:00,  6.33it/s, Loss=0.514, Accuracy=0.853]\n"
     ]
    },
    {
     "name": "stdout",
     "output_type": "stream",
     "text": [
      "Epoch [18/50], Train Loss: 0.5097, Train Accuracy: 0.8529, Val Loss: 0.3403, Val Accuracy: 0.8958\n"
     ]
    },
    {
     "name": "stderr",
     "output_type": "stream",
     "text": [
      "Epoch 19/50: 100%|██████████| 104/104 [00:15<00:00,  6.60it/s, Loss=0.513, Accuracy=0.847]\n"
     ]
    },
    {
     "name": "stdout",
     "output_type": "stream",
     "text": [
      "Epoch [19/50], Train Loss: 0.5085, Train Accuracy: 0.8471, Val Loss: 0.3745, Val Accuracy: 0.8855\n"
     ]
    },
    {
     "name": "stderr",
     "output_type": "stream",
     "text": [
      "Epoch 20/50: 100%|██████████| 104/104 [00:16<00:00,  6.34it/s, Loss=0.497, Accuracy=0.856]\n"
     ]
    },
    {
     "name": "stdout",
     "output_type": "stream",
     "text": [
      "Epoch [20/50], Train Loss: 0.4928, Train Accuracy: 0.8559, Val Loss: 0.4427, Val Accuracy: 0.8758\n"
     ]
    },
    {
     "name": "stderr",
     "output_type": "stream",
     "text": [
      "Epoch 21/50: 100%|██████████| 104/104 [00:16<00:00,  6.37it/s, Loss=0.459, Accuracy=0.865]\n"
     ]
    },
    {
     "name": "stdout",
     "output_type": "stream",
     "text": [
      "Epoch [21/50], Train Loss: 0.4558, Train Accuracy: 0.8652, Val Loss: 0.5561, Val Accuracy: 0.8340\n"
     ]
    },
    {
     "name": "stderr",
     "output_type": "stream",
     "text": [
      "Epoch 22/50: 100%|██████████| 104/104 [00:15<00:00,  6.52it/s, Loss=0.461, Accuracy=0.865]\n"
     ]
    },
    {
     "name": "stdout",
     "output_type": "stream",
     "text": [
      "Epoch [22/50], Train Loss: 0.4573, Train Accuracy: 0.8648, Val Loss: 0.3533, Val Accuracy: 0.8922\n"
     ]
    },
    {
     "name": "stderr",
     "output_type": "stream",
     "text": [
      "Epoch 23/50: 100%|██████████| 104/104 [00:16<00:00,  6.19it/s, Loss=0.406, Accuracy=0.881]\n"
     ]
    },
    {
     "name": "stdout",
     "output_type": "stream",
     "text": [
      "Epoch [23/50], Train Loss: 0.4028, Train Accuracy: 0.8808, Val Loss: 0.4577, Val Accuracy: 0.8558\n"
     ]
    },
    {
     "name": "stderr",
     "output_type": "stream",
     "text": [
      "Epoch 24/50: 100%|██████████| 104/104 [00:16<00:00,  6.43it/s, Loss=0.428, Accuracy=0.876]\n"
     ]
    },
    {
     "name": "stdout",
     "output_type": "stream",
     "text": [
      "Epoch [24/50], Train Loss: 0.4243, Train Accuracy: 0.8764, Val Loss: 0.4208, Val Accuracy: 0.8764\n"
     ]
    },
    {
     "name": "stderr",
     "output_type": "stream",
     "text": [
      "Epoch 25/50: 100%|██████████| 104/104 [00:15<00:00,  6.55it/s, Loss=0.431, Accuracy=0.877]\n"
     ]
    },
    {
     "name": "stdout",
     "output_type": "stream",
     "text": [
      "Epoch [25/50], Train Loss: 0.4278, Train Accuracy: 0.8767, Val Loss: 0.3797, Val Accuracy: 0.8813\n"
     ]
    },
    {
     "name": "stderr",
     "output_type": "stream",
     "text": [
      "Epoch 26/50: 100%|██████████| 104/104 [00:18<00:00,  5.53it/s, Loss=0.387, Accuracy=0.888]\n"
     ]
    },
    {
     "name": "stdout",
     "output_type": "stream",
     "text": [
      "Epoch [26/50], Train Loss: 0.3840, Train Accuracy: 0.8881, Val Loss: 0.3724, Val Accuracy: 0.8886\n"
     ]
    },
    {
     "name": "stderr",
     "output_type": "stream",
     "text": [
      "Epoch 27/50: 100%|██████████| 104/104 [00:17<00:00,  5.79it/s, Loss=0.38, Accuracy=0.892] \n"
     ]
    },
    {
     "name": "stdout",
     "output_type": "stream",
     "text": [
      "Epoch [27/50], Train Loss: 0.3767, Train Accuracy: 0.8915, Val Loss: 0.3094, Val Accuracy: 0.9091\n"
     ]
    },
    {
     "name": "stderr",
     "output_type": "stream",
     "text": [
      "Epoch 28/50: 100%|██████████| 104/104 [00:17<00:00,  5.94it/s, Loss=0.377, Accuracy=0.893]\n"
     ]
    },
    {
     "name": "stdout",
     "output_type": "stream",
     "text": [
      "Epoch [28/50], Train Loss: 0.3740, Train Accuracy: 0.8927, Val Loss: 0.3604, Val Accuracy: 0.8958\n"
     ]
    },
    {
     "name": "stderr",
     "output_type": "stream",
     "text": [
      "Epoch 29/50: 100%|██████████| 104/104 [00:16<00:00,  6.31it/s, Loss=0.356, Accuracy=0.9]  \n"
     ]
    },
    {
     "name": "stdout",
     "output_type": "stream",
     "text": [
      "Epoch [29/50], Train Loss: 0.3531, Train Accuracy: 0.9002, Val Loss: 0.3318, Val Accuracy: 0.9031\n"
     ]
    },
    {
     "name": "stderr",
     "output_type": "stream",
     "text": [
      "Epoch 30/50: 100%|██████████| 104/104 [00:16<00:00,  6.16it/s, Loss=0.338, Accuracy=0.902]\n"
     ]
    },
    {
     "name": "stdout",
     "output_type": "stream",
     "text": [
      "Epoch [30/50], Train Loss: 0.3353, Train Accuracy: 0.9025, Val Loss: 0.2959, Val Accuracy: 0.9025\n"
     ]
    },
    {
     "name": "stderr",
     "output_type": "stream",
     "text": [
      "Epoch 31/50: 100%|██████████| 104/104 [00:18<00:00,  5.50it/s, Loss=0.345, Accuracy=0.901]\n"
     ]
    },
    {
     "name": "stdout",
     "output_type": "stream",
     "text": [
      "Epoch [31/50], Train Loss: 0.3423, Train Accuracy: 0.9011, Val Loss: 0.2366, Val Accuracy: 0.9328\n"
     ]
    },
    {
     "name": "stderr",
     "output_type": "stream",
     "text": [
      "Epoch 32/50: 100%|██████████| 104/104 [00:17<00:00,  6.01it/s, Loss=0.32, Accuracy=0.909] \n"
     ]
    },
    {
     "name": "stdout",
     "output_type": "stream",
     "text": [
      "Epoch [32/50], Train Loss: 0.3171, Train Accuracy: 0.9091, Val Loss: 0.2467, Val Accuracy: 0.9261\n"
     ]
    },
    {
     "name": "stderr",
     "output_type": "stream",
     "text": [
      "Epoch 33/50: 100%|██████████| 104/104 [00:16<00:00,  6.34it/s, Loss=0.303, Accuracy=0.913]\n"
     ]
    },
    {
     "name": "stdout",
     "output_type": "stream",
     "text": [
      "Epoch [33/50], Train Loss: 0.3002, Train Accuracy: 0.9128, Val Loss: 0.2439, Val Accuracy: 0.9200\n"
     ]
    },
    {
     "name": "stderr",
     "output_type": "stream",
     "text": [
      "Epoch 34/50: 100%|██████████| 104/104 [00:17<00:00,  5.97it/s, Loss=0.316, Accuracy=0.911]\n"
     ]
    },
    {
     "name": "stdout",
     "output_type": "stream",
     "text": [
      "Epoch [34/50], Train Loss: 0.3132, Train Accuracy: 0.9108, Val Loss: 0.2719, Val Accuracy: 0.9110\n"
     ]
    },
    {
     "name": "stderr",
     "output_type": "stream",
     "text": [
      "Epoch 35/50: 100%|██████████| 104/104 [00:20<00:00,  5.01it/s, Loss=0.297, Accuracy=0.914]\n"
     ]
    },
    {
     "name": "stdout",
     "output_type": "stream",
     "text": [
      "Epoch [35/50], Train Loss: 0.2944, Train Accuracy: 0.9143, Val Loss: 0.2559, Val Accuracy: 0.9194\n"
     ]
    },
    {
     "name": "stderr",
     "output_type": "stream",
     "text": [
      "Epoch 36/50: 100%|██████████| 104/104 [00:19<00:00,  5.47it/s, Loss=0.312, Accuracy=0.911]\n"
     ]
    },
    {
     "name": "stdout",
     "output_type": "stream",
     "text": [
      "Epoch [36/50], Train Loss: 0.3100, Train Accuracy: 0.9113, Val Loss: 0.2519, Val Accuracy: 0.9261\n"
     ]
    },
    {
     "name": "stderr",
     "output_type": "stream",
     "text": [
      "Epoch 37/50: 100%|██████████| 104/104 [00:18<00:00,  5.72it/s, Loss=0.295, Accuracy=0.917]\n"
     ]
    },
    {
     "name": "stdout",
     "output_type": "stream",
     "text": [
      "Epoch [37/50], Train Loss: 0.2924, Train Accuracy: 0.9167, Val Loss: 0.3055, Val Accuracy: 0.9146\n"
     ]
    },
    {
     "name": "stderr",
     "output_type": "stream",
     "text": [
      "Epoch 38/50: 100%|██████████| 104/104 [00:18<00:00,  5.52it/s, Loss=0.28, Accuracy=0.921]\n"
     ]
    },
    {
     "name": "stdout",
     "output_type": "stream",
     "text": [
      "Epoch [38/50], Train Loss: 0.2776, Train Accuracy: 0.9213, Val Loss: 0.2364, Val Accuracy: 0.9279\n"
     ]
    },
    {
     "name": "stderr",
     "output_type": "stream",
     "text": [
      "Epoch 39/50: 100%|██████████| 104/104 [00:20<00:00,  4.96it/s, Loss=0.303, Accuracy=0.916]\n"
     ]
    },
    {
     "name": "stdout",
     "output_type": "stream",
     "text": [
      "Epoch [39/50], Train Loss: 0.3009, Train Accuracy: 0.9161, Val Loss: 0.2502, Val Accuracy: 0.9219\n"
     ]
    },
    {
     "name": "stderr",
     "output_type": "stream",
     "text": [
      "Epoch 40/50: 100%|██████████| 104/104 [00:18<00:00,  5.57it/s, Loss=0.279, Accuracy=0.92]\n"
     ]
    },
    {
     "name": "stdout",
     "output_type": "stream",
     "text": [
      "Epoch [40/50], Train Loss: 0.2769, Train Accuracy: 0.9204, Val Loss: 0.2044, Val Accuracy: 0.9382\n"
     ]
    },
    {
     "name": "stderr",
     "output_type": "stream",
     "text": [
      "Epoch 41/50: 100%|██████████| 104/104 [00:18<00:00,  5.72it/s, Loss=0.262, Accuracy=0.924]\n"
     ]
    },
    {
     "name": "stdout",
     "output_type": "stream",
     "text": [
      "Epoch [41/50], Train Loss: 0.2602, Train Accuracy: 0.9235, Val Loss: 0.1886, Val Accuracy: 0.9431\n"
     ]
    },
    {
     "name": "stderr",
     "output_type": "stream",
     "text": [
      "Epoch 42/50: 100%|██████████| 104/104 [00:19<00:00,  5.34it/s, Loss=0.265, Accuracy=0.923]\n"
     ]
    },
    {
     "name": "stdout",
     "output_type": "stream",
     "text": [
      "Epoch [42/50], Train Loss: 0.2625, Train Accuracy: 0.9234, Val Loss: 0.2629, Val Accuracy: 0.9358\n"
     ]
    },
    {
     "name": "stderr",
     "output_type": "stream",
     "text": [
      "Epoch 43/50: 100%|██████████| 104/104 [00:19<00:00,  5.45it/s, Loss=0.285, Accuracy=0.92] \n"
     ]
    },
    {
     "name": "stdout",
     "output_type": "stream",
     "text": [
      "Epoch [43/50], Train Loss: 0.2825, Train Accuracy: 0.9196, Val Loss: 0.3145, Val Accuracy: 0.9061\n"
     ]
    },
    {
     "name": "stderr",
     "output_type": "stream",
     "text": [
      "Epoch 44/50: 100%|██████████| 104/104 [00:23<00:00,  4.46it/s, Loss=0.265, Accuracy=0.923]\n"
     ]
    },
    {
     "name": "stdout",
     "output_type": "stream",
     "text": [
      "Epoch [44/50], Train Loss: 0.2625, Train Accuracy: 0.9232, Val Loss: 0.2451, Val Accuracy: 0.9249\n"
     ]
    },
    {
     "name": "stderr",
     "output_type": "stream",
     "text": [
      "Epoch 45/50: 100%|██████████| 104/104 [00:20<00:00,  5.00it/s, Loss=0.236, Accuracy=0.933]\n"
     ]
    },
    {
     "name": "stdout",
     "output_type": "stream",
     "text": [
      "Epoch [45/50], Train Loss: 0.2340, Train Accuracy: 0.9328, Val Loss: 0.2404, Val Accuracy: 0.9291\n"
     ]
    },
    {
     "name": "stderr",
     "output_type": "stream",
     "text": [
      "Epoch 46/50: 100%|██████████| 104/104 [00:20<00:00,  5.02it/s, Loss=0.236, Accuracy=0.929]\n"
     ]
    },
    {
     "name": "stdout",
     "output_type": "stream",
     "text": [
      "Epoch [46/50], Train Loss: 0.2339, Train Accuracy: 0.9293, Val Loss: 0.2760, Val Accuracy: 0.9164\n"
     ]
    },
    {
     "name": "stderr",
     "output_type": "stream",
     "text": [
      "Epoch 47/50: 100%|██████████| 104/104 [00:20<00:00,  5.18it/s, Loss=0.24, Accuracy=0.933] \n"
     ]
    },
    {
     "name": "stdout",
     "output_type": "stream",
     "text": [
      "Epoch [47/50], Train Loss: 0.2380, Train Accuracy: 0.9329, Val Loss: 0.2426, Val Accuracy: 0.9170\n"
     ]
    },
    {
     "name": "stderr",
     "output_type": "stream",
     "text": [
      "Epoch 48/50: 100%|██████████| 104/104 [00:19<00:00,  5.23it/s, Loss=0.216, Accuracy=0.94]\n"
     ]
    },
    {
     "name": "stdout",
     "output_type": "stream",
     "text": [
      "Epoch [48/50], Train Loss: 0.2145, Train Accuracy: 0.9401, Val Loss: 0.2006, Val Accuracy: 0.9394\n"
     ]
    },
    {
     "name": "stderr",
     "output_type": "stream",
     "text": [
      "Epoch 49/50: 100%|██████████| 104/104 [00:20<00:00,  5.06it/s, Loss=0.241, Accuracy=0.931]\n"
     ]
    },
    {
     "name": "stdout",
     "output_type": "stream",
     "text": [
      "Epoch [49/50], Train Loss: 0.2395, Train Accuracy: 0.9313, Val Loss: 0.2263, Val Accuracy: 0.9358\n"
     ]
    },
    {
     "name": "stderr",
     "output_type": "stream",
     "text": [
      "Epoch 50/50: 100%|██████████| 104/104 [00:21<00:00,  4.88it/s, Loss=0.214, Accuracy=0.94] \n"
     ]
    },
    {
     "name": "stdout",
     "output_type": "stream",
     "text": [
      "Epoch [50/50], Train Loss: 0.2119, Train Accuracy: 0.9402, Val Loss: 0.1680, Val Accuracy: 0.9515\n",
      "Test Loss: 0.1775, Test Accuracy: 0.9509\n"
     ]
    },
    {
     "data": {
      "image/png": "[encoded data removed]",
      "text/plain": [
       "<Figure size 1200x400 with 2 Axes>"
      ]
     },
     "metadata": {},
     "output_type": "display_data"
    }
   ],
   "source": [
    "import torch\n",
    "import torch.nn as nn\n",
    "import torch.optim as optim\n",
    "from torch.utils.data import DataLoader, Dataset\n",
    "from torchvision import transforms\n",
    "from tqdm import tqdm\n",
    "import pandas as pd\n",
    "from PIL import Image\n",
    "import os\n",
    "from sklearn.model_selection import train_test_split\n",
    "import matplotlib.pyplot as plt\n",
    "\n",
    "# Check if GPU is available and set device\n",
    "device = torch.device(\"cuda\" if torch.cuda.is_available() else \"cpu\")\n",
    "\n",
    "# Define data transforms with 64x64 image size\n",
    "transform = transforms.Compose([\n",
    "    transforms.Resize((64, 64)),  # Resize to 64x64\n",
    "    transforms.ToTensor(),\n",
    "    transforms.Normalize(mean=[0.485, 0.456, 0.406], std=[0.229, 0.224, 0.225])\n",
    "])\n",
    "\n",
    "# Define the directory path\n",
    "data_dir = r\"C:\\Users\\user\\Desktop\\plant\\boc\"\n",
    "\n",
    "# Load one CSV file\n",
    "csv_file = 'fold_3_train.csv'\n",
    "\n",
    "# Define a custom dataset class for CSV loading\n",
    "class CustomDataset(Dataset):\n",
    "    def __init__(self, csv_file, root_dir, transform=None):\n",
    "        self.data = pd.read_csv(csv_file)\n",
    "        self.root_dir = root_dir\n",
    "        self.transform = transform\n",
    "\n",
    "    def __len__(self):\n",
    "        return len(self.data)\n",
    "\n",
    "    def __getitem__(self, idx):\n",
    "        try:\n",
    "            img_name = os.path.join(self.root_dir, str(self.data.iloc[idx, 0]))  # Access image_path using index 0\n",
    "            image = Image.open(img_name).convert('RGB')  # Ensure images are in RGB mode\n",
    "            label = self.data.iloc[idx, 1]  # Access class_label using index 1\n",
    "        except Exception as e:\n",
    "            print(f\"Error accessing image at index {idx}: {e}\")\n",
    "            return None\n",
    "\n",
    "        if self.transform:\n",
    "            image = self.transform(image)\n",
    "\n",
    "        return image, label\n",
    "\n",
    "# Load the dataset using CustomDataset\n",
    "dataset = CustomDataset(csv_file=os.path.join(data_dir, csv_file), root_dir=data_dir, transform=transform)\n",
    "\n",
    "# Split dataset into train, validation, and test sets\n",
    "train_size = 0.8\n",
    "val_size = 0.1\n",
    "test_size = 1 - train_size - val_size\n",
    "\n",
    "train_dataset, temp_dataset = train_test_split(dataset, test_size=1 - train_size, random_state=42)\n",
    "val_dataset, test_dataset = train_test_split(temp_dataset, test_size=test_size / (val_size + test_size), random_state=42)\n",
    "\n",
    "# Create data loaders for each set\n",
    "batch_size = 128\n",
    "train_loader = DataLoader(train_dataset, batch_size=batch_size, shuffle=True, num_workers=4, pin_memory=True)\n",
    "val_loader = DataLoader(val_dataset, batch_size=batch_size, shuffle=False, num_workers=4, pin_memory=True)\n",
    "test_loader = DataLoader(test_dataset, batch_size=batch_size, shuffle=False, num_workers=4, pin_memory=True)\n",
    "\n",
    "\n",
    "\n",
    "# Print class names (assuming it's available in the dataset)\n",
    "print(\"Class Names:\", pd.Series([data[1] for data in train_dataset]).unique())\n",
    "##\n",
    "### Define the model architecture\n",
    "##class AlexNet(nn.Module):\n",
    "##    def __init__(self, num_classes=15):\n",
    "##        super(AlexNet, self).__init__()\n",
    "##        self.features = nn.Sequential(\n",
    "##            nn.Conv2d(3, 64, kernel_size=11, stride=4, padding=2),\n",
    "##            nn.ReLU(inplace=True),\n",
    "##            nn.MaxPool2d(kernel_size=3, stride=2),\n",
    "##            nn.Conv2d(64, 192, kernel_size=5, padding=2),\n",
    "##            nn.ReLU(inplace=True),\n",
    "##            nn.MaxPool2d(kernel_size=3, stride=2),\n",
    "##            nn.Conv2d(192, 384, kernel_size=3, padding=1),\n",
    "##            nn.ReLU(inplace=True),\n",
    "##            nn.Conv2d(384, 256, kernel_size=3, padding=1),\n",
    "##            nn.ReLU(inplace=True),\n",
    "##            nn.Conv2d(256, 256, kernel_size=3, padding=1),\n",
    "##            nn.ReLU(inplace=True),\n",
    "##            nn.MaxPool2d(kernel_size=3, stride=2),\n",
    "##        )\n",
    "##        self.avgpool = nn.AdaptiveAvgPool2d((6, 6))\n",
    "##        self.classifier = nn.Sequential(\n",
    "##            nn.Dropout(),\n",
    "##            nn.Linear(256 * 6 * 6, 4096),\n",
    "##            nn.ReLU(inplace=True),\n",
    "##            nn.Dropout(),\n",
    "##            nn.Linear(4096, 4096),\n",
    "##            nn.ReLU(inplace=True),\n",
    "##            nn.Linear(4096, num_classes),\n",
    "##        )\n",
    "##\n",
    "##    def forward(self, x):\n",
    "##        x = self.features(x)\n",
    "##        x = self.avgpool(x)\n",
    "##        x = torch.flatten(x, 1)\n",
    "##        x = self.classifier(x)\n",
    "##        return x\n",
    "##\n",
    "# Instantiate the model\n",
    "##model = AlexNet(num_classes=15).to(device)\n",
    "\n",
    "class CustomEfficientNet(nn.Module):\n",
    "    def __init__(self, num_classes=15, in_channels=3, dropout_rate=0.2):\n",
    "        super(CustomEfficientNet, self).__init__()\n",
    "\n",
    "        # Stem convolutional layer\n",
    "        self.stem = nn.Sequential(\n",
    "            nn.Conv2d(in_channels, 32, kernel_size=3, stride=2, padding=1),\n",
    "            nn.BatchNorm2d(32),\n",
    "            nn.ReLU(inplace=True)\n",
    "        )\n",
    "\n",
    "        # Blocks (similar to EfficientNet's design)\n",
    "        self.blocks = nn.Sequential(\n",
    "            EfficientBlock(32, 16, 1, 1, dropout_rate),\n",
    "            EfficientBlock(16, 24, 2, 2, dropout_rate),\n",
    "            EfficientBlock(24, 40, 2, 2, dropout_rate),\n",
    "            EfficientBlock(40, 80, 3, 2, dropout_rate),\n",
    "            EfficientBlock(80, 112, 3, 1, dropout_rate),\n",
    "            EfficientBlock(112, 192, 4, 2, dropout_rate),\n",
    "            EfficientBlock(192, 320, 1, 1, dropout_rate)\n",
    "        )\n",
    "\n",
    "        # Classifier head\n",
    "        self.classifier = nn.Sequential(\n",
    "            nn.AdaptiveAvgPool2d(1),\n",
    "            nn.Flatten(),\n",
    "            nn.Dropout(dropout_rate),\n",
    "            nn.Linear(320, num_classes)\n",
    "        )\n",
    "\n",
    "    def forward(self, x):\n",
    "        x = self.stem(x)\n",
    "        x = self.blocks(x)\n",
    "        x = self.classifier(x)\n",
    "        return x\n",
    "\n",
    "\n",
    "class EfficientBlock(nn.Module):\n",
    "    def __init__(self, in_channels, out_channels, num_layers, stride, dropout_rate):\n",
    "        super(EfficientBlock, self).__init__()\n",
    "\n",
    "        layers = []\n",
    "        for _ in range(num_layers):\n",
    "            layers.append(nn.Conv2d(in_channels, out_channels, kernel_size=3, stride=stride, padding=1))\n",
    "            layers.append(nn.BatchNorm2d(out_channels))\n",
    "            layers.append(nn.ReLU(inplace=True))\n",
    "            in_channels = out_channels\n",
    "        \n",
    "        layers.append(nn.Dropout(dropout_rate))\n",
    "        self.block = nn.Sequential(*layers)\n",
    "\n",
    "    def forward(self, x):\n",
    "        return self.block(x)\n",
    "\n",
    "\n",
    "# Print the model architecture\n",
    "model = CustomEfficientNet(num_classes=15).to(device)\n",
    "\n",
    "# Function to evaluate the model\n",
    "def evaluate_model(model, data_loader, criterion, device):\n",
    "    model.eval()\n",
    "    loss = 0.0\n",
    "    correct = 0\n",
    "    total = 0\n",
    "    with torch.no_grad():\n",
    "        for images, labels in data_loader:\n",
    "            images, labels = images.to(device), labels.to(device)\n",
    "            outputs = model(images)\n",
    "            loss += criterion(outputs, labels).item()\n",
    "            _, predicted = torch.max(outputs.data, 1)\n",
    "            total += labels.size(0)\n",
    "            correct += (predicted == labels).sum().item()\n",
    "    \n",
    "    avg_loss = loss / len(data_loader)\n",
    "    accuracy = correct / total\n",
    "    return avg_loss, accuracy\n",
    "\n",
    "# Function to train the model\n",
    "def train_model(model, train_loader, val_loader, criterion, optimizer, num_epochs, device):\n",
    "    train_losses = []\n",
    "    val_losses = []\n",
    "    train_accuracies = []\n",
    "    val_accuracies = []\n",
    "    \n",
    "    for epoch in range(num_epochs):\n",
    "        model.train()\n",
    "        running_loss = 0.0\n",
    "        correct_train = 0\n",
    "        total_train = 0\n",
    "        \n",
    "        # Use tqdm for progress display\n",
    "        progress_bar = tqdm(train_loader, desc=f'Epoch {epoch+1}/{num_epochs}')\n",
    "        \n",
    "        for images, labels in progress_bar:\n",
    "            images, labels = images.to(device), labels.to(device)\n",
    "            \n",
    "            optimizer.zero_grad()\n",
    "            outputs = model(images)\n",
    "            loss = criterion(outputs, labels)\n",
    "            loss.backward()\n",
    "            optimizer.step()\n",
    "            \n",
    "            running_loss += loss.item()\n",
    "            _, predicted = torch.max(outputs.data, 1)\n",
    "            total_train += labels.size(0)\n",
    "            correct_train += (predicted == labels).sum().item()\n",
    "            \n",
    "            progress_bar.set_postfix({'Loss': running_loss / (total_train / batch_size), 'Accuracy': correct_train / total_train})\n",
    "        \n",
    "        avg_train_loss = running_loss / len(train_loader)\n",
    "        train_accuracy = correct_train / total_train\n",
    "        \n",
    "        val_loss, val_accuracy = evaluate_model(model, val_loader, criterion, device)\n",
    "        \n",
    "        train_losses.append(avg_train_loss)\n",
    "        val_losses.append(val_loss)\n",
    "        train_accuracies.append(train_accuracy)\n",
    "        val_accuracies.append(val_accuracy)\n",
    "        \n",
    "        print(f'Epoch [{epoch+1}/{num_epochs}], Train Loss: {avg_train_loss:.4f}, Train Accuracy: {train_accuracy:.4f}, Val Loss: {val_loss:.4f}, Val Accuracy: {val_accuracy:.4f}')\n",
    "    \n",
    "    return train_losses, val_losses, train_accuracies, val_accuracies\n",
    "\n",
    "# Set hyperparameters\n",
    "num_epochs = 50\n",
    "learning_rate = 1e-3\n",
    "\n",
    "# Define criterion and optimizer\n",
    "criterion = nn.CrossEntropyLoss()\n",
    "optimizer = optim.Adam(model.parameters(), lr=learning_rate)\n",
    "\n",
    "# Train the model\n",
    "train_losses, val_losses, train_accuracies, val_accuracies = train_model(model, train_loader, val_loader, criterion, optimizer, num_epochs, device)\n",
    "\n",
    "# Evaluate on test set\n",
    "test_loss, test_accuracy = evaluate_model(model, test_loader, criterion, device)\n",
    "print(f'Test Loss: {test_loss:.4f}, Test Accuracy: {test_accuracy:.4f}')\n",
    "\n",
    "# Plotting training and validation curves\n",
    "plt.figure(figsize=(12, 4))\n",
    "plt.subplot(1, 2, 1)\n",
    "plt.plot(train_losses, label='Train Loss')\n",
    "plt.plot(val_losses, label='Val Loss')\n",
    "plt.xlabel('Epoch')\n",
    "plt.ylabel('Loss')\n",
    "plt.title('Training and Validation Losses')\n",
    "plt.legend()\n",
    "\n",
    "plt.subplot(1, 2, 2)\n",
    "plt.plot(train_accuracies, label='Train Accuracy')\n",
    "plt.plot(val_accuracies, label='Val Accuracy')\n",
    "plt.xlabel('Epoch')\n",
    "plt.ylabel('Accuracy')\n",
    "plt.title('Training and Validation Accuracies')\n",
    "plt.legend()\n",
    "\n",
    "plt.tight_layout()\n",
    "plt.show()\n"
   ]
  },
  {
   "cell_type": "code",
   "execution_count": 6,
   "metadata": {},
   "outputs": [
    {
     "name": "stdout",
     "output_type": "stream",
     "text": [
      "Class Names: [12  6 14  5  7  0 13  2 11  9  8  1 10  4  3]\n"
     ]
    },
    {
     "name": "stderr",
     "output_type": "stream",
     "text": [
      "Epoch 1/50: 100%|██████████| 104/104 [00:23<00:00,  4.38it/s, Loss=2.32, Accuracy=0.249]\n"
     ]
    },
    {
     "name": "stdout",
     "output_type": "stream",
     "text": [
      "Epoch [1/50], Train Loss: 2.3024, Train Accuracy: 0.2486, Val Loss: 1.8778, Val Accuracy: 0.4034\n"
     ]
    },
    {
     "name": "stderr",
     "output_type": "stream",
     "text": [
      "Epoch 2/50: 100%|██████████| 104/104 [00:16<00:00,  6.17it/s, Loss=1.79, Accuracy=0.436]\n"
     ]
    },
    {
     "name": "stdout",
     "output_type": "stream",
     "text": [
      "Epoch [2/50], Train Loss: 1.7713, Train Accuracy: 0.4356, Val Loss: 1.4700, Val Accuracy: 0.5070\n"
     ]
    },
    {
     "name": "stderr",
     "output_type": "stream",
     "text": [
      "Epoch 3/50: 100%|██████████| 104/104 [00:16<00:00,  6.14it/s, Loss=1.4, Accuracy=0.558]\n"
     ]
    },
    {
     "name": "stdout",
     "output_type": "stream",
     "text": [
      "Epoch [3/50], Train Loss: 1.3885, Train Accuracy: 0.5578, Val Loss: 1.1194, Val Accuracy: 0.6178\n"
     ]
    },
    {
     "name": "stderr",
     "output_type": "stream",
     "text": [
      "Epoch 4/50: 100%|██████████| 104/104 [00:16<00:00,  6.24it/s, Loss=1.15, Accuracy=0.633]\n"
     ]
    },
    {
     "name": "stdout",
     "output_type": "stream",
     "text": [
      "Epoch [4/50], Train Loss: 1.1453, Train Accuracy: 0.6330, Val Loss: 0.8697, Val Accuracy: 0.7165\n"
     ]
    },
    {
     "name": "stderr",
     "output_type": "stream",
     "text": [
      "Epoch 5/50: 100%|██████████| 104/104 [00:18<00:00,  5.67it/s, Loss=0.99, Accuracy=0.695] \n"
     ]
    },
    {
     "name": "stdout",
     "output_type": "stream",
     "text": [
      "Epoch [5/50], Train Loss: 0.9823, Train Accuracy: 0.6950, Val Loss: 0.7440, Val Accuracy: 0.7698\n"
     ]
    },
    {
     "name": "stderr",
     "output_type": "stream",
     "text": [
      "Epoch 6/50: 100%|██████████| 104/104 [00:17<00:00,  5.98it/s, Loss=0.918, Accuracy=0.715]\n"
     ]
    },
    {
     "name": "stdout",
     "output_type": "stream",
     "text": [
      "Epoch [6/50], Train Loss: 0.9110, Train Accuracy: 0.7153, Val Loss: 0.6480, Val Accuracy: 0.7947\n"
     ]
    },
    {
     "name": "stderr",
     "output_type": "stream",
     "text": [
      "Epoch 7/50: 100%|██████████| 104/104 [00:18<00:00,  5.72it/s, Loss=0.825, Accuracy=0.749]\n"
     ]
    },
    {
     "name": "stdout",
     "output_type": "stream",
     "text": [
      "Epoch [7/50], Train Loss: 0.8184, Train Accuracy: 0.7493, Val Loss: 0.8922, Val Accuracy: 0.7123\n"
     ]
    },
    {
     "name": "stderr",
     "output_type": "stream",
     "text": [
      "Epoch 8/50: 100%|██████████| 104/104 [00:17<00:00,  5.81it/s, Loss=0.748, Accuracy=0.774]\n"
     ]
    },
    {
     "name": "stdout",
     "output_type": "stream",
     "text": [
      "Epoch [8/50], Train Loss: 0.7419, Train Accuracy: 0.7740, Val Loss: 0.7563, Val Accuracy: 0.7595\n"
     ]
    },
    {
     "name": "stderr",
     "output_type": "stream",
     "text": [
      "Epoch 9/50: 100%|██████████| 104/104 [00:17<00:00,  5.86it/s, Loss=0.707, Accuracy=0.788]\n"
     ]
    },
    {
     "name": "stdout",
     "output_type": "stream",
     "text": [
      "Epoch [9/50], Train Loss: 0.7014, Train Accuracy: 0.7883, Val Loss: 0.5660, Val Accuracy: 0.8183\n"
     ]
    },
    {
     "name": "stderr",
     "output_type": "stream",
     "text": [
      "Epoch 10/50: 100%|██████████| 104/104 [00:17<00:00,  5.99it/s, Loss=0.653, Accuracy=0.804]\n"
     ]
    },
    {
     "name": "stdout",
     "output_type": "stream",
     "text": [
      "Epoch [10/50], Train Loss: 0.6483, Train Accuracy: 0.8042, Val Loss: 0.4942, Val Accuracy: 0.8425\n"
     ]
    },
    {
     "name": "stderr",
     "output_type": "stream",
     "text": [
      "Epoch 11/50: 100%|██████████| 104/104 [00:17<00:00,  5.95it/s, Loss=0.618, Accuracy=0.814]\n"
     ]
    },
    {
     "name": "stdout",
     "output_type": "stream",
     "text": [
      "Epoch [11/50], Train Loss: 0.6136, Train Accuracy: 0.8136, Val Loss: 0.6103, Val Accuracy: 0.8044\n"
     ]
    },
    {
     "name": "stderr",
     "output_type": "stream",
     "text": [
      "Epoch 12/50: 100%|██████████| 104/104 [00:17<00:00,  6.06it/s, Loss=0.611, Accuracy=0.821]\n"
     ]
    },
    {
     "name": "stdout",
     "output_type": "stream",
     "text": [
      "Epoch [12/50], Train Loss: 0.6065, Train Accuracy: 0.8212, Val Loss: 0.5017, Val Accuracy: 0.8431\n"
     ]
    },
    {
     "name": "stderr",
     "output_type": "stream",
     "text": [
      "Epoch 13/50: 100%|██████████| 104/104 [00:17<00:00,  5.98it/s, Loss=0.574, Accuracy=0.834]\n"
     ]
    },
    {
     "name": "stdout",
     "output_type": "stream",
     "text": [
      "Epoch [13/50], Train Loss: 0.5697, Train Accuracy: 0.8344, Val Loss: 0.4156, Val Accuracy: 0.8722\n"
     ]
    },
    {
     "name": "stderr",
     "output_type": "stream",
     "text": [
      "Epoch 14/50: 100%|██████████| 104/104 [00:18<00:00,  5.59it/s, Loss=0.536, Accuracy=0.843]\n"
     ]
    },
    {
     "name": "stdout",
     "output_type": "stream",
     "text": [
      "Epoch [14/50], Train Loss: 0.5315, Train Accuracy: 0.8433, Val Loss: 0.4283, Val Accuracy: 0.8631\n"
     ]
    },
    {
     "name": "stderr",
     "output_type": "stream",
     "text": [
      "Epoch 15/50: 100%|██████████| 104/104 [00:17<00:00,  5.93it/s, Loss=0.517, Accuracy=0.847]\n"
     ]
    },
    {
     "name": "stdout",
     "output_type": "stream",
     "text": [
      "Epoch [15/50], Train Loss: 0.5132, Train Accuracy: 0.8474, Val Loss: 0.3995, Val Accuracy: 0.8710\n"
     ]
    },
    {
     "name": "stderr",
     "output_type": "stream",
     "text": [
      "Epoch 16/50: 100%|██████████| 104/104 [00:17<00:00,  5.97it/s, Loss=0.497, Accuracy=0.856]\n"
     ]
    },
    {
     "name": "stdout",
     "output_type": "stream",
     "text": [
      "Epoch [16/50], Train Loss: 0.4930, Train Accuracy: 0.8558, Val Loss: 0.5474, Val Accuracy: 0.8262\n"
     ]
    },
    {
     "name": "stderr",
     "output_type": "stream",
     "text": [
      "Epoch 17/50: 100%|██████████| 104/104 [00:18<00:00,  5.51it/s, Loss=0.483, Accuracy=0.862]\n"
     ]
    },
    {
     "name": "stdout",
     "output_type": "stream",
     "text": [
      "Epoch [17/50], Train Loss: 0.4797, Train Accuracy: 0.8617, Val Loss: 0.2999, Val Accuracy: 0.8970\n"
     ]
    },
    {
     "name": "stderr",
     "output_type": "stream",
     "text": [
      "Epoch 18/50: 100%|██████████| 104/104 [00:17<00:00,  5.78it/s, Loss=0.457, Accuracy=0.866]\n"
     ]
    },
    {
     "name": "stdout",
     "output_type": "stream",
     "text": [
      "Epoch [18/50], Train Loss: 0.4537, Train Accuracy: 0.8664, Val Loss: 0.3459, Val Accuracy: 0.8867\n"
     ]
    },
    {
     "name": "stderr",
     "output_type": "stream",
     "text": [
      "Epoch 19/50: 100%|██████████| 104/104 [00:17<00:00,  5.83it/s, Loss=0.449, Accuracy=0.87]\n"
     ]
    },
    {
     "name": "stdout",
     "output_type": "stream",
     "text": [
      "Epoch [19/50], Train Loss: 0.4451, Train Accuracy: 0.8696, Val Loss: 0.2777, Val Accuracy: 0.9043\n"
     ]
    },
    {
     "name": "stderr",
     "output_type": "stream",
     "text": [
      "Epoch 20/50: 100%|██████████| 104/104 [00:18<00:00,  5.71it/s, Loss=0.434, Accuracy=0.878]\n"
     ]
    },
    {
     "name": "stdout",
     "output_type": "stream",
     "text": [
      "Epoch [20/50], Train Loss: 0.4307, Train Accuracy: 0.8784, Val Loss: 0.3375, Val Accuracy: 0.8976\n"
     ]
    },
    {
     "name": "stderr",
     "output_type": "stream",
     "text": [
      "Epoch 21/50: 100%|██████████| 104/104 [00:17<00:00,  5.99it/s, Loss=0.431, Accuracy=0.878]\n"
     ]
    },
    {
     "name": "stdout",
     "output_type": "stream",
     "text": [
      "Epoch [21/50], Train Loss: 0.4275, Train Accuracy: 0.8782, Val Loss: 0.3642, Val Accuracy: 0.8958\n"
     ]
    },
    {
     "name": "stderr",
     "output_type": "stream",
     "text": [
      "Epoch 22/50: 100%|██████████| 104/104 [00:17<00:00,  6.07it/s, Loss=0.405, Accuracy=0.885]\n"
     ]
    },
    {
     "name": "stdout",
     "output_type": "stream",
     "text": [
      "Epoch [22/50], Train Loss: 0.4015, Train Accuracy: 0.8848, Val Loss: 0.2385, Val Accuracy: 0.9231\n"
     ]
    },
    {
     "name": "stderr",
     "output_type": "stream",
     "text": [
      "Epoch 23/50: 100%|██████████| 104/104 [00:19<00:00,  5.47it/s, Loss=0.379, Accuracy=0.893]\n"
     ]
    },
    {
     "name": "stdout",
     "output_type": "stream",
     "text": [
      "Epoch [23/50], Train Loss: 0.3760, Train Accuracy: 0.8929, Val Loss: 0.3373, Val Accuracy: 0.8946\n"
     ]
    },
    {
     "name": "stderr",
     "output_type": "stream",
     "text": [
      "Epoch 24/50: 100%|██████████| 104/104 [00:17<00:00,  5.93it/s, Loss=0.422, Accuracy=0.879]\n"
     ]
    },
    {
     "name": "stdout",
     "output_type": "stream",
     "text": [
      "Epoch [24/50], Train Loss: 0.4191, Train Accuracy: 0.8792, Val Loss: 0.2886, Val Accuracy: 0.9098\n"
     ]
    },
    {
     "name": "stderr",
     "output_type": "stream",
     "text": [
      "Epoch 25/50: 100%|██████████| 104/104 [00:18<00:00,  5.67it/s, Loss=0.38, Accuracy=0.893] \n"
     ]
    },
    {
     "name": "stdout",
     "output_type": "stream",
     "text": [
      "Epoch [25/50], Train Loss: 0.3774, Train Accuracy: 0.8929, Val Loss: 0.2965, Val Accuracy: 0.9116\n"
     ]
    },
    {
     "name": "stderr",
     "output_type": "stream",
     "text": [
      "Epoch 26/50: 100%|██████████| 104/104 [00:17<00:00,  5.98it/s, Loss=0.34, Accuracy=0.904] \n"
     ]
    },
    {
     "name": "stdout",
     "output_type": "stream",
     "text": [
      "Epoch [26/50], Train Loss: 0.3370, Train Accuracy: 0.9038, Val Loss: 0.2663, Val Accuracy: 0.9158\n"
     ]
    },
    {
     "name": "stderr",
     "output_type": "stream",
     "text": [
      "Epoch 27/50: 100%|██████████| 104/104 [00:17<00:00,  5.94it/s, Loss=0.356, Accuracy=0.898]\n"
     ]
    },
    {
     "name": "stdout",
     "output_type": "stream",
     "text": [
      "Epoch [27/50], Train Loss: 0.3529, Train Accuracy: 0.8982, Val Loss: 0.2288, Val Accuracy: 0.9285\n"
     ]
    },
    {
     "name": "stderr",
     "output_type": "stream",
     "text": [
      "Epoch 28/50: 100%|██████████| 104/104 [00:18<00:00,  5.68it/s, Loss=0.345, Accuracy=0.9] \n"
     ]
    },
    {
     "name": "stdout",
     "output_type": "stream",
     "text": [
      "Epoch [28/50], Train Loss: 0.3423, Train Accuracy: 0.8999, Val Loss: 0.2927, Val Accuracy: 0.9061\n"
     ]
    },
    {
     "name": "stderr",
     "output_type": "stream",
     "text": [
      "Epoch 29/50: 100%|██████████| 104/104 [00:16<00:00,  6.22it/s, Loss=0.334, Accuracy=0.906]\n"
     ]
    },
    {
     "name": "stdout",
     "output_type": "stream",
     "text": [
      "Epoch [29/50], Train Loss: 0.3316, Train Accuracy: 0.9057, Val Loss: 0.2218, Val Accuracy: 0.9316\n"
     ]
    },
    {
     "name": "stderr",
     "output_type": "stream",
     "text": [
      "Epoch 30/50: 100%|██████████| 104/104 [00:17<00:00,  5.83it/s, Loss=0.296, Accuracy=0.915]\n"
     ]
    },
    {
     "name": "stdout",
     "output_type": "stream",
     "text": [
      "Epoch [30/50], Train Loss: 0.2936, Train Accuracy: 0.9146, Val Loss: 0.2420, Val Accuracy: 0.9303\n"
     ]
    },
    {
     "name": "stderr",
     "output_type": "stream",
     "text": [
      "Epoch 31/50: 100%|██████████| 104/104 [00:16<00:00,  6.17it/s, Loss=0.299, Accuracy=0.914]\n"
     ]
    },
    {
     "name": "stdout",
     "output_type": "stream",
     "text": [
      "Epoch [31/50], Train Loss: 0.2971, Train Accuracy: 0.9140, Val Loss: 0.2882, Val Accuracy: 0.9098\n"
     ]
    },
    {
     "name": "stderr",
     "output_type": "stream",
     "text": [
      "Epoch 32/50: 100%|██████████| 104/104 [00:18<00:00,  5.69it/s, Loss=0.3, Accuracy=0.917]  \n"
     ]
    },
    {
     "name": "stdout",
     "output_type": "stream",
     "text": [
      "Epoch [32/50], Train Loss: 0.2974, Train Accuracy: 0.9168, Val Loss: 0.1911, Val Accuracy: 0.9358\n"
     ]
    },
    {
     "name": "stderr",
     "output_type": "stream",
     "text": [
      "Epoch 33/50: 100%|██████████| 104/104 [00:16<00:00,  6.18it/s, Loss=0.279, Accuracy=0.92]\n"
     ]
    },
    {
     "name": "stdout",
     "output_type": "stream",
     "text": [
      "Epoch [33/50], Train Loss: 0.2767, Train Accuracy: 0.9195, Val Loss: 0.1803, Val Accuracy: 0.9437\n"
     ]
    },
    {
     "name": "stderr",
     "output_type": "stream",
     "text": [
      "Epoch 34/50: 100%|██████████| 104/104 [00:18<00:00,  5.62it/s, Loss=0.283, Accuracy=0.916]\n"
     ]
    },
    {
     "name": "stdout",
     "output_type": "stream",
     "text": [
      "Epoch [34/50], Train Loss: 0.2811, Train Accuracy: 0.9159, Val Loss: 0.2535, Val Accuracy: 0.9207\n"
     ]
    },
    {
     "name": "stderr",
     "output_type": "stream",
     "text": [
      "Epoch 35/50: 100%|██████████| 104/104 [00:18<00:00,  5.68it/s, Loss=0.252, Accuracy=0.928]\n"
     ]
    },
    {
     "name": "stdout",
     "output_type": "stream",
     "text": [
      "Epoch [35/50], Train Loss: 0.2503, Train Accuracy: 0.9278, Val Loss: 0.2048, Val Accuracy: 0.9310\n"
     ]
    },
    {
     "name": "stderr",
     "output_type": "stream",
     "text": [
      "Epoch 36/50: 100%|██████████| 104/104 [00:18<00:00,  5.74it/s, Loss=0.272, Accuracy=0.923]\n"
     ]
    },
    {
     "name": "stdout",
     "output_type": "stream",
     "text": [
      "Epoch [36/50], Train Loss: 0.2702, Train Accuracy: 0.9234, Val Loss: 0.2470, Val Accuracy: 0.9249\n"
     ]
    },
    {
     "name": "stderr",
     "output_type": "stream",
     "text": [
      "Epoch 37/50: 100%|██████████| 104/104 [00:17<00:00,  5.88it/s, Loss=0.282, Accuracy=0.918]\n"
     ]
    },
    {
     "name": "stdout",
     "output_type": "stream",
     "text": [
      "Epoch [37/50], Train Loss: 0.2801, Train Accuracy: 0.9179, Val Loss: 0.2807, Val Accuracy: 0.9134\n"
     ]
    },
    {
     "name": "stderr",
     "output_type": "stream",
     "text": [
      "Epoch 38/50: 100%|██████████| 104/104 [00:17<00:00,  5.89it/s, Loss=0.252, Accuracy=0.929]\n"
     ]
    },
    {
     "name": "stdout",
     "output_type": "stream",
     "text": [
      "Epoch [38/50], Train Loss: 0.2498, Train Accuracy: 0.9289, Val Loss: 0.1953, Val Accuracy: 0.9412\n"
     ]
    },
    {
     "name": "stderr",
     "output_type": "stream",
     "text": [
      "Epoch 39/50: 100%|██████████| 104/104 [00:16<00:00,  6.16it/s, Loss=0.258, Accuracy=0.924]\n"
     ]
    },
    {
     "name": "stdout",
     "output_type": "stream",
     "text": [
      "Epoch [39/50], Train Loss: 0.2560, Train Accuracy: 0.9241, Val Loss: 0.1635, Val Accuracy: 0.9473\n"
     ]
    },
    {
     "name": "stderr",
     "output_type": "stream",
     "text": [
      "Epoch 40/50: 100%|██████████| 104/104 [00:18<00:00,  5.56it/s, Loss=0.259, Accuracy=0.929]\n"
     ]
    },
    {
     "name": "stdout",
     "output_type": "stream",
     "text": [
      "Epoch [40/50], Train Loss: 0.2570, Train Accuracy: 0.9289, Val Loss: 0.2545, Val Accuracy: 0.9213\n"
     ]
    },
    {
     "name": "stderr",
     "output_type": "stream",
     "text": [
      "Epoch 41/50: 100%|██████████| 104/104 [00:17<00:00,  5.92it/s, Loss=0.234, Accuracy=0.932]\n"
     ]
    },
    {
     "name": "stdout",
     "output_type": "stream",
     "text": [
      "Epoch [41/50], Train Loss: 0.2325, Train Accuracy: 0.9317, Val Loss: 0.1503, Val Accuracy: 0.9546\n"
     ]
    },
    {
     "name": "stderr",
     "output_type": "stream",
     "text": [
      "Epoch 42/50: 100%|██████████| 104/104 [00:17<00:00,  5.87it/s, Loss=0.232, Accuracy=0.935]\n"
     ]
    },
    {
     "name": "stdout",
     "output_type": "stream",
     "text": [
      "Epoch [42/50], Train Loss: 0.2297, Train Accuracy: 0.9349, Val Loss: 0.2896, Val Accuracy: 0.8988\n"
     ]
    },
    {
     "name": "stderr",
     "output_type": "stream",
     "text": [
      "Epoch 43/50: 100%|██████████| 104/104 [00:17<00:00,  5.96it/s, Loss=0.246, Accuracy=0.929]\n"
     ]
    },
    {
     "name": "stdout",
     "output_type": "stream",
     "text": [
      "Epoch [43/50], Train Loss: 0.2440, Train Accuracy: 0.9291, Val Loss: 0.2550, Val Accuracy: 0.9231\n"
     ]
    },
    {
     "name": "stderr",
     "output_type": "stream",
     "text": [
      "Epoch 44/50: 100%|██████████| 104/104 [00:17<00:00,  5.91it/s, Loss=0.228, Accuracy=0.938]\n"
     ]
    },
    {
     "name": "stdout",
     "output_type": "stream",
     "text": [
      "Epoch [44/50], Train Loss: 0.2261, Train Accuracy: 0.9380, Val Loss: 0.3128, Val Accuracy: 0.9146\n"
     ]
    },
    {
     "name": "stderr",
     "output_type": "stream",
     "text": [
      "Epoch 45/50: 100%|██████████| 104/104 [00:19<00:00,  5.33it/s, Loss=0.228, Accuracy=0.936]\n"
     ]
    },
    {
     "name": "stdout",
     "output_type": "stream",
     "text": [
      "Epoch [45/50], Train Loss: 0.2261, Train Accuracy: 0.9356, Val Loss: 0.1576, Val Accuracy: 0.9461\n"
     ]
    },
    {
     "name": "stderr",
     "output_type": "stream",
     "text": [
      "Epoch 46/50: 100%|██████████| 104/104 [00:19<00:00,  5.29it/s, Loss=0.248, Accuracy=0.933]\n"
     ]
    },
    {
     "name": "stdout",
     "output_type": "stream",
     "text": [
      "Epoch [46/50], Train Loss: 0.2463, Train Accuracy: 0.9331, Val Loss: 0.1916, Val Accuracy: 0.9394\n"
     ]
    },
    {
     "name": "stderr",
     "output_type": "stream",
     "text": [
      "Epoch 47/50: 100%|██████████| 104/104 [00:19<00:00,  5.28it/s, Loss=0.211, Accuracy=0.941]\n"
     ]
    },
    {
     "name": "stdout",
     "output_type": "stream",
     "text": [
      "Epoch [47/50], Train Loss: 0.2096, Train Accuracy: 0.9406, Val Loss: 0.1641, Val Accuracy: 0.9437\n"
     ]
    },
    {
     "name": "stderr",
     "output_type": "stream",
     "text": [
      "Epoch 48/50: 100%|██████████| 104/104 [00:19<00:00,  5.25it/s, Loss=0.226, Accuracy=0.936]\n"
     ]
    },
    {
     "name": "stdout",
     "output_type": "stream",
     "text": [
      "Epoch [48/50], Train Loss: 0.2242, Train Accuracy: 0.9359, Val Loss: 0.1660, Val Accuracy: 0.9479\n"
     ]
    },
    {
     "name": "stderr",
     "output_type": "stream",
     "text": [
      "Epoch 49/50: 100%|██████████| 104/104 [00:20<00:00,  5.10it/s, Loss=0.216, Accuracy=0.939]\n"
     ]
    },
    {
     "name": "stdout",
     "output_type": "stream",
     "text": [
      "Epoch [49/50], Train Loss: 0.2144, Train Accuracy: 0.9392, Val Loss: 0.1419, Val Accuracy: 0.9564\n"
     ]
    },
    {
     "name": "stderr",
     "output_type": "stream",
     "text": [
      "Epoch 50/50: 100%|██████████| 104/104 [00:19<00:00,  5.21it/s, Loss=0.203, Accuracy=0.944]\n"
     ]
    },
    {
     "name": "stdout",
     "output_type": "stream",
     "text": [
      "Epoch [50/50], Train Loss: 0.2013, Train Accuracy: 0.9437, Val Loss: 0.1622, Val Accuracy: 0.9515\n",
      "Test Loss: 0.2196, Test Accuracy: 0.9413\n"
     ]
    },
    {
     "data": {
      "image/png": "[encoded data removed]",
      "text/plain": [
       "<Figure size 1200x400 with 2 Axes>"
      ]
     },
     "metadata": {},
     "output_type": "display_data"
    }
   ],
   "source": [
    "import torch\n",
    "import torch.nn as nn\n",
    "import torch.optim as optim\n",
    "from torch.utils.data import DataLoader, Dataset\n",
    "from torchvision import transforms\n",
    "from tqdm import tqdm\n",
    "import pandas as pd\n",
    "from PIL import Image\n",
    "import os\n",
    "from sklearn.model_selection import train_test_split\n",
    "import matplotlib.pyplot as plt\n",
    "\n",
    "# Check if GPU is available and set device\n",
    "device = torch.device(\"cuda\" if torch.cuda.is_available() else \"cpu\")\n",
    "\n",
    "# Define data transforms with 64x64 image size\n",
    "transform = transforms.Compose([\n",
    "    transforms.Resize((64, 64)),  # Resize to 64x64\n",
    "    transforms.ToTensor(),\n",
    "    transforms.Normalize(mean=[0.485, 0.456, 0.406], std=[0.229, 0.224, 0.225])\n",
    "])\n",
    "\n",
    "# Define the directory path\n",
    "data_dir = r\"C:\\Users\\user\\Desktop\\plant\\boc\"\n",
    "\n",
    "# Load one CSV file\n",
    "csv_file = 'fold_4_train.csv'\n",
    "\n",
    "# Define a custom dataset class for CSV loading\n",
    "class CustomDataset(Dataset):\n",
    "    def __init__(self, csv_file, root_dir, transform=None):\n",
    "        self.data = pd.read_csv(csv_file)\n",
    "        self.root_dir = root_dir\n",
    "        self.transform = transform\n",
    "\n",
    "    def __len__(self):\n",
    "        return len(self.data)\n",
    "\n",
    "    def __getitem__(self, idx):\n",
    "        try:\n",
    "            img_name = os.path.join(self.root_dir, str(self.data.iloc[idx, 0]))  # Access image_path using index 0\n",
    "            image = Image.open(img_name).convert('RGB')  # Ensure images are in RGB mode\n",
    "            label = self.data.iloc[idx, 1]  # Access class_label using index 1\n",
    "        except Exception as e:\n",
    "            print(f\"Error accessing image at index {idx}: {e}\")\n",
    "            return None\n",
    "\n",
    "        if self.transform:\n",
    "            image = self.transform(image)\n",
    "\n",
    "        return image, label\n",
    "\n",
    "# Load the dataset using CustomDataset\n",
    "dataset = CustomDataset(csv_file=os.path.join(data_dir, csv_file), root_dir=data_dir, transform=transform)\n",
    "\n",
    "# Split dataset into train, validation, and test sets\n",
    "train_size = 0.8\n",
    "val_size = 0.1\n",
    "test_size = 1 - train_size - val_size\n",
    "\n",
    "train_dataset, temp_dataset = train_test_split(dataset, test_size=1 - train_size, random_state=42)\n",
    "val_dataset, test_dataset = train_test_split(temp_dataset, test_size=test_size / (val_size + test_size), random_state=42)\n",
    "\n",
    "# Create data loaders for each set\n",
    "batch_size = 128\n",
    "train_loader = DataLoader(train_dataset, batch_size=batch_size, shuffle=True, num_workers=4, pin_memory=True)\n",
    "val_loader = DataLoader(val_dataset, batch_size=batch_size, shuffle=False, num_workers=4, pin_memory=True)\n",
    "test_loader = DataLoader(test_dataset, batch_size=batch_size, shuffle=False, num_workers=4, pin_memory=True)\n",
    "\n",
    "\n",
    "\n",
    "# Print class names (assuming it's available in the dataset)\n",
    "print(\"Class Names:\", pd.Series([data[1] for data in train_dataset]).unique())\n",
    "##\n",
    "### Define the model architecture\n",
    "##class AlexNet(nn.Module):\n",
    "##    def __init__(self, num_classes=15):\n",
    "##        super(AlexNet, self).__init__()\n",
    "##        self.features = nn.Sequential(\n",
    "##            nn.Conv2d(3, 64, kernel_size=11, stride=4, padding=2),\n",
    "##            nn.ReLU(inplace=True),\n",
    "##            nn.MaxPool2d(kernel_size=3, stride=2),\n",
    "##            nn.Conv2d(64, 192, kernel_size=5, padding=2),\n",
    "##            nn.ReLU(inplace=True),\n",
    "##            nn.MaxPool2d(kernel_size=3, stride=2),\n",
    "##            nn.Conv2d(192, 384, kernel_size=3, padding=1),\n",
    "##            nn.ReLU(inplace=True),\n",
    "##            nn.Conv2d(384, 256, kernel_size=3, padding=1),\n",
    "##            nn.ReLU(inplace=True),\n",
    "##            nn.Conv2d(256, 256, kernel_size=3, padding=1),\n",
    "##            nn.ReLU(inplace=True),\n",
    "##            nn.MaxPool2d(kernel_size=3, stride=2),\n",
    "##        )\n",
    "##        self.avgpool = nn.AdaptiveAvgPool2d((6, 6))\n",
    "##        self.classifier = nn.Sequential(\n",
    "##            nn.Dropout(),\n",
    "##            nn.Linear(256 * 6 * 6, 4096),\n",
    "##            nn.ReLU(inplace=True),\n",
    "##            nn.Dropout(),\n",
    "##            nn.Linear(4096, 4096),\n",
    "##            nn.ReLU(inplace=True),\n",
    "##            nn.Linear(4096, num_classes),\n",
    "##        )\n",
    "##\n",
    "##    def forward(self, x):\n",
    "##        x = self.features(x)\n",
    "##        x = self.avgpool(x)\n",
    "##        x = torch.flatten(x, 1)\n",
    "##        x = self.classifier(x)\n",
    "##        return x\n",
    "##\n",
    "# Instantiate the model\n",
    "##model = AlexNet(num_classes=15).to(device)\n",
    "\n",
    "class CustomEfficientNet(nn.Module):\n",
    "    def __init__(self, num_classes=15, in_channels=3, dropout_rate=0.2):\n",
    "        super(CustomEfficientNet, self).__init__()\n",
    "\n",
    "        # Stem convolutional layer\n",
    "        self.stem = nn.Sequential(\n",
    "            nn.Conv2d(in_channels, 32, kernel_size=3, stride=2, padding=1),\n",
    "            nn.BatchNorm2d(32),\n",
    "            nn.ReLU(inplace=True)\n",
    "        )\n",
    "\n",
    "        # Blocks (similar to EfficientNet's design)\n",
    "        self.blocks = nn.Sequential(\n",
    "            EfficientBlock(32, 16, 1, 1, dropout_rate),\n",
    "            EfficientBlock(16, 24, 2, 2, dropout_rate),\n",
    "            EfficientBlock(24, 40, 2, 2, dropout_rate),\n",
    "            EfficientBlock(40, 80, 3, 2, dropout_rate),\n",
    "            EfficientBlock(80, 112, 3, 1, dropout_rate),\n",
    "            EfficientBlock(112, 192, 4, 2, dropout_rate),\n",
    "            EfficientBlock(192, 320, 1, 1, dropout_rate)\n",
    "        )\n",
    "\n",
    "        # Classifier head\n",
    "        self.classifier = nn.Sequential(\n",
    "            nn.AdaptiveAvgPool2d(1),\n",
    "            nn.Flatten(),\n",
    "            nn.Dropout(dropout_rate),\n",
    "            nn.Linear(320, num_classes)\n",
    "        )\n",
    "\n",
    "    def forward(self, x):\n",
    "        x = self.stem(x)\n",
    "        x = self.blocks(x)\n",
    "        x = self.classifier(x)\n",
    "        return x\n",
    "\n",
    "\n",
    "class EfficientBlock(nn.Module):\n",
    "    def __init__(self, in_channels, out_channels, num_layers, stride, dropout_rate):\n",
    "        super(EfficientBlock, self).__init__()\n",
    "\n",
    "        layers = []\n",
    "        for _ in range(num_layers):\n",
    "            layers.append(nn.Conv2d(in_channels, out_channels, kernel_size=3, stride=stride, padding=1))\n",
    "            layers.append(nn.BatchNorm2d(out_channels))\n",
    "            layers.append(nn.ReLU(inplace=True))\n",
    "            in_channels = out_channels\n",
    "        \n",
    "        layers.append(nn.Dropout(dropout_rate))\n",
    "        self.block = nn.Sequential(*layers)\n",
    "\n",
    "    def forward(self, x):\n",
    "        return self.block(x)\n",
    "\n",
    "\n",
    "# Print the model architecture\n",
    "model = CustomEfficientNet(num_classes=15).to(device)\n",
    "\n",
    "# Function to evaluate the model\n",
    "def evaluate_model(model, data_loader, criterion, device):\n",
    "    model.eval()\n",
    "    loss = 0.0\n",
    "    correct = 0\n",
    "    total = 0\n",
    "    with torch.no_grad():\n",
    "        for images, labels in data_loader:\n",
    "            images, labels = images.to(device), labels.to(device)\n",
    "            outputs = model(images)\n",
    "            loss += criterion(outputs, labels).item()\n",
    "            _, predicted = torch.max(outputs.data, 1)\n",
    "            total += labels.size(0)\n",
    "            correct += (predicted == labels).sum().item()\n",
    "    \n",
    "    avg_loss = loss / len(data_loader)\n",
    "    accuracy = correct / total\n",
    "    return avg_loss, accuracy\n",
    "\n",
    "# Function to train the model\n",
    "def train_model(model, train_loader, val_loader, criterion, optimizer, num_epochs, device):\n",
    "    train_losses = []\n",
    "    val_losses = []\n",
    "    train_accuracies = []\n",
    "    val_accuracies = []\n",
    "    \n",
    "    for epoch in range(num_epochs):\n",
    "        model.train()\n",
    "        running_loss = 0.0\n",
    "        correct_train = 0\n",
    "        total_train = 0\n",
    "        \n",
    "        # Use tqdm for progress display\n",
    "        progress_bar = tqdm(train_loader, desc=f'Epoch {epoch+1}/{num_epochs}')\n",
    "        \n",
    "        for images, labels in progress_bar:\n",
    "            images, labels = images.to(device), labels.to(device)\n",
    "            \n",
    "            optimizer.zero_grad()\n",
    "            outputs = model(images)\n",
    "            loss = criterion(outputs, labels)\n",
    "            loss.backward()\n",
    "            optimizer.step()\n",
    "            \n",
    "            running_loss += loss.item()\n",
    "            _, predicted = torch.max(outputs.data, 1)\n",
    "            total_train += labels.size(0)\n",
    "            correct_train += (predicted == labels).sum().item()\n",
    "            \n",
    "            progress_bar.set_postfix({'Loss': running_loss / (total_train / batch_size), 'Accuracy': correct_train / total_train})\n",
    "        \n",
    "        avg_train_loss = running_loss / len(train_loader)\n",
    "        train_accuracy = correct_train / total_train\n",
    "        \n",
    "        val_loss, val_accuracy = evaluate_model(model, val_loader, criterion, device)\n",
    "        \n",
    "        train_losses.append(avg_train_loss)\n",
    "        val_losses.append(val_loss)\n",
    "        train_accuracies.append(train_accuracy)\n",
    "        val_accuracies.append(val_accuracy)\n",
    "        \n",
    "        print(f'Epoch [{epoch+1}/{num_epochs}], Train Loss: {avg_train_loss:.4f}, Train Accuracy: {train_accuracy:.4f}, Val Loss: {val_loss:.4f}, Val Accuracy: {val_accuracy:.4f}')\n",
    "    \n",
    "    return train_losses, val_losses, train_accuracies, val_accuracies\n",
    "\n",
    "# Set hyperparameters\n",
    "num_epochs = 50\n",
    "learning_rate = 1e-3\n",
    "\n",
    "# Define criterion and optimizer\n",
    "criterion = nn.CrossEntropyLoss()\n",
    "optimizer = optim.Adam(model.parameters(), lr=learning_rate)\n",
    "\n",
    "# Train the model\n",
    "train_losses, val_losses, train_accuracies, val_accuracies = train_model(model, train_loader, val_loader, criterion, optimizer, num_epochs, device)\n",
    "\n",
    "# Evaluate on test set\n",
    "test_loss, test_accuracy = evaluate_model(model, test_loader, criterion, device)\n",
    "print(f'Test Loss: {test_loss:.4f}, Test Accuracy: {test_accuracy:.4f}')\n",
    "\n",
    "# Plotting training and validation curves\n",
    "plt.figure(figsize=(12, 4))\n",
    "plt.subplot(1, 2, 1)\n",
    "plt.plot(train_losses, label='Train Loss')\n",
    "plt.plot(val_losses, label='Val Loss')\n",
    "plt.xlabel('Epoch')\n",
    "plt.ylabel('Loss')\n",
    "plt.title('Training and Validation Losses')\n",
    "plt.legend()\n",
    "\n",
    "plt.subplot(1, 2, 2)\n",
    "plt.plot(train_accuracies, label='Train Accuracy')\n",
    "plt.plot(val_accuracies, label='Val Accuracy')\n",
    "plt.xlabel('Epoch')\n",
    "plt.ylabel('Accuracy')\n",
    "plt.title('Training and Validation Accuracies')\n",
    "plt.legend()\n",
    "\n",
    "plt.tight_layout()\n",
    "plt.show()\n"
   ]
  },
  {
   "cell_type": "code",
   "execution_count": 7,
   "metadata": {},
   "outputs": [
    {
     "name": "stdout",
     "output_type": "stream",
     "text": [
      "Class Names: [12  6 14  5  7  0 13  2 11  9  8  1 10  4  3]\n"
     ]
    },
    {
     "name": "stderr",
     "output_type": "stream",
     "text": [
      "Epoch 1/50: 100%|██████████| 104/104 [00:22<00:00,  4.70it/s, Loss=2.34, Accuracy=0.242]\n"
     ]
    },
    {
     "name": "stdout",
     "output_type": "stream",
     "text": [
      "Epoch [1/50], Train Loss: 2.3224, Train Accuracy: 0.2421, Val Loss: 1.9157, Val Accuracy: 0.3901\n"
     ]
    },
    {
     "name": "stderr",
     "output_type": "stream",
     "text": [
      "Epoch 2/50: 100%|██████████| 104/104 [00:20<00:00,  5.00it/s, Loss=1.81, Accuracy=0.42]\n"
     ]
    },
    {
     "name": "stdout",
     "output_type": "stream",
     "text": [
      "Epoch [2/50], Train Loss: 1.7993, Train Accuracy: 0.4200, Val Loss: 1.4749, Val Accuracy: 0.5239\n"
     ]
    },
    {
     "name": "stderr",
     "output_type": "stream",
     "text": [
      "Epoch 3/50: 100%|██████████| 104/104 [00:19<00:00,  5.37it/s, Loss=1.5, Accuracy=0.524]\n"
     ]
    },
    {
     "name": "stdout",
     "output_type": "stream",
     "text": [
      "Epoch [3/50], Train Loss: 1.4894, Train Accuracy: 0.5238, Val Loss: 1.2015, Val Accuracy: 0.5984\n"
     ]
    },
    {
     "name": "stderr",
     "output_type": "stream",
     "text": [
      "Epoch 4/50: 100%|██████████| 104/104 [00:18<00:00,  5.60it/s, Loss=1.24, Accuracy=0.606]\n"
     ]
    },
    {
     "name": "stdout",
     "output_type": "stream",
     "text": [
      "Epoch [4/50], Train Loss: 1.2323, Train Accuracy: 0.6063, Val Loss: 1.1087, Val Accuracy: 0.6426\n"
     ]
    },
    {
     "name": "stderr",
     "output_type": "stream",
     "text": [
      "Epoch 5/50: 100%|██████████| 104/104 [00:19<00:00,  5.44it/s, Loss=1.09, Accuracy=0.65]\n"
     ]
    },
    {
     "name": "stdout",
     "output_type": "stream",
     "text": [
      "Epoch [5/50], Train Loss: 1.0809, Train Accuracy: 0.6498, Val Loss: 0.9899, Val Accuracy: 0.6814\n"
     ]
    },
    {
     "name": "stderr",
     "output_type": "stream",
     "text": [
      "Epoch 6/50: 100%|██████████| 104/104 [00:19<00:00,  5.24it/s, Loss=0.952, Accuracy=0.697]\n"
     ]
    },
    {
     "name": "stdout",
     "output_type": "stream",
     "text": [
      "Epoch [6/50], Train Loss: 0.9447, Train Accuracy: 0.6972, Val Loss: 0.8291, Val Accuracy: 0.7329\n"
     ]
    },
    {
     "name": "stderr",
     "output_type": "stream",
     "text": [
      "Epoch 7/50: 100%|██████████| 104/104 [00:19<00:00,  5.47it/s, Loss=0.856, Accuracy=0.734]\n"
     ]
    },
    {
     "name": "stdout",
     "output_type": "stream",
     "text": [
      "Epoch [7/50], Train Loss: 0.8491, Train Accuracy: 0.7344, Val Loss: 0.6862, Val Accuracy: 0.7807\n"
     ]
    },
    {
     "name": "stderr",
     "output_type": "stream",
     "text": [
      "Epoch 8/50: 100%|██████████| 104/104 [00:19<00:00,  5.30it/s, Loss=0.786, Accuracy=0.755]\n"
     ]
    },
    {
     "name": "stdout",
     "output_type": "stream",
     "text": [
      "Epoch [8/50], Train Loss: 0.7801, Train Accuracy: 0.7555, Val Loss: 0.7172, Val Accuracy: 0.7813\n"
     ]
    },
    {
     "name": "stderr",
     "output_type": "stream",
     "text": [
      "Epoch 9/50: 100%|██████████| 104/104 [00:19<00:00,  5.32it/s, Loss=0.72, Accuracy=0.781] \n"
     ]
    },
    {
     "name": "stdout",
     "output_type": "stream",
     "text": [
      "Epoch [9/50], Train Loss: 0.7142, Train Accuracy: 0.7812, Val Loss: 0.8107, Val Accuracy: 0.7571\n"
     ]
    },
    {
     "name": "stderr",
     "output_type": "stream",
     "text": [
      "Epoch 10/50: 100%|██████████| 104/104 [00:19<00:00,  5.22it/s, Loss=0.678, Accuracy=0.797]\n"
     ]
    },
    {
     "name": "stdout",
     "output_type": "stream",
     "text": [
      "Epoch [10/50], Train Loss: 0.6725, Train Accuracy: 0.7971, Val Loss: 0.7000, Val Accuracy: 0.7729\n"
     ]
    },
    {
     "name": "stderr",
     "output_type": "stream",
     "text": [
      "Epoch 11/50: 100%|██████████| 104/104 [00:20<00:00,  5.13it/s, Loss=0.637, Accuracy=0.806]\n"
     ]
    },
    {
     "name": "stdout",
     "output_type": "stream",
     "text": [
      "Epoch [11/50], Train Loss: 0.6324, Train Accuracy: 0.8063, Val Loss: 0.8660, Val Accuracy: 0.7541\n"
     ]
    },
    {
     "name": "stderr",
     "output_type": "stream",
     "text": [
      "Epoch 12/50: 100%|██████████| 104/104 [00:19<00:00,  5.32it/s, Loss=0.606, Accuracy=0.819]\n"
     ]
    },
    {
     "name": "stdout",
     "output_type": "stream",
     "text": [
      "Epoch [12/50], Train Loss: 0.6011, Train Accuracy: 0.8187, Val Loss: 0.5011, Val Accuracy: 0.8431\n"
     ]
    },
    {
     "name": "stderr",
     "output_type": "stream",
     "text": [
      "Epoch 13/50: 100%|██████████| 104/104 [00:18<00:00,  5.51it/s, Loss=0.555, Accuracy=0.832]\n"
     ]
    },
    {
     "name": "stdout",
     "output_type": "stream",
     "text": [
      "Epoch [13/50], Train Loss: 0.5506, Train Accuracy: 0.8323, Val Loss: 0.5168, Val Accuracy: 0.8346\n"
     ]
    },
    {
     "name": "stderr",
     "output_type": "stream",
     "text": [
      "Epoch 14/50: 100%|██████████| 104/104 [00:19<00:00,  5.26it/s, Loss=0.542, Accuracy=0.838]\n"
     ]
    },
    {
     "name": "stdout",
     "output_type": "stream",
     "text": [
      "Epoch [14/50], Train Loss: 0.5375, Train Accuracy: 0.8377, Val Loss: 0.4818, Val Accuracy: 0.8498\n"
     ]
    },
    {
     "name": "stderr",
     "output_type": "stream",
     "text": [
      "Epoch 15/50: 100%|██████████| 104/104 [00:19<00:00,  5.37it/s, Loss=0.5, Accuracy=0.85]  \n"
     ]
    },
    {
     "name": "stdout",
     "output_type": "stream",
     "text": [
      "Epoch [15/50], Train Loss: 0.4963, Train Accuracy: 0.8502, Val Loss: 0.4382, Val Accuracy: 0.8649\n"
     ]
    },
    {
     "name": "stderr",
     "output_type": "stream",
     "text": [
      "Epoch 16/50: 100%|██████████| 104/104 [00:18<00:00,  5.64it/s, Loss=0.488, Accuracy=0.855]\n"
     ]
    },
    {
     "name": "stdout",
     "output_type": "stream",
     "text": [
      "Epoch [16/50], Train Loss: 0.4843, Train Accuracy: 0.8552, Val Loss: 0.7178, Val Accuracy: 0.7935\n"
     ]
    },
    {
     "name": "stderr",
     "output_type": "stream",
     "text": [
      "Epoch 17/50: 100%|██████████| 104/104 [00:19<00:00,  5.29it/s, Loss=0.481, Accuracy=0.86]\n"
     ]
    },
    {
     "name": "stdout",
     "output_type": "stream",
     "text": [
      "Epoch [17/50], Train Loss: 0.4768, Train Accuracy: 0.8599, Val Loss: 0.4403, Val Accuracy: 0.8704\n"
     ]
    },
    {
     "name": "stderr",
     "output_type": "stream",
     "text": [
      "Epoch 18/50: 100%|██████████| 104/104 [00:20<00:00,  5.12it/s, Loss=0.461, Accuracy=0.864]\n"
     ]
    },
    {
     "name": "stdout",
     "output_type": "stream",
     "text": [
      "Epoch [18/50], Train Loss: 0.4576, Train Accuracy: 0.8639, Val Loss: 0.5764, Val Accuracy: 0.8346\n"
     ]
    },
    {
     "name": "stderr",
     "output_type": "stream",
     "text": [
      "Epoch 19/50: 100%|██████████| 104/104 [00:19<00:00,  5.44it/s, Loss=0.435, Accuracy=0.87]\n"
     ]
    },
    {
     "name": "stdout",
     "output_type": "stream",
     "text": [
      "Epoch [19/50], Train Loss: 0.4315, Train Accuracy: 0.8695, Val Loss: 0.4681, Val Accuracy: 0.8655\n"
     ]
    },
    {
     "name": "stderr",
     "output_type": "stream",
     "text": [
      "Epoch 20/50: 100%|██████████| 104/104 [00:19<00:00,  5.25it/s, Loss=0.43, Accuracy=0.875] \n"
     ]
    },
    {
     "name": "stdout",
     "output_type": "stream",
     "text": [
      "Epoch [20/50], Train Loss: 0.4271, Train Accuracy: 0.8752, Val Loss: 0.3747, Val Accuracy: 0.8831\n"
     ]
    },
    {
     "name": "stderr",
     "output_type": "stream",
     "text": [
      "Epoch 21/50: 100%|██████████| 104/104 [00:19<00:00,  5.26it/s, Loss=0.402, Accuracy=0.882]\n"
     ]
    },
    {
     "name": "stdout",
     "output_type": "stream",
     "text": [
      "Epoch [21/50], Train Loss: 0.3993, Train Accuracy: 0.8815, Val Loss: 0.3578, Val Accuracy: 0.8928\n"
     ]
    },
    {
     "name": "stderr",
     "output_type": "stream",
     "text": [
      "Epoch 22/50: 100%|██████████| 104/104 [00:19<00:00,  5.28it/s, Loss=0.401, Accuracy=0.883]\n"
     ]
    },
    {
     "name": "stdout",
     "output_type": "stream",
     "text": [
      "Epoch [22/50], Train Loss: 0.3983, Train Accuracy: 0.8826, Val Loss: 0.4080, Val Accuracy: 0.8849\n"
     ]
    },
    {
     "name": "stderr",
     "output_type": "stream",
     "text": [
      "Epoch 23/50: 100%|██████████| 104/104 [00:20<00:00,  5.11it/s, Loss=0.379, Accuracy=0.887]\n"
     ]
    },
    {
     "name": "stdout",
     "output_type": "stream",
     "text": [
      "Epoch [23/50], Train Loss: 0.3759, Train Accuracy: 0.8870, Val Loss: 0.3523, Val Accuracy: 0.8934\n"
     ]
    },
    {
     "name": "stderr",
     "output_type": "stream",
     "text": [
      "Epoch 24/50: 100%|██████████| 104/104 [00:18<00:00,  5.57it/s, Loss=0.373, Accuracy=0.894]\n"
     ]
    },
    {
     "name": "stdout",
     "output_type": "stream",
     "text": [
      "Epoch [24/50], Train Loss: 0.3705, Train Accuracy: 0.8935, Val Loss: 0.3492, Val Accuracy: 0.8988\n"
     ]
    },
    {
     "name": "stderr",
     "output_type": "stream",
     "text": [
      "Epoch 25/50: 100%|██████████| 104/104 [00:19<00:00,  5.31it/s, Loss=0.348, Accuracy=0.901]\n"
     ]
    },
    {
     "name": "stdout",
     "output_type": "stream",
     "text": [
      "Epoch [25/50], Train Loss: 0.3453, Train Accuracy: 0.9013, Val Loss: 0.4680, Val Accuracy: 0.8565\n"
     ]
    },
    {
     "name": "stderr",
     "output_type": "stream",
     "text": [
      "Epoch 26/50: 100%|██████████| 104/104 [00:18<00:00,  5.51it/s, Loss=0.374, Accuracy=0.892]\n"
     ]
    },
    {
     "name": "stdout",
     "output_type": "stream",
     "text": [
      "Epoch [26/50], Train Loss: 0.3712, Train Accuracy: 0.8917, Val Loss: 0.3275, Val Accuracy: 0.9019\n"
     ]
    },
    {
     "name": "stderr",
     "output_type": "stream",
     "text": [
      "Epoch 27/50: 100%|██████████| 104/104 [00:19<00:00,  5.38it/s, Loss=0.337, Accuracy=0.9]  \n"
     ]
    },
    {
     "name": "stdout",
     "output_type": "stream",
     "text": [
      "Epoch [27/50], Train Loss: 0.3341, Train Accuracy: 0.9004, Val Loss: 0.3541, Val Accuracy: 0.8946\n"
     ]
    },
    {
     "name": "stderr",
     "output_type": "stream",
     "text": [
      "Epoch 28/50: 100%|██████████| 104/104 [00:19<00:00,  5.32it/s, Loss=0.347, Accuracy=0.902]\n"
     ]
    },
    {
     "name": "stdout",
     "output_type": "stream",
     "text": [
      "Epoch [28/50], Train Loss: 0.3443, Train Accuracy: 0.9023, Val Loss: 0.3589, Val Accuracy: 0.8849\n"
     ]
    },
    {
     "name": "stderr",
     "output_type": "stream",
     "text": [
      "Epoch 29/50: 100%|██████████| 104/104 [00:19<00:00,  5.24it/s, Loss=0.311, Accuracy=0.913]\n"
     ]
    },
    {
     "name": "stdout",
     "output_type": "stream",
     "text": [
      "Epoch [29/50], Train Loss: 0.3081, Train Accuracy: 0.9131, Val Loss: 0.3736, Val Accuracy: 0.8940\n"
     ]
    },
    {
     "name": "stderr",
     "output_type": "stream",
     "text": [
      "Epoch 30/50: 100%|██████████| 104/104 [00:19<00:00,  5.20it/s, Loss=0.338, Accuracy=0.901]\n"
     ]
    },
    {
     "name": "stdout",
     "output_type": "stream",
     "text": [
      "Epoch [30/50], Train Loss: 0.3353, Train Accuracy: 0.9015, Val Loss: 0.3219, Val Accuracy: 0.9025\n"
     ]
    },
    {
     "name": "stderr",
     "output_type": "stream",
     "text": [
      "Epoch 31/50: 100%|██████████| 104/104 [00:19<00:00,  5.44it/s, Loss=0.337, Accuracy=0.904]\n"
     ]
    },
    {
     "name": "stdout",
     "output_type": "stream",
     "text": [
      "Epoch [31/50], Train Loss: 0.3339, Train Accuracy: 0.9037, Val Loss: 0.3709, Val Accuracy: 0.8964\n"
     ]
    },
    {
     "name": "stderr",
     "output_type": "stream",
     "text": [
      "Epoch 32/50: 100%|██████████| 104/104 [00:19<00:00,  5.25it/s, Loss=0.322, Accuracy=0.911]\n"
     ]
    },
    {
     "name": "stdout",
     "output_type": "stream",
     "text": [
      "Epoch [32/50], Train Loss: 0.3198, Train Accuracy: 0.9105, Val Loss: 0.3209, Val Accuracy: 0.9104\n"
     ]
    },
    {
     "name": "stderr",
     "output_type": "stream",
     "text": [
      "Epoch 33/50: 100%|██████████| 104/104 [00:19<00:00,  5.32it/s, Loss=0.306, Accuracy=0.912]\n"
     ]
    },
    {
     "name": "stdout",
     "output_type": "stream",
     "text": [
      "Epoch [33/50], Train Loss: 0.3031, Train Accuracy: 0.9116, Val Loss: 0.3107, Val Accuracy: 0.9104\n"
     ]
    },
    {
     "name": "stderr",
     "output_type": "stream",
     "text": [
      "Epoch 34/50: 100%|██████████| 104/104 [00:19<00:00,  5.26it/s, Loss=0.293, Accuracy=0.917]\n"
     ]
    },
    {
     "name": "stdout",
     "output_type": "stream",
     "text": [
      "Epoch [34/50], Train Loss: 0.2904, Train Accuracy: 0.9166, Val Loss: 0.3696, Val Accuracy: 0.8940\n"
     ]
    },
    {
     "name": "stderr",
     "output_type": "stream",
     "text": [
      "Epoch 35/50: 100%|██████████| 104/104 [00:19<00:00,  5.24it/s, Loss=0.291, Accuracy=0.914]\n"
     ]
    },
    {
     "name": "stdout",
     "output_type": "stream",
     "text": [
      "Epoch [35/50], Train Loss: 0.2887, Train Accuracy: 0.9143, Val Loss: 0.4533, Val Accuracy: 0.8807\n"
     ]
    },
    {
     "name": "stderr",
     "output_type": "stream",
     "text": [
      "Epoch 36/50: 100%|██████████| 104/104 [00:20<00:00,  5.14it/s, Loss=0.272, Accuracy=0.922]\n"
     ]
    },
    {
     "name": "stdout",
     "output_type": "stream",
     "text": [
      "Epoch [36/50], Train Loss: 0.2697, Train Accuracy: 0.9219, Val Loss: 0.2768, Val Accuracy: 0.9213\n"
     ]
    },
    {
     "name": "stderr",
     "output_type": "stream",
     "text": [
      "Epoch 37/50: 100%|██████████| 104/104 [00:19<00:00,  5.32it/s, Loss=0.265, Accuracy=0.923]\n"
     ]
    },
    {
     "name": "stdout",
     "output_type": "stream",
     "text": [
      "Epoch [37/50], Train Loss: 0.2625, Train Accuracy: 0.9228, Val Loss: 0.2571, Val Accuracy: 0.9182\n"
     ]
    },
    {
     "name": "stderr",
     "output_type": "stream",
     "text": [
      "Epoch 38/50: 100%|██████████| 104/104 [00:19<00:00,  5.30it/s, Loss=0.271, Accuracy=0.922]\n"
     ]
    },
    {
     "name": "stdout",
     "output_type": "stream",
     "text": [
      "Epoch [38/50], Train Loss: 0.2694, Train Accuracy: 0.9216, Val Loss: 0.3053, Val Accuracy: 0.9079\n"
     ]
    },
    {
     "name": "stderr",
     "output_type": "stream",
     "text": [
      "Epoch 39/50: 100%|██████████| 104/104 [00:18<00:00,  5.67it/s, Loss=0.282, Accuracy=0.92]\n"
     ]
    },
    {
     "name": "stdout",
     "output_type": "stream",
     "text": [
      "Epoch [39/50], Train Loss: 0.2795, Train Accuracy: 0.9197, Val Loss: 0.3229, Val Accuracy: 0.9122\n"
     ]
    },
    {
     "name": "stderr",
     "output_type": "stream",
     "text": [
      "Epoch 40/50: 100%|██████████| 104/104 [00:19<00:00,  5.24it/s, Loss=0.235, Accuracy=0.929]\n"
     ]
    },
    {
     "name": "stdout",
     "output_type": "stream",
     "text": [
      "Epoch [40/50], Train Loss: 0.2329, Train Accuracy: 0.9290, Val Loss: 0.2672, Val Accuracy: 0.9273\n"
     ]
    },
    {
     "name": "stderr",
     "output_type": "stream",
     "text": [
      "Epoch 41/50: 100%|██████████| 104/104 [00:19<00:00,  5.43it/s, Loss=0.252, Accuracy=0.926]\n"
     ]
    },
    {
     "name": "stdout",
     "output_type": "stream",
     "text": [
      "Epoch [41/50], Train Loss: 0.2501, Train Accuracy: 0.9259, Val Loss: 0.3065, Val Accuracy: 0.9134\n"
     ]
    },
    {
     "name": "stderr",
     "output_type": "stream",
     "text": [
      "Epoch 42/50: 100%|██████████| 104/104 [00:19<00:00,  5.26it/s, Loss=0.237, Accuracy=0.932]\n"
     ]
    },
    {
     "name": "stdout",
     "output_type": "stream",
     "text": [
      "Epoch [42/50], Train Loss: 0.2349, Train Accuracy: 0.9318, Val Loss: 0.3091, Val Accuracy: 0.9122\n"
     ]
    },
    {
     "name": "stderr",
     "output_type": "stream",
     "text": [
      "Epoch 43/50: 100%|██████████| 104/104 [00:19<00:00,  5.36it/s, Loss=0.238, Accuracy=0.931]\n"
     ]
    },
    {
     "name": "stdout",
     "output_type": "stream",
     "text": [
      "Epoch [43/50], Train Loss: 0.2360, Train Accuracy: 0.9309, Val Loss: 0.2671, Val Accuracy: 0.9303\n"
     ]
    },
    {
     "name": "stderr",
     "output_type": "stream",
     "text": [
      "Epoch 44/50: 100%|██████████| 104/104 [00:19<00:00,  5.34it/s, Loss=0.221, Accuracy=0.936]\n"
     ]
    },
    {
     "name": "stdout",
     "output_type": "stream",
     "text": [
      "Epoch [44/50], Train Loss: 0.2197, Train Accuracy: 0.9358, Val Loss: 0.3053, Val Accuracy: 0.9152\n"
     ]
    },
    {
     "name": "stderr",
     "output_type": "stream",
     "text": [
      "Epoch 45/50: 100%|██████████| 104/104 [00:19<00:00,  5.23it/s, Loss=0.245, Accuracy=0.935]\n"
     ]
    },
    {
     "name": "stdout",
     "output_type": "stream",
     "text": [
      "Epoch [45/50], Train Loss: 0.2428, Train Accuracy: 0.9353, Val Loss: 0.5404, Val Accuracy: 0.8510\n"
     ]
    },
    {
     "name": "stderr",
     "output_type": "stream",
     "text": [
      "Epoch 46/50: 100%|██████████| 104/104 [00:19<00:00,  5.30it/s, Loss=0.237, Accuracy=0.932]\n"
     ]
    },
    {
     "name": "stdout",
     "output_type": "stream",
     "text": [
      "Epoch [46/50], Train Loss: 0.2355, Train Accuracy: 0.9320, Val Loss: 0.2933, Val Accuracy: 0.9176\n"
     ]
    },
    {
     "name": "stderr",
     "output_type": "stream",
     "text": [
      "Epoch 47/50: 100%|██████████| 104/104 [00:19<00:00,  5.46it/s, Loss=0.222, Accuracy=0.937]\n"
     ]
    },
    {
     "name": "stdout",
     "output_type": "stream",
     "text": [
      "Epoch [47/50], Train Loss: 0.2206, Train Accuracy: 0.9370, Val Loss: 0.3021, Val Accuracy: 0.9128\n"
     ]
    },
    {
     "name": "stderr",
     "output_type": "stream",
     "text": [
      "Epoch 48/50: 100%|██████████| 104/104 [00:19<00:00,  5.40it/s, Loss=0.217, Accuracy=0.938]\n"
     ]
    },
    {
     "name": "stdout",
     "output_type": "stream",
     "text": [
      "Epoch [48/50], Train Loss: 0.2149, Train Accuracy: 0.9384, Val Loss: 0.2517, Val Accuracy: 0.9285\n"
     ]
    },
    {
     "name": "stderr",
     "output_type": "stream",
     "text": [
      "Epoch 49/50: 100%|██████████| 104/104 [00:18<00:00,  5.53it/s, Loss=0.208, Accuracy=0.941]\n"
     ]
    },
    {
     "name": "stdout",
     "output_type": "stream",
     "text": [
      "Epoch [49/50], Train Loss: 0.2060, Train Accuracy: 0.9413, Val Loss: 0.2639, Val Accuracy: 0.9279\n"
     ]
    },
    {
     "name": "stderr",
     "output_type": "stream",
     "text": [
      "Epoch 50/50: 100%|██████████| 104/104 [00:19<00:00,  5.28it/s, Loss=0.215, Accuracy=0.941]\n"
     ]
    },
    {
     "name": "stdout",
     "output_type": "stream",
     "text": [
      "Epoch [50/50], Train Loss: 0.2136, Train Accuracy: 0.9408, Val Loss: 0.2552, Val Accuracy: 0.9316\n",
      "Test Loss: 0.1978, Test Accuracy: 0.9467\n"
     ]
    },
    {
     "data": {
      "image/png": "[encoded data removed]",
      "text/plain": [
       "<Figure size 1200x400 with 2 Axes>"
      ]
     },
     "metadata": {},
     "output_type": "display_data"
    }
   ],
   "source": [
    "import torch\n",
    "import torch.nn as nn\n",
    "import torch.optim as optim\n",
    "from torch.utils.data import DataLoader, Dataset\n",
    "from torchvision import transforms\n",
    "from tqdm import tqdm\n",
    "import pandas as pd\n",
    "from PIL import Image\n",
    "import os\n",
    "from sklearn.model_selection import train_test_split\n",
    "import matplotlib.pyplot as plt\n",
    "\n",
    "# Check if GPU is available and set device\n",
    "device = torch.device(\"cuda\" if torch.cuda.is_available() else \"cpu\")\n",
    "\n",
    "# Define data transforms with 64x64 image size\n",
    "transform = transforms.Compose([\n",
    "    transforms.Resize((64, 64)),  # Resize to 64x64\n",
    "    transforms.ToTensor(),\n",
    "    transforms.Normalize(mean=[0.485, 0.456, 0.406], std=[0.229, 0.224, 0.225])\n",
    "])\n",
    "\n",
    "# Define the directory path\n",
    "data_dir = r\"C:\\Users\\user\\Desktop\\plant\\boc\"\n",
    "\n",
    "# Load one CSV file\n",
    "csv_file = 'fold_5_train.csv'\n",
    "\n",
    "# Define a custom dataset class for CSV loading\n",
    "class CustomDataset(Dataset):\n",
    "    def __init__(self, csv_file, root_dir, transform=None):\n",
    "        self.data = pd.read_csv(csv_file)\n",
    "        self.root_dir = root_dir\n",
    "        self.transform = transform\n",
    "\n",
    "    def __len__(self):\n",
    "        return len(self.data)\n",
    "\n",
    "    def __getitem__(self, idx):\n",
    "        try:\n",
    "            img_name = os.path.join(self.root_dir, str(self.data.iloc[idx, 0]))  # Access image_path using index 0\n",
    "            image = Image.open(img_name).convert('RGB')  # Ensure images are in RGB mode\n",
    "            label = self.data.iloc[idx, 1]  # Access class_label using index 1\n",
    "        except Exception as e:\n",
    "            print(f\"Error accessing image at index {idx}: {e}\")\n",
    "            return None\n",
    "\n",
    "        if self.transform:\n",
    "            image = self.transform(image)\n",
    "\n",
    "        return image, label\n",
    "\n",
    "# Load the dataset using CustomDataset\n",
    "dataset = CustomDataset(csv_file=os.path.join(data_dir, csv_file), root_dir=data_dir, transform=transform)\n",
    "\n",
    "# Split dataset into train, validation, and test sets\n",
    "train_size = 0.8\n",
    "val_size = 0.1\n",
    "test_size = 1 - train_size - val_size\n",
    "\n",
    "train_dataset, temp_dataset = train_test_split(dataset, test_size=1 - train_size, random_state=42)\n",
    "val_dataset, test_dataset = train_test_split(temp_dataset, test_size=test_size / (val_size + test_size), random_state=42)\n",
    "\n",
    "# Create data loaders for each set\n",
    "batch_size = 128\n",
    "train_loader = DataLoader(train_dataset, batch_size=batch_size, shuffle=True, num_workers=4, pin_memory=True)\n",
    "val_loader = DataLoader(val_dataset, batch_size=batch_size, shuffle=False, num_workers=4, pin_memory=True)\n",
    "test_loader = DataLoader(test_dataset, batch_size=batch_size, shuffle=False, num_workers=4, pin_memory=True)\n",
    "\n",
    "\n",
    "\n",
    "# Print class names (assuming it's available in the dataset)\n",
    "print(\"Class Names:\", pd.Series([data[1] for data in train_dataset]).unique())\n",
    "##\n",
    "### Define the model architecture\n",
    "##class AlexNet(nn.Module):\n",
    "##    def __init__(self, num_classes=15):\n",
    "##        super(AlexNet, self).__init__()\n",
    "##        self.features = nn.Sequential(\n",
    "##            nn.Conv2d(3, 64, kernel_size=11, stride=4, padding=2),\n",
    "##            nn.ReLU(inplace=True),\n",
    "##            nn.MaxPool2d(kernel_size=3, stride=2),\n",
    "##            nn.Conv2d(64, 192, kernel_size=5, padding=2),\n",
    "##            nn.ReLU(inplace=True),\n",
    "##            nn.MaxPool2d(kernel_size=3, stride=2),\n",
    "##            nn.Conv2d(192, 384, kernel_size=3, padding=1),\n",
    "##            nn.ReLU(inplace=True),\n",
    "##            nn.Conv2d(384, 256, kernel_size=3, padding=1),\n",
    "##            nn.ReLU(inplace=True),\n",
    "##            nn.Conv2d(256, 256, kernel_size=3, padding=1),\n",
    "##            nn.ReLU(inplace=True),\n",
    "##            nn.MaxPool2d(kernel_size=3, stride=2),\n",
    "##        )\n",
    "##        self.avgpool = nn.AdaptiveAvgPool2d((6, 6))\n",
    "##        self.classifier = nn.Sequential(\n",
    "##            nn.Dropout(),\n",
    "##            nn.Linear(256 * 6 * 6, 4096),\n",
    "##            nn.ReLU(inplace=True),\n",
    "##            nn.Dropout(),\n",
    "##            nn.Linear(4096, 4096),\n",
    "##            nn.ReLU(inplace=True),\n",
    "##            nn.Linear(4096, num_classes),\n",
    "##        )\n",
    "##\n",
    "##    def forward(self, x):\n",
    "##        x = self.features(x)\n",
    "##        x = self.avgpool(x)\n",
    "##        x = torch.flatten(x, 1)\n",
    "##        x = self.classifier(x)\n",
    "##        return x\n",
    "##\n",
    "# Instantiate the model\n",
    "##model = AlexNet(num_classes=15).to(device)\n",
    "\n",
    "class CustomEfficientNet(nn.Module):\n",
    "    def __init__(self, num_classes=15, in_channels=3, dropout_rate=0.2):\n",
    "        super(CustomEfficientNet, self).__init__()\n",
    "\n",
    "        # Stem convolutional layer\n",
    "        self.stem = nn.Sequential(\n",
    "            nn.Conv2d(in_channels, 32, kernel_size=3, stride=2, padding=1),\n",
    "            nn.BatchNorm2d(32),\n",
    "            nn.ReLU(inplace=True)\n",
    "        )\n",
    "\n",
    "        # Blocks (similar to EfficientNet's design)\n",
    "        self.blocks = nn.Sequential(\n",
    "            EfficientBlock(32, 16, 1, 1, dropout_rate),\n",
    "            EfficientBlock(16, 24, 2, 2, dropout_rate),\n",
    "            EfficientBlock(24, 40, 2, 2, dropout_rate),\n",
    "            EfficientBlock(40, 80, 3, 2, dropout_rate),\n",
    "            EfficientBlock(80, 112, 3, 1, dropout_rate),\n",
    "            EfficientBlock(112, 192, 4, 2, dropout_rate),\n",
    "            EfficientBlock(192, 320, 1, 1, dropout_rate)\n",
    "        )\n",
    "\n",
    "        # Classifier head\n",
    "        self.classifier = nn.Sequential(\n",
    "            nn.AdaptiveAvgPool2d(1),\n",
    "            nn.Flatten(),\n",
    "            nn.Dropout(dropout_rate),\n",
    "            nn.Linear(320, num_classes)\n",
    "        )\n",
    "\n",
    "    def forward(self, x):\n",
    "        x = self.stem(x)\n",
    "        x = self.blocks(x)\n",
    "        x = self.classifier(x)\n",
    "        return x\n",
    "\n",
    "\n",
    "class EfficientBlock(nn.Module):\n",
    "    def __init__(self, in_channels, out_channels, num_layers, stride, dropout_rate):\n",
    "        super(EfficientBlock, self).__init__()\n",
    "\n",
    "        layers = []\n",
    "        for _ in range(num_layers):\n",
    "            layers.append(nn.Conv2d(in_channels, out_channels, kernel_size=3, stride=stride, padding=1))\n",
    "            layers.append(nn.BatchNorm2d(out_channels))\n",
    "            layers.append(nn.ReLU(inplace=True))\n",
    "            in_channels = out_channels\n",
    "        \n",
    "        layers.append(nn.Dropout(dropout_rate))\n",
    "        self.block = nn.Sequential(*layers)\n",
    "\n",
    "    def forward(self, x):\n",
    "        return self.block(x)\n",
    "\n",
    "\n",
    "# Print the model architecture\n",
    "model = CustomEfficientNet(num_classes=15).to(device)\n",
    "\n",
    "# Function to evaluate the model\n",
    "def evaluate_model(model, data_loader, criterion, device):\n",
    "    model.eval()\n",
    "    loss = 0.0\n",
    "    correct = 0\n",
    "    total = 0\n",
    "    with torch.no_grad():\n",
    "        for images, labels in data_loader:\n",
    "            images, labels = images.to(device), labels.to(device)\n",
    "            outputs = model(images)\n",
    "            loss += criterion(outputs, labels).item()\n",
    "            _, predicted = torch.max(outputs.data, 1)\n",
    "            total += labels.size(0)\n",
    "            correct += (predicted == labels).sum().item()\n",
    "    \n",
    "    avg_loss = loss / len(data_loader)\n",
    "    accuracy = correct / total\n",
    "    return avg_loss, accuracy\n",
    "\n",
    "# Function to train the model\n",
    "def train_model(model, train_loader, val_loader, criterion, optimizer, num_epochs, device):\n",
    "    train_losses = []\n",
    "    val_losses = []\n",
    "    train_accuracies = []\n",
    "    val_accuracies = []\n",
    "    \n",
    "    for epoch in range(num_epochs):\n",
    "        model.train()\n",
    "        running_loss = 0.0\n",
    "        correct_train = 0\n",
    "        total_train = 0\n",
    "        \n",
    "        # Use tqdm for progress display\n",
    "        progress_bar = tqdm(train_loader, desc=f'Epoch {epoch+1}/{num_epochs}')\n",
    "        \n",
    "        for images, labels in progress_bar:\n",
    "            images, labels = images.to(device), labels.to(device)\n",
    "            \n",
    "            optimizer.zero_grad()\n",
    "            outputs = model(images)\n",
    "            loss = criterion(outputs, labels)\n",
    "            loss.backward()\n",
    "            optimizer.step()\n",
    "            \n",
    "            running_loss += loss.item()\n",
    "            _, predicted = torch.max(outputs.data, 1)\n",
    "            total_train += labels.size(0)\n",
    "            correct_train += (predicted == labels).sum().item()\n",
    "            \n",
    "            progress_bar.set_postfix({'Loss': running_loss / (total_train / batch_size), 'Accuracy': correct_train / total_train})\n",
    "        \n",
    "        avg_train_loss = running_loss / len(train_loader)\n",
    "        train_accuracy = correct_train / total_train\n",
    "        \n",
    "        val_loss, val_accuracy = evaluate_model(model, val_loader, criterion, device)\n",
    "        \n",
    "        train_losses.append(avg_train_loss)\n",
    "        val_losses.append(val_loss)\n",
    "        train_accuracies.append(train_accuracy)\n",
    "        val_accuracies.append(val_accuracy)\n",
    "        \n",
    "        print(f'Epoch [{epoch+1}/{num_epochs}], Train Loss: {avg_train_loss:.4f}, Train Accuracy: {train_accuracy:.4f}, Val Loss: {val_loss:.4f}, Val Accuracy: {val_accuracy:.4f}')\n",
    "    \n",
    "    return train_losses, val_losses, train_accuracies, val_accuracies\n",
    "\n",
    "# Set hyperparameters\n",
    "num_epochs = 50\n",
    "learning_rate = 1e-3\n",
    "\n",
    "# Define criterion and optimizer\n",
    "criterion = nn.CrossEntropyLoss()\n",
    "optimizer = optim.Adam(model.parameters(), lr=learning_rate)\n",
    "\n",
    "# Train the model\n",
    "train_losses, val_losses, train_accuracies, val_accuracies = train_model(model, train_loader, val_loader, criterion, optimizer, num_epochs, device)\n",
    "\n",
    "# Evaluate on test set\n",
    "test_loss, test_accuracy = evaluate_model(model, test_loader, criterion, device)\n",
    "print(f'Test Loss: {test_loss:.4f}, Test Accuracy: {test_accuracy:.4f}')\n",
    "\n",
    "# Plotting training and validation curves\n",
    "plt.figure(figsize=(12, 4))\n",
    "plt.subplot(1, 2, 1)\n",
    "plt.plot(train_losses, label='Train Loss')\n",
    "plt.plot(val_losses, label='Val Loss')\n",
    "plt.xlabel('Epoch')\n",
    "plt.ylabel('Loss')\n",
    "plt.title('Training and Validation Losses')\n",
    "plt.legend()\n",
    "\n",
    "plt.subplot(1, 2, 2)\n",
    "plt.plot(train_accuracies, label='Train Accuracy')\n",
    "plt.plot(val_accuracies, label='Val Accuracy')\n",
    "plt.xlabel('Epoch')\n",
    "plt.ylabel('Accuracy')\n",
    "plt.title('Training and Validation Accuracies')\n",
    "plt.legend()\n",
    "\n",
    "plt.tight_layout()\n",
    "plt.show()\n"
   ]
  },
  {
   "cell_type": "code",
   "execution_count": null,
   "metadata": {},
   "outputs": [],
   "source": []
  }
 ],
 "metadata": {
  "kernelspec": {
   "display_name": "csir",
   "language": "python",
   "name": "python3"
  },
  "language_info": {
   "codemirror_mode": {
    "name": "ipython",
    "version": 3
   },
   "file_extension": ".py",
   "mimetype": "text/x-python",
   "name": "python",
   "nbconvert_exporter": "python",
   "pygments_lexer": "ipython3",
   "version": "3.11.8"
  }
 },
 "nbformat": 4,
 "nbformat_minor": 2
}
