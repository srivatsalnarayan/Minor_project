{
 "cells": [
  {
   "cell_type": "code",
   "execution_count": 2,
   "metadata": {},
   "outputs": [],
   "source": [
    "import torch\n",
    "import torch.nn as nn\n",
    "import torch.optim as optim\n",
    "import torchvision\n",
    "from torchvision import transforms\n",
    "from torch.utils.data import DataLoader\n",
    "from tqdm import tqdm\n",
    "import matplotlib.pyplot as plt\n"
   ]
  },
  {
   "cell_type": "code",
   "execution_count": 3,
   "metadata": {},
   "outputs": [
    {
     "name": "stdout",
     "output_type": "stream",
     "text": [
      "Class Names: [12  6 11  5 10  0 14  7  2  9  8 13  1  3  4]\n"
     ]
    },
    {
     "name": "stderr",
     "output_type": "stream",
     "text": [
      "Epoch 1/50: 100%|██████████| 104/104 [00:21<00:00,  4.76it/s, Loss=1.34, Accuracy=0.565]\n"
     ]
    },
    {
     "name": "stdout",
     "output_type": "stream",
     "text": [
      "Epoch [1/50], Train Loss: 1.3320, Train Accuracy: 0.5649, Val Loss: 0.8971, Val Accuracy: 0.7135\n"
     ]
    },
    {
     "name": "stderr",
     "output_type": "stream",
     "text": [
      "Epoch 2/50: 100%|██████████| 104/104 [00:19<00:00,  5.29it/s, Loss=0.553, Accuracy=0.815]\n"
     ]
    },
    {
     "name": "stdout",
     "output_type": "stream",
     "text": [
      "Epoch [2/50], Train Loss: 0.5484, Train Accuracy: 0.8153, Val Loss: 0.4901, Val Accuracy: 0.8353\n"
     ]
    },
    {
     "name": "stderr",
     "output_type": "stream",
     "text": [
      "Epoch 3/50: 100%|██████████| 104/104 [00:19<00:00,  5.30it/s, Loss=0.33, Accuracy=0.888] \n"
     ]
    },
    {
     "name": "stdout",
     "output_type": "stream",
     "text": [
      "Epoch [3/50], Train Loss: 0.3274, Train Accuracy: 0.8885, Val Loss: 0.4618, Val Accuracy: 0.8443\n"
     ]
    },
    {
     "name": "stderr",
     "output_type": "stream",
     "text": [
      "Epoch 4/50: 100%|██████████| 104/104 [00:19<00:00,  5.44it/s, Loss=0.232, Accuracy=0.923]\n"
     ]
    },
    {
     "name": "stdout",
     "output_type": "stream",
     "text": [
      "Epoch [4/50], Train Loss: 0.2303, Train Accuracy: 0.9227, Val Loss: 0.9476, Val Accuracy: 0.7486\n"
     ]
    },
    {
     "name": "stderr",
     "output_type": "stream",
     "text": [
      "Epoch 5/50: 100%|██████████| 104/104 [00:20<00:00,  5.15it/s, Loss=0.201, Accuracy=0.931]\n"
     ]
    },
    {
     "name": "stdout",
     "output_type": "stream",
     "text": [
      "Epoch [5/50], Train Loss: 0.1990, Train Accuracy: 0.9314, Val Loss: 0.5431, Val Accuracy: 0.8286\n"
     ]
    },
    {
     "name": "stderr",
     "output_type": "stream",
     "text": [
      "Epoch 6/50: 100%|██████████| 104/104 [00:19<00:00,  5.47it/s, Loss=0.106, Accuracy=0.966]\n"
     ]
    },
    {
     "name": "stdout",
     "output_type": "stream",
     "text": [
      "Epoch [6/50], Train Loss: 0.1055, Train Accuracy: 0.9658, Val Loss: 0.4740, Val Accuracy: 0.8619\n"
     ]
    },
    {
     "name": "stderr",
     "output_type": "stream",
     "text": [
      "Epoch 7/50: 100%|██████████| 104/104 [00:19<00:00,  5.36it/s, Loss=0.122, Accuracy=0.959]\n"
     ]
    },
    {
     "name": "stdout",
     "output_type": "stream",
     "text": [
      "Epoch [7/50], Train Loss: 0.1206, Train Accuracy: 0.9590, Val Loss: 0.4057, Val Accuracy: 0.8831\n"
     ]
    },
    {
     "name": "stderr",
     "output_type": "stream",
     "text": [
      "Epoch 8/50: 100%|██████████| 104/104 [00:19<00:00,  5.32it/s, Loss=0.107, Accuracy=0.967]\n"
     ]
    },
    {
     "name": "stdout",
     "output_type": "stream",
     "text": [
      "Epoch [8/50], Train Loss: 0.1059, Train Accuracy: 0.9668, Val Loss: 0.4014, Val Accuracy: 0.8861\n"
     ]
    },
    {
     "name": "stderr",
     "output_type": "stream",
     "text": [
      "Epoch 9/50: 100%|██████████| 104/104 [00:19<00:00,  5.21it/s, Loss=0.116, Accuracy=0.963]\n"
     ]
    },
    {
     "name": "stdout",
     "output_type": "stream",
     "text": [
      "Epoch [9/50], Train Loss: 0.1151, Train Accuracy: 0.9634, Val Loss: 0.4361, Val Accuracy: 0.8625\n"
     ]
    },
    {
     "name": "stderr",
     "output_type": "stream",
     "text": [
      "Epoch 10/50: 100%|██████████| 104/104 [00:19<00:00,  5.46it/s, Loss=0.122, Accuracy=0.962]\n"
     ]
    },
    {
     "name": "stdout",
     "output_type": "stream",
     "text": [
      "Epoch [10/50], Train Loss: 0.1214, Train Accuracy: 0.9615, Val Loss: 0.3241, Val Accuracy: 0.9061\n"
     ]
    },
    {
     "name": "stderr",
     "output_type": "stream",
     "text": [
      "Epoch 11/50: 100%|██████████| 104/104 [00:20<00:00,  5.12it/s, Loss=0.0815, Accuracy=0.974]\n"
     ]
    },
    {
     "name": "stdout",
     "output_type": "stream",
     "text": [
      "Epoch [11/50], Train Loss: 0.0809, Train Accuracy: 0.9737, Val Loss: 0.4010, Val Accuracy: 0.8849\n"
     ]
    },
    {
     "name": "stderr",
     "output_type": "stream",
     "text": [
      "Epoch 12/50: 100%|██████████| 104/104 [00:20<00:00,  5.13it/s, Loss=0.0395, Accuracy=0.987]\n"
     ]
    },
    {
     "name": "stdout",
     "output_type": "stream",
     "text": [
      "Epoch [12/50], Train Loss: 0.0392, Train Accuracy: 0.9873, Val Loss: 0.3708, Val Accuracy: 0.9013\n"
     ]
    },
    {
     "name": "stderr",
     "output_type": "stream",
     "text": [
      "Epoch 13/50: 100%|██████████| 104/104 [00:21<00:00,  4.77it/s, Loss=0.0408, Accuracy=0.988]\n"
     ]
    },
    {
     "name": "stdout",
     "output_type": "stream",
     "text": [
      "Epoch [13/50], Train Loss: 0.0405, Train Accuracy: 0.9884, Val Loss: 0.3771, Val Accuracy: 0.8922\n"
     ]
    },
    {
     "name": "stderr",
     "output_type": "stream",
     "text": [
      "Epoch 14/50: 100%|██████████| 104/104 [00:22<00:00,  4.69it/s, Loss=0.0992, Accuracy=0.967]\n"
     ]
    },
    {
     "name": "stdout",
     "output_type": "stream",
     "text": [
      "Epoch [14/50], Train Loss: 0.0984, Train Accuracy: 0.9673, Val Loss: 0.4298, Val Accuracy: 0.8789\n"
     ]
    },
    {
     "name": "stderr",
     "output_type": "stream",
     "text": [
      "Epoch 15/50: 100%|██████████| 104/104 [00:22<00:00,  4.60it/s, Loss=0.0635, Accuracy=0.98]\n"
     ]
    },
    {
     "name": "stdout",
     "output_type": "stream",
     "text": [
      "Epoch [15/50], Train Loss: 0.0630, Train Accuracy: 0.9797, Val Loss: 0.4108, Val Accuracy: 0.8952\n"
     ]
    },
    {
     "name": "stderr",
     "output_type": "stream",
     "text": [
      "Epoch 16/50: 100%|██████████| 104/104 [00:21<00:00,  4.82it/s, Loss=0.0836, Accuracy=0.973]\n"
     ]
    },
    {
     "name": "stdout",
     "output_type": "stream",
     "text": [
      "Epoch [16/50], Train Loss: 0.0829, Train Accuracy: 0.9727, Val Loss: 0.3447, Val Accuracy: 0.9031\n"
     ]
    },
    {
     "name": "stderr",
     "output_type": "stream",
     "text": [
      "Epoch 17/50: 100%|██████████| 104/104 [00:21<00:00,  4.81it/s, Loss=0.0326, Accuracy=0.989]\n"
     ]
    },
    {
     "name": "stdout",
     "output_type": "stream",
     "text": [
      "Epoch [17/50], Train Loss: 0.0323, Train Accuracy: 0.9895, Val Loss: 0.3150, Val Accuracy: 0.9140\n"
     ]
    },
    {
     "name": "stderr",
     "output_type": "stream",
     "text": [
      "Epoch 18/50: 100%|██████████| 104/104 [00:21<00:00,  4.81it/s, Loss=0.0505, Accuracy=0.985]\n"
     ]
    },
    {
     "name": "stdout",
     "output_type": "stream",
     "text": [
      "Epoch [18/50], Train Loss: 0.0501, Train Accuracy: 0.9848, Val Loss: 0.3234, Val Accuracy: 0.9110\n"
     ]
    },
    {
     "name": "stderr",
     "output_type": "stream",
     "text": [
      "Epoch 19/50: 100%|██████████| 104/104 [00:22<00:00,  4.62it/s, Loss=0.0675, Accuracy=0.978]\n"
     ]
    },
    {
     "name": "stdout",
     "output_type": "stream",
     "text": [
      "Epoch [19/50], Train Loss: 0.0670, Train Accuracy: 0.9775, Val Loss: 0.3257, Val Accuracy: 0.9085\n"
     ]
    },
    {
     "name": "stderr",
     "output_type": "stream",
     "text": [
      "Epoch 20/50: 100%|██████████| 104/104 [00:21<00:00,  4.77it/s, Loss=0.0211, Accuracy=0.993]\n"
     ]
    },
    {
     "name": "stdout",
     "output_type": "stream",
     "text": [
      "Epoch [20/50], Train Loss: 0.0209, Train Accuracy: 0.9934, Val Loss: 0.2994, Val Accuracy: 0.9170\n"
     ]
    },
    {
     "name": "stderr",
     "output_type": "stream",
     "text": [
      "Epoch 21/50: 100%|██████████| 104/104 [00:22<00:00,  4.67it/s, Loss=0.0146, Accuracy=0.995]\n"
     ]
    },
    {
     "name": "stdout",
     "output_type": "stream",
     "text": [
      "Epoch [21/50], Train Loss: 0.0145, Train Accuracy: 0.9950, Val Loss: 0.4410, Val Accuracy: 0.8934\n"
     ]
    },
    {
     "name": "stderr",
     "output_type": "stream",
     "text": [
      "Epoch 22/50: 100%|██████████| 104/104 [00:22<00:00,  4.59it/s, Loss=0.0207, Accuracy=0.993]\n"
     ]
    },
    {
     "name": "stdout",
     "output_type": "stream",
     "text": [
      "Epoch [22/50], Train Loss: 0.0206, Train Accuracy: 0.9932, Val Loss: 0.4083, Val Accuracy: 0.9007\n"
     ]
    },
    {
     "name": "stderr",
     "output_type": "stream",
     "text": [
      "Epoch 23/50: 100%|██████████| 104/104 [00:21<00:00,  4.83it/s, Loss=0.0258, Accuracy=0.991]\n"
     ]
    },
    {
     "name": "stdout",
     "output_type": "stream",
     "text": [
      "Epoch [23/50], Train Loss: 0.0256, Train Accuracy: 0.9909, Val Loss: 0.3925, Val Accuracy: 0.9001\n"
     ]
    },
    {
     "name": "stderr",
     "output_type": "stream",
     "text": [
      "Epoch 24/50: 100%|██████████| 104/104 [00:20<00:00,  5.03it/s, Loss=0.0382, Accuracy=0.989]\n"
     ]
    },
    {
     "name": "stdout",
     "output_type": "stream",
     "text": [
      "Epoch [24/50], Train Loss: 0.0379, Train Accuracy: 0.9886, Val Loss: 0.4533, Val Accuracy: 0.8952\n"
     ]
    },
    {
     "name": "stderr",
     "output_type": "stream",
     "text": [
      "Epoch 25/50: 100%|██████████| 104/104 [00:20<00:00,  5.01it/s, Loss=0.0682, Accuracy=0.977]\n"
     ]
    },
    {
     "name": "stdout",
     "output_type": "stream",
     "text": [
      "Epoch [25/50], Train Loss: 0.0677, Train Accuracy: 0.9772, Val Loss: 0.3558, Val Accuracy: 0.9158\n"
     ]
    },
    {
     "name": "stderr",
     "output_type": "stream",
     "text": [
      "Epoch 26/50: 100%|██████████| 104/104 [00:21<00:00,  4.85it/s, Loss=0.0472, Accuracy=0.985]\n"
     ]
    },
    {
     "name": "stdout",
     "output_type": "stream",
     "text": [
      "Epoch [26/50], Train Loss: 0.0468, Train Accuracy: 0.9847, Val Loss: 0.5215, Val Accuracy: 0.8783\n"
     ]
    },
    {
     "name": "stderr",
     "output_type": "stream",
     "text": [
      "Epoch 27/50: 100%|██████████| 104/104 [00:20<00:00,  4.96it/s, Loss=0.0556, Accuracy=0.98]\n"
     ]
    },
    {
     "name": "stdout",
     "output_type": "stream",
     "text": [
      "Epoch [27/50], Train Loss: 0.0551, Train Accuracy: 0.9804, Val Loss: 0.4885, Val Accuracy: 0.8795\n"
     ]
    },
    {
     "name": "stderr",
     "output_type": "stream",
     "text": [
      "Epoch 28/50: 100%|██████████| 104/104 [00:21<00:00,  4.80it/s, Loss=0.0459, Accuracy=0.984]\n"
     ]
    },
    {
     "name": "stdout",
     "output_type": "stream",
     "text": [
      "Epoch [28/50], Train Loss: 0.0455, Train Accuracy: 0.9839, Val Loss: 0.4125, Val Accuracy: 0.8946\n"
     ]
    },
    {
     "name": "stderr",
     "output_type": "stream",
     "text": [
      "Epoch 29/50: 100%|██████████| 104/104 [00:21<00:00,  4.86it/s, Loss=0.0313, Accuracy=0.99]\n"
     ]
    },
    {
     "name": "stdout",
     "output_type": "stream",
     "text": [
      "Epoch [29/50], Train Loss: 0.0310, Train Accuracy: 0.9896, Val Loss: 0.3841, Val Accuracy: 0.9067\n"
     ]
    },
    {
     "name": "stderr",
     "output_type": "stream",
     "text": [
      "Epoch 30/50: 100%|██████████| 104/104 [00:22<00:00,  4.67it/s, Loss=0.03, Accuracy=0.993]  \n"
     ]
    },
    {
     "name": "stdout",
     "output_type": "stream",
     "text": [
      "Epoch [30/50], Train Loss: 0.0297, Train Accuracy: 0.9925, Val Loss: 0.6420, Val Accuracy: 0.8565\n"
     ]
    },
    {
     "name": "stderr",
     "output_type": "stream",
     "text": [
      "Epoch 31/50: 100%|██████████| 104/104 [00:22<00:00,  4.69it/s, Loss=0.0639, Accuracy=0.98]\n"
     ]
    },
    {
     "name": "stdout",
     "output_type": "stream",
     "text": [
      "Epoch [31/50], Train Loss: 0.0634, Train Accuracy: 0.9797, Val Loss: 0.3633, Val Accuracy: 0.9098\n"
     ]
    },
    {
     "name": "stderr",
     "output_type": "stream",
     "text": [
      "Epoch 32/50: 100%|██████████| 104/104 [00:21<00:00,  4.93it/s, Loss=0.0256, Accuracy=0.991]\n"
     ]
    },
    {
     "name": "stdout",
     "output_type": "stream",
     "text": [
      "Epoch [32/50], Train Loss: 0.0254, Train Accuracy: 0.9910, Val Loss: 0.5127, Val Accuracy: 0.8801\n"
     ]
    },
    {
     "name": "stderr",
     "output_type": "stream",
     "text": [
      "Epoch 33/50: 100%|██████████| 104/104 [00:20<00:00,  4.97it/s, Loss=0.0185, Accuracy=0.994]\n"
     ]
    },
    {
     "name": "stdout",
     "output_type": "stream",
     "text": [
      "Epoch [33/50], Train Loss: 0.0184, Train Accuracy: 0.9936, Val Loss: 0.3082, Val Accuracy: 0.9249\n"
     ]
    },
    {
     "name": "stderr",
     "output_type": "stream",
     "text": [
      "Epoch 34/50: 100%|██████████| 104/104 [00:24<00:00,  4.30it/s, Loss=0.0133, Accuracy=0.996]\n"
     ]
    },
    {
     "name": "stdout",
     "output_type": "stream",
     "text": [
      "Epoch [34/50], Train Loss: 0.0132, Train Accuracy: 0.9959, Val Loss: 0.4703, Val Accuracy: 0.8843\n"
     ]
    },
    {
     "name": "stderr",
     "output_type": "stream",
     "text": [
      "Epoch 35/50: 100%|██████████| 104/104 [00:29<00:00,  3.56it/s, Loss=0.0392, Accuracy=0.987]\n"
     ]
    },
    {
     "name": "stdout",
     "output_type": "stream",
     "text": [
      "Epoch [35/50], Train Loss: 0.0389, Train Accuracy: 0.9874, Val Loss: 0.5549, Val Accuracy: 0.8734\n"
     ]
    },
    {
     "name": "stderr",
     "output_type": "stream",
     "text": [
      "Epoch 36/50: 100%|██████████| 104/104 [00:26<00:00,  3.91it/s, Loss=0.0294, Accuracy=0.992]\n"
     ]
    },
    {
     "name": "stdout",
     "output_type": "stream",
     "text": [
      "Epoch [36/50], Train Loss: 0.0291, Train Accuracy: 0.9916, Val Loss: 0.3859, Val Accuracy: 0.9049\n"
     ]
    },
    {
     "name": "stderr",
     "output_type": "stream",
     "text": [
      "Epoch 37/50: 100%|██████████| 104/104 [00:26<00:00,  3.86it/s, Loss=0.0715, Accuracy=0.975]\n"
     ]
    },
    {
     "name": "stdout",
     "output_type": "stream",
     "text": [
      "Epoch [37/50], Train Loss: 0.0709, Train Accuracy: 0.9754, Val Loss: 0.3877, Val Accuracy: 0.9031\n"
     ]
    },
    {
     "name": "stderr",
     "output_type": "stream",
     "text": [
      "Epoch 38/50: 100%|██████████| 104/104 [00:27<00:00,  3.83it/s, Loss=0.0523, Accuracy=0.983]\n"
     ]
    },
    {
     "name": "stdout",
     "output_type": "stream",
     "text": [
      "Epoch [38/50], Train Loss: 0.0519, Train Accuracy: 0.9825, Val Loss: 0.3081, Val Accuracy: 0.9152\n"
     ]
    },
    {
     "name": "stderr",
     "output_type": "stream",
     "text": [
      "Epoch 39/50: 100%|██████████| 104/104 [00:27<00:00,  3.75it/s, Loss=0.0524, Accuracy=0.983]\n"
     ]
    },
    {
     "name": "stdout",
     "output_type": "stream",
     "text": [
      "Epoch [39/50], Train Loss: 0.0520, Train Accuracy: 0.9835, Val Loss: 0.3553, Val Accuracy: 0.9122\n"
     ]
    },
    {
     "name": "stderr",
     "output_type": "stream",
     "text": [
      "Epoch 40/50: 100%|██████████| 104/104 [00:28<00:00,  3.66it/s, Loss=0.016, Accuracy=0.995] \n"
     ]
    },
    {
     "name": "stdout",
     "output_type": "stream",
     "text": [
      "Epoch [40/50], Train Loss: 0.0159, Train Accuracy: 0.9952, Val Loss: 0.3381, Val Accuracy: 0.9164\n"
     ]
    },
    {
     "name": "stderr",
     "output_type": "stream",
     "text": [
      "Epoch 41/50: 100%|██████████| 104/104 [00:26<00:00,  3.87it/s, Loss=0.0127, Accuracy=0.997] \n"
     ]
    },
    {
     "name": "stdout",
     "output_type": "stream",
     "text": [
      "Epoch [41/50], Train Loss: 0.0126, Train Accuracy: 0.9967, Val Loss: 0.3166, Val Accuracy: 0.9116\n"
     ]
    },
    {
     "name": "stderr",
     "output_type": "stream",
     "text": [
      "Epoch 42/50: 100%|██████████| 104/104 [00:27<00:00,  3.80it/s, Loss=0.0338, Accuracy=0.99]\n"
     ]
    },
    {
     "name": "stdout",
     "output_type": "stream",
     "text": [
      "Epoch [42/50], Train Loss: 0.0335, Train Accuracy: 0.9900, Val Loss: 0.3229, Val Accuracy: 0.9261\n"
     ]
    },
    {
     "name": "stderr",
     "output_type": "stream",
     "text": [
      "Epoch 43/50: 100%|██████████| 104/104 [00:26<00:00,  3.97it/s, Loss=0.0116, Accuracy=0.998] \n"
     ]
    },
    {
     "name": "stdout",
     "output_type": "stream",
     "text": [
      "Epoch [43/50], Train Loss: 0.0115, Train Accuracy: 0.9976, Val Loss: 0.3122, Val Accuracy: 0.9261\n"
     ]
    },
    {
     "name": "stderr",
     "output_type": "stream",
     "text": [
      "Epoch 44/50: 100%|██████████| 104/104 [00:26<00:00,  3.86it/s, Loss=0.0395, Accuracy=0.987]\n"
     ]
    },
    {
     "name": "stdout",
     "output_type": "stream",
     "text": [
      "Epoch [44/50], Train Loss: 0.0392, Train Accuracy: 0.9867, Val Loss: 0.3833, Val Accuracy: 0.9037\n"
     ]
    },
    {
     "name": "stderr",
     "output_type": "stream",
     "text": [
      "Epoch 45/50: 100%|██████████| 104/104 [00:27<00:00,  3.80it/s, Loss=0.0259, Accuracy=0.992]\n"
     ]
    },
    {
     "name": "stdout",
     "output_type": "stream",
     "text": [
      "Epoch [45/50], Train Loss: 0.0257, Train Accuracy: 0.9917, Val Loss: 0.4944, Val Accuracy: 0.8898\n"
     ]
    },
    {
     "name": "stderr",
     "output_type": "stream",
     "text": [
      "Epoch 46/50: 100%|██████████| 104/104 [00:26<00:00,  3.88it/s, Loss=0.0241, Accuracy=0.992]\n"
     ]
    },
    {
     "name": "stdout",
     "output_type": "stream",
     "text": [
      "Epoch [46/50], Train Loss: 0.0239, Train Accuracy: 0.9924, Val Loss: 0.4407, Val Accuracy: 0.9049\n"
     ]
    },
    {
     "name": "stderr",
     "output_type": "stream",
     "text": [
      "Epoch 47/50: 100%|██████████| 104/104 [00:26<00:00,  3.89it/s, Loss=0.0363, Accuracy=0.987]\n"
     ]
    },
    {
     "name": "stdout",
     "output_type": "stream",
     "text": [
      "Epoch [47/50], Train Loss: 0.0360, Train Accuracy: 0.9874, Val Loss: 0.3084, Val Accuracy: 0.9219\n"
     ]
    },
    {
     "name": "stderr",
     "output_type": "stream",
     "text": [
      "Epoch 48/50: 100%|██████████| 104/104 [00:26<00:00,  3.89it/s, Loss=0.0284, Accuracy=0.99]\n"
     ]
    },
    {
     "name": "stdout",
     "output_type": "stream",
     "text": [
      "Epoch [48/50], Train Loss: 0.0282, Train Accuracy: 0.9902, Val Loss: 0.3380, Val Accuracy: 0.9176\n"
     ]
    },
    {
     "name": "stderr",
     "output_type": "stream",
     "text": [
      "Epoch 49/50: 100%|██████████| 104/104 [00:25<00:00,  4.04it/s, Loss=0.0341, Accuracy=0.989]\n"
     ]
    },
    {
     "name": "stdout",
     "output_type": "stream",
     "text": [
      "Epoch [49/50], Train Loss: 0.0338, Train Accuracy: 0.9889, Val Loss: 0.3605, Val Accuracy: 0.9219\n"
     ]
    },
    {
     "name": "stderr",
     "output_type": "stream",
     "text": [
      "Epoch 50/50: 100%|██████████| 104/104 [00:26<00:00,  3.90it/s, Loss=0.0131, Accuracy=0.996]\n"
     ]
    },
    {
     "name": "stdout",
     "output_type": "stream",
     "text": [
      "Epoch [50/50], Train Loss: 0.0130, Train Accuracy: 0.9961, Val Loss: 0.3113, Val Accuracy: 0.9231\n",
      "Test Loss: 0.3533, Test Accuracy: 0.9200\n"
     ]
    },
    {
     "data": {
      "image/png": "[encoded data removed]",
      "text/plain": [
       "<Figure size 1200x400 with 2 Axes>"
      ]
     },
     "metadata": {},
     "output_type": "display_data"
    }
   ],
   "source": [
    "import torch\n",
    "import torch.nn as nn\n",
    "import torch.optim as optim\n",
    "from torch.utils.data import DataLoader, Dataset\n",
    "from torchvision import transforms\n",
    "from tqdm import tqdm\n",
    "import pandas as pd\n",
    "from PIL import Image\n",
    "import os\n",
    "from sklearn.model_selection import train_test_split\n",
    "import matplotlib.pyplot as plt\n",
    "\n",
    "# Check if GPU is available and set device\n",
    "device = torch.device(\"cuda\" if torch.cuda.is_available() else \"cpu\")\n",
    "\n",
    "# Define data transforms with 64x64 image size\n",
    "transform = transforms.Compose([\n",
    "    transforms.Resize((64, 64)),  # Resize to 64x64\n",
    "    transforms.ToTensor(),\n",
    "    transforms.Normalize(mean=[0.485, 0.456, 0.406], std=[0.229, 0.224, 0.225])\n",
    "])\n",
    "\n",
    "# Define the directory path\n",
    "data_dir = r\"C:\\Users\\user\\Desktop\\plant\\boc\"\n",
    "\n",
    "# Load one CSV file\n",
    "csv_file = 'fold_1_train.csv'\n",
    "\n",
    "# Define a custom dataset class for CSV loading\n",
    "class CustomDataset(Dataset):\n",
    "    def __init__(self, csv_file, root_dir, transform=None):\n",
    "        self.data = pd.read_csv(csv_file)\n",
    "        self.root_dir = root_dir\n",
    "        self.transform = transform\n",
    "\n",
    "    def __len__(self):\n",
    "        return len(self.data)\n",
    "\n",
    "    def __getitem__(self, idx):\n",
    "        try:\n",
    "            img_name = os.path.join(self.root_dir, str(self.data.iloc[idx, 0]))  # Access image_path using index 0\n",
    "            image = Image.open(img_name).convert('RGB')  # Ensure images are in RGB mode\n",
    "            label = self.data.iloc[idx, 1]  # Access class_label using index 1\n",
    "        except Exception as e:\n",
    "            print(f\"Error accessing image at index {idx}: {e}\")\n",
    "            return None\n",
    "\n",
    "        if self.transform:\n",
    "            image = self.transform(image)\n",
    "\n",
    "        return image, label\n",
    "\n",
    "# Load the dataset using CustomDataset\n",
    "dataset = CustomDataset(csv_file=os.path.join(data_dir, csv_file), root_dir=data_dir, transform=transform)\n",
    "\n",
    "# Split dataset into train, validation, and test sets\n",
    "train_size = 0.8\n",
    "val_size = 0.1\n",
    "test_size = 1 - train_size - val_size\n",
    "\n",
    "train_dataset, temp_dataset = train_test_split(dataset, test_size=1 - train_size, random_state=42)\n",
    "val_dataset, test_dataset = train_test_split(temp_dataset, test_size=test_size / (val_size + test_size), random_state=42)\n",
    "\n",
    "# Create data loaders for each set\n",
    "batch_size = 128\n",
    "train_loader = DataLoader(train_dataset, batch_size=batch_size, shuffle=True, num_workers=4, pin_memory=True)\n",
    "val_loader = DataLoader(val_dataset, batch_size=batch_size, shuffle=False, num_workers=4, pin_memory=True)\n",
    "test_loader = DataLoader(test_dataset, batch_size=batch_size, shuffle=False, num_workers=4, pin_memory=True)\n",
    "\n",
    "\n",
    "\n",
    "# Print class names (assuming it's available in the dataset)\n",
    "print(\"Class Names:\", pd.Series([data[1] for data in train_dataset]).unique())\n",
    "##\n",
    "### Define the model architecture\n",
    "##class AlexNet(nn.Module):\n",
    "##    def __init__(self, num_classes=15):\n",
    "##        super(AlexNet, self).__init__()\n",
    "##        self.features = nn.Sequential(\n",
    "##            nn.Conv2d(3, 64, kernel_size=11, stride=4, padding=2),\n",
    "##            nn.ReLU(inplace=True),\n",
    "##            nn.MaxPool2d(kernel_size=3, stride=2),\n",
    "##            nn.Conv2d(64, 192, kernel_size=5, padding=2),\n",
    "##            nn.ReLU(inplace=True),\n",
    "##            nn.MaxPool2d(kernel_size=3, stride=2),\n",
    "##            nn.Conv2d(192, 384, kernel_size=3, padding=1),\n",
    "##            nn.ReLU(inplace=True),\n",
    "##            nn.Conv2d(384, 256, kernel_size=3, padding=1),\n",
    "##            nn.ReLU(inplace=True),\n",
    "##            nn.Conv2d(256, 256, kernel_size=3, padding=1),\n",
    "##            nn.ReLU(inplace=True),\n",
    "##            nn.MaxPool2d(kernel_size=3, stride=2),\n",
    "##        )\n",
    "##        self.avgpool = nn.AdaptiveAvgPool2d((6, 6))\n",
    "##        self.classifier = nn.Sequential(\n",
    "##            nn.Dropout(),\n",
    "##            nn.Linear(256 * 6 * 6, 4096),\n",
    "##            nn.ReLU(inplace=True),\n",
    "##            nn.Dropout(),\n",
    "##            nn.Linear(4096, 4096),\n",
    "##            nn.ReLU(inplace=True),\n",
    "##            nn.Linear(4096, num_classes),\n",
    "##        )\n",
    "##\n",
    "##    def forward(self, x):\n",
    "##        x = self.features(x)\n",
    "##        x = self.avgpool(x)\n",
    "##        x = torch.flatten(x, 1)\n",
    "##        x = self.classifier(x)\n",
    "##        return x\n",
    "##\n",
    "# Instantiate the model\n",
    "##model = AlexNet(num_classes=15).to(device)\n",
    "\n",
    "# Define custom modules and model\n",
    "class Swish(nn.Module):\n",
    "    def forward(self, x):\n",
    "        return x * torch.sigmoid(x)\n",
    "\n",
    "class SEBlock(nn.Module):\n",
    "    def __init__(self, in_channels, reduction=4):\n",
    "        super(SEBlock, self).__init__()\n",
    "        self.fc1 = nn.Conv2d(in_channels, in_channels // reduction, kernel_size=1)\n",
    "        self.fc2 = nn.Conv2d(in_channels // reduction, in_channels, kernel_size=1)\n",
    "    \n",
    "    def forward(self, x):\n",
    "        scale = torch.mean(x, (2, 3), keepdim=True)\n",
    "        scale = nn.functional.relu(self.fc1(scale))\n",
    "        scale = torch.sigmoid(self.fc2(scale))\n",
    "        return x * scale\n",
    "\n",
    "class GhostModule(nn.Module):\n",
    "    def __init__(self, in_channels, out_channels, ratio=2, kernel_size=1, dw_kernel_size=3, stride=1, relu=True):\n",
    "        super(GhostModule, self).__init__()\n",
    "        self.out_channels = out_channels\n",
    "        self.init_channels = int(out_channels / ratio)\n",
    "        self.new_channels = self.init_channels * (ratio - 1)\n",
    "        \n",
    "        self.primary_conv = nn.Sequential(\n",
    "            nn.Conv2d(in_channels, self.init_channels, kernel_size, stride, kernel_size//2, bias=False),\n",
    "            nn.BatchNorm2d(self.init_channels),\n",
    "            nn.ReLU(inplace=True) if relu else nn.Sequential()\n",
    "        )\n",
    "        \n",
    "        self.cheap_operation = nn.Sequential(\n",
    "            nn.Conv2d(self.init_channels, self.new_channels, dw_kernel_size, 1, dw_kernel_size//2, groups=self.init_channels, bias=False),\n",
    "            nn.BatchNorm2d(self.new_channels),\n",
    "            nn.ReLU(inplace=True) if relu else nn.Sequential()\n",
    "        )\n",
    "    \n",
    "    def forward(self, x):\n",
    "        x1 = self.primary_conv(x)\n",
    "        x2 = self.cheap_operation(x1)\n",
    "        out = torch.cat([x1, x2], dim=1)\n",
    "        return out[:, :self.out_channels, :, :]\n",
    "\n",
    "class GhostBottleneck(nn.Module):\n",
    "    def __init__(self, in_channels, mid_channels, out_channels, dw_kernel_size=3, stride=1, use_se=False):\n",
    "        super(GhostBottleneck, self).__init__()\n",
    "        self.stride = stride\n",
    "        self.use_se = use_se\n",
    "\n",
    "        self.ghost1 = GhostModule(in_channels, mid_channels, relu=True)\n",
    "        self.depthwise = nn.Sequential(\n",
    "            nn.Conv2d(mid_channels, mid_channels, dw_kernel_size, stride=stride, padding=dw_kernel_size//2, groups=mid_channels, bias=False),\n",
    "            nn.BatchNorm2d(mid_channels)\n",
    "        ) if stride == 2 else nn.Sequential()\n",
    "\n",
    "        self.ghost2 = GhostModule(mid_channels, out_channels, relu=False)\n",
    "\n",
    "        self.shortcut = nn.Sequential(\n",
    "            nn.Conv2d(in_channels, in_channels, dw_kernel_size, stride=stride, padding=dw_kernel_size//2, groups=in_channels, bias=False),\n",
    "            nn.BatchNorm2d(in_channels),\n",
    "            nn.Conv2d(in_channels, out_channels, kernel_size=1, stride=1, padding=0, bias=False),\n",
    "            nn.BatchNorm2d(out_channels)\n",
    "        ) if stride == 2 or in_channels != out_channels else nn.Sequential()\n",
    "        \n",
    "        self.se = SEBlock(mid_channels) if self.use_se else nn.Sequential()\n",
    "\n",
    "    def forward(self, x):\n",
    "        residual = self.shortcut(x)\n",
    "        x = self.ghost1(x)\n",
    "        x = self.depthwise(x)\n",
    "        x = self.se(x)\n",
    "        x = self.ghost2(x)\n",
    "        x += residual\n",
    "        return x\n",
    "\n",
    "class GhostNetCustom(nn.Module):\n",
    "    def __init__(self, num_classes=15):\n",
    "        super(GhostNetCustom, self).__init__()\n",
    "        self.conv_stem = nn.Conv2d(3, 16, kernel_size=3, stride=2, padding=1, bias=False)\n",
    "        self.bn1 = nn.BatchNorm2d(16)\n",
    "        self.relu = nn.ReLU(inplace=True)\n",
    "        \n",
    "        self.blocks = nn.Sequential(\n",
    "            GhostBottleneck(16, 16, 16, stride=1),\n",
    "            GhostBottleneck(16, 48, 24, stride=2),\n",
    "            GhostBottleneck(24, 72, 24, stride=1),\n",
    "            GhostBottleneck(24, 72, 40, stride=2, use_se=True),\n",
    "            GhostBottleneck(40, 120, 40, stride=1, use_se=True),\n",
    "            GhostBottleneck(40, 240, 80, stride=2),\n",
    "            GhostBottleneck(80, 200, 80, stride=1),\n",
    "            GhostBottleneck(80, 184, 80, stride=1),\n",
    "            GhostBottleneck(80, 480, 112, stride=1, use_se=True),\n",
    "            GhostBottleneck(112, 672, 160, stride=2, use_se=True),\n",
    "            GhostBottleneck(160, 960, 160, stride=1, use_se=True)\n",
    "        )\n",
    "        \n",
    "        self.conv_head = nn.Conv2d(160, 960, kernel_size=1, bias=False)\n",
    "        self.bn2 = nn.BatchNorm2d(960)\n",
    "        self.pool = nn.AdaptiveAvgPool2d(1)\n",
    "        self.fc = nn.Linear(960, num_classes)\n",
    "    \n",
    "    def forward(self, x):\n",
    "        x = self.relu(self.bn1(self.conv_stem(x)))\n",
    "        x = self.blocks(x)\n",
    "        x = self.relu(self.bn2(self.conv_head(x)))\n",
    "        x = self.pool(x)\n",
    "        x = x.view(x.size(0), -1)\n",
    "        x = self.fc(x)\n",
    "        return x\n",
    "\n",
    "# Print the model architecture\n",
    "\n",
    "model = GhostNetCustom(num_classes=15).to(device)\n",
    "\n",
    "# Function to evaluate the model\n",
    "def evaluate_model(model, data_loader, criterion, device):\n",
    "    model.eval()\n",
    "    loss = 0.0\n",
    "    correct = 0\n",
    "    total = 0\n",
    "    with torch.no_grad():\n",
    "        for images, labels in data_loader:\n",
    "            images, labels = images.to(device), labels.to(device)\n",
    "            outputs = model(images)\n",
    "            loss += criterion(outputs, labels).item()\n",
    "            _, predicted = torch.max(outputs.data, 1)\n",
    "            total += labels.size(0)\n",
    "            correct += (predicted == labels).sum().item()\n",
    "    \n",
    "    avg_loss = loss / len(data_loader)\n",
    "    accuracy = correct / total\n",
    "    return avg_loss, accuracy\n",
    "\n",
    "# Function to train the model\n",
    "def train_model(model, train_loader, val_loader, criterion, optimizer, num_epochs, device):\n",
    "    train_losses = []\n",
    "    val_losses = []\n",
    "    train_accuracies = []\n",
    "    val_accuracies = []\n",
    "    \n",
    "    for epoch in range(num_epochs):\n",
    "        model.train()\n",
    "        running_loss = 0.0\n",
    "        correct_train = 0\n",
    "        total_train = 0\n",
    "        \n",
    "        # Use tqdm for progress display\n",
    "        progress_bar = tqdm(train_loader, desc=f'Epoch {epoch+1}/{num_epochs}')\n",
    "        \n",
    "        for images, labels in progress_bar:\n",
    "            images, labels = images.to(device), labels.to(device)\n",
    "            \n",
    "            optimizer.zero_grad()\n",
    "            outputs = model(images)\n",
    "            loss = criterion(outputs, labels)\n",
    "            loss.backward()\n",
    "            optimizer.step()\n",
    "            \n",
    "            running_loss += loss.item()\n",
    "            _, predicted = torch.max(outputs.data, 1)\n",
    "            total_train += labels.size(0)\n",
    "            correct_train += (predicted == labels).sum().item()\n",
    "            \n",
    "            progress_bar.set_postfix({'Loss': running_loss / (total_train / batch_size), 'Accuracy': correct_train / total_train})\n",
    "        \n",
    "        avg_train_loss = running_loss / len(train_loader)\n",
    "        train_accuracy = correct_train / total_train\n",
    "        \n",
    "        val_loss, val_accuracy = evaluate_model(model, val_loader, criterion, device)\n",
    "        \n",
    "        train_losses.append(avg_train_loss)\n",
    "        val_losses.append(val_loss)\n",
    "        train_accuracies.append(train_accuracy)\n",
    "        val_accuracies.append(val_accuracy)\n",
    "        \n",
    "        print(f'Epoch [{epoch+1}/{num_epochs}], Train Loss: {avg_train_loss:.4f}, Train Accuracy: {train_accuracy:.4f}, Val Loss: {val_loss:.4f}, Val Accuracy: {val_accuracy:.4f}')\n",
    "    \n",
    "    return train_losses, val_losses, train_accuracies, val_accuracies\n",
    "\n",
    "# Set hyperparameters\n",
    "num_epochs = 50\n",
    "learning_rate = 1e-3\n",
    "\n",
    "# Define criterion and optimizer\n",
    "criterion = nn.CrossEntropyLoss()\n",
    "optimizer = optim.Adam(model.parameters(), lr=learning_rate)\n",
    "\n",
    "# Train the model\n",
    "train_losses, val_losses, train_accuracies, val_accuracies = train_model(model, train_loader, val_loader, criterion, optimizer, num_epochs, device)\n",
    "\n",
    "# Evaluate on test set\n",
    "test_loss, test_accuracy = evaluate_model(model, test_loader, criterion, device)\n",
    "print(f'Test Loss: {test_loss:.4f}, Test Accuracy: {test_accuracy:.4f}')\n",
    "\n",
    "# Plotting training and validation curves\n",
    "plt.figure(figsize=(12, 4))\n",
    "plt.subplot(1, 2, 1)\n",
    "plt.plot(train_losses, label='Train Loss')\n",
    "plt.plot(val_losses, label='Val Loss')\n",
    "plt.xlabel('Epoch')\n",
    "plt.ylabel('Loss')\n",
    "plt.title('Training and Validation Losses')\n",
    "plt.legend()\n",
    "\n",
    "plt.subplot(1, 2, 2)\n",
    "plt.plot(train_accuracies, label='Train Accuracy')\n",
    "plt.plot(val_accuracies, label='Val Accuracy')\n",
    "plt.xlabel('Epoch')\n",
    "plt.ylabel('Accuracy')\n",
    "plt.title('Training and Validation Accuracies')\n",
    "plt.legend()\n",
    "\n",
    "plt.tight_layout()\n",
    "plt.show()\n"
   ]
  },
  {
   "cell_type": "code",
   "execution_count": 4,
   "metadata": {},
   "outputs": [
    {
     "name": "stdout",
     "output_type": "stream",
     "text": [
      "Class Names: [12  6 11  5 10  0 14  7  2  9  8 13  1  3  4]\n"
     ]
    },
    {
     "name": "stderr",
     "output_type": "stream",
     "text": [
      "Epoch 1/50: 100%|██████████| 104/104 [00:26<00:00,  3.87it/s, Loss=1.31, Accuracy=0.571]\n"
     ]
    },
    {
     "name": "stdout",
     "output_type": "stream",
     "text": [
      "Epoch [1/50], Train Loss: 1.3024, Train Accuracy: 0.5714, Val Loss: 0.8612, Val Accuracy: 0.7196\n"
     ]
    },
    {
     "name": "stderr",
     "output_type": "stream",
     "text": [
      "Epoch 2/50: 100%|██████████| 104/104 [00:18<00:00,  5.77it/s, Loss=0.549, Accuracy=0.816]\n"
     ]
    },
    {
     "name": "stdout",
     "output_type": "stream",
     "text": [
      "Epoch [2/50], Train Loss: 0.5444, Train Accuracy: 0.8156, Val Loss: 0.5531, Val Accuracy: 0.8153\n"
     ]
    },
    {
     "name": "stderr",
     "output_type": "stream",
     "text": [
      "Epoch 3/50: 100%|██████████| 104/104 [00:17<00:00,  6.04it/s, Loss=0.343, Accuracy=0.884]\n"
     ]
    },
    {
     "name": "stdout",
     "output_type": "stream",
     "text": [
      "Epoch [3/50], Train Loss: 0.3402, Train Accuracy: 0.8837, Val Loss: 0.5099, Val Accuracy: 0.8292\n"
     ]
    },
    {
     "name": "stderr",
     "output_type": "stream",
     "text": [
      "Epoch 4/50: 100%|██████████| 104/104 [00:16<00:00,  6.15it/s, Loss=0.236, Accuracy=0.922]\n"
     ]
    },
    {
     "name": "stdout",
     "output_type": "stream",
     "text": [
      "Epoch [4/50], Train Loss: 0.2340, Train Accuracy: 0.9223, Val Loss: 0.5377, Val Accuracy: 0.8334\n"
     ]
    },
    {
     "name": "stderr",
     "output_type": "stream",
     "text": [
      "Epoch 5/50: 100%|██████████| 104/104 [00:19<00:00,  5.27it/s, Loss=0.198, Accuracy=0.933]\n"
     ]
    },
    {
     "name": "stdout",
     "output_type": "stream",
     "text": [
      "Epoch [5/50], Train Loss: 0.1962, Train Accuracy: 0.9333, Val Loss: 0.3970, Val Accuracy: 0.8795\n"
     ]
    },
    {
     "name": "stderr",
     "output_type": "stream",
     "text": [
      "Epoch 6/50: 100%|██████████| 104/104 [00:18<00:00,  5.62it/s, Loss=0.132, Accuracy=0.957]\n"
     ]
    },
    {
     "name": "stdout",
     "output_type": "stream",
     "text": [
      "Epoch [6/50], Train Loss: 0.1305, Train Accuracy: 0.9565, Val Loss: 0.5250, Val Accuracy: 0.8431\n"
     ]
    },
    {
     "name": "stderr",
     "output_type": "stream",
     "text": [
      "Epoch 7/50: 100%|██████████| 104/104 [00:17<00:00,  5.78it/s, Loss=0.137, Accuracy=0.953]\n"
     ]
    },
    {
     "name": "stdout",
     "output_type": "stream",
     "text": [
      "Epoch [7/50], Train Loss: 0.1361, Train Accuracy: 0.9531, Val Loss: 0.4718, Val Accuracy: 0.8746\n"
     ]
    },
    {
     "name": "stderr",
     "output_type": "stream",
     "text": [
      "Epoch 8/50: 100%|██████████| 104/104 [00:18<00:00,  5.59it/s, Loss=0.107, Accuracy=0.965]\n"
     ]
    },
    {
     "name": "stdout",
     "output_type": "stream",
     "text": [
      "Epoch [8/50], Train Loss: 0.1061, Train Accuracy: 0.9649, Val Loss: 0.4301, Val Accuracy: 0.8843\n"
     ]
    },
    {
     "name": "stderr",
     "output_type": "stream",
     "text": [
      "Epoch 9/50: 100%|██████████| 104/104 [00:22<00:00,  4.72it/s, Loss=0.0795, Accuracy=0.974]\n"
     ]
    },
    {
     "name": "stdout",
     "output_type": "stream",
     "text": [
      "Epoch [9/50], Train Loss: 0.0789, Train Accuracy: 0.9740, Val Loss: 0.4321, Val Accuracy: 0.8867\n"
     ]
    },
    {
     "name": "stderr",
     "output_type": "stream",
     "text": [
      "Epoch 10/50: 100%|██████████| 104/104 [00:22<00:00,  4.55it/s, Loss=0.0524, Accuracy=0.983]\n"
     ]
    },
    {
     "name": "stdout",
     "output_type": "stream",
     "text": [
      "Epoch [10/50], Train Loss: 0.0520, Train Accuracy: 0.9833, Val Loss: 0.4012, Val Accuracy: 0.8928\n"
     ]
    },
    {
     "name": "stderr",
     "output_type": "stream",
     "text": [
      "Epoch 11/50: 100%|██████████| 104/104 [00:21<00:00,  4.79it/s, Loss=0.11, Accuracy=0.965] \n"
     ]
    },
    {
     "name": "stdout",
     "output_type": "stream",
     "text": [
      "Epoch [11/50], Train Loss: 0.1087, Train Accuracy: 0.9650, Val Loss: 0.5453, Val Accuracy: 0.8686\n"
     ]
    },
    {
     "name": "stderr",
     "output_type": "stream",
     "text": [
      "Epoch 12/50: 100%|██████████| 104/104 [00:23<00:00,  4.49it/s, Loss=0.0823, Accuracy=0.971]\n"
     ]
    },
    {
     "name": "stdout",
     "output_type": "stream",
     "text": [
      "Epoch [12/50], Train Loss: 0.0817, Train Accuracy: 0.9710, Val Loss: 0.3978, Val Accuracy: 0.8928\n"
     ]
    },
    {
     "name": "stderr",
     "output_type": "stream",
     "text": [
      "Epoch 13/50: 100%|██████████| 104/104 [00:22<00:00,  4.65it/s, Loss=0.0812, Accuracy=0.972]\n"
     ]
    },
    {
     "name": "stdout",
     "output_type": "stream",
     "text": [
      "Epoch [13/50], Train Loss: 0.0806, Train Accuracy: 0.9724, Val Loss: 0.3325, Val Accuracy: 0.9091\n"
     ]
    },
    {
     "name": "stderr",
     "output_type": "stream",
     "text": [
      "Epoch 14/50: 100%|██████████| 104/104 [00:20<00:00,  5.13it/s, Loss=0.0791, Accuracy=0.974]\n"
     ]
    },
    {
     "name": "stdout",
     "output_type": "stream",
     "text": [
      "Epoch [14/50], Train Loss: 0.0785, Train Accuracy: 0.9735, Val Loss: 0.3238, Val Accuracy: 0.9079\n"
     ]
    },
    {
     "name": "stderr",
     "output_type": "stream",
     "text": [
      "Epoch 15/50: 100%|██████████| 104/104 [00:20<00:00,  5.12it/s, Loss=0.0489, Accuracy=0.983]\n"
     ]
    },
    {
     "name": "stdout",
     "output_type": "stream",
     "text": [
      "Epoch [15/50], Train Loss: 0.0485, Train Accuracy: 0.9835, Val Loss: 0.4342, Val Accuracy: 0.8934\n"
     ]
    },
    {
     "name": "stderr",
     "output_type": "stream",
     "text": [
      "Epoch 16/50: 100%|██████████| 104/104 [00:20<00:00,  5.07it/s, Loss=0.0655, Accuracy=0.979]\n"
     ]
    },
    {
     "name": "stdout",
     "output_type": "stream",
     "text": [
      "Epoch [16/50], Train Loss: 0.0650, Train Accuracy: 0.9787, Val Loss: 0.3903, Val Accuracy: 0.8928\n"
     ]
    },
    {
     "name": "stderr",
     "output_type": "stream",
     "text": [
      "Epoch 17/50: 100%|██████████| 104/104 [00:19<00:00,  5.21it/s, Loss=0.0535, Accuracy=0.982]\n"
     ]
    },
    {
     "name": "stdout",
     "output_type": "stream",
     "text": [
      "Epoch [17/50], Train Loss: 0.0531, Train Accuracy: 0.9822, Val Loss: 0.4220, Val Accuracy: 0.8934\n"
     ]
    },
    {
     "name": "stderr",
     "output_type": "stream",
     "text": [
      "Epoch 18/50: 100%|██████████| 104/104 [00:20<00:00,  5.07it/s, Loss=0.0295, Accuracy=0.991]\n"
     ]
    },
    {
     "name": "stdout",
     "output_type": "stream",
     "text": [
      "Epoch [18/50], Train Loss: 0.0293, Train Accuracy: 0.9908, Val Loss: 0.4119, Val Accuracy: 0.8964\n"
     ]
    },
    {
     "name": "stderr",
     "output_type": "stream",
     "text": [
      "Epoch 19/50: 100%|██████████| 104/104 [00:20<00:00,  5.06it/s, Loss=0.0367, Accuracy=0.988]\n"
     ]
    },
    {
     "name": "stdout",
     "output_type": "stream",
     "text": [
      "Epoch [19/50], Train Loss: 0.0364, Train Accuracy: 0.9882, Val Loss: 0.4896, Val Accuracy: 0.8710\n"
     ]
    },
    {
     "name": "stderr",
     "output_type": "stream",
     "text": [
      "Epoch 20/50: 100%|██████████| 104/104 [00:20<00:00,  4.99it/s, Loss=0.0415, Accuracy=0.986]\n"
     ]
    },
    {
     "name": "stdout",
     "output_type": "stream",
     "text": [
      "Epoch [20/50], Train Loss: 0.0412, Train Accuracy: 0.9856, Val Loss: 0.3174, Val Accuracy: 0.9110\n"
     ]
    },
    {
     "name": "stderr",
     "output_type": "stream",
     "text": [
      "Epoch 21/50: 100%|██████████| 104/104 [00:19<00:00,  5.27it/s, Loss=0.0342, Accuracy=0.988]\n"
     ]
    },
    {
     "name": "stdout",
     "output_type": "stream",
     "text": [
      "Epoch [21/50], Train Loss: 0.0339, Train Accuracy: 0.9880, Val Loss: 0.5275, Val Accuracy: 0.8825\n"
     ]
    },
    {
     "name": "stderr",
     "output_type": "stream",
     "text": [
      "Epoch 22/50: 100%|██████████| 104/104 [00:21<00:00,  4.85it/s, Loss=0.0593, Accuracy=0.982]\n"
     ]
    },
    {
     "name": "stdout",
     "output_type": "stream",
     "text": [
      "Epoch [22/50], Train Loss: 0.0589, Train Accuracy: 0.9816, Val Loss: 0.4131, Val Accuracy: 0.8940\n"
     ]
    },
    {
     "name": "stderr",
     "output_type": "stream",
     "text": [
      "Epoch 23/50: 100%|██████████| 104/104 [00:20<00:00,  5.06it/s, Loss=0.0447, Accuracy=0.986]\n"
     ]
    },
    {
     "name": "stdout",
     "output_type": "stream",
     "text": [
      "Epoch [23/50], Train Loss: 0.0444, Train Accuracy: 0.9857, Val Loss: 0.4131, Val Accuracy: 0.8988\n"
     ]
    },
    {
     "name": "stderr",
     "output_type": "stream",
     "text": [
      "Epoch 24/50: 100%|██████████| 104/104 [00:20<00:00,  5.09it/s, Loss=0.0287, Accuracy=0.991]\n"
     ]
    },
    {
     "name": "stdout",
     "output_type": "stream",
     "text": [
      "Epoch [24/50], Train Loss: 0.0284, Train Accuracy: 0.9908, Val Loss: 0.3096, Val Accuracy: 0.9182\n"
     ]
    },
    {
     "name": "stderr",
     "output_type": "stream",
     "text": [
      "Epoch 25/50: 100%|██████████| 104/104 [00:20<00:00,  5.05it/s, Loss=0.0489, Accuracy=0.984]\n"
     ]
    },
    {
     "name": "stdout",
     "output_type": "stream",
     "text": [
      "Epoch [25/50], Train Loss: 0.0485, Train Accuracy: 0.9837, Val Loss: 0.4132, Val Accuracy: 0.8976\n"
     ]
    },
    {
     "name": "stderr",
     "output_type": "stream",
     "text": [
      "Epoch 26/50: 100%|██████████| 104/104 [00:21<00:00,  4.89it/s, Loss=0.0634, Accuracy=0.981]\n"
     ]
    },
    {
     "name": "stdout",
     "output_type": "stream",
     "text": [
      "Epoch [26/50], Train Loss: 0.0629, Train Accuracy: 0.9806, Val Loss: 0.3673, Val Accuracy: 0.9037\n"
     ]
    },
    {
     "name": "stderr",
     "output_type": "stream",
     "text": [
      "Epoch 27/50: 100%|██████████| 104/104 [00:29<00:00,  3.50it/s, Loss=0.039, Accuracy=0.988] \n"
     ]
    },
    {
     "name": "stdout",
     "output_type": "stream",
     "text": [
      "Epoch [27/50], Train Loss: 0.0387, Train Accuracy: 0.9879, Val Loss: 0.4185, Val Accuracy: 0.8970\n"
     ]
    },
    {
     "name": "stderr",
     "output_type": "stream",
     "text": [
      "Epoch 28/50: 100%|██████████| 104/104 [00:25<00:00,  4.16it/s, Loss=0.0532, Accuracy=0.982]\n"
     ]
    },
    {
     "name": "stdout",
     "output_type": "stream",
     "text": [
      "Epoch [28/50], Train Loss: 0.0528, Train Accuracy: 0.9821, Val Loss: 0.5833, Val Accuracy: 0.8680\n"
     ]
    },
    {
     "name": "stderr",
     "output_type": "stream",
     "text": [
      "Epoch 29/50: 100%|██████████| 104/104 [00:25<00:00,  4.03it/s, Loss=0.0276, Accuracy=0.99]\n"
     ]
    },
    {
     "name": "stdout",
     "output_type": "stream",
     "text": [
      "Epoch [29/50], Train Loss: 0.0274, Train Accuracy: 0.9904, Val Loss: 0.3892, Val Accuracy: 0.8982\n"
     ]
    },
    {
     "name": "stderr",
     "output_type": "stream",
     "text": [
      "Epoch 30/50: 100%|██████████| 104/104 [00:27<00:00,  3.81it/s, Loss=0.031, Accuracy=0.989] \n"
     ]
    },
    {
     "name": "stdout",
     "output_type": "stream",
     "text": [
      "Epoch [30/50], Train Loss: 0.0307, Train Accuracy: 0.9893, Val Loss: 0.4484, Val Accuracy: 0.8952\n"
     ]
    },
    {
     "name": "stderr",
     "output_type": "stream",
     "text": [
      "Epoch 31/50: 100%|██████████| 104/104 [00:24<00:00,  4.29it/s, Loss=0.0518, Accuracy=0.983]\n"
     ]
    },
    {
     "name": "stdout",
     "output_type": "stream",
     "text": [
      "Epoch [31/50], Train Loss: 0.0514, Train Accuracy: 0.9833, Val Loss: 0.3762, Val Accuracy: 0.9085\n"
     ]
    },
    {
     "name": "stderr",
     "output_type": "stream",
     "text": [
      "Epoch 32/50: 100%|██████████| 104/104 [00:25<00:00,  4.09it/s, Loss=0.0206, Accuracy=0.994]\n"
     ]
    },
    {
     "name": "stdout",
     "output_type": "stream",
     "text": [
      "Epoch [32/50], Train Loss: 0.0205, Train Accuracy: 0.9941, Val Loss: 0.4749, Val Accuracy: 0.9007\n"
     ]
    },
    {
     "name": "stderr",
     "output_type": "stream",
     "text": [
      "Epoch 33/50: 100%|██████████| 104/104 [00:26<00:00,  3.96it/s, Loss=0.0509, Accuracy=0.984]\n"
     ]
    },
    {
     "name": "stdout",
     "output_type": "stream",
     "text": [
      "Epoch [33/50], Train Loss: 0.0505, Train Accuracy: 0.9836, Val Loss: 0.3439, Val Accuracy: 0.9200\n"
     ]
    },
    {
     "name": "stderr",
     "output_type": "stream",
     "text": [
      "Epoch 34/50: 100%|██████████| 104/104 [00:26<00:00,  4.00it/s, Loss=0.0297, Accuracy=0.99] \n"
     ]
    },
    {
     "name": "stdout",
     "output_type": "stream",
     "text": [
      "Epoch [34/50], Train Loss: 0.0295, Train Accuracy: 0.9905, Val Loss: 0.3116, Val Accuracy: 0.9328\n"
     ]
    },
    {
     "name": "stderr",
     "output_type": "stream",
     "text": [
      "Epoch 35/50: 100%|██████████| 104/104 [00:27<00:00,  3.77it/s, Loss=0.0435, Accuracy=0.987]\n"
     ]
    },
    {
     "name": "stdout",
     "output_type": "stream",
     "text": [
      "Epoch [35/50], Train Loss: 0.0431, Train Accuracy: 0.9871, Val Loss: 0.4069, Val Accuracy: 0.9007\n"
     ]
    },
    {
     "name": "stderr",
     "output_type": "stream",
     "text": [
      "Epoch 36/50: 100%|██████████| 104/104 [00:25<00:00,  4.02it/s, Loss=0.0468, Accuracy=0.986]\n"
     ]
    },
    {
     "name": "stdout",
     "output_type": "stream",
     "text": [
      "Epoch [36/50], Train Loss: 0.0464, Train Accuracy: 0.9858, Val Loss: 0.3893, Val Accuracy: 0.9110\n"
     ]
    },
    {
     "name": "stderr",
     "output_type": "stream",
     "text": [
      "Epoch 37/50: 100%|██████████| 104/104 [00:25<00:00,  4.06it/s, Loss=0.0374, Accuracy=0.988]\n"
     ]
    },
    {
     "name": "stdout",
     "output_type": "stream",
     "text": [
      "Epoch [37/50], Train Loss: 0.0372, Train Accuracy: 0.9878, Val Loss: 0.2879, Val Accuracy: 0.9297\n"
     ]
    },
    {
     "name": "stderr",
     "output_type": "stream",
     "text": [
      "Epoch 38/50: 100%|██████████| 104/104 [00:25<00:00,  4.09it/s, Loss=0.0155, Accuracy=0.995]\n"
     ]
    },
    {
     "name": "stdout",
     "output_type": "stream",
     "text": [
      "Epoch [38/50], Train Loss: 0.0154, Train Accuracy: 0.9954, Val Loss: 0.3008, Val Accuracy: 0.9328\n"
     ]
    },
    {
     "name": "stderr",
     "output_type": "stream",
     "text": [
      "Epoch 39/50: 100%|██████████| 104/104 [00:26<00:00,  3.93it/s, Loss=0.0103, Accuracy=0.997]\n"
     ]
    },
    {
     "name": "stdout",
     "output_type": "stream",
     "text": [
      "Epoch [39/50], Train Loss: 0.0102, Train Accuracy: 0.9970, Val Loss: 0.3495, Val Accuracy: 0.9231\n"
     ]
    },
    {
     "name": "stderr",
     "output_type": "stream",
     "text": [
      "Epoch 40/50: 100%|██████████| 104/104 [00:24<00:00,  4.18it/s, Loss=0.0141, Accuracy=0.997] \n"
     ]
    },
    {
     "name": "stdout",
     "output_type": "stream",
     "text": [
      "Epoch [40/50], Train Loss: 0.0140, Train Accuracy: 0.9972, Val Loss: 0.4009, Val Accuracy: 0.9067\n"
     ]
    },
    {
     "name": "stderr",
     "output_type": "stream",
     "text": [
      "Epoch 41/50: 100%|██████████| 104/104 [00:26<00:00,  3.96it/s, Loss=0.0533, Accuracy=0.985]\n"
     ]
    },
    {
     "name": "stdout",
     "output_type": "stream",
     "text": [
      "Epoch [41/50], Train Loss: 0.0529, Train Accuracy: 0.9846, Val Loss: 0.4338, Val Accuracy: 0.9140\n"
     ]
    },
    {
     "name": "stderr",
     "output_type": "stream",
     "text": [
      "Epoch 42/50: 100%|██████████| 104/104 [00:26<00:00,  3.99it/s, Loss=0.0501, Accuracy=0.984]\n"
     ]
    },
    {
     "name": "stdout",
     "output_type": "stream",
     "text": [
      "Epoch [42/50], Train Loss: 0.0498, Train Accuracy: 0.9836, Val Loss: 0.4815, Val Accuracy: 0.8958\n"
     ]
    },
    {
     "name": "stderr",
     "output_type": "stream",
     "text": [
      "Epoch 43/50: 100%|██████████| 104/104 [00:26<00:00,  3.92it/s, Loss=0.0545, Accuracy=0.982]\n"
     ]
    },
    {
     "name": "stdout",
     "output_type": "stream",
     "text": [
      "Epoch [43/50], Train Loss: 0.0541, Train Accuracy: 0.9824, Val Loss: 0.3639, Val Accuracy: 0.9158\n"
     ]
    },
    {
     "name": "stderr",
     "output_type": "stream",
     "text": [
      "Epoch 44/50: 100%|██████████| 104/104 [00:26<00:00,  3.95it/s, Loss=0.027, Accuracy=0.992] \n"
     ]
    },
    {
     "name": "stdout",
     "output_type": "stream",
     "text": [
      "Epoch [44/50], Train Loss: 0.0268, Train Accuracy: 0.9919, Val Loss: 0.3121, Val Accuracy: 0.9231\n"
     ]
    },
    {
     "name": "stderr",
     "output_type": "stream",
     "text": [
      "Epoch 45/50: 100%|██████████| 104/104 [00:27<00:00,  3.82it/s, Loss=0.03, Accuracy=0.99]  \n"
     ]
    },
    {
     "name": "stdout",
     "output_type": "stream",
     "text": [
      "Epoch [45/50], Train Loss: 0.0297, Train Accuracy: 0.9904, Val Loss: 0.3225, Val Accuracy: 0.9261\n"
     ]
    },
    {
     "name": "stderr",
     "output_type": "stream",
     "text": [
      "Epoch 46/50: 100%|██████████| 104/104 [00:26<00:00,  3.87it/s, Loss=0.02, Accuracy=0.993]  \n"
     ]
    },
    {
     "name": "stdout",
     "output_type": "stream",
     "text": [
      "Epoch [46/50], Train Loss: 0.0199, Train Accuracy: 0.9935, Val Loss: 0.2853, Val Accuracy: 0.9340\n"
     ]
    },
    {
     "name": "stderr",
     "output_type": "stream",
     "text": [
      "Epoch 47/50: 100%|██████████| 104/104 [00:26<00:00,  3.95it/s, Loss=0.0233, Accuracy=0.992]\n"
     ]
    },
    {
     "name": "stdout",
     "output_type": "stream",
     "text": [
      "Epoch [47/50], Train Loss: 0.0231, Train Accuracy: 0.9924, Val Loss: 0.3237, Val Accuracy: 0.9364\n"
     ]
    },
    {
     "name": "stderr",
     "output_type": "stream",
     "text": [
      "Epoch 48/50: 100%|██████████| 104/104 [00:26<00:00,  3.88it/s, Loss=0.0188, Accuracy=0.995]\n"
     ]
    },
    {
     "name": "stdout",
     "output_type": "stream",
     "text": [
      "Epoch [48/50], Train Loss: 0.0186, Train Accuracy: 0.9949, Val Loss: 0.5402, Val Accuracy: 0.8928\n"
     ]
    },
    {
     "name": "stderr",
     "output_type": "stream",
     "text": [
      "Epoch 49/50: 100%|██████████| 104/104 [00:27<00:00,  3.78it/s, Loss=0.0389, Accuracy=0.989]\n"
     ]
    },
    {
     "name": "stdout",
     "output_type": "stream",
     "text": [
      "Epoch [49/50], Train Loss: 0.0386, Train Accuracy: 0.9892, Val Loss: 0.4511, Val Accuracy: 0.8976\n"
     ]
    },
    {
     "name": "stderr",
     "output_type": "stream",
     "text": [
      "Epoch 50/50: 100%|██████████| 104/104 [00:28<00:00,  3.63it/s, Loss=0.0611, Accuracy=0.982]\n"
     ]
    },
    {
     "name": "stdout",
     "output_type": "stream",
     "text": [
      "Epoch [50/50], Train Loss: 0.0606, Train Accuracy: 0.9818, Val Loss: 0.3185, Val Accuracy: 0.9340\n",
      "Test Loss: 0.2729, Test Accuracy: 0.9255\n"
     ]
    },
    {
     "data": {
      "image/png": "[encoded data removed]",
      "text/plain": [
       "<Figure size 1200x400 with 2 Axes>"
      ]
     },
     "metadata": {},
     "output_type": "display_data"
    }
   ],
   "source": [
    "import torch\n",
    "import torch.nn as nn\n",
    "import torch.optim as optim\n",
    "from torch.utils.data import DataLoader, Dataset\n",
    "from torchvision import transforms\n",
    "from tqdm import tqdm\n",
    "import pandas as pd\n",
    "from PIL import Image\n",
    "import os\n",
    "from sklearn.model_selection import train_test_split\n",
    "import matplotlib.pyplot as plt\n",
    "\n",
    "# Check if GPU is available and set device\n",
    "device = torch.device(\"cuda\" if torch.cuda.is_available() else \"cpu\")\n",
    "\n",
    "# Define data transforms with 64x64 image size\n",
    "transform = transforms.Compose([\n",
    "    transforms.Resize((64, 64)),  # Resize to 64x64\n",
    "    transforms.ToTensor(),\n",
    "    transforms.Normalize(mean=[0.485, 0.456, 0.406], std=[0.229, 0.224, 0.225])\n",
    "])\n",
    "\n",
    "# Define the directory path\n",
    "data_dir = r\"C:\\Users\\user\\Desktop\\plant\\boc\"\n",
    "\n",
    "# Load one CSV file\n",
    "csv_file = 'fold_2_train.csv'\n",
    "\n",
    "# Define a custom dataset class for CSV loading\n",
    "class CustomDataset(Dataset):\n",
    "    def __init__(self, csv_file, root_dir, transform=None):\n",
    "        self.data = pd.read_csv(csv_file)\n",
    "        self.root_dir = root_dir\n",
    "        self.transform = transform\n",
    "\n",
    "    def __len__(self):\n",
    "        return len(self.data)\n",
    "\n",
    "    def __getitem__(self, idx):\n",
    "        try:\n",
    "            img_name = os.path.join(self.root_dir, str(self.data.iloc[idx, 0]))  # Access image_path using index 0\n",
    "            image = Image.open(img_name).convert('RGB')  # Ensure images are in RGB mode\n",
    "            label = self.data.iloc[idx, 1]  # Access class_label using index 1\n",
    "        except Exception as e:\n",
    "            print(f\"Error accessing image at index {idx}: {e}\")\n",
    "            return None\n",
    "\n",
    "        if self.transform:\n",
    "            image = self.transform(image)\n",
    "\n",
    "        return image, label\n",
    "\n",
    "# Load the dataset using CustomDataset\n",
    "dataset = CustomDataset(csv_file=os.path.join(data_dir, csv_file), root_dir=data_dir, transform=transform)\n",
    "\n",
    "# Split dataset into train, validation, and test sets\n",
    "train_size = 0.8\n",
    "val_size = 0.1\n",
    "test_size = 1 - train_size - val_size\n",
    "\n",
    "train_dataset, temp_dataset = train_test_split(dataset, test_size=1 - train_size, random_state=42)\n",
    "val_dataset, test_dataset = train_test_split(temp_dataset, test_size=test_size / (val_size + test_size), random_state=42)\n",
    "\n",
    "# Create data loaders for each set\n",
    "batch_size = 128\n",
    "train_loader = DataLoader(train_dataset, batch_size=batch_size, shuffle=True, num_workers=4, pin_memory=True)\n",
    "val_loader = DataLoader(val_dataset, batch_size=batch_size, shuffle=False, num_workers=4, pin_memory=True)\n",
    "test_loader = DataLoader(test_dataset, batch_size=batch_size, shuffle=False, num_workers=4, pin_memory=True)\n",
    "\n",
    "\n",
    "\n",
    "# Print class names (assuming it's available in the dataset)\n",
    "print(\"Class Names:\", pd.Series([data[1] for data in train_dataset]).unique())\n",
    "##\n",
    "### Define the model architecture\n",
    "##class AlexNet(nn.Module):\n",
    "##    def __init__(self, num_classes=15):\n",
    "##        super(AlexNet, self).__init__()\n",
    "##        self.features = nn.Sequential(\n",
    "##            nn.Conv2d(3, 64, kernel_size=11, stride=4, padding=2),\n",
    "##            nn.ReLU(inplace=True),\n",
    "##            nn.MaxPool2d(kernel_size=3, stride=2),\n",
    "##            nn.Conv2d(64, 192, kernel_size=5, padding=2),\n",
    "##            nn.ReLU(inplace=True),\n",
    "##            nn.MaxPool2d(kernel_size=3, stride=2),\n",
    "##            nn.Conv2d(192, 384, kernel_size=3, padding=1),\n",
    "##            nn.ReLU(inplace=True),\n",
    "##            nn.Conv2d(384, 256, kernel_size=3, padding=1),\n",
    "##            nn.ReLU(inplace=True),\n",
    "##            nn.Conv2d(256, 256, kernel_size=3, padding=1),\n",
    "##            nn.ReLU(inplace=True),\n",
    "##            nn.MaxPool2d(kernel_size=3, stride=2),\n",
    "##        )\n",
    "##        self.avgpool = nn.AdaptiveAvgPool2d((6, 6))\n",
    "##        self.classifier = nn.Sequential(\n",
    "##            nn.Dropout(),\n",
    "##            nn.Linear(256 * 6 * 6, 4096),\n",
    "##            nn.ReLU(inplace=True),\n",
    "##            nn.Dropout(),\n",
    "##            nn.Linear(4096, 4096),\n",
    "##            nn.ReLU(inplace=True),\n",
    "##            nn.Linear(4096, num_classes),\n",
    "##        )\n",
    "##\n",
    "##    def forward(self, x):\n",
    "##        x = self.features(x)\n",
    "##        x = self.avgpool(x)\n",
    "##        x = torch.flatten(x, 1)\n",
    "##        x = self.classifier(x)\n",
    "##        return x\n",
    "##\n",
    "# Instantiate the model\n",
    "##model = AlexNet(num_classes=15).to(device)\n",
    "\n",
    "# Define custom modules and model\n",
    "class Swish(nn.Module):\n",
    "    def forward(self, x):\n",
    "        return x * torch.sigmoid(x)\n",
    "\n",
    "class SEBlock(nn.Module):\n",
    "    def __init__(self, in_channels, reduction=4):\n",
    "        super(SEBlock, self).__init__()\n",
    "        self.fc1 = nn.Conv2d(in_channels, in_channels // reduction, kernel_size=1)\n",
    "        self.fc2 = nn.Conv2d(in_channels // reduction, in_channels, kernel_size=1)\n",
    "    \n",
    "    def forward(self, x):\n",
    "        scale = torch.mean(x, (2, 3), keepdim=True)\n",
    "        scale = nn.functional.relu(self.fc1(scale))\n",
    "        scale = torch.sigmoid(self.fc2(scale))\n",
    "        return x * scale\n",
    "\n",
    "class GhostModule(nn.Module):\n",
    "    def __init__(self, in_channels, out_channels, ratio=2, kernel_size=1, dw_kernel_size=3, stride=1, relu=True):\n",
    "        super(GhostModule, self).__init__()\n",
    "        self.out_channels = out_channels\n",
    "        self.init_channels = int(out_channels / ratio)\n",
    "        self.new_channels = self.init_channels * (ratio - 1)\n",
    "        \n",
    "        self.primary_conv = nn.Sequential(\n",
    "            nn.Conv2d(in_channels, self.init_channels, kernel_size, stride, kernel_size//2, bias=False),\n",
    "            nn.BatchNorm2d(self.init_channels),\n",
    "            nn.ReLU(inplace=True) if relu else nn.Sequential()\n",
    "        )\n",
    "        \n",
    "        self.cheap_operation = nn.Sequential(\n",
    "            nn.Conv2d(self.init_channels, self.new_channels, dw_kernel_size, 1, dw_kernel_size//2, groups=self.init_channels, bias=False),\n",
    "            nn.BatchNorm2d(self.new_channels),\n",
    "            nn.ReLU(inplace=True) if relu else nn.Sequential()\n",
    "        )\n",
    "    \n",
    "    def forward(self, x):\n",
    "        x1 = self.primary_conv(x)\n",
    "        x2 = self.cheap_operation(x1)\n",
    "        out = torch.cat([x1, x2], dim=1)\n",
    "        return out[:, :self.out_channels, :, :]\n",
    "\n",
    "class GhostBottleneck(nn.Module):\n",
    "    def __init__(self, in_channels, mid_channels, out_channels, dw_kernel_size=3, stride=1, use_se=False):\n",
    "        super(GhostBottleneck, self).__init__()\n",
    "        self.stride = stride\n",
    "        self.use_se = use_se\n",
    "\n",
    "        self.ghost1 = GhostModule(in_channels, mid_channels, relu=True)\n",
    "        self.depthwise = nn.Sequential(\n",
    "            nn.Conv2d(mid_channels, mid_channels, dw_kernel_size, stride=stride, padding=dw_kernel_size//2, groups=mid_channels, bias=False),\n",
    "            nn.BatchNorm2d(mid_channels)\n",
    "        ) if stride == 2 else nn.Sequential()\n",
    "\n",
    "        self.ghost2 = GhostModule(mid_channels, out_channels, relu=False)\n",
    "\n",
    "        self.shortcut = nn.Sequential(\n",
    "            nn.Conv2d(in_channels, in_channels, dw_kernel_size, stride=stride, padding=dw_kernel_size//2, groups=in_channels, bias=False),\n",
    "            nn.BatchNorm2d(in_channels),\n",
    "            nn.Conv2d(in_channels, out_channels, kernel_size=1, stride=1, padding=0, bias=False),\n",
    "            nn.BatchNorm2d(out_channels)\n",
    "        ) if stride == 2 or in_channels != out_channels else nn.Sequential()\n",
    "        \n",
    "        self.se = SEBlock(mid_channels) if self.use_se else nn.Sequential()\n",
    "\n",
    "    def forward(self, x):\n",
    "        residual = self.shortcut(x)\n",
    "        x = self.ghost1(x)\n",
    "        x = self.depthwise(x)\n",
    "        x = self.se(x)\n",
    "        x = self.ghost2(x)\n",
    "        x += residual\n",
    "        return x\n",
    "\n",
    "class GhostNetCustom(nn.Module):\n",
    "    def __init__(self, num_classes=15):\n",
    "        super(GhostNetCustom, self).__init__()\n",
    "        self.conv_stem = nn.Conv2d(3, 16, kernel_size=3, stride=2, padding=1, bias=False)\n",
    "        self.bn1 = nn.BatchNorm2d(16)\n",
    "        self.relu = nn.ReLU(inplace=True)\n",
    "        \n",
    "        self.blocks = nn.Sequential(\n",
    "            GhostBottleneck(16, 16, 16, stride=1),\n",
    "            GhostBottleneck(16, 48, 24, stride=2),\n",
    "            GhostBottleneck(24, 72, 24, stride=1),\n",
    "            GhostBottleneck(24, 72, 40, stride=2, use_se=True),\n",
    "            GhostBottleneck(40, 120, 40, stride=1, use_se=True),\n",
    "            GhostBottleneck(40, 240, 80, stride=2),\n",
    "            GhostBottleneck(80, 200, 80, stride=1),\n",
    "            GhostBottleneck(80, 184, 80, stride=1),\n",
    "            GhostBottleneck(80, 480, 112, stride=1, use_se=True),\n",
    "            GhostBottleneck(112, 672, 160, stride=2, use_se=True),\n",
    "            GhostBottleneck(160, 960, 160, stride=1, use_se=True)\n",
    "        )\n",
    "        \n",
    "        self.conv_head = nn.Conv2d(160, 960, kernel_size=1, bias=False)\n",
    "        self.bn2 = nn.BatchNorm2d(960)\n",
    "        self.pool = nn.AdaptiveAvgPool2d(1)\n",
    "        self.fc = nn.Linear(960, num_classes)\n",
    "    \n",
    "    def forward(self, x):\n",
    "        x = self.relu(self.bn1(self.conv_stem(x)))\n",
    "        x = self.blocks(x)\n",
    "        x = self.relu(self.bn2(self.conv_head(x)))\n",
    "        x = self.pool(x)\n",
    "        x = x.view(x.size(0), -1)\n",
    "        x = self.fc(x)\n",
    "        return x\n",
    "\n",
    "# Print the model architecture\n",
    "\n",
    "model = GhostNetCustom(num_classes=15).to(device)\n",
    "\n",
    "# Function to evaluate the model\n",
    "def evaluate_model(model, data_loader, criterion, device):\n",
    "    model.eval()\n",
    "    loss = 0.0\n",
    "    correct = 0\n",
    "    total = 0\n",
    "    with torch.no_grad():\n",
    "        for images, labels in data_loader:\n",
    "            images, labels = images.to(device), labels.to(device)\n",
    "            outputs = model(images)\n",
    "            loss += criterion(outputs, labels).item()\n",
    "            _, predicted = torch.max(outputs.data, 1)\n",
    "            total += labels.size(0)\n",
    "            correct += (predicted == labels).sum().item()\n",
    "    \n",
    "    avg_loss = loss / len(data_loader)\n",
    "    accuracy = correct / total\n",
    "    return avg_loss, accuracy\n",
    "\n",
    "# Function to train the model\n",
    "def train_model(model, train_loader, val_loader, criterion, optimizer, num_epochs, device):\n",
    "    train_losses = []\n",
    "    val_losses = []\n",
    "    train_accuracies = []\n",
    "    val_accuracies = []\n",
    "    \n",
    "    for epoch in range(num_epochs):\n",
    "        model.train()\n",
    "        running_loss = 0.0\n",
    "        correct_train = 0\n",
    "        total_train = 0\n",
    "        \n",
    "        # Use tqdm for progress display\n",
    "        progress_bar = tqdm(train_loader, desc=f'Epoch {epoch+1}/{num_epochs}')\n",
    "        \n",
    "        for images, labels in progress_bar:\n",
    "            images, labels = images.to(device), labels.to(device)\n",
    "            \n",
    "            optimizer.zero_grad()\n",
    "            outputs = model(images)\n",
    "            loss = criterion(outputs, labels)\n",
    "            loss.backward()\n",
    "            optimizer.step()\n",
    "            \n",
    "            running_loss += loss.item()\n",
    "            _, predicted = torch.max(outputs.data, 1)\n",
    "            total_train += labels.size(0)\n",
    "            correct_train += (predicted == labels).sum().item()\n",
    "            \n",
    "            progress_bar.set_postfix({'Loss': running_loss / (total_train / batch_size), 'Accuracy': correct_train / total_train})\n",
    "        \n",
    "        avg_train_loss = running_loss / len(train_loader)\n",
    "        train_accuracy = correct_train / total_train\n",
    "        \n",
    "        val_loss, val_accuracy = evaluate_model(model, val_loader, criterion, device)\n",
    "        \n",
    "        train_losses.append(avg_train_loss)\n",
    "        val_losses.append(val_loss)\n",
    "        train_accuracies.append(train_accuracy)\n",
    "        val_accuracies.append(val_accuracy)\n",
    "        \n",
    "        print(f'Epoch [{epoch+1}/{num_epochs}], Train Loss: {avg_train_loss:.4f}, Train Accuracy: {train_accuracy:.4f}, Val Loss: {val_loss:.4f}, Val Accuracy: {val_accuracy:.4f}')\n",
    "    \n",
    "    return train_losses, val_losses, train_accuracies, val_accuracies\n",
    "\n",
    "# Set hyperparameters\n",
    "num_epochs = 50\n",
    "learning_rate = 1e-3\n",
    "\n",
    "# Define criterion and optimizer\n",
    "criterion = nn.CrossEntropyLoss()\n",
    "optimizer = optim.Adam(model.parameters(), lr=learning_rate)\n",
    "\n",
    "# Train the model\n",
    "train_losses, val_losses, train_accuracies, val_accuracies = train_model(model, train_loader, val_loader, criterion, optimizer, num_epochs, device)\n",
    "\n",
    "# Evaluate on test set\n",
    "test_loss, test_accuracy = evaluate_model(model, test_loader, criterion, device)\n",
    "print(f'Test Loss: {test_loss:.4f}, Test Accuracy: {test_accuracy:.4f}')\n",
    "\n",
    "# Plotting training and validation curves\n",
    "plt.figure(figsize=(12, 4))\n",
    "plt.subplot(1, 2, 1)\n",
    "plt.plot(train_losses, label='Train Loss')\n",
    "plt.plot(val_losses, label='Val Loss')\n",
    "plt.xlabel('Epoch')\n",
    "plt.ylabel('Loss')\n",
    "plt.title('Training and Validation Losses')\n",
    "plt.legend()\n",
    "\n",
    "plt.subplot(1, 2, 2)\n",
    "plt.plot(train_accuracies, label='Train Accuracy')\n",
    "plt.plot(val_accuracies, label='Val Accuracy')\n",
    "plt.xlabel('Epoch')\n",
    "plt.ylabel('Accuracy')\n",
    "plt.title('Training and Validation Accuracies')\n",
    "plt.legend()\n",
    "\n",
    "plt.tight_layout()\n",
    "plt.show()\n"
   ]
  },
  {
   "cell_type": "code",
   "execution_count": 5,
   "metadata": {},
   "outputs": [
    {
     "name": "stdout",
     "output_type": "stream",
     "text": [
      "Class Names: [12  6 11  5 10  0 14  7  2  9  8 13  1  3  4]\n"
     ]
    },
    {
     "name": "stderr",
     "output_type": "stream",
     "text": [
      "Epoch 1/50: 100%|██████████| 104/104 [00:30<00:00,  3.45it/s, Loss=1.3, Accuracy=0.577] \n"
     ]
    },
    {
     "name": "stdout",
     "output_type": "stream",
     "text": [
      "Epoch [1/50], Train Loss: 1.2866, Train Accuracy: 0.5772, Val Loss: 0.7952, Val Accuracy: 0.7299\n"
     ]
    },
    {
     "name": "stderr",
     "output_type": "stream",
     "text": [
      "Epoch 2/50: 100%|██████████| 104/104 [00:19<00:00,  5.38it/s, Loss=0.56, Accuracy=0.81] \n"
     ]
    },
    {
     "name": "stdout",
     "output_type": "stream",
     "text": [
      "Epoch [2/50], Train Loss: 0.5561, Train Accuracy: 0.8100, Val Loss: 0.5397, Val Accuracy: 0.8122\n"
     ]
    },
    {
     "name": "stderr",
     "output_type": "stream",
     "text": [
      "Epoch 3/50: 100%|██████████| 104/104 [00:18<00:00,  5.51it/s, Loss=0.352, Accuracy=0.884]\n"
     ]
    },
    {
     "name": "stdout",
     "output_type": "stream",
     "text": [
      "Epoch [3/50], Train Loss: 0.3490, Train Accuracy: 0.8838, Val Loss: 0.5552, Val Accuracy: 0.8134\n"
     ]
    },
    {
     "name": "stderr",
     "output_type": "stream",
     "text": [
      "Epoch 4/50: 100%|██████████| 104/104 [00:19<00:00,  5.40it/s, Loss=0.229, Accuracy=0.923]\n"
     ]
    },
    {
     "name": "stdout",
     "output_type": "stream",
     "text": [
      "Epoch [4/50], Train Loss: 0.2269, Train Accuracy: 0.9227, Val Loss: 0.4683, Val Accuracy: 0.8443\n"
     ]
    },
    {
     "name": "stderr",
     "output_type": "stream",
     "text": [
      "Epoch 5/50: 100%|██████████| 104/104 [00:21<00:00,  4.79it/s, Loss=0.165, Accuracy=0.944]\n"
     ]
    },
    {
     "name": "stdout",
     "output_type": "stream",
     "text": [
      "Epoch [5/50], Train Loss: 0.1638, Train Accuracy: 0.9442, Val Loss: 0.5139, Val Accuracy: 0.8534\n"
     ]
    },
    {
     "name": "stderr",
     "output_type": "stream",
     "text": [
      "Epoch 6/50: 100%|██████████| 104/104 [00:19<00:00,  5.22it/s, Loss=0.14, Accuracy=0.954] \n"
     ]
    },
    {
     "name": "stdout",
     "output_type": "stream",
     "text": [
      "Epoch [6/50], Train Loss: 0.1386, Train Accuracy: 0.9544, Val Loss: 0.5686, Val Accuracy: 0.8286\n"
     ]
    },
    {
     "name": "stderr",
     "output_type": "stream",
     "text": [
      "Epoch 7/50: 100%|██████████| 104/104 [00:19<00:00,  5.42it/s, Loss=0.166, Accuracy=0.944]\n"
     ]
    },
    {
     "name": "stdout",
     "output_type": "stream",
     "text": [
      "Epoch [7/50], Train Loss: 0.1651, Train Accuracy: 0.9436, Val Loss: 0.4805, Val Accuracy: 0.8619\n"
     ]
    },
    {
     "name": "stderr",
     "output_type": "stream",
     "text": [
      "Epoch 8/50: 100%|██████████| 104/104 [00:19<00:00,  5.33it/s, Loss=0.0779, Accuracy=0.975]\n"
     ]
    },
    {
     "name": "stdout",
     "output_type": "stream",
     "text": [
      "Epoch [8/50], Train Loss: 0.0773, Train Accuracy: 0.9746, Val Loss: 0.5104, Val Accuracy: 0.8571\n"
     ]
    },
    {
     "name": "stderr",
     "output_type": "stream",
     "text": [
      "Epoch 9/50: 100%|██████████| 104/104 [00:20<00:00,  5.18it/s, Loss=0.0893, Accuracy=0.969]\n"
     ]
    },
    {
     "name": "stdout",
     "output_type": "stream",
     "text": [
      "Epoch [9/50], Train Loss: 0.0886, Train Accuracy: 0.9695, Val Loss: 0.4621, Val Accuracy: 0.8722\n"
     ]
    },
    {
     "name": "stderr",
     "output_type": "stream",
     "text": [
      "Epoch 10/50: 100%|██████████| 104/104 [00:24<00:00,  4.29it/s, Loss=0.0826, Accuracy=0.971]\n"
     ]
    },
    {
     "name": "stdout",
     "output_type": "stream",
     "text": [
      "Epoch [10/50], Train Loss: 0.0820, Train Accuracy: 0.9705, Val Loss: 0.4710, Val Accuracy: 0.8710\n"
     ]
    },
    {
     "name": "stderr",
     "output_type": "stream",
     "text": [
      "Epoch 11/50: 100%|██████████| 104/104 [00:22<00:00,  4.66it/s, Loss=0.0955, Accuracy=0.968]\n"
     ]
    },
    {
     "name": "stdout",
     "output_type": "stream",
     "text": [
      "Epoch [11/50], Train Loss: 0.0948, Train Accuracy: 0.9675, Val Loss: 0.5258, Val Accuracy: 0.8661\n"
     ]
    },
    {
     "name": "stderr",
     "output_type": "stream",
     "text": [
      "Epoch 12/50: 100%|██████████| 104/104 [00:21<00:00,  4.91it/s, Loss=0.0845, Accuracy=0.971]\n"
     ]
    },
    {
     "name": "stdout",
     "output_type": "stream",
     "text": [
      "Epoch [12/50], Train Loss: 0.0838, Train Accuracy: 0.9715, Val Loss: 0.4324, Val Accuracy: 0.8801\n"
     ]
    },
    {
     "name": "stderr",
     "output_type": "stream",
     "text": [
      "Epoch 13/50: 100%|██████████| 104/104 [00:20<00:00,  4.97it/s, Loss=0.058, Accuracy=0.982] \n"
     ]
    },
    {
     "name": "stdout",
     "output_type": "stream",
     "text": [
      "Epoch [13/50], Train Loss: 0.0575, Train Accuracy: 0.9818, Val Loss: 0.4069, Val Accuracy: 0.8922\n"
     ]
    },
    {
     "name": "stderr",
     "output_type": "stream",
     "text": [
      "Epoch 14/50: 100%|██████████| 104/104 [00:22<00:00,  4.62it/s, Loss=0.0616, Accuracy=0.98]\n"
     ]
    },
    {
     "name": "stdout",
     "output_type": "stream",
     "text": [
      "Epoch [14/50], Train Loss: 0.0611, Train Accuracy: 0.9802, Val Loss: 0.3704, Val Accuracy: 0.8928\n"
     ]
    },
    {
     "name": "stderr",
     "output_type": "stream",
     "text": [
      "Epoch 15/50: 100%|██████████| 104/104 [00:21<00:00,  4.82it/s, Loss=0.054, Accuracy=0.983] \n"
     ]
    },
    {
     "name": "stdout",
     "output_type": "stream",
     "text": [
      "Epoch [15/50], Train Loss: 0.0535, Train Accuracy: 0.9830, Val Loss: 0.3786, Val Accuracy: 0.9085\n"
     ]
    },
    {
     "name": "stderr",
     "output_type": "stream",
     "text": [
      "Epoch 16/50: 100%|██████████| 104/104 [00:21<00:00,  4.83it/s, Loss=0.0505, Accuracy=0.984]\n"
     ]
    },
    {
     "name": "stdout",
     "output_type": "stream",
     "text": [
      "Epoch [16/50], Train Loss: 0.0501, Train Accuracy: 0.9837, Val Loss: 0.4732, Val Accuracy: 0.8861\n"
     ]
    },
    {
     "name": "stderr",
     "output_type": "stream",
     "text": [
      "Epoch 17/50: 100%|██████████| 104/104 [00:22<00:00,  4.72it/s, Loss=0.0498, Accuracy=0.983]\n"
     ]
    },
    {
     "name": "stdout",
     "output_type": "stream",
     "text": [
      "Epoch [17/50], Train Loss: 0.0494, Train Accuracy: 0.9827, Val Loss: 0.5275, Val Accuracy: 0.8764\n"
     ]
    },
    {
     "name": "stderr",
     "output_type": "stream",
     "text": [
      "Epoch 18/50: 100%|██████████| 104/104 [00:23<00:00,  4.34it/s, Loss=0.0556, Accuracy=0.981]\n"
     ]
    },
    {
     "name": "stdout",
     "output_type": "stream",
     "text": [
      "Epoch [18/50], Train Loss: 0.0552, Train Accuracy: 0.9807, Val Loss: 0.4123, Val Accuracy: 0.9001\n"
     ]
    },
    {
     "name": "stderr",
     "output_type": "stream",
     "text": [
      "Epoch 19/50: 100%|██████████| 104/104 [00:24<00:00,  4.32it/s, Loss=0.0792, Accuracy=0.976]\n"
     ]
    },
    {
     "name": "stdout",
     "output_type": "stream",
     "text": [
      "Epoch [19/50], Train Loss: 0.0786, Train Accuracy: 0.9762, Val Loss: 0.5057, Val Accuracy: 0.8776\n"
     ]
    },
    {
     "name": "stderr",
     "output_type": "stream",
     "text": [
      "Epoch 20/50: 100%|██████████| 104/104 [00:25<00:00,  4.04it/s, Loss=0.0919, Accuracy=0.97]\n"
     ]
    },
    {
     "name": "stdout",
     "output_type": "stream",
     "text": [
      "Epoch [20/50], Train Loss: 0.0912, Train Accuracy: 0.9699, Val Loss: 0.4836, Val Accuracy: 0.8770\n"
     ]
    },
    {
     "name": "stderr",
     "output_type": "stream",
     "text": [
      "Epoch 21/50: 100%|██████████| 104/104 [00:27<00:00,  3.82it/s, Loss=0.0547, Accuracy=0.981]\n"
     ]
    },
    {
     "name": "stdout",
     "output_type": "stream",
     "text": [
      "Epoch [21/50], Train Loss: 0.0543, Train Accuracy: 0.9812, Val Loss: 0.3847, Val Accuracy: 0.9001\n"
     ]
    },
    {
     "name": "stderr",
     "output_type": "stream",
     "text": [
      "Epoch 22/50: 100%|██████████| 104/104 [00:26<00:00,  3.97it/s, Loss=0.0314, Accuracy=0.99]\n"
     ]
    },
    {
     "name": "stdout",
     "output_type": "stream",
     "text": [
      "Epoch [22/50], Train Loss: 0.0311, Train Accuracy: 0.9902, Val Loss: 0.3602, Val Accuracy: 0.9091\n"
     ]
    },
    {
     "name": "stderr",
     "output_type": "stream",
     "text": [
      "Epoch 23/50: 100%|██████████| 104/104 [00:25<00:00,  4.05it/s, Loss=0.017, Accuracy=0.995] \n"
     ]
    },
    {
     "name": "stdout",
     "output_type": "stream",
     "text": [
      "Epoch [23/50], Train Loss: 0.0169, Train Accuracy: 0.9949, Val Loss: 0.3657, Val Accuracy: 0.9061\n"
     ]
    },
    {
     "name": "stderr",
     "output_type": "stream",
     "text": [
      "Epoch 24/50: 100%|██████████| 104/104 [00:25<00:00,  4.14it/s, Loss=0.0136, Accuracy=0.995]\n"
     ]
    },
    {
     "name": "stdout",
     "output_type": "stream",
     "text": [
      "Epoch [24/50], Train Loss: 0.0135, Train Accuracy: 0.9949, Val Loss: 0.3823, Val Accuracy: 0.9091\n"
     ]
    },
    {
     "name": "stderr",
     "output_type": "stream",
     "text": [
      "Epoch 25/50: 100%|██████████| 104/104 [00:25<00:00,  4.02it/s, Loss=0.0202, Accuracy=0.994]\n"
     ]
    },
    {
     "name": "stdout",
     "output_type": "stream",
     "text": [
      "Epoch [25/50], Train Loss: 0.0200, Train Accuracy: 0.9944, Val Loss: 0.5210, Val Accuracy: 0.8910\n"
     ]
    },
    {
     "name": "stderr",
     "output_type": "stream",
     "text": [
      "Epoch 26/50: 100%|██████████| 104/104 [00:25<00:00,  4.12it/s, Loss=0.0664, Accuracy=0.979]\n"
     ]
    },
    {
     "name": "stdout",
     "output_type": "stream",
     "text": [
      "Epoch [26/50], Train Loss: 0.0659, Train Accuracy: 0.9794, Val Loss: 0.6063, Val Accuracy: 0.8558\n"
     ]
    },
    {
     "name": "stderr",
     "output_type": "stream",
     "text": [
      "Epoch 27/50: 100%|██████████| 104/104 [00:25<00:00,  4.05it/s, Loss=0.0831, Accuracy=0.972]\n"
     ]
    },
    {
     "name": "stdout",
     "output_type": "stream",
     "text": [
      "Epoch [27/50], Train Loss: 0.0825, Train Accuracy: 0.9721, Val Loss: 0.5209, Val Accuracy: 0.8637\n"
     ]
    },
    {
     "name": "stderr",
     "output_type": "stream",
     "text": [
      "Epoch 28/50: 100%|██████████| 104/104 [00:25<00:00,  4.05it/s, Loss=0.033, Accuracy=0.989] \n"
     ]
    },
    {
     "name": "stdout",
     "output_type": "stream",
     "text": [
      "Epoch [28/50], Train Loss: 0.0327, Train Accuracy: 0.9891, Val Loss: 0.3961, Val Accuracy: 0.8970\n"
     ]
    },
    {
     "name": "stderr",
     "output_type": "stream",
     "text": [
      "Epoch 29/50: 100%|██████████| 104/104 [00:25<00:00,  4.09it/s, Loss=0.0157, Accuracy=0.995]\n"
     ]
    },
    {
     "name": "stdout",
     "output_type": "stream",
     "text": [
      "Epoch [29/50], Train Loss: 0.0156, Train Accuracy: 0.9952, Val Loss: 0.3428, Val Accuracy: 0.9073\n"
     ]
    },
    {
     "name": "stderr",
     "output_type": "stream",
     "text": [
      "Epoch 30/50: 100%|██████████| 104/104 [00:25<00:00,  4.09it/s, Loss=0.0125, Accuracy=0.996]\n"
     ]
    },
    {
     "name": "stdout",
     "output_type": "stream",
     "text": [
      "Epoch [30/50], Train Loss: 0.0124, Train Accuracy: 0.9962, Val Loss: 0.3701, Val Accuracy: 0.9067\n"
     ]
    },
    {
     "name": "stderr",
     "output_type": "stream",
     "text": [
      "Epoch 31/50: 100%|██████████| 104/104 [00:26<00:00,  3.92it/s, Loss=0.0265, Accuracy=0.991]\n"
     ]
    },
    {
     "name": "stdout",
     "output_type": "stream",
     "text": [
      "Epoch [31/50], Train Loss: 0.0263, Train Accuracy: 0.9914, Val Loss: 0.4281, Val Accuracy: 0.9043\n"
     ]
    },
    {
     "name": "stderr",
     "output_type": "stream",
     "text": [
      "Epoch 32/50: 100%|██████████| 104/104 [00:25<00:00,  4.15it/s, Loss=0.0646, Accuracy=0.979]\n"
     ]
    },
    {
     "name": "stdout",
     "output_type": "stream",
     "text": [
      "Epoch [32/50], Train Loss: 0.0641, Train Accuracy: 0.9787, Val Loss: 0.6551, Val Accuracy: 0.8498\n"
     ]
    },
    {
     "name": "stderr",
     "output_type": "stream",
     "text": [
      "Epoch 33/50: 100%|██████████| 104/104 [00:26<00:00,  3.92it/s, Loss=0.097, Accuracy=0.971] \n"
     ]
    },
    {
     "name": "stdout",
     "output_type": "stream",
     "text": [
      "Epoch [33/50], Train Loss: 0.0962, Train Accuracy: 0.9705, Val Loss: 0.4528, Val Accuracy: 0.8764\n"
     ]
    },
    {
     "name": "stderr",
     "output_type": "stream",
     "text": [
      "Epoch 34/50: 100%|██████████| 104/104 [00:24<00:00,  4.19it/s, Loss=0.0606, Accuracy=0.979]\n"
     ]
    },
    {
     "name": "stdout",
     "output_type": "stream",
     "text": [
      "Epoch [34/50], Train Loss: 0.0602, Train Accuracy: 0.9791, Val Loss: 0.3618, Val Accuracy: 0.9019\n"
     ]
    },
    {
     "name": "stderr",
     "output_type": "stream",
     "text": [
      "Epoch 35/50: 100%|██████████| 104/104 [00:27<00:00,  3.80it/s, Loss=0.024, Accuracy=0.993] \n"
     ]
    },
    {
     "name": "stdout",
     "output_type": "stream",
     "text": [
      "Epoch [35/50], Train Loss: 0.0238, Train Accuracy: 0.9926, Val Loss: 0.4401, Val Accuracy: 0.8958\n"
     ]
    },
    {
     "name": "stderr",
     "output_type": "stream",
     "text": [
      "Epoch 36/50: 100%|██████████| 104/104 [00:26<00:00,  3.92it/s, Loss=0.021, Accuracy=0.993] \n"
     ]
    },
    {
     "name": "stdout",
     "output_type": "stream",
     "text": [
      "Epoch [36/50], Train Loss: 0.0209, Train Accuracy: 0.9925, Val Loss: 0.4378, Val Accuracy: 0.9031\n"
     ]
    },
    {
     "name": "stderr",
     "output_type": "stream",
     "text": [
      "Epoch 37/50: 100%|██████████| 104/104 [00:27<00:00,  3.83it/s, Loss=0.0171, Accuracy=0.995]\n"
     ]
    },
    {
     "name": "stdout",
     "output_type": "stream",
     "text": [
      "Epoch [37/50], Train Loss: 0.0170, Train Accuracy: 0.9949, Val Loss: 0.4544, Val Accuracy: 0.8976\n"
     ]
    },
    {
     "name": "stderr",
     "output_type": "stream",
     "text": [
      "Epoch 38/50: 100%|██████████| 104/104 [00:25<00:00,  4.05it/s, Loss=0.0282, Accuracy=0.992]\n"
     ]
    },
    {
     "name": "stdout",
     "output_type": "stream",
     "text": [
      "Epoch [38/50], Train Loss: 0.0280, Train Accuracy: 0.9917, Val Loss: 0.3997, Val Accuracy: 0.9049\n"
     ]
    },
    {
     "name": "stderr",
     "output_type": "stream",
     "text": [
      "Epoch 39/50: 100%|██████████| 104/104 [00:25<00:00,  4.08it/s, Loss=0.0237, Accuracy=0.992]\n"
     ]
    },
    {
     "name": "stdout",
     "output_type": "stream",
     "text": [
      "Epoch [39/50], Train Loss: 0.0236, Train Accuracy: 0.9924, Val Loss: 0.3482, Val Accuracy: 0.9134\n"
     ]
    },
    {
     "name": "stderr",
     "output_type": "stream",
     "text": [
      "Epoch 40/50: 100%|██████████| 104/104 [00:24<00:00,  4.18it/s, Loss=0.0158, Accuracy=0.996]\n"
     ]
    },
    {
     "name": "stdout",
     "output_type": "stream",
     "text": [
      "Epoch [40/50], Train Loss: 0.0157, Train Accuracy: 0.9964, Val Loss: 0.3856, Val Accuracy: 0.9061\n"
     ]
    },
    {
     "name": "stderr",
     "output_type": "stream",
     "text": [
      "Epoch 41/50: 100%|██████████| 104/104 [00:25<00:00,  4.14it/s, Loss=0.0472, Accuracy=0.985]\n"
     ]
    },
    {
     "name": "stdout",
     "output_type": "stream",
     "text": [
      "Epoch [41/50], Train Loss: 0.0468, Train Accuracy: 0.9846, Val Loss: 0.6102, Val Accuracy: 0.8795\n"
     ]
    },
    {
     "name": "stderr",
     "output_type": "stream",
     "text": [
      "Epoch 42/50: 100%|██████████| 104/104 [00:25<00:00,  4.08it/s, Loss=0.0376, Accuracy=0.988]\n"
     ]
    },
    {
     "name": "stdout",
     "output_type": "stream",
     "text": [
      "Epoch [42/50], Train Loss: 0.0373, Train Accuracy: 0.9875, Val Loss: 0.4027, Val Accuracy: 0.9037\n"
     ]
    },
    {
     "name": "stderr",
     "output_type": "stream",
     "text": [
      "Epoch 43/50: 100%|██████████| 104/104 [00:25<00:00,  4.07it/s, Loss=0.0303, Accuracy=0.99]\n"
     ]
    },
    {
     "name": "stdout",
     "output_type": "stream",
     "text": [
      "Epoch [43/50], Train Loss: 0.0301, Train Accuracy: 0.9900, Val Loss: 0.3859, Val Accuracy: 0.9122\n"
     ]
    },
    {
     "name": "stderr",
     "output_type": "stream",
     "text": [
      "Epoch 44/50: 100%|██████████| 104/104 [00:24<00:00,  4.21it/s, Loss=0.0618, Accuracy=0.981]\n"
     ]
    },
    {
     "name": "stdout",
     "output_type": "stream",
     "text": [
      "Epoch [44/50], Train Loss: 0.0613, Train Accuracy: 0.9810, Val Loss: 0.4187, Val Accuracy: 0.9104\n"
     ]
    },
    {
     "name": "stderr",
     "output_type": "stream",
     "text": [
      "Epoch 45/50: 100%|██████████| 104/104 [00:26<00:00,  3.93it/s, Loss=0.0381, Accuracy=0.988]\n"
     ]
    },
    {
     "name": "stdout",
     "output_type": "stream",
     "text": [
      "Epoch [45/50], Train Loss: 0.0378, Train Accuracy: 0.9876, Val Loss: 0.3461, Val Accuracy: 0.9200\n"
     ]
    },
    {
     "name": "stderr",
     "output_type": "stream",
     "text": [
      "Epoch 46/50: 100%|██████████| 104/104 [00:24<00:00,  4.17it/s, Loss=0.0254, Accuracy=0.992]\n"
     ]
    },
    {
     "name": "stdout",
     "output_type": "stream",
     "text": [
      "Epoch [46/50], Train Loss: 0.0252, Train Accuracy: 0.9920, Val Loss: 0.3627, Val Accuracy: 0.9152\n"
     ]
    },
    {
     "name": "stderr",
     "output_type": "stream",
     "text": [
      "Epoch 47/50: 100%|██████████| 104/104 [00:26<00:00,  3.91it/s, Loss=0.0243, Accuracy=0.994]\n"
     ]
    },
    {
     "name": "stdout",
     "output_type": "stream",
     "text": [
      "Epoch [47/50], Train Loss: 0.0241, Train Accuracy: 0.9945, Val Loss: 0.4669, Val Accuracy: 0.9025\n"
     ]
    },
    {
     "name": "stderr",
     "output_type": "stream",
     "text": [
      "Epoch 48/50: 100%|██████████| 104/104 [00:25<00:00,  4.02it/s, Loss=0.0526, Accuracy=0.984]\n"
     ]
    },
    {
     "name": "stdout",
     "output_type": "stream",
     "text": [
      "Epoch [48/50], Train Loss: 0.0522, Train Accuracy: 0.9836, Val Loss: 0.3451, Val Accuracy: 0.9207\n"
     ]
    },
    {
     "name": "stderr",
     "output_type": "stream",
     "text": [
      "Epoch 49/50: 100%|██████████| 104/104 [00:25<00:00,  4.01it/s, Loss=0.0624, Accuracy=0.98]\n"
     ]
    },
    {
     "name": "stdout",
     "output_type": "stream",
     "text": [
      "Epoch [49/50], Train Loss: 0.0619, Train Accuracy: 0.9804, Val Loss: 0.4614, Val Accuracy: 0.8952\n"
     ]
    },
    {
     "name": "stderr",
     "output_type": "stream",
     "text": [
      "Epoch 50/50: 100%|██████████| 104/104 [00:27<00:00,  3.84it/s, Loss=0.0152, Accuracy=0.995]\n"
     ]
    },
    {
     "name": "stdout",
     "output_type": "stream",
     "text": [
      "Epoch [50/50], Train Loss: 0.0151, Train Accuracy: 0.9955, Val Loss: 0.3174, Val Accuracy: 0.9225\n",
      "Test Loss: 0.3451, Test Accuracy: 0.9243\n"
     ]
    },
    {
     "data": {
      "image/png": "[encoded data removed]",
      "text/plain": [
       "<Figure size 1200x400 with 2 Axes>"
      ]
     },
     "metadata": {},
     "output_type": "display_data"
    }
   ],
   "source": [
    "import torch\n",
    "import torch.nn as nn\n",
    "import torch.optim as optim\n",
    "from torch.utils.data import DataLoader, Dataset\n",
    "from torchvision import transforms\n",
    "from tqdm import tqdm\n",
    "import pandas as pd\n",
    "from PIL import Image\n",
    "import os\n",
    "from sklearn.model_selection import train_test_split\n",
    "import matplotlib.pyplot as plt\n",
    "\n",
    "# Check if GPU is available and set device\n",
    "device = torch.device(\"cuda\" if torch.cuda.is_available() else \"cpu\")\n",
    "\n",
    "# Define data transforms with 64x64 image size\n",
    "transform = transforms.Compose([\n",
    "    transforms.Resize((64, 64)),  # Resize to 64x64\n",
    "    transforms.ToTensor(),\n",
    "    transforms.Normalize(mean=[0.485, 0.456, 0.406], std=[0.229, 0.224, 0.225])\n",
    "])\n",
    "\n",
    "# Define the directory path\n",
    "data_dir = r\"C:\\Users\\user\\Desktop\\plant\\boc\"\n",
    "\n",
    "# Load one CSV file\n",
    "csv_file = 'fold_3_train.csv'\n",
    "\n",
    "# Define a custom dataset class for CSV loading\n",
    "class CustomDataset(Dataset):\n",
    "    def __init__(self, csv_file, root_dir, transform=None):\n",
    "        self.data = pd.read_csv(csv_file)\n",
    "        self.root_dir = root_dir\n",
    "        self.transform = transform\n",
    "\n",
    "    def __len__(self):\n",
    "        return len(self.data)\n",
    "\n",
    "    def __getitem__(self, idx):\n",
    "        try:\n",
    "            img_name = os.path.join(self.root_dir, str(self.data.iloc[idx, 0]))  # Access image_path using index 0\n",
    "            image = Image.open(img_name).convert('RGB')  # Ensure images are in RGB mode\n",
    "            label = self.data.iloc[idx, 1]  # Access class_label using index 1\n",
    "        except Exception as e:\n",
    "            print(f\"Error accessing image at index {idx}: {e}\")\n",
    "            return None\n",
    "\n",
    "        if self.transform:\n",
    "            image = self.transform(image)\n",
    "\n",
    "        return image, label\n",
    "\n",
    "# Load the dataset using CustomDataset\n",
    "dataset = CustomDataset(csv_file=os.path.join(data_dir, csv_file), root_dir=data_dir, transform=transform)\n",
    "\n",
    "# Split dataset into train, validation, and test sets\n",
    "train_size = 0.8\n",
    "val_size = 0.1\n",
    "test_size = 1 - train_size - val_size\n",
    "\n",
    "train_dataset, temp_dataset = train_test_split(dataset, test_size=1 - train_size, random_state=42)\n",
    "val_dataset, test_dataset = train_test_split(temp_dataset, test_size=test_size / (val_size + test_size), random_state=42)\n",
    "\n",
    "# Create data loaders for each set\n",
    "batch_size = 128\n",
    "train_loader = DataLoader(train_dataset, batch_size=batch_size, shuffle=True, num_workers=4, pin_memory=True)\n",
    "val_loader = DataLoader(val_dataset, batch_size=batch_size, shuffle=False, num_workers=4, pin_memory=True)\n",
    "test_loader = DataLoader(test_dataset, batch_size=batch_size, shuffle=False, num_workers=4, pin_memory=True)\n",
    "\n",
    "\n",
    "\n",
    "# Print class names (assuming it's available in the dataset)\n",
    "print(\"Class Names:\", pd.Series([data[1] for data in train_dataset]).unique())\n",
    "##\n",
    "### Define the model architecture\n",
    "##class AlexNet(nn.Module):\n",
    "##    def __init__(self, num_classes=15):\n",
    "##        super(AlexNet, self).__init__()\n",
    "##        self.features = nn.Sequential(\n",
    "##            nn.Conv2d(3, 64, kernel_size=11, stride=4, padding=2),\n",
    "##            nn.ReLU(inplace=True),\n",
    "##            nn.MaxPool2d(kernel_size=3, stride=2),\n",
    "##            nn.Conv2d(64, 192, kernel_size=5, padding=2),\n",
    "##            nn.ReLU(inplace=True),\n",
    "##            nn.MaxPool2d(kernel_size=3, stride=2),\n",
    "##            nn.Conv2d(192, 384, kernel_size=3, padding=1),\n",
    "##            nn.ReLU(inplace=True),\n",
    "##            nn.Conv2d(384, 256, kernel_size=3, padding=1),\n",
    "##            nn.ReLU(inplace=True),\n",
    "##            nn.Conv2d(256, 256, kernel_size=3, padding=1),\n",
    "##            nn.ReLU(inplace=True),\n",
    "##            nn.MaxPool2d(kernel_size=3, stride=2),\n",
    "##        )\n",
    "##        self.avgpool = nn.AdaptiveAvgPool2d((6, 6))\n",
    "##        self.classifier = nn.Sequential(\n",
    "##            nn.Dropout(),\n",
    "##            nn.Linear(256 * 6 * 6, 4096),\n",
    "##            nn.ReLU(inplace=True),\n",
    "##            nn.Dropout(),\n",
    "##            nn.Linear(4096, 4096),\n",
    "##            nn.ReLU(inplace=True),\n",
    "##            nn.Linear(4096, num_classes),\n",
    "##        )\n",
    "##\n",
    "##    def forward(self, x):\n",
    "##        x = self.features(x)\n",
    "##        x = self.avgpool(x)\n",
    "##        x = torch.flatten(x, 1)\n",
    "##        x = self.classifier(x)\n",
    "##        return x\n",
    "##\n",
    "# Instantiate the model\n",
    "##model = AlexNet(num_classes=15).to(device)\n",
    "\n",
    "# Define custom modules and model\n",
    "class Swish(nn.Module):\n",
    "    def forward(self, x):\n",
    "        return x * torch.sigmoid(x)\n",
    "\n",
    "class SEBlock(nn.Module):\n",
    "    def __init__(self, in_channels, reduction=4):\n",
    "        super(SEBlock, self).__init__()\n",
    "        self.fc1 = nn.Conv2d(in_channels, in_channels // reduction, kernel_size=1)\n",
    "        self.fc2 = nn.Conv2d(in_channels // reduction, in_channels, kernel_size=1)\n",
    "    \n",
    "    def forward(self, x):\n",
    "        scale = torch.mean(x, (2, 3), keepdim=True)\n",
    "        scale = nn.functional.relu(self.fc1(scale))\n",
    "        scale = torch.sigmoid(self.fc2(scale))\n",
    "        return x * scale\n",
    "\n",
    "class GhostModule(nn.Module):\n",
    "    def __init__(self, in_channels, out_channels, ratio=2, kernel_size=1, dw_kernel_size=3, stride=1, relu=True):\n",
    "        super(GhostModule, self).__init__()\n",
    "        self.out_channels = out_channels\n",
    "        self.init_channels = int(out_channels / ratio)\n",
    "        self.new_channels = self.init_channels * (ratio - 1)\n",
    "        \n",
    "        self.primary_conv = nn.Sequential(\n",
    "            nn.Conv2d(in_channels, self.init_channels, kernel_size, stride, kernel_size//2, bias=False),\n",
    "            nn.BatchNorm2d(self.init_channels),\n",
    "            nn.ReLU(inplace=True) if relu else nn.Sequential()\n",
    "        )\n",
    "        \n",
    "        self.cheap_operation = nn.Sequential(\n",
    "            nn.Conv2d(self.init_channels, self.new_channels, dw_kernel_size, 1, dw_kernel_size//2, groups=self.init_channels, bias=False),\n",
    "            nn.BatchNorm2d(self.new_channels),\n",
    "            nn.ReLU(inplace=True) if relu else nn.Sequential()\n",
    "        )\n",
    "    \n",
    "    def forward(self, x):\n",
    "        x1 = self.primary_conv(x)\n",
    "        x2 = self.cheap_operation(x1)\n",
    "        out = torch.cat([x1, x2], dim=1)\n",
    "        return out[:, :self.out_channels, :, :]\n",
    "\n",
    "class GhostBottleneck(nn.Module):\n",
    "    def __init__(self, in_channels, mid_channels, out_channels, dw_kernel_size=3, stride=1, use_se=False):\n",
    "        super(GhostBottleneck, self).__init__()\n",
    "        self.stride = stride\n",
    "        self.use_se = use_se\n",
    "\n",
    "        self.ghost1 = GhostModule(in_channels, mid_channels, relu=True)\n",
    "        self.depthwise = nn.Sequential(\n",
    "            nn.Conv2d(mid_channels, mid_channels, dw_kernel_size, stride=stride, padding=dw_kernel_size//2, groups=mid_channels, bias=False),\n",
    "            nn.BatchNorm2d(mid_channels)\n",
    "        ) if stride == 2 else nn.Sequential()\n",
    "\n",
    "        self.ghost2 = GhostModule(mid_channels, out_channels, relu=False)\n",
    "\n",
    "        self.shortcut = nn.Sequential(\n",
    "            nn.Conv2d(in_channels, in_channels, dw_kernel_size, stride=stride, padding=dw_kernel_size//2, groups=in_channels, bias=False),\n",
    "            nn.BatchNorm2d(in_channels),\n",
    "            nn.Conv2d(in_channels, out_channels, kernel_size=1, stride=1, padding=0, bias=False),\n",
    "            nn.BatchNorm2d(out_channels)\n",
    "        ) if stride == 2 or in_channels != out_channels else nn.Sequential()\n",
    "        \n",
    "        self.se = SEBlock(mid_channels) if self.use_se else nn.Sequential()\n",
    "\n",
    "    def forward(self, x):\n",
    "        residual = self.shortcut(x)\n",
    "        x = self.ghost1(x)\n",
    "        x = self.depthwise(x)\n",
    "        x = self.se(x)\n",
    "        x = self.ghost2(x)\n",
    "        x += residual\n",
    "        return x\n",
    "\n",
    "class GhostNetCustom(nn.Module):\n",
    "    def __init__(self, num_classes=15):\n",
    "        super(GhostNetCustom, self).__init__()\n",
    "        self.conv_stem = nn.Conv2d(3, 16, kernel_size=3, stride=2, padding=1, bias=False)\n",
    "        self.bn1 = nn.BatchNorm2d(16)\n",
    "        self.relu = nn.ReLU(inplace=True)\n",
    "        \n",
    "        self.blocks = nn.Sequential(\n",
    "            GhostBottleneck(16, 16, 16, stride=1),\n",
    "            GhostBottleneck(16, 48, 24, stride=2),\n",
    "            GhostBottleneck(24, 72, 24, stride=1),\n",
    "            GhostBottleneck(24, 72, 40, stride=2, use_se=True),\n",
    "            GhostBottleneck(40, 120, 40, stride=1, use_se=True),\n",
    "            GhostBottleneck(40, 240, 80, stride=2),\n",
    "            GhostBottleneck(80, 200, 80, stride=1),\n",
    "            GhostBottleneck(80, 184, 80, stride=1),\n",
    "            GhostBottleneck(80, 480, 112, stride=1, use_se=True),\n",
    "            GhostBottleneck(112, 672, 160, stride=2, use_se=True),\n",
    "            GhostBottleneck(160, 960, 160, stride=1, use_se=True)\n",
    "        )\n",
    "        \n",
    "        self.conv_head = nn.Conv2d(160, 960, kernel_size=1, bias=False)\n",
    "        self.bn2 = nn.BatchNorm2d(960)\n",
    "        self.pool = nn.AdaptiveAvgPool2d(1)\n",
    "        self.fc = nn.Linear(960, num_classes)\n",
    "    \n",
    "    def forward(self, x):\n",
    "        x = self.relu(self.bn1(self.conv_stem(x)))\n",
    "        x = self.blocks(x)\n",
    "        x = self.relu(self.bn2(self.conv_head(x)))\n",
    "        x = self.pool(x)\n",
    "        x = x.view(x.size(0), -1)\n",
    "        x = self.fc(x)\n",
    "        return x\n",
    "\n",
    "# Print the model architecture\n",
    "\n",
    "model = GhostNetCustom(num_classes=15).to(device)\n",
    "\n",
    "# Function to evaluate the model\n",
    "def evaluate_model(model, data_loader, criterion, device):\n",
    "    model.eval()\n",
    "    loss = 0.0\n",
    "    correct = 0\n",
    "    total = 0\n",
    "    with torch.no_grad():\n",
    "        for images, labels in data_loader:\n",
    "            images, labels = images.to(device), labels.to(device)\n",
    "            outputs = model(images)\n",
    "            loss += criterion(outputs, labels).item()\n",
    "            _, predicted = torch.max(outputs.data, 1)\n",
    "            total += labels.size(0)\n",
    "            correct += (predicted == labels).sum().item()\n",
    "    \n",
    "    avg_loss = loss / len(data_loader)\n",
    "    accuracy = correct / total\n",
    "    return avg_loss, accuracy\n",
    "\n",
    "# Function to train the model\n",
    "def train_model(model, train_loader, val_loader, criterion, optimizer, num_epochs, device):\n",
    "    train_losses = []\n",
    "    val_losses = []\n",
    "    train_accuracies = []\n",
    "    val_accuracies = []\n",
    "    \n",
    "    for epoch in range(num_epochs):\n",
    "        model.train()\n",
    "        running_loss = 0.0\n",
    "        correct_train = 0\n",
    "        total_train = 0\n",
    "        \n",
    "        # Use tqdm for progress display\n",
    "        progress_bar = tqdm(train_loader, desc=f'Epoch {epoch+1}/{num_epochs}')\n",
    "        \n",
    "        for images, labels in progress_bar:\n",
    "            images, labels = images.to(device), labels.to(device)\n",
    "            \n",
    "            optimizer.zero_grad()\n",
    "            outputs = model(images)\n",
    "            loss = criterion(outputs, labels)\n",
    "            loss.backward()\n",
    "            optimizer.step()\n",
    "            \n",
    "            running_loss += loss.item()\n",
    "            _, predicted = torch.max(outputs.data, 1)\n",
    "            total_train += labels.size(0)\n",
    "            correct_train += (predicted == labels).sum().item()\n",
    "            \n",
    "            progress_bar.set_postfix({'Loss': running_loss / (total_train / batch_size), 'Accuracy': correct_train / total_train})\n",
    "        \n",
    "        avg_train_loss = running_loss / len(train_loader)\n",
    "        train_accuracy = correct_train / total_train\n",
    "        \n",
    "        val_loss, val_accuracy = evaluate_model(model, val_loader, criterion, device)\n",
    "        \n",
    "        train_losses.append(avg_train_loss)\n",
    "        val_losses.append(val_loss)\n",
    "        train_accuracies.append(train_accuracy)\n",
    "        val_accuracies.append(val_accuracy)\n",
    "        \n",
    "        print(f'Epoch [{epoch+1}/{num_epochs}], Train Loss: {avg_train_loss:.4f}, Train Accuracy: {train_accuracy:.4f}, Val Loss: {val_loss:.4f}, Val Accuracy: {val_accuracy:.4f}')\n",
    "    \n",
    "    return train_losses, val_losses, train_accuracies, val_accuracies\n",
    "\n",
    "# Set hyperparameters\n",
    "num_epochs = 50\n",
    "learning_rate = 1e-3\n",
    "\n",
    "# Define criterion and optimizer\n",
    "criterion = nn.CrossEntropyLoss()\n",
    "optimizer = optim.Adam(model.parameters(), lr=learning_rate)\n",
    "\n",
    "# Train the model\n",
    "train_losses, val_losses, train_accuracies, val_accuracies = train_model(model, train_loader, val_loader, criterion, optimizer, num_epochs, device)\n",
    "\n",
    "# Evaluate on test set\n",
    "test_loss, test_accuracy = evaluate_model(model, test_loader, criterion, device)\n",
    "print(f'Test Loss: {test_loss:.4f}, Test Accuracy: {test_accuracy:.4f}')\n",
    "\n",
    "# Plotting training and validation curves\n",
    "plt.figure(figsize=(12, 4))\n",
    "plt.subplot(1, 2, 1)\n",
    "plt.plot(train_losses, label='Train Loss')\n",
    "plt.plot(val_losses, label='Val Loss')\n",
    "plt.xlabel('Epoch')\n",
    "plt.ylabel('Loss')\n",
    "plt.title('Training and Validation Losses')\n",
    "plt.legend()\n",
    "\n",
    "plt.subplot(1, 2, 2)\n",
    "plt.plot(train_accuracies, label='Train Accuracy')\n",
    "plt.plot(val_accuracies, label='Val Accuracy')\n",
    "plt.xlabel('Epoch')\n",
    "plt.ylabel('Accuracy')\n",
    "plt.title('Training and Validation Accuracies')\n",
    "plt.legend()\n",
    "\n",
    "plt.tight_layout()\n",
    "plt.show()\n"
   ]
  },
  {
   "cell_type": "code",
   "execution_count": 6,
   "metadata": {},
   "outputs": [
    {
     "name": "stdout",
     "output_type": "stream",
     "text": [
      "Class Names: [12  6 14  5  7  0 13  2 11  9  8  1 10  4  3]\n"
     ]
    },
    {
     "name": "stderr",
     "output_type": "stream",
     "text": [
      "Epoch 1/50: 100%|██████████| 104/104 [00:27<00:00,  3.80it/s, Loss=1.25, Accuracy=0.583]\n"
     ]
    },
    {
     "name": "stdout",
     "output_type": "stream",
     "text": [
      "Epoch [1/50], Train Loss: 1.2449, Train Accuracy: 0.5831, Val Loss: 0.7730, Val Accuracy: 0.7414\n"
     ]
    },
    {
     "name": "stderr",
     "output_type": "stream",
     "text": [
      "Epoch 2/50: 100%|██████████| 104/104 [00:20<00:00,  5.06it/s, Loss=0.524, Accuracy=0.821]\n"
     ]
    },
    {
     "name": "stdout",
     "output_type": "stream",
     "text": [
      "Epoch [2/50], Train Loss: 0.5200, Train Accuracy: 0.8215, Val Loss: 0.5168, Val Accuracy: 0.8189\n"
     ]
    },
    {
     "name": "stderr",
     "output_type": "stream",
     "text": [
      "Epoch 3/50: 100%|██████████| 104/104 [00:21<00:00,  4.93it/s, Loss=0.34, Accuracy=0.887] \n"
     ]
    },
    {
     "name": "stdout",
     "output_type": "stream",
     "text": [
      "Epoch [3/50], Train Loss: 0.3376, Train Accuracy: 0.8875, Val Loss: 0.5621, Val Accuracy: 0.8189\n"
     ]
    },
    {
     "name": "stderr",
     "output_type": "stream",
     "text": [
      "Epoch 4/50: 100%|██████████| 104/104 [00:21<00:00,  4.93it/s, Loss=0.239, Accuracy=0.92] \n"
     ]
    },
    {
     "name": "stdout",
     "output_type": "stream",
     "text": [
      "Epoch [4/50], Train Loss: 0.2376, Train Accuracy: 0.9202, Val Loss: 0.4770, Val Accuracy: 0.8449\n"
     ]
    },
    {
     "name": "stderr",
     "output_type": "stream",
     "text": [
      "Epoch 5/50: 100%|██████████| 104/104 [00:21<00:00,  4.94it/s, Loss=0.163, Accuracy=0.944]\n"
     ]
    },
    {
     "name": "stdout",
     "output_type": "stream",
     "text": [
      "Epoch [5/50], Train Loss: 0.1620, Train Accuracy: 0.9436, Val Loss: 0.4516, Val Accuracy: 0.8577\n"
     ]
    },
    {
     "name": "stderr",
     "output_type": "stream",
     "text": [
      "Epoch 6/50: 100%|██████████| 104/104 [00:20<00:00,  5.18it/s, Loss=0.123, Accuracy=0.959]\n"
     ]
    },
    {
     "name": "stdout",
     "output_type": "stream",
     "text": [
      "Epoch [6/50], Train Loss: 0.1216, Train Accuracy: 0.9586, Val Loss: 0.4965, Val Accuracy: 0.8571\n"
     ]
    },
    {
     "name": "stderr",
     "output_type": "stream",
     "text": [
      "Epoch 7/50: 100%|██████████| 104/104 [00:21<00:00,  4.79it/s, Loss=0.15, Accuracy=0.95] \n"
     ]
    },
    {
     "name": "stdout",
     "output_type": "stream",
     "text": [
      "Epoch [7/50], Train Loss: 0.1485, Train Accuracy: 0.9501, Val Loss: 0.4622, Val Accuracy: 0.8552\n"
     ]
    },
    {
     "name": "stderr",
     "output_type": "stream",
     "text": [
      "Epoch 8/50: 100%|██████████| 104/104 [00:23<00:00,  4.49it/s, Loss=0.108, Accuracy=0.964]\n"
     ]
    },
    {
     "name": "stdout",
     "output_type": "stream",
     "text": [
      "Epoch [8/50], Train Loss: 0.1070, Train Accuracy: 0.9639, Val Loss: 0.6117, Val Accuracy: 0.8340\n"
     ]
    },
    {
     "name": "stderr",
     "output_type": "stream",
     "text": [
      "Epoch 9/50: 100%|██████████| 104/104 [00:27<00:00,  3.79it/s, Loss=0.0765, Accuracy=0.976]\n"
     ]
    },
    {
     "name": "stdout",
     "output_type": "stream",
     "text": [
      "Epoch [9/50], Train Loss: 0.0759, Train Accuracy: 0.9762, Val Loss: 0.6057, Val Accuracy: 0.8455\n"
     ]
    },
    {
     "name": "stderr",
     "output_type": "stream",
     "text": [
      "Epoch 10/50: 100%|██████████| 104/104 [00:24<00:00,  4.23it/s, Loss=0.0845, Accuracy=0.972]\n"
     ]
    },
    {
     "name": "stdout",
     "output_type": "stream",
     "text": [
      "Epoch [10/50], Train Loss: 0.0838, Train Accuracy: 0.9721, Val Loss: 0.4822, Val Accuracy: 0.8643\n"
     ]
    },
    {
     "name": "stderr",
     "output_type": "stream",
     "text": [
      "Epoch 11/50: 100%|██████████| 104/104 [00:24<00:00,  4.32it/s, Loss=0.091, Accuracy=0.97] \n"
     ]
    },
    {
     "name": "stdout",
     "output_type": "stream",
     "text": [
      "Epoch [11/50], Train Loss: 0.0903, Train Accuracy: 0.9699, Val Loss: 0.3747, Val Accuracy: 0.8922\n"
     ]
    },
    {
     "name": "stderr",
     "output_type": "stream",
     "text": [
      "Epoch 12/50: 100%|██████████| 104/104 [00:25<00:00,  4.15it/s, Loss=0.0722, Accuracy=0.975]\n"
     ]
    },
    {
     "name": "stdout",
     "output_type": "stream",
     "text": [
      "Epoch [12/50], Train Loss: 0.0716, Train Accuracy: 0.9752, Val Loss: 0.3704, Val Accuracy: 0.8982\n"
     ]
    },
    {
     "name": "stderr",
     "output_type": "stream",
     "text": [
      "Epoch 13/50: 100%|██████████| 104/104 [00:25<00:00,  4.02it/s, Loss=0.0572, Accuracy=0.98] \n"
     ]
    },
    {
     "name": "stdout",
     "output_type": "stream",
     "text": [
      "Epoch [13/50], Train Loss: 0.0568, Train Accuracy: 0.9805, Val Loss: 0.4972, Val Accuracy: 0.8704\n"
     ]
    },
    {
     "name": "stderr",
     "output_type": "stream",
     "text": [
      "Epoch 14/50: 100%|██████████| 104/104 [00:24<00:00,  4.19it/s, Loss=0.0565, Accuracy=0.981]\n"
     ]
    },
    {
     "name": "stdout",
     "output_type": "stream",
     "text": [
      "Epoch [14/50], Train Loss: 0.0560, Train Accuracy: 0.9806, Val Loss: 0.4106, Val Accuracy: 0.9001\n"
     ]
    },
    {
     "name": "stderr",
     "output_type": "stream",
     "text": [
      "Epoch 15/50: 100%|██████████| 104/104 [00:24<00:00,  4.19it/s, Loss=0.0424, Accuracy=0.987]\n"
     ]
    },
    {
     "name": "stdout",
     "output_type": "stream",
     "text": [
      "Epoch [15/50], Train Loss: 0.0421, Train Accuracy: 0.9870, Val Loss: 0.4485, Val Accuracy: 0.8922\n"
     ]
    },
    {
     "name": "stderr",
     "output_type": "stream",
     "text": [
      "Epoch 16/50: 100%|██████████| 104/104 [00:24<00:00,  4.17it/s, Loss=0.0835, Accuracy=0.974]\n"
     ]
    },
    {
     "name": "stdout",
     "output_type": "stream",
     "text": [
      "Epoch [16/50], Train Loss: 0.0829, Train Accuracy: 0.9740, Val Loss: 0.4765, Val Accuracy: 0.8783\n"
     ]
    },
    {
     "name": "stderr",
     "output_type": "stream",
     "text": [
      "Epoch 17/50: 100%|██████████| 104/104 [00:27<00:00,  3.83it/s, Loss=0.0496, Accuracy=0.984]\n"
     ]
    },
    {
     "name": "stdout",
     "output_type": "stream",
     "text": [
      "Epoch [17/50], Train Loss: 0.0493, Train Accuracy: 0.9839, Val Loss: 0.3827, Val Accuracy: 0.8946\n"
     ]
    },
    {
     "name": "stderr",
     "output_type": "stream",
     "text": [
      "Epoch 18/50: 100%|██████████| 104/104 [00:25<00:00,  4.04it/s, Loss=0.0545, Accuracy=0.982]\n"
     ]
    },
    {
     "name": "stdout",
     "output_type": "stream",
     "text": [
      "Epoch [18/50], Train Loss: 0.0541, Train Accuracy: 0.9823, Val Loss: 0.4277, Val Accuracy: 0.8940\n"
     ]
    },
    {
     "name": "stderr",
     "output_type": "stream",
     "text": [
      "Epoch 19/50: 100%|██████████| 104/104 [00:24<00:00,  4.19it/s, Loss=0.0223, Accuracy=0.993]\n"
     ]
    },
    {
     "name": "stdout",
     "output_type": "stream",
     "text": [
      "Epoch [19/50], Train Loss: 0.0221, Train Accuracy: 0.9926, Val Loss: 0.4183, Val Accuracy: 0.8928\n"
     ]
    },
    {
     "name": "stderr",
     "output_type": "stream",
     "text": [
      "Epoch 20/50: 100%|██████████| 104/104 [00:25<00:00,  4.13it/s, Loss=0.0252, Accuracy=0.992]\n"
     ]
    },
    {
     "name": "stdout",
     "output_type": "stream",
     "text": [
      "Epoch [20/50], Train Loss: 0.0250, Train Accuracy: 0.9923, Val Loss: 0.4658, Val Accuracy: 0.8946\n"
     ]
    },
    {
     "name": "stderr",
     "output_type": "stream",
     "text": [
      "Epoch 21/50: 100%|██████████| 104/104 [00:24<00:00,  4.21it/s, Loss=0.0211, Accuracy=0.993]\n"
     ]
    },
    {
     "name": "stdout",
     "output_type": "stream",
     "text": [
      "Epoch [21/50], Train Loss: 0.0209, Train Accuracy: 0.9929, Val Loss: 0.6037, Val Accuracy: 0.8631\n"
     ]
    },
    {
     "name": "stderr",
     "output_type": "stream",
     "text": [
      "Epoch 22/50: 100%|██████████| 104/104 [00:25<00:00,  4.02it/s, Loss=0.0327, Accuracy=0.99] \n"
     ]
    },
    {
     "name": "stdout",
     "output_type": "stream",
     "text": [
      "Epoch [22/50], Train Loss: 0.0325, Train Accuracy: 0.9904, Val Loss: 0.5141, Val Accuracy: 0.8752\n"
     ]
    },
    {
     "name": "stderr",
     "output_type": "stream",
     "text": [
      "Epoch 23/50: 100%|██████████| 104/104 [00:24<00:00,  4.20it/s, Loss=0.0888, Accuracy=0.973]\n"
     ]
    },
    {
     "name": "stdout",
     "output_type": "stream",
     "text": [
      "Epoch [23/50], Train Loss: 0.0881, Train Accuracy: 0.9725, Val Loss: 0.5986, Val Accuracy: 0.8607\n"
     ]
    },
    {
     "name": "stderr",
     "output_type": "stream",
     "text": [
      "Epoch 24/50: 100%|██████████| 104/104 [00:24<00:00,  4.20it/s, Loss=0.087, Accuracy=0.972] \n"
     ]
    },
    {
     "name": "stdout",
     "output_type": "stream",
     "text": [
      "Epoch [24/50], Train Loss: 0.0863, Train Accuracy: 0.9721, Val Loss: 0.3668, Val Accuracy: 0.9025\n"
     ]
    },
    {
     "name": "stderr",
     "output_type": "stream",
     "text": [
      "Epoch 25/50: 100%|██████████| 104/104 [00:25<00:00,  4.11it/s, Loss=0.0424, Accuracy=0.987]\n"
     ]
    },
    {
     "name": "stdout",
     "output_type": "stream",
     "text": [
      "Epoch [25/50], Train Loss: 0.0421, Train Accuracy: 0.9869, Val Loss: 0.3276, Val Accuracy: 0.9134\n"
     ]
    },
    {
     "name": "stderr",
     "output_type": "stream",
     "text": [
      "Epoch 26/50: 100%|██████████| 104/104 [00:25<00:00,  4.05it/s, Loss=0.0213, Accuracy=0.994]\n"
     ]
    },
    {
     "name": "stdout",
     "output_type": "stream",
     "text": [
      "Epoch [26/50], Train Loss: 0.0212, Train Accuracy: 0.9936, Val Loss: 0.4375, Val Accuracy: 0.8982\n"
     ]
    },
    {
     "name": "stderr",
     "output_type": "stream",
     "text": [
      "Epoch 27/50: 100%|██████████| 104/104 [00:26<00:00,  3.91it/s, Loss=0.0453, Accuracy=0.985]\n"
     ]
    },
    {
     "name": "stdout",
     "output_type": "stream",
     "text": [
      "Epoch [27/50], Train Loss: 0.0449, Train Accuracy: 0.9849, Val Loss: 0.4705, Val Accuracy: 0.8940\n"
     ]
    },
    {
     "name": "stderr",
     "output_type": "stream",
     "text": [
      "Epoch 28/50: 100%|██████████| 104/104 [00:25<00:00,  4.02it/s, Loss=0.0212, Accuracy=0.993]\n"
     ]
    },
    {
     "name": "stdout",
     "output_type": "stream",
     "text": [
      "Epoch [28/50], Train Loss: 0.0210, Train Accuracy: 0.9934, Val Loss: 0.3682, Val Accuracy: 0.9122\n"
     ]
    },
    {
     "name": "stderr",
     "output_type": "stream",
     "text": [
      "Epoch 29/50: 100%|██████████| 104/104 [00:25<00:00,  4.12it/s, Loss=0.0237, Accuracy=0.993]\n"
     ]
    },
    {
     "name": "stdout",
     "output_type": "stream",
     "text": [
      "Epoch [29/50], Train Loss: 0.0235, Train Accuracy: 0.9925, Val Loss: 0.4047, Val Accuracy: 0.9061\n"
     ]
    },
    {
     "name": "stderr",
     "output_type": "stream",
     "text": [
      "Epoch 30/50: 100%|██████████| 104/104 [00:25<00:00,  4.14it/s, Loss=0.0383, Accuracy=0.988]\n"
     ]
    },
    {
     "name": "stdout",
     "output_type": "stream",
     "text": [
      "Epoch [30/50], Train Loss: 0.0380, Train Accuracy: 0.9880, Val Loss: 0.4124, Val Accuracy: 0.9049\n"
     ]
    },
    {
     "name": "stderr",
     "output_type": "stream",
     "text": [
      "Epoch 31/50: 100%|██████████| 104/104 [00:25<00:00,  4.08it/s, Loss=0.0822, Accuracy=0.975]\n"
     ]
    },
    {
     "name": "stdout",
     "output_type": "stream",
     "text": [
      "Epoch [31/50], Train Loss: 0.0815, Train Accuracy: 0.9752, Val Loss: 0.3789, Val Accuracy: 0.9043\n"
     ]
    },
    {
     "name": "stderr",
     "output_type": "stream",
     "text": [
      "Epoch 32/50: 100%|██████████| 104/104 [00:25<00:00,  4.12it/s, Loss=0.0692, Accuracy=0.978]\n"
     ]
    },
    {
     "name": "stdout",
     "output_type": "stream",
     "text": [
      "Epoch [32/50], Train Loss: 0.0686, Train Accuracy: 0.9782, Val Loss: 0.3410, Val Accuracy: 0.9110\n"
     ]
    },
    {
     "name": "stderr",
     "output_type": "stream",
     "text": [
      "Epoch 33/50: 100%|██████████| 104/104 [00:25<00:00,  4.01it/s, Loss=0.0174, Accuracy=0.995]\n"
     ]
    },
    {
     "name": "stdout",
     "output_type": "stream",
     "text": [
      "Epoch [33/50], Train Loss: 0.0173, Train Accuracy: 0.9950, Val Loss: 0.2868, Val Accuracy: 0.9267\n"
     ]
    },
    {
     "name": "stderr",
     "output_type": "stream",
     "text": [
      "Epoch 34/50: 100%|██████████| 104/104 [00:25<00:00,  4.03it/s, Loss=0.0115, Accuracy=0.997]\n"
     ]
    },
    {
     "name": "stdout",
     "output_type": "stream",
     "text": [
      "Epoch [34/50], Train Loss: 0.0114, Train Accuracy: 0.9966, Val Loss: 0.3255, Val Accuracy: 0.9164\n"
     ]
    },
    {
     "name": "stderr",
     "output_type": "stream",
     "text": [
      "Epoch 35/50: 100%|██████████| 104/104 [00:25<00:00,  4.07it/s, Loss=0.00937, Accuracy=0.998]\n"
     ]
    },
    {
     "name": "stdout",
     "output_type": "stream",
     "text": [
      "Epoch [35/50], Train Loss: 0.0093, Train Accuracy: 0.9976, Val Loss: 0.3534, Val Accuracy: 0.9170\n"
     ]
    },
    {
     "name": "stderr",
     "output_type": "stream",
     "text": [
      "Epoch 36/50: 100%|██████████| 104/104 [00:25<00:00,  4.14it/s, Loss=0.035, Accuracy=0.989] \n"
     ]
    },
    {
     "name": "stdout",
     "output_type": "stream",
     "text": [
      "Epoch [36/50], Train Loss: 0.0348, Train Accuracy: 0.9891, Val Loss: 0.4266, Val Accuracy: 0.9019\n"
     ]
    },
    {
     "name": "stderr",
     "output_type": "stream",
     "text": [
      "Epoch 37/50: 100%|██████████| 104/104 [00:25<00:00,  4.09it/s, Loss=0.0724, Accuracy=0.977]\n"
     ]
    },
    {
     "name": "stdout",
     "output_type": "stream",
     "text": [
      "Epoch [37/50], Train Loss: 0.0718, Train Accuracy: 0.9769, Val Loss: 0.4118, Val Accuracy: 0.8910\n"
     ]
    },
    {
     "name": "stderr",
     "output_type": "stream",
     "text": [
      "Epoch 38/50: 100%|██████████| 104/104 [00:25<00:00,  4.07it/s, Loss=0.0296, Accuracy=0.99] \n"
     ]
    },
    {
     "name": "stdout",
     "output_type": "stream",
     "text": [
      "Epoch [38/50], Train Loss: 0.0294, Train Accuracy: 0.9905, Val Loss: 0.2765, Val Accuracy: 0.9213\n"
     ]
    },
    {
     "name": "stderr",
     "output_type": "stream",
     "text": [
      "Epoch 39/50: 100%|██████████| 104/104 [00:25<00:00,  4.06it/s, Loss=0.0319, Accuracy=0.988]\n"
     ]
    },
    {
     "name": "stdout",
     "output_type": "stream",
     "text": [
      "Epoch [39/50], Train Loss: 0.0316, Train Accuracy: 0.9885, Val Loss: 0.3750, Val Accuracy: 0.9110\n"
     ]
    },
    {
     "name": "stderr",
     "output_type": "stream",
     "text": [
      "Epoch 40/50: 100%|██████████| 104/104 [00:25<00:00,  4.08it/s, Loss=0.0195, Accuracy=0.994]\n"
     ]
    },
    {
     "name": "stdout",
     "output_type": "stream",
     "text": [
      "Epoch [40/50], Train Loss: 0.0194, Train Accuracy: 0.9938, Val Loss: 0.3273, Val Accuracy: 0.9261\n"
     ]
    },
    {
     "name": "stderr",
     "output_type": "stream",
     "text": [
      "Epoch 41/50: 100%|██████████| 104/104 [00:25<00:00,  4.03it/s, Loss=0.0328, Accuracy=0.99]\n"
     ]
    },
    {
     "name": "stdout",
     "output_type": "stream",
     "text": [
      "Epoch [41/50], Train Loss: 0.0325, Train Accuracy: 0.9899, Val Loss: 0.3829, Val Accuracy: 0.9134\n"
     ]
    },
    {
     "name": "stderr",
     "output_type": "stream",
     "text": [
      "Epoch 42/50: 100%|██████████| 104/104 [00:26<00:00,  3.96it/s, Loss=0.0223, Accuracy=0.992]\n"
     ]
    },
    {
     "name": "stdout",
     "output_type": "stream",
     "text": [
      "Epoch [42/50], Train Loss: 0.0222, Train Accuracy: 0.9920, Val Loss: 0.3560, Val Accuracy: 0.9170\n"
     ]
    },
    {
     "name": "stderr",
     "output_type": "stream",
     "text": [
      "Epoch 43/50: 100%|██████████| 104/104 [00:25<00:00,  4.03it/s, Loss=0.0171, Accuracy=0.994]\n"
     ]
    },
    {
     "name": "stdout",
     "output_type": "stream",
     "text": [
      "Epoch [43/50], Train Loss: 0.0170, Train Accuracy: 0.9943, Val Loss: 0.3626, Val Accuracy: 0.9188\n"
     ]
    },
    {
     "name": "stderr",
     "output_type": "stream",
     "text": [
      "Epoch 44/50: 100%|██████████| 104/104 [00:25<00:00,  4.15it/s, Loss=0.0214, Accuracy=0.993]\n"
     ]
    },
    {
     "name": "stdout",
     "output_type": "stream",
     "text": [
      "Epoch [44/50], Train Loss: 0.0212, Train Accuracy: 0.9934, Val Loss: 0.4529, Val Accuracy: 0.9031\n"
     ]
    },
    {
     "name": "stderr",
     "output_type": "stream",
     "text": [
      "Epoch 45/50: 100%|██████████| 104/104 [00:25<00:00,  4.13it/s, Loss=0.0152, Accuracy=0.995]\n"
     ]
    },
    {
     "name": "stdout",
     "output_type": "stream",
     "text": [
      "Epoch [45/50], Train Loss: 0.0151, Train Accuracy: 0.9950, Val Loss: 0.3601, Val Accuracy: 0.9225\n"
     ]
    },
    {
     "name": "stderr",
     "output_type": "stream",
     "text": [
      "Epoch 46/50: 100%|██████████| 104/104 [00:25<00:00,  4.10it/s, Loss=0.0119, Accuracy=0.996]\n"
     ]
    },
    {
     "name": "stdout",
     "output_type": "stream",
     "text": [
      "Epoch [46/50], Train Loss: 0.0118, Train Accuracy: 0.9964, Val Loss: 0.3547, Val Accuracy: 0.9170\n"
     ]
    },
    {
     "name": "stderr",
     "output_type": "stream",
     "text": [
      "Epoch 47/50: 100%|██████████| 104/104 [00:25<00:00,  4.15it/s, Loss=0.0214, Accuracy=0.993]\n"
     ]
    },
    {
     "name": "stdout",
     "output_type": "stream",
     "text": [
      "Epoch [47/50], Train Loss: 0.0213, Train Accuracy: 0.9930, Val Loss: 0.5292, Val Accuracy: 0.8964\n"
     ]
    },
    {
     "name": "stderr",
     "output_type": "stream",
     "text": [
      "Epoch 48/50: 100%|██████████| 104/104 [00:25<00:00,  4.03it/s, Loss=0.021, Accuracy=0.993] \n"
     ]
    },
    {
     "name": "stdout",
     "output_type": "stream",
     "text": [
      "Epoch [48/50], Train Loss: 0.0209, Train Accuracy: 0.9930, Val Loss: 0.3404, Val Accuracy: 0.9231\n"
     ]
    },
    {
     "name": "stderr",
     "output_type": "stream",
     "text": [
      "Epoch 49/50: 100%|██████████| 104/104 [00:25<00:00,  4.05it/s, Loss=0.0388, Accuracy=0.988]\n"
     ]
    },
    {
     "name": "stdout",
     "output_type": "stream",
     "text": [
      "Epoch [49/50], Train Loss: 0.0385, Train Accuracy: 0.9876, Val Loss: 0.3658, Val Accuracy: 0.9164\n"
     ]
    },
    {
     "name": "stderr",
     "output_type": "stream",
     "text": [
      "Epoch 50/50: 100%|██████████| 104/104 [00:25<00:00,  4.03it/s, Loss=0.0454, Accuracy=0.985]\n"
     ]
    },
    {
     "name": "stdout",
     "output_type": "stream",
     "text": [
      "Epoch [50/50], Train Loss: 0.0451, Train Accuracy: 0.9855, Val Loss: 0.4092, Val Accuracy: 0.9061\n",
      "Test Loss: 0.4659, Test Accuracy: 0.8965\n"
     ]
    },
    {
     "data": {
      "image/png": "[encoded data removed]",
      "text/plain": [
       "<Figure size 1200x400 with 2 Axes>"
      ]
     },
     "metadata": {},
     "output_type": "display_data"
    }
   ],
   "source": [
    "import torch\n",
    "import torch.nn as nn\n",
    "import torch.optim as optim\n",
    "from torch.utils.data import DataLoader, Dataset\n",
    "from torchvision import transforms\n",
    "from tqdm import tqdm\n",
    "import pandas as pd\n",
    "from PIL import Image\n",
    "import os\n",
    "from sklearn.model_selection import train_test_split\n",
    "import matplotlib.pyplot as plt\n",
    "\n",
    "# Check if GPU is available and set device\n",
    "device = torch.device(\"cuda\" if torch.cuda.is_available() else \"cpu\")\n",
    "\n",
    "# Define data transforms with 64x64 image size\n",
    "transform = transforms.Compose([\n",
    "    transforms.Resize((64, 64)),  # Resize to 64x64\n",
    "    transforms.ToTensor(),\n",
    "    transforms.Normalize(mean=[0.485, 0.456, 0.406], std=[0.229, 0.224, 0.225])\n",
    "])\n",
    "\n",
    "# Define the directory path\n",
    "data_dir = r\"C:\\Users\\user\\Desktop\\plant\\boc\"\n",
    "\n",
    "# Load one CSV file\n",
    "csv_file = 'fold_4_train.csv'\n",
    "\n",
    "# Define a custom dataset class for CSV loading\n",
    "class CustomDataset(Dataset):\n",
    "    def __init__(self, csv_file, root_dir, transform=None):\n",
    "        self.data = pd.read_csv(csv_file)\n",
    "        self.root_dir = root_dir\n",
    "        self.transform = transform\n",
    "\n",
    "    def __len__(self):\n",
    "        return len(self.data)\n",
    "\n",
    "    def __getitem__(self, idx):\n",
    "        try:\n",
    "            img_name = os.path.join(self.root_dir, str(self.data.iloc[idx, 0]))  # Access image_path using index 0\n",
    "            image = Image.open(img_name).convert('RGB')  # Ensure images are in RGB mode\n",
    "            label = self.data.iloc[idx, 1]  # Access class_label using index 1\n",
    "        except Exception as e:\n",
    "            print(f\"Error accessing image at index {idx}: {e}\")\n",
    "            return None\n",
    "\n",
    "        if self.transform:\n",
    "            image = self.transform(image)\n",
    "\n",
    "        return image, label\n",
    "\n",
    "# Load the dataset using CustomDataset\n",
    "dataset = CustomDataset(csv_file=os.path.join(data_dir, csv_file), root_dir=data_dir, transform=transform)\n",
    "\n",
    "# Split dataset into train, validation, and test sets\n",
    "train_size = 0.8\n",
    "val_size = 0.1\n",
    "test_size = 1 - train_size - val_size\n",
    "\n",
    "train_dataset, temp_dataset = train_test_split(dataset, test_size=1 - train_size, random_state=42)\n",
    "val_dataset, test_dataset = train_test_split(temp_dataset, test_size=test_size / (val_size + test_size), random_state=42)\n",
    "\n",
    "# Create data loaders for each set\n",
    "batch_size = 128\n",
    "train_loader = DataLoader(train_dataset, batch_size=batch_size, shuffle=True, num_workers=4, pin_memory=True)\n",
    "val_loader = DataLoader(val_dataset, batch_size=batch_size, shuffle=False, num_workers=4, pin_memory=True)\n",
    "test_loader = DataLoader(test_dataset, batch_size=batch_size, shuffle=False, num_workers=4, pin_memory=True)\n",
    "\n",
    "\n",
    "\n",
    "# Print class names (assuming it's available in the dataset)\n",
    "print(\"Class Names:\", pd.Series([data[1] for data in train_dataset]).unique())\n",
    "##\n",
    "### Define the model architecture\n",
    "##class AlexNet(nn.Module):\n",
    "##    def __init__(self, num_classes=15):\n",
    "##        super(AlexNet, self).__init__()\n",
    "##        self.features = nn.Sequential(\n",
    "##            nn.Conv2d(3, 64, kernel_size=11, stride=4, padding=2),\n",
    "##            nn.ReLU(inplace=True),\n",
    "##            nn.MaxPool2d(kernel_size=3, stride=2),\n",
    "##            nn.Conv2d(64, 192, kernel_size=5, padding=2),\n",
    "##            nn.ReLU(inplace=True),\n",
    "##            nn.MaxPool2d(kernel_size=3, stride=2),\n",
    "##            nn.Conv2d(192, 384, kernel_size=3, padding=1),\n",
    "##            nn.ReLU(inplace=True),\n",
    "##            nn.Conv2d(384, 256, kernel_size=3, padding=1),\n",
    "##            nn.ReLU(inplace=True),\n",
    "##            nn.Conv2d(256, 256, kernel_size=3, padding=1),\n",
    "##            nn.ReLU(inplace=True),\n",
    "##            nn.MaxPool2d(kernel_size=3, stride=2),\n",
    "##        )\n",
    "##        self.avgpool = nn.AdaptiveAvgPool2d((6, 6))\n",
    "##        self.classifier = nn.Sequential(\n",
    "##            nn.Dropout(),\n",
    "##            nn.Linear(256 * 6 * 6, 4096),\n",
    "##            nn.ReLU(inplace=True),\n",
    "##            nn.Dropout(),\n",
    "##            nn.Linear(4096, 4096),\n",
    "##            nn.ReLU(inplace=True),\n",
    "##            nn.Linear(4096, num_classes),\n",
    "##        )\n",
    "##\n",
    "##    def forward(self, x):\n",
    "##        x = self.features(x)\n",
    "##        x = self.avgpool(x)\n",
    "##        x = torch.flatten(x, 1)\n",
    "##        x = self.classifier(x)\n",
    "##        return x\n",
    "##\n",
    "# Instantiate the model\n",
    "##model = AlexNet(num_classes=15).to(device)\n",
    "\n",
    "# Define custom modules and model\n",
    "class Swish(nn.Module):\n",
    "    def forward(self, x):\n",
    "        return x * torch.sigmoid(x)\n",
    "\n",
    "class SEBlock(nn.Module):\n",
    "    def __init__(self, in_channels, reduction=4):\n",
    "        super(SEBlock, self).__init__()\n",
    "        self.fc1 = nn.Conv2d(in_channels, in_channels // reduction, kernel_size=1)\n",
    "        self.fc2 = nn.Conv2d(in_channels // reduction, in_channels, kernel_size=1)\n",
    "    \n",
    "    def forward(self, x):\n",
    "        scale = torch.mean(x, (2, 3), keepdim=True)\n",
    "        scale = nn.functional.relu(self.fc1(scale))\n",
    "        scale = torch.sigmoid(self.fc2(scale))\n",
    "        return x * scale\n",
    "\n",
    "class GhostModule(nn.Module):\n",
    "    def __init__(self, in_channels, out_channels, ratio=2, kernel_size=1, dw_kernel_size=3, stride=1, relu=True):\n",
    "        super(GhostModule, self).__init__()\n",
    "        self.out_channels = out_channels\n",
    "        self.init_channels = int(out_channels / ratio)\n",
    "        self.new_channels = self.init_channels * (ratio - 1)\n",
    "        \n",
    "        self.primary_conv = nn.Sequential(\n",
    "            nn.Conv2d(in_channels, self.init_channels, kernel_size, stride, kernel_size//2, bias=False),\n",
    "            nn.BatchNorm2d(self.init_channels),\n",
    "            nn.ReLU(inplace=True) if relu else nn.Sequential()\n",
    "        )\n",
    "        \n",
    "        self.cheap_operation = nn.Sequential(\n",
    "            nn.Conv2d(self.init_channels, self.new_channels, dw_kernel_size, 1, dw_kernel_size//2, groups=self.init_channels, bias=False),\n",
    "            nn.BatchNorm2d(self.new_channels),\n",
    "            nn.ReLU(inplace=True) if relu else nn.Sequential()\n",
    "        )\n",
    "    \n",
    "    def forward(self, x):\n",
    "        x1 = self.primary_conv(x)\n",
    "        x2 = self.cheap_operation(x1)\n",
    "        out = torch.cat([x1, x2], dim=1)\n",
    "        return out[:, :self.out_channels, :, :]\n",
    "\n",
    "class GhostBottleneck(nn.Module):\n",
    "    def __init__(self, in_channels, mid_channels, out_channels, dw_kernel_size=3, stride=1, use_se=False):\n",
    "        super(GhostBottleneck, self).__init__()\n",
    "        self.stride = stride\n",
    "        self.use_se = use_se\n",
    "\n",
    "        self.ghost1 = GhostModule(in_channels, mid_channels, relu=True)\n",
    "        self.depthwise = nn.Sequential(\n",
    "            nn.Conv2d(mid_channels, mid_channels, dw_kernel_size, stride=stride, padding=dw_kernel_size//2, groups=mid_channels, bias=False),\n",
    "            nn.BatchNorm2d(mid_channels)\n",
    "        ) if stride == 2 else nn.Sequential()\n",
    "\n",
    "        self.ghost2 = GhostModule(mid_channels, out_channels, relu=False)\n",
    "\n",
    "        self.shortcut = nn.Sequential(\n",
    "            nn.Conv2d(in_channels, in_channels, dw_kernel_size, stride=stride, padding=dw_kernel_size//2, groups=in_channels, bias=False),\n",
    "            nn.BatchNorm2d(in_channels),\n",
    "            nn.Conv2d(in_channels, out_channels, kernel_size=1, stride=1, padding=0, bias=False),\n",
    "            nn.BatchNorm2d(out_channels)\n",
    "        ) if stride == 2 or in_channels != out_channels else nn.Sequential()\n",
    "        \n",
    "        self.se = SEBlock(mid_channels) if self.use_se else nn.Sequential()\n",
    "\n",
    "    def forward(self, x):\n",
    "        residual = self.shortcut(x)\n",
    "        x = self.ghost1(x)\n",
    "        x = self.depthwise(x)\n",
    "        x = self.se(x)\n",
    "        x = self.ghost2(x)\n",
    "        x += residual\n",
    "        return x\n",
    "\n",
    "class GhostNetCustom(nn.Module):\n",
    "    def __init__(self, num_classes=15):\n",
    "        super(GhostNetCustom, self).__init__()\n",
    "        self.conv_stem = nn.Conv2d(3, 16, kernel_size=3, stride=2, padding=1, bias=False)\n",
    "        self.bn1 = nn.BatchNorm2d(16)\n",
    "        self.relu = nn.ReLU(inplace=True)\n",
    "        \n",
    "        self.blocks = nn.Sequential(\n",
    "            GhostBottleneck(16, 16, 16, stride=1),\n",
    "            GhostBottleneck(16, 48, 24, stride=2),\n",
    "            GhostBottleneck(24, 72, 24, stride=1),\n",
    "            GhostBottleneck(24, 72, 40, stride=2, use_se=True),\n",
    "            GhostBottleneck(40, 120, 40, stride=1, use_se=True),\n",
    "            GhostBottleneck(40, 240, 80, stride=2),\n",
    "            GhostBottleneck(80, 200, 80, stride=1),\n",
    "            GhostBottleneck(80, 184, 80, stride=1),\n",
    "            GhostBottleneck(80, 480, 112, stride=1, use_se=True),\n",
    "            GhostBottleneck(112, 672, 160, stride=2, use_se=True),\n",
    "            GhostBottleneck(160, 960, 160, stride=1, use_se=True)\n",
    "        )\n",
    "        \n",
    "        self.conv_head = nn.Conv2d(160, 960, kernel_size=1, bias=False)\n",
    "        self.bn2 = nn.BatchNorm2d(960)\n",
    "        self.pool = nn.AdaptiveAvgPool2d(1)\n",
    "        self.fc = nn.Linear(960, num_classes)\n",
    "    \n",
    "    def forward(self, x):\n",
    "        x = self.relu(self.bn1(self.conv_stem(x)))\n",
    "        x = self.blocks(x)\n",
    "        x = self.relu(self.bn2(self.conv_head(x)))\n",
    "        x = self.pool(x)\n",
    "        x = x.view(x.size(0), -1)\n",
    "        x = self.fc(x)\n",
    "        return x\n",
    "\n",
    "# Print the model architecture\n",
    "\n",
    "model = GhostNetCustom(num_classes=15).to(device)\n",
    "\n",
    "# Function to evaluate the model\n",
    "def evaluate_model(model, data_loader, criterion, device):\n",
    "    model.eval()\n",
    "    loss = 0.0\n",
    "    correct = 0\n",
    "    total = 0\n",
    "    with torch.no_grad():\n",
    "        for images, labels in data_loader:\n",
    "            images, labels = images.to(device), labels.to(device)\n",
    "            outputs = model(images)\n",
    "            loss += criterion(outputs, labels).item()\n",
    "            _, predicted = torch.max(outputs.data, 1)\n",
    "            total += labels.size(0)\n",
    "            correct += (predicted == labels).sum().item()\n",
    "    \n",
    "    avg_loss = loss / len(data_loader)\n",
    "    accuracy = correct / total\n",
    "    return avg_loss, accuracy\n",
    "\n",
    "# Function to train the model\n",
    "def train_model(model, train_loader, val_loader, criterion, optimizer, num_epochs, device):\n",
    "    train_losses = []\n",
    "    val_losses = []\n",
    "    train_accuracies = []\n",
    "    val_accuracies = []\n",
    "    \n",
    "    for epoch in range(num_epochs):\n",
    "        model.train()\n",
    "        running_loss = 0.0\n",
    "        correct_train = 0\n",
    "        total_train = 0\n",
    "        \n",
    "        # Use tqdm for progress display\n",
    "        progress_bar = tqdm(train_loader, desc=f'Epoch {epoch+1}/{num_epochs}')\n",
    "        \n",
    "        for images, labels in progress_bar:\n",
    "            images, labels = images.to(device), labels.to(device)\n",
    "            \n",
    "            optimizer.zero_grad()\n",
    "            outputs = model(images)\n",
    "            loss = criterion(outputs, labels)\n",
    "            loss.backward()\n",
    "            optimizer.step()\n",
    "            \n",
    "            running_loss += loss.item()\n",
    "            _, predicted = torch.max(outputs.data, 1)\n",
    "            total_train += labels.size(0)\n",
    "            correct_train += (predicted == labels).sum().item()\n",
    "            \n",
    "            progress_bar.set_postfix({'Loss': running_loss / (total_train / batch_size), 'Accuracy': correct_train / total_train})\n",
    "        \n",
    "        avg_train_loss = running_loss / len(train_loader)\n",
    "        train_accuracy = correct_train / total_train\n",
    "        \n",
    "        val_loss, val_accuracy = evaluate_model(model, val_loader, criterion, device)\n",
    "        \n",
    "        train_losses.append(avg_train_loss)\n",
    "        val_losses.append(val_loss)\n",
    "        train_accuracies.append(train_accuracy)\n",
    "        val_accuracies.append(val_accuracy)\n",
    "        \n",
    "        print(f'Epoch [{epoch+1}/{num_epochs}], Train Loss: {avg_train_loss:.4f}, Train Accuracy: {train_accuracy:.4f}, Val Loss: {val_loss:.4f}, Val Accuracy: {val_accuracy:.4f}')\n",
    "    \n",
    "    return train_losses, val_losses, train_accuracies, val_accuracies\n",
    "\n",
    "# Set hyperparameters\n",
    "num_epochs = 50\n",
    "learning_rate = 1e-3\n",
    "\n",
    "# Define criterion and optimizer\n",
    "criterion = nn.CrossEntropyLoss()\n",
    "optimizer = optim.Adam(model.parameters(), lr=learning_rate)\n",
    "\n",
    "# Train the model\n",
    "train_losses, val_losses, train_accuracies, val_accuracies = train_model(model, train_loader, val_loader, criterion, optimizer, num_epochs, device)\n",
    "\n",
    "# Evaluate on test set\n",
    "test_loss, test_accuracy = evaluate_model(model, test_loader, criterion, device)\n",
    "print(f'Test Loss: {test_loss:.4f}, Test Accuracy: {test_accuracy:.4f}')\n",
    "\n",
    "# Plotting training and validation curves\n",
    "plt.figure(figsize=(12, 4))\n",
    "plt.subplot(1, 2, 1)\n",
    "plt.plot(train_losses, label='Train Loss')\n",
    "plt.plot(val_losses, label='Val Loss')\n",
    "plt.xlabel('Epoch')\n",
    "plt.ylabel('Loss')\n",
    "plt.title('Training and Validation Losses')\n",
    "plt.legend()\n",
    "\n",
    "plt.subplot(1, 2, 2)\n",
    "plt.plot(train_accuracies, label='Train Accuracy')\n",
    "plt.plot(val_accuracies, label='Val Accuracy')\n",
    "plt.xlabel('Epoch')\n",
    "plt.ylabel('Accuracy')\n",
    "plt.title('Training and Validation Accuracies')\n",
    "plt.legend()\n",
    "\n",
    "plt.tight_layout()\n",
    "plt.show()\n"
   ]
  },
  {
   "cell_type": "code",
   "execution_count": 7,
   "metadata": {},
   "outputs": [
    {
     "name": "stdout",
     "output_type": "stream",
     "text": [
      "Class Names: [12  6 14  5  7  0 13  2 11  9  8  1 10  4  3]\n"
     ]
    },
    {
     "name": "stderr",
     "output_type": "stream",
     "text": [
      "Epoch 1/50: 100%|██████████| 104/104 [00:25<00:00,  4.04it/s, Loss=1.34, Accuracy=0.57] \n"
     ]
    },
    {
     "name": "stdout",
     "output_type": "stream",
     "text": [
      "Epoch [1/50], Train Loss: 1.3247, Train Accuracy: 0.5701, Val Loss: 0.8837, Val Accuracy: 0.7032\n"
     ]
    },
    {
     "name": "stderr",
     "output_type": "stream",
     "text": [
      "Epoch 2/50: 100%|██████████| 104/104 [00:22<00:00,  4.67it/s, Loss=0.573, Accuracy=0.81]\n"
     ]
    },
    {
     "name": "stdout",
     "output_type": "stream",
     "text": [
      "Epoch [2/50], Train Loss: 0.5689, Train Accuracy: 0.8099, Val Loss: 0.7104, Val Accuracy: 0.7698\n"
     ]
    },
    {
     "name": "stderr",
     "output_type": "stream",
     "text": [
      "Epoch 3/50: 100%|██████████| 104/104 [00:20<00:00,  5.07it/s, Loss=0.335, Accuracy=0.887]\n"
     ]
    },
    {
     "name": "stdout",
     "output_type": "stream",
     "text": [
      "Epoch [3/50], Train Loss: 0.3322, Train Accuracy: 0.8870, Val Loss: 0.5304, Val Accuracy: 0.8455\n"
     ]
    },
    {
     "name": "stderr",
     "output_type": "stream",
     "text": [
      "Epoch 4/50: 100%|██████████| 104/104 [00:21<00:00,  4.76it/s, Loss=0.245, Accuracy=0.916]\n"
     ]
    },
    {
     "name": "stdout",
     "output_type": "stream",
     "text": [
      "Epoch [4/50], Train Loss: 0.2435, Train Accuracy: 0.9163, Val Loss: 0.6621, Val Accuracy: 0.8074\n"
     ]
    },
    {
     "name": "stderr",
     "output_type": "stream",
     "text": [
      "Epoch 5/50: 100%|██████████| 104/104 [00:22<00:00,  4.54it/s, Loss=0.188, Accuracy=0.937]\n"
     ]
    },
    {
     "name": "stdout",
     "output_type": "stream",
     "text": [
      "Epoch [5/50], Train Loss: 0.1870, Train Accuracy: 0.9375, Val Loss: 0.5299, Val Accuracy: 0.8522\n"
     ]
    },
    {
     "name": "stderr",
     "output_type": "stream",
     "text": [
      "Epoch 6/50: 100%|██████████| 104/104 [00:31<00:00,  3.34it/s, Loss=0.111, Accuracy=0.963]\n"
     ]
    },
    {
     "name": "stdout",
     "output_type": "stream",
     "text": [
      "Epoch [6/50], Train Loss: 0.1104, Train Accuracy: 0.9630, Val Loss: 0.4834, Val Accuracy: 0.8583\n"
     ]
    },
    {
     "name": "stderr",
     "output_type": "stream",
     "text": [
      "Epoch 7/50: 100%|██████████| 104/104 [00:31<00:00,  3.29it/s, Loss=0.134, Accuracy=0.955]\n"
     ]
    },
    {
     "name": "stdout",
     "output_type": "stream",
     "text": [
      "Epoch [7/50], Train Loss: 0.1334, Train Accuracy: 0.9555, Val Loss: 0.4630, Val Accuracy: 0.8661\n"
     ]
    },
    {
     "name": "stderr",
     "output_type": "stream",
     "text": [
      "Epoch 8/50: 100%|██████████| 104/104 [00:22<00:00,  4.65it/s, Loss=0.117, Accuracy=0.964]\n"
     ]
    },
    {
     "name": "stdout",
     "output_type": "stream",
     "text": [
      "Epoch [8/50], Train Loss: 0.1157, Train Accuracy: 0.9643, Val Loss: 0.4738, Val Accuracy: 0.8698\n"
     ]
    },
    {
     "name": "stderr",
     "output_type": "stream",
     "text": [
      "Epoch 9/50: 100%|██████████| 104/104 [00:27<00:00,  3.82it/s, Loss=0.101, Accuracy=0.966]\n"
     ]
    },
    {
     "name": "stdout",
     "output_type": "stream",
     "text": [
      "Epoch [9/50], Train Loss: 0.1006, Train Accuracy: 0.9658, Val Loss: 0.4175, Val Accuracy: 0.8764\n"
     ]
    },
    {
     "name": "stderr",
     "output_type": "stream",
     "text": [
      "Epoch 10/50: 100%|██████████| 104/104 [00:23<00:00,  4.46it/s, Loss=0.0694, Accuracy=0.977]\n"
     ]
    },
    {
     "name": "stdout",
     "output_type": "stream",
     "text": [
      "Epoch [10/50], Train Loss: 0.0689, Train Accuracy: 0.9768, Val Loss: 0.4731, Val Accuracy: 0.8674\n"
     ]
    },
    {
     "name": "stderr",
     "output_type": "stream",
     "text": [
      "Epoch 11/50: 100%|██████████| 104/104 [00:22<00:00,  4.54it/s, Loss=0.112, Accuracy=0.963]\n"
     ]
    },
    {
     "name": "stdout",
     "output_type": "stream",
     "text": [
      "Epoch [11/50], Train Loss: 0.1109, Train Accuracy: 0.9627, Val Loss: 0.5256, Val Accuracy: 0.8667\n"
     ]
    },
    {
     "name": "stderr",
     "output_type": "stream",
     "text": [
      "Epoch 12/50: 100%|██████████| 104/104 [00:22<00:00,  4.58it/s, Loss=0.0602, Accuracy=0.98]\n"
     ]
    },
    {
     "name": "stdout",
     "output_type": "stream",
     "text": [
      "Epoch [12/50], Train Loss: 0.0598, Train Accuracy: 0.9796, Val Loss: 0.4392, Val Accuracy: 0.8879\n"
     ]
    },
    {
     "name": "stderr",
     "output_type": "stream",
     "text": [
      "Epoch 13/50: 100%|██████████| 104/104 [00:22<00:00,  4.63it/s, Loss=0.0465, Accuracy=0.985]\n"
     ]
    },
    {
     "name": "stdout",
     "output_type": "stream",
     "text": [
      "Epoch [13/50], Train Loss: 0.0461, Train Accuracy: 0.9849, Val Loss: 0.5142, Val Accuracy: 0.8728\n"
     ]
    },
    {
     "name": "stderr",
     "output_type": "stream",
     "text": [
      "Epoch 14/50: 100%|██████████| 104/104 [00:22<00:00,  4.72it/s, Loss=0.0496, Accuracy=0.984]\n"
     ]
    },
    {
     "name": "stdout",
     "output_type": "stream",
     "text": [
      "Epoch [14/50], Train Loss: 0.0492, Train Accuracy: 0.9836, Val Loss: 0.4072, Val Accuracy: 0.8922\n"
     ]
    },
    {
     "name": "stderr",
     "output_type": "stream",
     "text": [
      "Epoch 15/50: 100%|██████████| 104/104 [00:21<00:00,  4.76it/s, Loss=0.0435, Accuracy=0.987]\n"
     ]
    },
    {
     "name": "stdout",
     "output_type": "stream",
     "text": [
      "Epoch [15/50], Train Loss: 0.0432, Train Accuracy: 0.9873, Val Loss: 0.4353, Val Accuracy: 0.8916\n"
     ]
    },
    {
     "name": "stderr",
     "output_type": "stream",
     "text": [
      "Epoch 16/50: 100%|██████████| 104/104 [00:21<00:00,  4.81it/s, Loss=0.0841, Accuracy=0.973]\n"
     ]
    },
    {
     "name": "stdout",
     "output_type": "stream",
     "text": [
      "Epoch [16/50], Train Loss: 0.0835, Train Accuracy: 0.9734, Val Loss: 0.4336, Val Accuracy: 0.8873\n"
     ]
    },
    {
     "name": "stderr",
     "output_type": "stream",
     "text": [
      "Epoch 17/50: 100%|██████████| 104/104 [00:31<00:00,  3.32it/s, Loss=0.046, Accuracy=0.986] \n"
     ]
    },
    {
     "name": "stdout",
     "output_type": "stream",
     "text": [
      "Epoch [17/50], Train Loss: 0.0456, Train Accuracy: 0.9855, Val Loss: 0.4092, Val Accuracy: 0.8970\n"
     ]
    },
    {
     "name": "stderr",
     "output_type": "stream",
     "text": [
      "Epoch 18/50: 100%|██████████| 104/104 [00:22<00:00,  4.56it/s, Loss=0.0218, Accuracy=0.993]\n"
     ]
    },
    {
     "name": "stdout",
     "output_type": "stream",
     "text": [
      "Epoch [18/50], Train Loss: 0.0216, Train Accuracy: 0.9933, Val Loss: 0.3717, Val Accuracy: 0.9043\n"
     ]
    },
    {
     "name": "stderr",
     "output_type": "stream",
     "text": [
      "Epoch 19/50: 100%|██████████| 104/104 [00:22<00:00,  4.60it/s, Loss=0.0406, Accuracy=0.988]\n"
     ]
    },
    {
     "name": "stdout",
     "output_type": "stream",
     "text": [
      "Epoch [19/50], Train Loss: 0.0403, Train Accuracy: 0.9875, Val Loss: 0.5036, Val Accuracy: 0.8819\n"
     ]
    },
    {
     "name": "stderr",
     "output_type": "stream",
     "text": [
      "Epoch 20/50: 100%|██████████| 104/104 [00:22<00:00,  4.67it/s, Loss=0.0701, Accuracy=0.977]\n"
     ]
    },
    {
     "name": "stdout",
     "output_type": "stream",
     "text": [
      "Epoch [20/50], Train Loss: 0.0696, Train Accuracy: 0.9768, Val Loss: 0.4503, Val Accuracy: 0.8861\n"
     ]
    },
    {
     "name": "stderr",
     "output_type": "stream",
     "text": [
      "Epoch 21/50: 100%|██████████| 104/104 [00:22<00:00,  4.58it/s, Loss=0.0429, Accuracy=0.987]\n"
     ]
    },
    {
     "name": "stdout",
     "output_type": "stream",
     "text": [
      "Epoch [21/50], Train Loss: 0.0426, Train Accuracy: 0.9865, Val Loss: 0.4211, Val Accuracy: 0.8922\n"
     ]
    },
    {
     "name": "stderr",
     "output_type": "stream",
     "text": [
      "Epoch 22/50: 100%|██████████| 104/104 [00:22<00:00,  4.58it/s, Loss=0.0226, Accuracy=0.993]\n"
     ]
    },
    {
     "name": "stdout",
     "output_type": "stream",
     "text": [
      "Epoch [22/50], Train Loss: 0.0224, Train Accuracy: 0.9925, Val Loss: 0.4525, Val Accuracy: 0.8916\n"
     ]
    },
    {
     "name": "stderr",
     "output_type": "stream",
     "text": [
      "Epoch 23/50: 100%|██████████| 104/104 [00:22<00:00,  4.59it/s, Loss=0.0317, Accuracy=0.991]\n"
     ]
    },
    {
     "name": "stdout",
     "output_type": "stream",
     "text": [
      "Epoch [23/50], Train Loss: 0.0315, Train Accuracy: 0.9907, Val Loss: 0.4618, Val Accuracy: 0.8861\n"
     ]
    },
    {
     "name": "stderr",
     "output_type": "stream",
     "text": [
      "Epoch 24/50: 100%|██████████| 104/104 [00:22<00:00,  4.53it/s, Loss=0.0414, Accuracy=0.986]\n"
     ]
    },
    {
     "name": "stdout",
     "output_type": "stream",
     "text": [
      "Epoch [24/50], Train Loss: 0.0411, Train Accuracy: 0.9857, Val Loss: 0.5029, Val Accuracy: 0.8928\n"
     ]
    },
    {
     "name": "stderr",
     "output_type": "stream",
     "text": [
      "Epoch 25/50: 100%|██████████| 104/104 [00:23<00:00,  4.47it/s, Loss=0.0525, Accuracy=0.983]\n"
     ]
    },
    {
     "name": "stdout",
     "output_type": "stream",
     "text": [
      "Epoch [25/50], Train Loss: 0.0521, Train Accuracy: 0.9827, Val Loss: 0.3972, Val Accuracy: 0.9037\n"
     ]
    },
    {
     "name": "stderr",
     "output_type": "stream",
     "text": [
      "Epoch 26/50: 100%|██████████| 104/104 [00:21<00:00,  4.81it/s, Loss=0.0405, Accuracy=0.987]\n"
     ]
    },
    {
     "name": "stdout",
     "output_type": "stream",
     "text": [
      "Epoch [26/50], Train Loss: 0.0402, Train Accuracy: 0.9869, Val Loss: 0.4490, Val Accuracy: 0.8922\n"
     ]
    },
    {
     "name": "stderr",
     "output_type": "stream",
     "text": [
      "Epoch 27/50: 100%|██████████| 104/104 [00:22<00:00,  4.68it/s, Loss=0.0447, Accuracy=0.985]\n"
     ]
    },
    {
     "name": "stdout",
     "output_type": "stream",
     "text": [
      "Epoch [27/50], Train Loss: 0.0444, Train Accuracy: 0.9849, Val Loss: 0.5784, Val Accuracy: 0.8571\n"
     ]
    },
    {
     "name": "stderr",
     "output_type": "stream",
     "text": [
      "Epoch 28/50: 100%|██████████| 104/104 [00:22<00:00,  4.61it/s, Loss=0.0222, Accuracy=0.993]\n"
     ]
    },
    {
     "name": "stdout",
     "output_type": "stream",
     "text": [
      "Epoch [28/50], Train Loss: 0.0220, Train Accuracy: 0.9927, Val Loss: 0.3993, Val Accuracy: 0.9013\n"
     ]
    },
    {
     "name": "stderr",
     "output_type": "stream",
     "text": [
      "Epoch 29/50: 100%|██████████| 104/104 [00:22<00:00,  4.56it/s, Loss=0.0322, Accuracy=0.99]\n"
     ]
    },
    {
     "name": "stdout",
     "output_type": "stream",
     "text": [
      "Epoch [29/50], Train Loss: 0.0320, Train Accuracy: 0.9904, Val Loss: 0.4610, Val Accuracy: 0.8976\n"
     ]
    },
    {
     "name": "stderr",
     "output_type": "stream",
     "text": [
      "Epoch 30/50: 100%|██████████| 104/104 [00:22<00:00,  4.57it/s, Loss=0.064, Accuracy=0.979]\n"
     ]
    },
    {
     "name": "stdout",
     "output_type": "stream",
     "text": [
      "Epoch [30/50], Train Loss: 0.0635, Train Accuracy: 0.9795, Val Loss: 0.4781, Val Accuracy: 0.8916\n"
     ]
    },
    {
     "name": "stderr",
     "output_type": "stream",
     "text": [
      "Epoch 31/50: 100%|██████████| 104/104 [00:22<00:00,  4.60it/s, Loss=0.0463, Accuracy=0.986]\n"
     ]
    },
    {
     "name": "stdout",
     "output_type": "stream",
     "text": [
      "Epoch [31/50], Train Loss: 0.0459, Train Accuracy: 0.9858, Val Loss: 0.3747, Val Accuracy: 0.9049\n"
     ]
    },
    {
     "name": "stderr",
     "output_type": "stream",
     "text": [
      "Epoch 32/50: 100%|██████████| 104/104 [00:22<00:00,  4.63it/s, Loss=0.0316, Accuracy=0.991]\n"
     ]
    },
    {
     "name": "stdout",
     "output_type": "stream",
     "text": [
      "Epoch [32/50], Train Loss: 0.0313, Train Accuracy: 0.9909, Val Loss: 0.3780, Val Accuracy: 0.9025\n"
     ]
    },
    {
     "name": "stderr",
     "output_type": "stream",
     "text": [
      "Epoch 33/50: 100%|██████████| 104/104 [00:22<00:00,  4.55it/s, Loss=0.0725, Accuracy=0.978]\n"
     ]
    },
    {
     "name": "stdout",
     "output_type": "stream",
     "text": [
      "Epoch [33/50], Train Loss: 0.0719, Train Accuracy: 0.9783, Val Loss: 0.4084, Val Accuracy: 0.8970\n"
     ]
    },
    {
     "name": "stderr",
     "output_type": "stream",
     "text": [
      "Epoch 34/50: 100%|██████████| 104/104 [00:22<00:00,  4.71it/s, Loss=0.0487, Accuracy=0.984]\n"
     ]
    },
    {
     "name": "stdout",
     "output_type": "stream",
     "text": [
      "Epoch [34/50], Train Loss: 0.0484, Train Accuracy: 0.9840, Val Loss: 0.4237, Val Accuracy: 0.9031\n"
     ]
    },
    {
     "name": "stderr",
     "output_type": "stream",
     "text": [
      "Epoch 35/50: 100%|██████████| 104/104 [00:22<00:00,  4.58it/s, Loss=0.0327, Accuracy=0.989]\n"
     ]
    },
    {
     "name": "stdout",
     "output_type": "stream",
     "text": [
      "Epoch [35/50], Train Loss: 0.0325, Train Accuracy: 0.9895, Val Loss: 0.4034, Val Accuracy: 0.9152\n"
     ]
    },
    {
     "name": "stderr",
     "output_type": "stream",
     "text": [
      "Epoch 36/50: 100%|██████████| 104/104 [00:22<00:00,  4.60it/s, Loss=0.0238, Accuracy=0.993]\n"
     ]
    },
    {
     "name": "stdout",
     "output_type": "stream",
     "text": [
      "Epoch [36/50], Train Loss: 0.0236, Train Accuracy: 0.9930, Val Loss: 0.3564, Val Accuracy: 0.9188\n"
     ]
    },
    {
     "name": "stderr",
     "output_type": "stream",
     "text": [
      "Epoch 37/50: 100%|██████████| 104/104 [00:22<00:00,  4.58it/s, Loss=0.0356, Accuracy=0.988]\n"
     ]
    },
    {
     "name": "stdout",
     "output_type": "stream",
     "text": [
      "Epoch [37/50], Train Loss: 0.0353, Train Accuracy: 0.9883, Val Loss: 0.3697, Val Accuracy: 0.9200\n"
     ]
    },
    {
     "name": "stderr",
     "output_type": "stream",
     "text": [
      "Epoch 38/50: 100%|██████████| 104/104 [00:22<00:00,  4.62it/s, Loss=0.021, Accuracy=0.995] \n"
     ]
    },
    {
     "name": "stdout",
     "output_type": "stream",
     "text": [
      "Epoch [38/50], Train Loss: 0.0209, Train Accuracy: 0.9945, Val Loss: 0.4882, Val Accuracy: 0.8958\n"
     ]
    },
    {
     "name": "stderr",
     "output_type": "stream",
     "text": [
      "Epoch 39/50: 100%|██████████| 104/104 [00:22<00:00,  4.65it/s, Loss=0.0475, Accuracy=0.986]\n"
     ]
    },
    {
     "name": "stdout",
     "output_type": "stream",
     "text": [
      "Epoch [39/50], Train Loss: 0.0472, Train Accuracy: 0.9862, Val Loss: 0.3960, Val Accuracy: 0.9055\n"
     ]
    },
    {
     "name": "stderr",
     "output_type": "stream",
     "text": [
      "Epoch 40/50: 100%|██████████| 104/104 [00:22<00:00,  4.60it/s, Loss=0.0149, Accuracy=0.996]\n"
     ]
    },
    {
     "name": "stdout",
     "output_type": "stream",
     "text": [
      "Epoch [40/50], Train Loss: 0.0147, Train Accuracy: 0.9960, Val Loss: 0.3689, Val Accuracy: 0.9182\n"
     ]
    },
    {
     "name": "stderr",
     "output_type": "stream",
     "text": [
      "Epoch 41/50: 100%|██████████| 104/104 [00:22<00:00,  4.70it/s, Loss=0.0211, Accuracy=0.994]\n"
     ]
    },
    {
     "name": "stdout",
     "output_type": "stream",
     "text": [
      "Epoch [41/50], Train Loss: 0.0210, Train Accuracy: 0.9939, Val Loss: 0.3913, Val Accuracy: 0.9116\n"
     ]
    },
    {
     "name": "stderr",
     "output_type": "stream",
     "text": [
      "Epoch 42/50: 100%|██████████| 104/104 [00:22<00:00,  4.60it/s, Loss=0.0118, Accuracy=0.996]\n"
     ]
    },
    {
     "name": "stdout",
     "output_type": "stream",
     "text": [
      "Epoch [42/50], Train Loss: 0.0117, Train Accuracy: 0.9961, Val Loss: 0.6188, Val Accuracy: 0.8789\n"
     ]
    },
    {
     "name": "stderr",
     "output_type": "stream",
     "text": [
      "Epoch 43/50: 100%|██████████| 104/104 [00:22<00:00,  4.71it/s, Loss=0.00787, Accuracy=0.998]\n"
     ]
    },
    {
     "name": "stdout",
     "output_type": "stream",
     "text": [
      "Epoch [43/50], Train Loss: 0.0078, Train Accuracy: 0.9978, Val Loss: 0.3933, Val Accuracy: 0.9273\n"
     ]
    },
    {
     "name": "stderr",
     "output_type": "stream",
     "text": [
      "Epoch 44/50: 100%|██████████| 104/104 [00:22<00:00,  4.60it/s, Loss=0.0131, Accuracy=0.996]\n"
     ]
    },
    {
     "name": "stdout",
     "output_type": "stream",
     "text": [
      "Epoch [44/50], Train Loss: 0.0130, Train Accuracy: 0.9961, Val Loss: 0.4315, Val Accuracy: 0.9116\n"
     ]
    },
    {
     "name": "stderr",
     "output_type": "stream",
     "text": [
      "Epoch 45/50: 100%|██████████| 104/104 [00:22<00:00,  4.68it/s, Loss=0.0147, Accuracy=0.995]\n"
     ]
    },
    {
     "name": "stdout",
     "output_type": "stream",
     "text": [
      "Epoch [45/50], Train Loss: 0.0146, Train Accuracy: 0.9954, Val Loss: 0.6092, Val Accuracy: 0.8789\n"
     ]
    },
    {
     "name": "stderr",
     "output_type": "stream",
     "text": [
      "Epoch 46/50: 100%|██████████| 104/104 [00:25<00:00,  4.08it/s, Loss=0.0281, Accuracy=0.991]\n"
     ]
    },
    {
     "name": "stdout",
     "output_type": "stream",
     "text": [
      "Epoch [46/50], Train Loss: 0.0279, Train Accuracy: 0.9914, Val Loss: 0.5046, Val Accuracy: 0.9025\n"
     ]
    },
    {
     "name": "stderr",
     "output_type": "stream",
     "text": [
      "Epoch 47/50: 100%|██████████| 104/104 [00:22<00:00,  4.54it/s, Loss=0.0793, Accuracy=0.977]\n"
     ]
    },
    {
     "name": "stdout",
     "output_type": "stream",
     "text": [
      "Epoch [47/50], Train Loss: 0.0786, Train Accuracy: 0.9768, Val Loss: 0.5258, Val Accuracy: 0.8807\n"
     ]
    },
    {
     "name": "stderr",
     "output_type": "stream",
     "text": [
      "Epoch 48/50: 100%|██████████| 104/104 [00:22<00:00,  4.53it/s, Loss=0.064, Accuracy=0.979] \n"
     ]
    },
    {
     "name": "stdout",
     "output_type": "stream",
     "text": [
      "Epoch [48/50], Train Loss: 0.0635, Train Accuracy: 0.9794, Val Loss: 0.3749, Val Accuracy: 0.9037\n"
     ]
    },
    {
     "name": "stderr",
     "output_type": "stream",
     "text": [
      "Epoch 49/50: 100%|██████████| 104/104 [00:22<00:00,  4.63it/s, Loss=0.0183, Accuracy=0.995]\n"
     ]
    },
    {
     "name": "stdout",
     "output_type": "stream",
     "text": [
      "Epoch [49/50], Train Loss: 0.0182, Train Accuracy: 0.9945, Val Loss: 0.3091, Val Accuracy: 0.9194\n"
     ]
    },
    {
     "name": "stderr",
     "output_type": "stream",
     "text": [
      "Epoch 50/50: 100%|██████████| 104/104 [00:23<00:00,  4.47it/s, Loss=0.00643, Accuracy=0.999]\n"
     ]
    },
    {
     "name": "stdout",
     "output_type": "stream",
     "text": [
      "Epoch [50/50], Train Loss: 0.0064, Train Accuracy: 0.9986, Val Loss: 0.3348, Val Accuracy: 0.9170\n",
      "Test Loss: 0.3420, Test Accuracy: 0.9249\n"
     ]
    },
    {
     "data": {
      "image/png": "[encoded data removed]",
      "text/plain": [
       "<Figure size 1200x400 with 2 Axes>"
      ]
     },
     "metadata": {},
     "output_type": "display_data"
    }
   ],
   "source": [
    "import torch\n",
    "import torch.nn as nn\n",
    "import torch.optim as optim\n",
    "from torch.utils.data import DataLoader, Dataset\n",
    "from torchvision import transforms\n",
    "from tqdm import tqdm\n",
    "import pandas as pd\n",
    "from PIL import Image\n",
    "import os\n",
    "from sklearn.model_selection import train_test_split\n",
    "import matplotlib.pyplot as plt\n",
    "\n",
    "# Check if GPU is available and set device\n",
    "device = torch.device(\"cuda\" if torch.cuda.is_available() else \"cpu\")\n",
    "\n",
    "# Define data transforms with 64x64 image size\n",
    "transform = transforms.Compose([\n",
    "    transforms.Resize((64, 64)),  # Resize to 64x64\n",
    "    transforms.ToTensor(),\n",
    "    transforms.Normalize(mean=[0.485, 0.456, 0.406], std=[0.229, 0.224, 0.225])\n",
    "])\n",
    "\n",
    "# Define the directory path\n",
    "data_dir = r\"C:\\Users\\user\\Desktop\\plant\\boc\"\n",
    "\n",
    "# Load one CSV file\n",
    "csv_file = 'fold_5_train.csv'\n",
    "\n",
    "# Define a custom dataset class for CSV loading\n",
    "class CustomDataset(Dataset):\n",
    "    def __init__(self, csv_file, root_dir, transform=None):\n",
    "        self.data = pd.read_csv(csv_file)\n",
    "        self.root_dir = root_dir\n",
    "        self.transform = transform\n",
    "\n",
    "    def __len__(self):\n",
    "        return len(self.data)\n",
    "\n",
    "    def __getitem__(self, idx):\n",
    "        try:\n",
    "            img_name = os.path.join(self.root_dir, str(self.data.iloc[idx, 0]))  # Access image_path using index 0\n",
    "            image = Image.open(img_name).convert('RGB')  # Ensure images are in RGB mode\n",
    "            label = self.data.iloc[idx, 1]  # Access class_label using index 1\n",
    "        except Exception as e:\n",
    "            print(f\"Error accessing image at index {idx}: {e}\")\n",
    "            return None\n",
    "\n",
    "        if self.transform:\n",
    "            image = self.transform(image)\n",
    "\n",
    "        return image, label\n",
    "\n",
    "# Load the dataset using CustomDataset\n",
    "dataset = CustomDataset(csv_file=os.path.join(data_dir, csv_file), root_dir=data_dir, transform=transform)\n",
    "\n",
    "# Split dataset into train, validation, and test sets\n",
    "train_size = 0.8\n",
    "val_size = 0.1\n",
    "test_size = 1 - train_size - val_size\n",
    "\n",
    "train_dataset, temp_dataset = train_test_split(dataset, test_size=1 - train_size, random_state=42)\n",
    "val_dataset, test_dataset = train_test_split(temp_dataset, test_size=test_size / (val_size + test_size), random_state=42)\n",
    "\n",
    "# Create data loaders for each set\n",
    "batch_size = 128\n",
    "train_loader = DataLoader(train_dataset, batch_size=batch_size, shuffle=True, num_workers=4, pin_memory=True)\n",
    "val_loader = DataLoader(val_dataset, batch_size=batch_size, shuffle=False, num_workers=4, pin_memory=True)\n",
    "test_loader = DataLoader(test_dataset, batch_size=batch_size, shuffle=False, num_workers=4, pin_memory=True)\n",
    "\n",
    "\n",
    "\n",
    "# Print class names (assuming it's available in the dataset)\n",
    "print(\"Class Names:\", pd.Series([data[1] for data in train_dataset]).unique())\n",
    "##\n",
    "### Define the model architecture\n",
    "##class AlexNet(nn.Module):\n",
    "##    def __init__(self, num_classes=15):\n",
    "##        super(AlexNet, self).__init__()\n",
    "##        self.features = nn.Sequential(\n",
    "##            nn.Conv2d(3, 64, kernel_size=11, stride=4, padding=2),\n",
    "##            nn.ReLU(inplace=True),\n",
    "##            nn.MaxPool2d(kernel_size=3, stride=2),\n",
    "##            nn.Conv2d(64, 192, kernel_size=5, padding=2),\n",
    "##            nn.ReLU(inplace=True),\n",
    "##            nn.MaxPool2d(kernel_size=3, stride=2),\n",
    "##            nn.Conv2d(192, 384, kernel_size=3, padding=1),\n",
    "##            nn.ReLU(inplace=True),\n",
    "##            nn.Conv2d(384, 256, kernel_size=3, padding=1),\n",
    "##            nn.ReLU(inplace=True),\n",
    "##            nn.Conv2d(256, 256, kernel_size=3, padding=1),\n",
    "##            nn.ReLU(inplace=True),\n",
    "##            nn.MaxPool2d(kernel_size=3, stride=2),\n",
    "##        )\n",
    "##        self.avgpool = nn.AdaptiveAvgPool2d((6, 6))\n",
    "##        self.classifier = nn.Sequential(\n",
    "##            nn.Dropout(),\n",
    "##            nn.Linear(256 * 6 * 6, 4096),\n",
    "##            nn.ReLU(inplace=True),\n",
    "##            nn.Dropout(),\n",
    "##            nn.Linear(4096, 4096),\n",
    "##            nn.ReLU(inplace=True),\n",
    "##            nn.Linear(4096, num_classes),\n",
    "##        )\n",
    "##\n",
    "##    def forward(self, x):\n",
    "##        x = self.features(x)\n",
    "##        x = self.avgpool(x)\n",
    "##        x = torch.flatten(x, 1)\n",
    "##        x = self.classifier(x)\n",
    "##        return x\n",
    "##\n",
    "# Instantiate the model\n",
    "##model = AlexNet(num_classes=15).to(device)\n",
    "\n",
    "# Define custom modules and model\n",
    "class Swish(nn.Module):\n",
    "    def forward(self, x):\n",
    "        return x * torch.sigmoid(x)\n",
    "\n",
    "class SEBlock(nn.Module):\n",
    "    def __init__(self, in_channels, reduction=4):\n",
    "        super(SEBlock, self).__init__()\n",
    "        self.fc1 = nn.Conv2d(in_channels, in_channels // reduction, kernel_size=1)\n",
    "        self.fc2 = nn.Conv2d(in_channels // reduction, in_channels, kernel_size=1)\n",
    "    \n",
    "    def forward(self, x):\n",
    "        scale = torch.mean(x, (2, 3), keepdim=True)\n",
    "        scale = nn.functional.relu(self.fc1(scale))\n",
    "        scale = torch.sigmoid(self.fc2(scale))\n",
    "        return x * scale\n",
    "\n",
    "class GhostModule(nn.Module):\n",
    "    def __init__(self, in_channels, out_channels, ratio=2, kernel_size=1, dw_kernel_size=3, stride=1, relu=True):\n",
    "        super(GhostModule, self).__init__()\n",
    "        self.out_channels = out_channels\n",
    "        self.init_channels = int(out_channels / ratio)\n",
    "        self.new_channels = self.init_channels * (ratio - 1)\n",
    "        \n",
    "        self.primary_conv = nn.Sequential(\n",
    "            nn.Conv2d(in_channels, self.init_channels, kernel_size, stride, kernel_size//2, bias=False),\n",
    "            nn.BatchNorm2d(self.init_channels),\n",
    "            nn.ReLU(inplace=True) if relu else nn.Sequential()\n",
    "        )\n",
    "        \n",
    "        self.cheap_operation = nn.Sequential(\n",
    "            nn.Conv2d(self.init_channels, self.new_channels, dw_kernel_size, 1, dw_kernel_size//2, groups=self.init_channels, bias=False),\n",
    "            nn.BatchNorm2d(self.new_channels),\n",
    "            nn.ReLU(inplace=True) if relu else nn.Sequential()\n",
    "        )\n",
    "    \n",
    "    def forward(self, x):\n",
    "        x1 = self.primary_conv(x)\n",
    "        x2 = self.cheap_operation(x1)\n",
    "        out = torch.cat([x1, x2], dim=1)\n",
    "        return out[:, :self.out_channels, :, :]\n",
    "\n",
    "class GhostBottleneck(nn.Module):\n",
    "    def __init__(self, in_channels, mid_channels, out_channels, dw_kernel_size=3, stride=1, use_se=False):\n",
    "        super(GhostBottleneck, self).__init__()\n",
    "        self.stride = stride\n",
    "        self.use_se = use_se\n",
    "\n",
    "        self.ghost1 = GhostModule(in_channels, mid_channels, relu=True)\n",
    "        self.depthwise = nn.Sequential(\n",
    "            nn.Conv2d(mid_channels, mid_channels, dw_kernel_size, stride=stride, padding=dw_kernel_size//2, groups=mid_channels, bias=False),\n",
    "            nn.BatchNorm2d(mid_channels)\n",
    "        ) if stride == 2 else nn.Sequential()\n",
    "\n",
    "        self.ghost2 = GhostModule(mid_channels, out_channels, relu=False)\n",
    "\n",
    "        self.shortcut = nn.Sequential(\n",
    "            nn.Conv2d(in_channels, in_channels, dw_kernel_size, stride=stride, padding=dw_kernel_size//2, groups=in_channels, bias=False),\n",
    "            nn.BatchNorm2d(in_channels),\n",
    "            nn.Conv2d(in_channels, out_channels, kernel_size=1, stride=1, padding=0, bias=False),\n",
    "            nn.BatchNorm2d(out_channels)\n",
    "        ) if stride == 2 or in_channels != out_channels else nn.Sequential()\n",
    "        \n",
    "        self.se = SEBlock(mid_channels) if self.use_se else nn.Sequential()\n",
    "\n",
    "    def forward(self, x):\n",
    "        residual = self.shortcut(x)\n",
    "        x = self.ghost1(x)\n",
    "        x = self.depthwise(x)\n",
    "        x = self.se(x)\n",
    "        x = self.ghost2(x)\n",
    "        x += residual\n",
    "        return x\n",
    "\n",
    "class GhostNetCustom(nn.Module):\n",
    "    def __init__(self, num_classes=15):\n",
    "        super(GhostNetCustom, self).__init__()\n",
    "        self.conv_stem = nn.Conv2d(3, 16, kernel_size=3, stride=2, padding=1, bias=False)\n",
    "        self.bn1 = nn.BatchNorm2d(16)\n",
    "        self.relu = nn.ReLU(inplace=True)\n",
    "        \n",
    "        self.blocks = nn.Sequential(\n",
    "            GhostBottleneck(16, 16, 16, stride=1),\n",
    "            GhostBottleneck(16, 48, 24, stride=2),\n",
    "            GhostBottleneck(24, 72, 24, stride=1),\n",
    "            GhostBottleneck(24, 72, 40, stride=2, use_se=True),\n",
    "            GhostBottleneck(40, 120, 40, stride=1, use_se=True),\n",
    "            GhostBottleneck(40, 240, 80, stride=2),\n",
    "            GhostBottleneck(80, 200, 80, stride=1),\n",
    "            GhostBottleneck(80, 184, 80, stride=1),\n",
    "            GhostBottleneck(80, 480, 112, stride=1, use_se=True),\n",
    "            GhostBottleneck(112, 672, 160, stride=2, use_se=True),\n",
    "            GhostBottleneck(160, 960, 160, stride=1, use_se=True)\n",
    "        )\n",
    "        \n",
    "        self.conv_head = nn.Conv2d(160, 960, kernel_size=1, bias=False)\n",
    "        self.bn2 = nn.BatchNorm2d(960)\n",
    "        self.pool = nn.AdaptiveAvgPool2d(1)\n",
    "        self.fc = nn.Linear(960, num_classes)\n",
    "    \n",
    "    def forward(self, x):\n",
    "        x = self.relu(self.bn1(self.conv_stem(x)))\n",
    "        x = self.blocks(x)\n",
    "        x = self.relu(self.bn2(self.conv_head(x)))\n",
    "        x = self.pool(x)\n",
    "        x = x.view(x.size(0), -1)\n",
    "        x = self.fc(x)\n",
    "        return x\n",
    "\n",
    "# Print the model architecture\n",
    "\n",
    "model = GhostNetCustom(num_classes=15).to(device)\n",
    "\n",
    "# Function to evaluate the model\n",
    "def evaluate_model(model, data_loader, criterion, device):\n",
    "    model.eval()\n",
    "    loss = 0.0\n",
    "    correct = 0\n",
    "    total = 0\n",
    "    with torch.no_grad():\n",
    "        for images, labels in data_loader:\n",
    "            images, labels = images.to(device), labels.to(device)\n",
    "            outputs = model(images)\n",
    "            loss += criterion(outputs, labels).item()\n",
    "            _, predicted = torch.max(outputs.data, 1)\n",
    "            total += labels.size(0)\n",
    "            correct += (predicted == labels).sum().item()\n",
    "    \n",
    "    avg_loss = loss / len(data_loader)\n",
    "    accuracy = correct / total\n",
    "    return avg_loss, accuracy\n",
    "\n",
    "# Function to train the model\n",
    "def train_model(model, train_loader, val_loader, criterion, optimizer, num_epochs, device):\n",
    "    train_losses = []\n",
    "    val_losses = []\n",
    "    train_accuracies = []\n",
    "    val_accuracies = []\n",
    "    \n",
    "    for epoch in range(num_epochs):\n",
    "        model.train()\n",
    "        running_loss = 0.0\n",
    "        correct_train = 0\n",
    "        total_train = 0\n",
    "        \n",
    "        # Use tqdm for progress display\n",
    "        progress_bar = tqdm(train_loader, desc=f'Epoch {epoch+1}/{num_epochs}')\n",
    "        \n",
    "        for images, labels in progress_bar:\n",
    "            images, labels = images.to(device), labels.to(device)\n",
    "            \n",
    "            optimizer.zero_grad()\n",
    "            outputs = model(images)\n",
    "            loss = criterion(outputs, labels)\n",
    "            loss.backward()\n",
    "            optimizer.step()\n",
    "            \n",
    "            running_loss += loss.item()\n",
    "            _, predicted = torch.max(outputs.data, 1)\n",
    "            total_train += labels.size(0)\n",
    "            correct_train += (predicted == labels).sum().item()\n",
    "            \n",
    "            progress_bar.set_postfix({'Loss': running_loss / (total_train / batch_size), 'Accuracy': correct_train / total_train})\n",
    "        \n",
    "        avg_train_loss = running_loss / len(train_loader)\n",
    "        train_accuracy = correct_train / total_train\n",
    "        \n",
    "        val_loss, val_accuracy = evaluate_model(model, val_loader, criterion, device)\n",
    "        \n",
    "        train_losses.append(avg_train_loss)\n",
    "        val_losses.append(val_loss)\n",
    "        train_accuracies.append(train_accuracy)\n",
    "        val_accuracies.append(val_accuracy)\n",
    "        \n",
    "        print(f'Epoch [{epoch+1}/{num_epochs}], Train Loss: {avg_train_loss:.4f}, Train Accuracy: {train_accuracy:.4f}, Val Loss: {val_loss:.4f}, Val Accuracy: {val_accuracy:.4f}')\n",
    "    \n",
    "    return train_losses, val_losses, train_accuracies, val_accuracies\n",
    "\n",
    "# Set hyperparameters\n",
    "num_epochs = 50\n",
    "learning_rate = 1e-3\n",
    "\n",
    "# Define criterion and optimizer\n",
    "criterion = nn.CrossEntropyLoss()\n",
    "optimizer = optim.Adam(model.parameters(), lr=learning_rate)\n",
    "\n",
    "# Train the model\n",
    "train_losses, val_losses, train_accuracies, val_accuracies = train_model(model, train_loader, val_loader, criterion, optimizer, num_epochs, device)\n",
    "\n",
    "# Evaluate on test set\n",
    "test_loss, test_accuracy = evaluate_model(model, test_loader, criterion, device)\n",
    "print(f'Test Loss: {test_loss:.4f}, Test Accuracy: {test_accuracy:.4f}')\n",
    "\n",
    "# Plotting training and validation curves\n",
    "plt.figure(figsize=(12, 4))\n",
    "plt.subplot(1, 2, 1)\n",
    "plt.plot(train_losses, label='Train Loss')\n",
    "plt.plot(val_losses, label='Val Loss')\n",
    "plt.xlabel('Epoch')\n",
    "plt.ylabel('Loss')\n",
    "plt.title('Training and Validation Losses')\n",
    "plt.legend()\n",
    "\n",
    "plt.subplot(1, 2, 2)\n",
    "plt.plot(train_accuracies, label='Train Accuracy')\n",
    "plt.plot(val_accuracies, label='Val Accuracy')\n",
    "plt.xlabel('Epoch')\n",
    "plt.ylabel('Accuracy')\n",
    "plt.title('Training and Validation Accuracies')\n",
    "plt.legend()\n",
    "\n",
    "plt.tight_layout()\n",
    "plt.show()\n"
   ]
  },
  {
   "cell_type": "code",
   "execution_count": null,
   "metadata": {},
   "outputs": [],
   "source": []
  }
 ],
 "metadata": {
  "kernelspec": {
   "display_name": "csir",
   "language": "python",
   "name": "python3"
  },
  "language_info": {
   "codemirror_mode": {
    "name": "ipython",
    "version": 3
   },
   "file_extension": ".py",
   "mimetype": "text/x-python",
   "name": "python",
   "nbconvert_exporter": "python",
   "pygments_lexer": "ipython3",
   "version": "3.11.8"
  }
 },
 "nbformat": 4,
 "nbformat_minor": 2
}
